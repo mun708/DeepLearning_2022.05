{
  "nbformat": 4,
  "nbformat_minor": 0,
  "metadata": {
    "colab": {
      "name": "05_손실함수.ipynb",
      "provenance": []
    },
    "kernelspec": {
      "name": "python3",
      "display_name": "Python 3"
    },
    "language_info": {
      "name": "python"
    }
  },
  "cells": [
    {
      "cell_type": "markdown",
      "source": [
        "# 손실함수(Loss Function)"
      ],
      "metadata": {
        "id": "dYa3C_m625aN"
      }
    },
    {
      "cell_type": "code",
      "source": [
        "import numpy as np\n",
        "import matplotlib.pyplot as plt"
      ],
      "metadata": {
        "id": "bVR-VJjs2-lC"
      },
      "execution_count": 1,
      "outputs": []
    },
    {
      "cell_type": "code",
      "source": [
        "y = np.array([0, 1, 0, 0])\n",
        "yhat1 = np.array([0.1,0.7,0.2,0])\n",
        "yhat2 = np.array([0.1,0.2,0.7,0])\n",
        "N = y.size"
      ],
      "metadata": {
        "id": "_4q4RjgK3BTF"
      },
      "execution_count": 2,
      "outputs": []
    },
    {
      "cell_type": "markdown",
      "source": [
        "- 평균 제곱 오차(MSE:Mean Squared Error)"
      ],
      "metadata": {
        "id": "DbWIlpFv3XAR"
      }
    },
    {
      "cell_type": "code",
      "source": [
        "mse1 = np.sum(np.square(yhat1- y)) / N\n",
        "mse2 = np.sum(np.square(yhat2- y)) / N\n",
        "mse1,mse2"
      ],
      "metadata": {
        "colab": {
          "base_uri": "https://localhost:8080/"
        },
        "id": "dgKYE2AS3eu4",
        "outputId": "8f910477-de41-434f-b011-8ae6b499adab"
      },
      "execution_count": 3,
      "outputs": [
        {
          "output_type": "execute_result",
          "data": {
            "text/plain": [
              "(0.03500000000000001, 0.28500000000000003)"
            ]
          },
          "metadata": {},
          "execution_count": 3
        }
      ]
    },
    {
      "cell_type": "markdown",
      "source": [
        "- 평균 제곱근 오차(RMSE: Root Mean Squared Error)"
      ],
      "metadata": {
        "id": "NZI9NUjR3spU"
      }
    },
    {
      "cell_type": "code",
      "source": [
        "rmse1 = np.sqrt(mse1)\n",
        "rmse2 = np.sqrt(mse2)\n",
        "rmse1, rmse2"
      ],
      "metadata": {
        "colab": {
          "base_uri": "https://localhost:8080/"
        },
        "id": "6TxWud_J328j",
        "outputId": "fca22f43-d0d3-48e4-dd0c-40883e1589e3"
      },
      "execution_count": 4,
      "outputs": [
        {
          "output_type": "execute_result",
          "data": {
            "text/plain": [
              "(0.18708286933869708, 0.5338539126015656)"
            ]
          },
          "metadata": {},
          "execution_count": 4
        }
      ]
    },
    {
      "cell_type": "markdown",
      "source": [
        "- 평균 절대 오차(MAE: Mean Absolute Error)"
      ],
      "metadata": {
        "id": "y8GZ8Fx24EAT"
      }
    },
    {
      "cell_type": "code",
      "source": [
        "mae1 = np.sum(np.abs(yhat1 - y)) / N\n",
        "mae2 = np.sum(np.abs(yhat2 - y)) / N\n",
        "mae1,mae2"
      ],
      "metadata": {
        "colab": {
          "base_uri": "https://localhost:8080/"
        },
        "id": "MQpOxCH54TcQ",
        "outputId": "6e2b5af9-459b-4c89-96e7-b673a404e48e"
      },
      "execution_count": 5,
      "outputs": [
        {
          "output_type": "execute_result",
          "data": {
            "text/plain": [
              "(0.15000000000000002, 0.4)"
            ]
          },
          "metadata": {},
          "execution_count": 5
        }
      ]
    },
    {
      "cell_type": "markdown",
      "source": [
        "- Categorical Cross Entropy"
      ],
      "metadata": {
        "id": "VKgQADWL4h2a"
      }
    },
    {
      "cell_type": "code",
      "source": [
        "def cross_entropy_error(yhat,ytrue):\n",
        "  if yhat.ndim == 1:\n",
        "    yhat = yhat.reshape(1,-1)\n",
        "    ytrue = ytrue.reshape(1,-1)\n",
        "  if yhat.size == ytrue.size:\n",
        "    ytrue = ytrue.argmax(axis=1)\n",
        "  batch_size = yhat.shape[0]\n",
        "  return -np.sum(np.log(yhat[np.arange(batch_size),ytrue])) / batch_size"
      ],
      "metadata": {
        "id": "n8rIE8zd4w4P"
      },
      "execution_count": 10,
      "outputs": []
    },
    {
      "cell_type": "code",
      "source": [
        "cce1 = cross_entropy_error(yhat1,y)\n",
        "cce2 = cross_entropy_error(yhat2,y)\n",
        "cce1,cce2"
      ],
      "metadata": {
        "colab": {
          "base_uri": "https://localhost:8080/"
        },
        "id": "z7RyzKRt5wSL",
        "outputId": "1f07d280-6612-4071-aded-9fd124546454"
      },
      "execution_count": 11,
      "outputs": [
        {
          "output_type": "execute_result",
          "data": {
            "text/plain": [
              "(0.35667494393873245, 1.6094379124341003)"
            ]
          },
          "metadata": {},
          "execution_count": 11
        }
      ]
    },
    {
      "cell_type": "markdown",
      "source": [
        "- Binary Cross Entropy"
      ],
      "metadata": {
        "id": "B4co5j8957Sr"
      }
    },
    {
      "cell_type": "code",
      "source": [
        "xs = np.linspace(0.001, 0.999, 200)\n",
        "plt.figure(figsize=(12,8))\n",
        "plt.subplot(221)\n",
        "plt.plot(xs, np.log(xs)), plt.title('log x'), plt.grid()\n",
        "plt.subplot(222)\n",
        "plt.plot(xs, -np.log(xs)), plt.title('-log x'), plt.grid()\n",
        "plt.subplot(223)\n",
        "plt.plot(xs, np.log(1-xs)), plt.title('log (1-x)'), plt.grid()\n",
        "plt.subplot(224)\n",
        "plt.plot(xs, -np.log(1-xs)), plt.title('-log (1-x)'), plt.grid()\n"
      ],
      "metadata": {
        "colab": {
          "base_uri": "https://localhost:8080/",
          "height": 551
        },
        "id": "0kr-l3q56VWZ",
        "outputId": "135dabe2-fefc-4409-d99a-ea7c884ba2ec"
      },
      "execution_count": 17,
      "outputs": [
        {
          "output_type": "execute_result",
          "data": {
            "text/plain": [
              "([<matplotlib.lines.Line2D at 0x7f056c3cd850>],\n",
              " Text(0.5, 1.0, '-log (1-x)'),\n",
              " None)"
            ]
          },
          "metadata": {},
          "execution_count": 17
        },
        {
          "output_type": "display_data",
          "data": {
            "text/plain": [
              "<Figure size 864x576 with 4 Axes>"
            ],
            "image/png": "[encoded data removed]"
          },
          "metadata": {
            "needs_background": "light"
          }
        }
      ]
    },
    {
      "cell_type": "code",
      "source": [
        "# -ylogx-(1-y)log(1-x) \n",
        "plt.plot(xs,-np.log(xs), lw=2, label='-ylogx')\n",
        "plt.plot(xs,-np.log(1-xs), lw=2, label='-(1-y)log(1-x)')\n",
        "plt.title('-ylogx-(1-y)log(1-x)')\n",
        "plt.grid()\n",
        "plt.show()"
      ],
      "metadata": {
        "colab": {
          "base_uri": "https://localhost:8080/",
          "height": 281
        },
        "id": "2GK7QYRa7YE5",
        "outputId": "946838b5-aa73-4fc6-d3f9-68dcd6d32f78"
      },
      "execution_count": 19,
      "outputs": [
        {
          "output_type": "display_data",
          "data": {
            "text/plain": [
              "<Figure size 432x288 with 1 Axes>"
            ],
            "image/png": "[encoded data removed]"
          },
          "metadata": {
            "needs_background": "light"
          }
        }
      ]
    },
    {
      "cell_type": "code",
      "source": [
        ""
      ],
      "metadata": {
        "id": "9gZbwdm58rVb"
      },
      "execution_count": null,
      "outputs": []
    }
  ]
}