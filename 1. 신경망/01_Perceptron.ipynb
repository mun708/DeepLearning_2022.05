{
  "nbformat": 4,
  "nbformat_minor": 0,
  "metadata": {
    "colab": {
      "name": "01. Perceptron",
      "provenance": []
    },
    "kernelspec": {
      "name": "python3",
      "display_name": "Python 3"
    },
    "language_info": {
      "name": "python"
    }
  },
  "cells": [
    {
      "cell_type": "markdown",
      "source": [
        "# 1.Perceptron"
      ],
      "metadata": {
        "id": "Azmp6aYc4IYG"
      }
    },
    {
      "cell_type": "code",
      "source": [
        "import numpy as np"
      ],
      "metadata": {
        "id": "jre3UEmm4Oxj"
      },
      "execution_count": null,
      "outputs": []
    },
    {
      "cell_type": "markdown",
      "source": [
        "- AND Gate"
      ],
      "metadata": {
        "id": "tXEhyir14PG3"
      }
    },
    {
      "cell_type": "code",
      "execution_count": null,
      "metadata": {
        "colab": {
          "base_uri": "https://localhost:8080/"
        },
        "id": "ZQAzEIZb3Qz-",
        "outputId": "2d80849e-b66a-433f-a915-177d7905c2c3"
      },
      "outputs": [
        {
          "output_type": "stream",
          "name": "stdout",
          "text": [
            "-1\n",
            "0\n",
            "0\n",
            "1\n"
          ]
        }
      ],
      "source": [
        "weight = np.array([1,1])\n",
        "bias = -1\n",
        "for x1, x2 in [(0,0),(0,1),(1,0),(1,1)]:\n",
        "  sum = weight[0] * x1 + weight[1] *x2 + bias\n",
        "  print(sum)"
      ]
    },
    {
      "cell_type": "code",
      "source": [
        "#step 활성화 함수\n",
        "weight = np.array([1,1])\n",
        "bias = -1\n",
        "for x1, x2 in [(0,0),(0,1),(1,0),(1,1)]:\n",
        "  sum = weight[0] * x1 + weight[1] *x2 + bias\n",
        "  print(0 if sum <=0 else 1)"
      ],
      "metadata": {
        "colab": {
          "base_uri": "https://localhost:8080/"
        },
        "id": "s07kRk2H4Fnt",
        "outputId": "36ac5e0e-8e48-48fc-885a-ffe70c66625b"
      },
      "execution_count": null,
      "outputs": [
        {
          "output_type": "stream",
          "name": "stdout",
          "text": [
            "0\n",
            "0\n",
            "0\n",
            "1\n"
          ]
        }
      ]
    },
    {
      "cell_type": "code",
      "source": [
        "for x1,x2 in [(0,0),(0,1),(1,0),(1,1)]:\n",
        "  x = np.array([x1,x2])\n",
        "  sum = np.dot(weight, x) + bias\n",
        "  print(0 if sum <= 0 else 1)"
      ],
      "metadata": {
        "colab": {
          "base_uri": "https://localhost:8080/"
        },
        "id": "sgMklRrv4gZ9",
        "outputId": "a5364a98-1767-4fe0-8771-67d52a2458c8"
      },
      "execution_count": null,
      "outputs": [
        {
          "output_type": "stream",
          "name": "stdout",
          "text": [
            "0\n",
            "0\n",
            "0\n",
            "1\n"
          ]
        }
      ]
    },
    {
      "cell_type": "code",
      "source": [
        "def AND_gate(x1,x2):\n",
        "  weight = np.array([1,1])\n",
        "  bias = -1\n",
        "  x = np.array([x1,x2])\n",
        "  sum = np.dot(weight, x) + bias\n",
        "  return 0 if sum <= 0 else 1"
      ],
      "metadata": {
        "id": "viqRd67O47ml"
      },
      "execution_count": null,
      "outputs": []
    },
    {
      "cell_type": "code",
      "source": [
        "for x1,x2 in [(0,0),(0,1),(1,0),(1,1)]:\n",
        "  print(AND_gate(x1,x2))"
      ],
      "metadata": {
        "colab": {
          "base_uri": "https://localhost:8080/"
        },
        "id": "ZooZRGZ45JZn",
        "outputId": "15f873d1-ac5b-4e26-9fde-d9e2947ba5af"
      },
      "execution_count": null,
      "outputs": [
        {
          "output_type": "stream",
          "name": "stdout",
          "text": [
            "0\n",
            "0\n",
            "0\n",
            "1\n"
          ]
        }
      ]
    },
    {
      "cell_type": "markdown",
      "source": [
        "- OR Gate"
      ],
      "metadata": {
        "id": "GD2nJN-N5QHd"
      }
    },
    {
      "cell_type": "code",
      "source": [
        "def OR_gate(x1,x2):\n",
        "  weight = np.array([2,2])\n",
        "  bias = -1\n",
        "  x = np.array([x1,x2])\n",
        "  sum = np.dot(weight, x) + bias\n",
        "  return 0 if sum <= 0 else 1"
      ],
      "metadata": {
        "id": "BpATK9KX5THE"
      },
      "execution_count": null,
      "outputs": []
    },
    {
      "cell_type": "code",
      "source": [
        "for x1,x2 in [(0,0),(0,1),(1,0),(1,1)]:\n",
        "  print(OR_gate(x1,x2))"
      ],
      "metadata": {
        "colab": {
          "base_uri": "https://localhost:8080/"
        },
        "id": "B8iRYFcF5eEn",
        "outputId": "aae9309b-46a7-496a-c39f-45c7b4a71374"
      },
      "execution_count": null,
      "outputs": [
        {
          "output_type": "stream",
          "name": "stdout",
          "text": [
            "0\n",
            "1\n",
            "1\n",
            "1\n"
          ]
        }
      ]
    },
    {
      "cell_type": "markdown",
      "source": [
        "- NAND Gate"
      ],
      "metadata": {
        "id": "niBdfqoC5kAs"
      }
    },
    {
      "cell_type": "code",
      "source": [
        "def NAND_gate(x1,x2):\n",
        "  weight = np.array([-2,-2])\n",
        "  bias = 3\n",
        "  x = np.array([x1,x2])\n",
        "  sum = np.dot(weight, x) + bias\n",
        "  return 0 if sum <= 0 else 1"
      ],
      "metadata": {
        "id": "aizfQw3C5n48"
      },
      "execution_count": null,
      "outputs": []
    },
    {
      "cell_type": "code",
      "source": [
        "for x1,x2 in [(0,0),(0,1),(1,0),(1,1)]:\n",
        "  print(NAND_gate(x1,x2))"
      ],
      "metadata": {
        "colab": {
          "base_uri": "https://localhost:8080/"
        },
        "id": "Wn9GzOyb59rU",
        "outputId": "d5cb973b-ebe9-4d09-ddf4-d40efe521469"
      },
      "execution_count": null,
      "outputs": [
        {
          "output_type": "stream",
          "name": "stdout",
          "text": [
            "1\n",
            "1\n",
            "1\n",
            "0\n"
          ]
        }
      ]
    },
    {
      "cell_type": "code",
      "source": [
        ""
      ],
      "metadata": {
        "id": "RBtayBQZ6D8c"
      },
      "execution_count": null,
      "outputs": []
    },
    {
      "cell_type": "code",
      "source": [
        ""
      ],
      "metadata": {
        "id": "Qu94LbpT6PRM"
      },
      "execution_count": null,
      "outputs": []
    },
    {
      "cell_type": "code",
      "source": [
        ""
      ],
      "metadata": {
        "id": "N9tJlE1l6PsH"
      },
      "execution_count": null,
      "outputs": []
    }
  ]
}