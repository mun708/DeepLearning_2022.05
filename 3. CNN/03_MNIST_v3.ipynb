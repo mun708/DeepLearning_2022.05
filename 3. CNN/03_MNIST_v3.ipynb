{
  "nbformat": 4,
  "nbformat_minor": 0,
  "metadata": {
    "colab": {
      "name": "03_MNIST_v3.ipynb",
      "provenance": [],
      "collapsed_sections": []
    },
    "kernelspec": {
      "name": "python3",
      "display_name": "Python 3"
    },
    "language_info": {
      "name": "python"
    },
    "accelerator": "GPU"
  },
  "cells": [
    {
      "cell_type": "markdown",
      "source": [
        "# MNIST 손글씨 - CNN v2\n",
        "- 2 X Conv2D layers\n",
        "- 1 MaxPooling2D layer\n",
        "- 1 Dropout(0.25) layer\n",
        "- 1 FCN layer\n",
        "- 1 Dropout(0.25) layer\n",
        "- 1 Output layer"
      ],
      "metadata": {
        "id": "QDiaSA0bY8sd"
      }
    },
    {
      "cell_type": "code",
      "source": [
        "import numpy as np\n",
        "import pandas as pd\n",
        "import matplotlib.pyplot as plt\n",
        "import tensorflow as tf\n",
        "seed = 2022\n",
        "np.random.seed(seed)\n",
        "tf.random.set_seed(seed)"
      ],
      "metadata": {
        "id": "6sGuypTqd_sO"
      },
      "execution_count": 1,
      "outputs": []
    },
    {
      "cell_type": "code",
      "source": [
        "from tensorflow.keras.datasets import mnist\n",
        "(X_train,y_train),(X_test,y_test) = mnist.load_data()\n",
        "X_train.shape,y_train.shape,X_test.shape,y_test.shape"
      ],
      "metadata": {
        "colab": {
          "base_uri": "https://localhost:8080/"
        },
        "id": "E4lBZKDNeHhQ",
        "outputId": "4f155ccf-e9f5-4ff6-efe0-7dfb725357f8"
      },
      "execution_count": 2,
      "outputs": [
        {
          "output_type": "stream",
          "name": "stdout",
          "text": [
            "Downloading data from https://storage.googleapis.com/tensorflow/tf-keras-datasets/mnist.npz\n",
            "11493376/11490434 [==============================] - 0s 0us/step\n",
            "11501568/11490434 [==============================] - 0s 0us/step\n"
          ]
        },
        {
          "output_type": "execute_result",
          "data": {
            "text/plain": [
              "((60000, 28, 28), (60000,), (10000, 28, 28), (10000,))"
            ]
          },
          "metadata": {},
          "execution_count": 2
        }
      ]
    },
    {
      "cell_type": "code",
      "source": [
        "#  X_train, X_test 정규화(0~1) 및 이미지 차원 변경 : 2차원 --> 1차원\n",
        "X_train = X_train.reshape(-1, 28, 28, 1) / 255.\n",
        "X_test = X_test.reshape(-1, 28, 28, 1) / 255.\n",
        "\n",
        "X_train.shape, X_test.shape"
      ],
      "metadata": {
        "colab": {
          "base_uri": "https://localhost:8080/"
        },
        "id": "GOprtwrGePOF",
        "outputId": "2a730e7f-3b83-4f59-de10-348148bde1bf"
      },
      "execution_count": 3,
      "outputs": [
        {
          "output_type": "execute_result",
          "data": {
            "text/plain": [
              "((60000, 28, 28, 1), (10000, 28, 28, 1))"
            ]
          },
          "metadata": {},
          "execution_count": 3
        }
      ]
    },
    {
      "cell_type": "code",
      "source": [
        "# One Hot encoding\n",
        "from tensorflow.keras.utils import to_categorical\n",
        "Y_train = to_categorical(y_train)\n",
        "Y_test = to_categorical(y_test)\n",
        "Y_train.shape, Y_test.shape"
      ],
      "metadata": {
        "colab": {
          "base_uri": "https://localhost:8080/"
        },
        "id": "JdfEp22Ve0WJ",
        "outputId": "cdb27ec9-13f2-43d2-eb2f-f40db4ad2000"
      },
      "execution_count": 4,
      "outputs": [
        {
          "output_type": "execute_result",
          "data": {
            "text/plain": [
              "((60000, 10), (10000, 10))"
            ]
          },
          "metadata": {},
          "execution_count": 4
        }
      ]
    },
    {
      "cell_type": "markdown",
      "source": [
        "- 모델 정의/설정/학습/평가"
      ],
      "metadata": {
        "id": "KYj2zmdDfA6s"
      }
    },
    {
      "cell_type": "code",
      "source": [
        "from tensorflow.keras.models import Sequential, load_model\n",
        "from tensorflow.keras.layers import Dense, Conv2D, Flatten, MaxPooling2D, Dropout\n",
        "from tensorflow.keras.callbacks import ModelCheckpoint, EarlyStopping"
      ],
      "metadata": {
        "id": "5azSp3QjfN7U"
      },
      "execution_count": 6,
      "outputs": []
    },
    {
      "cell_type": "code",
      "source": [
        "model = Sequential([\n",
        "        Conv2D(32, kernel_size=(3,3),input_shape=(28,28,1), activation='relu'),\n",
        "        Conv2D(64, (3,3), activation = 'relu'),\n",
        "        MaxPooling2D(),     # MaxPooling2D(pool_size=(2,2))\n",
        "        Dropout(0.25),\n",
        "        Flatten(),\n",
        "        Dense(512, activation='relu'),\n",
        "        Dropout(0.25),\n",
        "        Dense(10, activation='softmax')\n",
        "])\n",
        "model.summary()"
      ],
      "metadata": {
        "colab": {
          "base_uri": "https://localhost:8080/"
        },
        "id": "9wWQMdlhfP4_",
        "outputId": "d39917d8-8720-4401-bfba-ee465943cb64"
      },
      "execution_count": 7,
      "outputs": [
        {
          "output_type": "stream",
          "name": "stdout",
          "text": [
            "Model: \"sequential\"\n",
            "_________________________________________________________________\n",
            " Layer (type)                Output Shape              Param #   \n",
            "=================================================================\n",
            " conv2d (Conv2D)             (None, 26, 26, 32)        320       \n",
            "                                                                 \n",
            " conv2d_1 (Conv2D)           (None, 24, 24, 64)        18496     \n",
            "                                                                 \n",
            " max_pooling2d (MaxPooling2D  (None, 12, 12, 64)       0         \n",
            " )                                                               \n",
            "                                                                 \n",
            " dropout (Dropout)           (None, 12, 12, 64)        0         \n",
            "                                                                 \n",
            " flatten (Flatten)           (None, 9216)              0         \n",
            "                                                                 \n",
            " dense (Dense)               (None, 512)               4719104   \n",
            "                                                                 \n",
            " dropout_1 (Dropout)         (None, 512)               0         \n",
            "                                                                 \n",
            " dense_1 (Dense)             (None, 10)                5130      \n",
            "                                                                 \n",
            "=================================================================\n",
            "Total params: 4,743,050\n",
            "Trainable params: 4,743,050\n",
            "Non-trainable params: 0\n",
            "_________________________________________________________________\n"
          ]
        }
      ]
    },
    {
      "cell_type": "code",
      "source": [
        "model.compile('adam', 'categorical_crossentropy', ['accuracy'])"
      ],
      "metadata": {
        "id": "Xp6MpK0rhoPG"
      },
      "execution_count": 8,
      "outputs": []
    },
    {
      "cell_type": "code",
      "source": [
        "model_path = 'best_mnist_cnn_v3.h5'\n",
        "mc = ModelCheckpoint(model_path, save_best_only=True, verbose = 1)\n",
        "es = EarlyStopping(patience = 10)"
      ],
      "metadata": {
        "id": "I1Z4y-Eqi6E8"
      },
      "execution_count": 9,
      "outputs": []
    },
    {
      "cell_type": "code",
      "source": [
        "hist = model.fit(\n",
        "    X_train, Y_train, validation_split=0.2, epochs=100, batch_size=200,\n",
        "    callbacks=[mc,es]\n",
        ")"
      ],
      "metadata": {
        "colab": {
          "base_uri": "https://localhost:8080/"
        },
        "id": "BhbMM4XYliQt",
        "outputId": "4d044662-bb74-48af-ee86-13bdcd3560c6"
      },
      "execution_count": 10,
      "outputs": [
        {
          "output_type": "stream",
          "name": "stdout",
          "text": [
            "Epoch 1/100\n",
            "239/240 [============================>.] - ETA: 0s - loss: 0.1965 - accuracy: 0.9395\n",
            "Epoch 1: val_loss improved from inf to 0.05450, saving model to best_mnist_cnn_v3.h5\n",
            "240/240 [==============================] - 16s 15ms/step - loss: 0.1960 - accuracy: 0.9396 - val_loss: 0.0545 - val_accuracy: 0.9842\n",
            "Epoch 2/100\n",
            "238/240 [============================>.] - ETA: 0s - loss: 0.0510 - accuracy: 0.9844\n",
            "Epoch 2: val_loss improved from 0.05450 to 0.04925, saving model to best_mnist_cnn_v3.h5\n",
            "240/240 [==============================] - 3s 14ms/step - loss: 0.0509 - accuracy: 0.9845 - val_loss: 0.0493 - val_accuracy: 0.9868\n",
            "Epoch 3/100\n",
            "240/240 [==============================] - ETA: 0s - loss: 0.0337 - accuracy: 0.9893\n",
            "Epoch 3: val_loss improved from 0.04925 to 0.03881, saving model to best_mnist_cnn_v3.h5\n",
            "240/240 [==============================] - 3s 14ms/step - loss: 0.0337 - accuracy: 0.9893 - val_loss: 0.0388 - val_accuracy: 0.9898\n",
            "Epoch 4/100\n",
            "237/240 [============================>.] - ETA: 0s - loss: 0.0242 - accuracy: 0.9924\n",
            "Epoch 4: val_loss did not improve from 0.03881\n",
            "240/240 [==============================] - 3s 14ms/step - loss: 0.0242 - accuracy: 0.9925 - val_loss: 0.0390 - val_accuracy: 0.9897\n",
            "Epoch 5/100\n",
            "240/240 [==============================] - ETA: 0s - loss: 0.0195 - accuracy: 0.9935\n",
            "Epoch 5: val_loss did not improve from 0.03881\n",
            "240/240 [==============================] - 3s 14ms/step - loss: 0.0195 - accuracy: 0.9935 - val_loss: 0.0406 - val_accuracy: 0.9883\n",
            "Epoch 6/100\n",
            "238/240 [============================>.] - ETA: 0s - loss: 0.0153 - accuracy: 0.9952\n",
            "Epoch 6: val_loss improved from 0.03881 to 0.03646, saving model to best_mnist_cnn_v3.h5\n",
            "240/240 [==============================] - 3s 14ms/step - loss: 0.0154 - accuracy: 0.9952 - val_loss: 0.0365 - val_accuracy: 0.9901\n",
            "Epoch 7/100\n",
            "240/240 [==============================] - ETA: 0s - loss: 0.0120 - accuracy: 0.9958\n",
            "Epoch 7: val_loss did not improve from 0.03646\n",
            "240/240 [==============================] - 3s 14ms/step - loss: 0.0120 - accuracy: 0.9958 - val_loss: 0.0408 - val_accuracy: 0.9897\n",
            "Epoch 8/100\n",
            "238/240 [============================>.] - ETA: 0s - loss: 0.0118 - accuracy: 0.9958\n",
            "Epoch 8: val_loss did not improve from 0.03646\n",
            "240/240 [==============================] - 3s 14ms/step - loss: 0.0120 - accuracy: 0.9958 - val_loss: 0.0367 - val_accuracy: 0.9902\n",
            "Epoch 9/100\n",
            "240/240 [==============================] - ETA: 0s - loss: 0.0100 - accuracy: 0.9965\n",
            "Epoch 9: val_loss did not improve from 0.03646\n",
            "240/240 [==============================] - 3s 14ms/step - loss: 0.0100 - accuracy: 0.9965 - val_loss: 0.0412 - val_accuracy: 0.9908\n",
            "Epoch 10/100\n",
            "240/240 [==============================] - ETA: 0s - loss: 0.0069 - accuracy: 0.9977\n",
            "Epoch 10: val_loss did not improve from 0.03646\n",
            "240/240 [==============================] - 3s 14ms/step - loss: 0.0069 - accuracy: 0.9977 - val_loss: 0.0403 - val_accuracy: 0.9907\n",
            "Epoch 11/100\n",
            "238/240 [============================>.] - ETA: 0s - loss: 0.0072 - accuracy: 0.9976\n",
            "Epoch 11: val_loss did not improve from 0.03646\n",
            "240/240 [==============================] - 3s 14ms/step - loss: 0.0072 - accuracy: 0.9976 - val_loss: 0.0462 - val_accuracy: 0.9891\n",
            "Epoch 12/100\n",
            "237/240 [============================>.] - ETA: 0s - loss: 0.0088 - accuracy: 0.9974\n",
            "Epoch 12: val_loss did not improve from 0.03646\n",
            "240/240 [==============================] - 3s 14ms/step - loss: 0.0089 - accuracy: 0.9973 - val_loss: 0.0445 - val_accuracy: 0.9888\n",
            "Epoch 13/100\n",
            "240/240 [==============================] - ETA: 0s - loss: 0.0063 - accuracy: 0.9979\n",
            "Epoch 13: val_loss did not improve from 0.03646\n",
            "240/240 [==============================] - 3s 14ms/step - loss: 0.0063 - accuracy: 0.9979 - val_loss: 0.0391 - val_accuracy: 0.9912\n",
            "Epoch 14/100\n",
            "240/240 [==============================] - ETA: 0s - loss: 0.0059 - accuracy: 0.9982\n",
            "Epoch 14: val_loss did not improve from 0.03646\n",
            "240/240 [==============================] - 3s 14ms/step - loss: 0.0059 - accuracy: 0.9982 - val_loss: 0.0453 - val_accuracy: 0.9912\n",
            "Epoch 15/100\n",
            "237/240 [============================>.] - ETA: 0s - loss: 0.0048 - accuracy: 0.9983\n",
            "Epoch 15: val_loss did not improve from 0.03646\n",
            "240/240 [==============================] - 3s 14ms/step - loss: 0.0048 - accuracy: 0.9983 - val_loss: 0.0411 - val_accuracy: 0.9915\n",
            "Epoch 16/100\n",
            "239/240 [============================>.] - ETA: 0s - loss: 0.0055 - accuracy: 0.9983\n",
            "Epoch 16: val_loss did not improve from 0.03646\n",
            "240/240 [==============================] - 3s 14ms/step - loss: 0.0055 - accuracy: 0.9983 - val_loss: 0.0443 - val_accuracy: 0.9890\n"
          ]
        }
      ]
    },
    {
      "cell_type": "code",
      "source": [
        "best_model = load_model(model_path)\n",
        "best_model.evaluate(X_test, Y_test)"
      ],
      "metadata": {
        "colab": {
          "base_uri": "https://localhost:8080/"
        },
        "id": "jxHj_TcTm-eT",
        "outputId": "8c3951a0-7a8f-490a-c1c8-073c2e1c3f05"
      },
      "execution_count": 11,
      "outputs": [
        {
          "output_type": "stream",
          "name": "stdout",
          "text": [
            "313/313 [==============================] - 1s 3ms/step - loss: 0.0288 - accuracy: 0.9909\n"
          ]
        },
        {
          "output_type": "execute_result",
          "data": {
            "text/plain": [
              "[0.02882441133260727, 0.9908999800682068]"
            ]
          },
          "metadata": {},
          "execution_count": 11
        }
      ]
    },
    {
      "cell_type": "markdown",
      "source": [
        "- 학습과정 시각화"
      ],
      "metadata": {
        "id": "5tDuOKazm-mu"
      }
    },
    {
      "cell_type": "code",
      "source": [
        "y_acc = hist.history['accuracy']\n",
        "y_vloss = hist.history['val_loss']\n",
        "xs = np.arange(1, len(y_acc)+1)"
      ],
      "metadata": {
        "id": "ckZkRdxAm-uP"
      },
      "execution_count": 12,
      "outputs": []
    },
    {
      "cell_type": "code",
      "source": [
        "plt.figure(figsize=(12,8))\n",
        "plt.plot(xs,y_acc,label='train accuracy')\n",
        "plt.plot(xs,y_vloss, label = 'validation loss')\n",
        "plt.legend(),plt.grid()\n",
        "plt.xlabel('Epoch')\n",
        "plt.title('MNIST CNN model v3')\n",
        "plt.show()"
      ],
      "metadata": {
        "colab": {
          "base_uri": "https://localhost:8080/",
          "height": 513
        },
        "id": "-keej-l8nd2m",
        "outputId": "eeb331bf-2381-4caa-88be-5fbe947f8c4e"
      },
      "execution_count": 13,
      "outputs": [
        {
          "output_type": "display_data",
          "data": {
            "text/plain": [
              "<Figure size 864x576 with 1 Axes>"
            ],
            "image/png": "[encoded data removed]"
          },
          "metadata": {
            "needs_background": "light"
          }
        }
      ]
    },
    {
      "cell_type": "code",
      "source": [
        ""
      ],
      "metadata": {
        "id": "VWsgNtxynlDy"
      },
      "execution_count": null,
      "outputs": []
    }
  ]
}