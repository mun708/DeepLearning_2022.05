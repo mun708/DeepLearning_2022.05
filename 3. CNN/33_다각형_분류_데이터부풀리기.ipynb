{
  "nbformat": 4,
  "nbformat_minor": 0,
  "metadata": {
    "colab": {
      "name": "33_다각형_분류_데이터부풀리기.ipynb",
      "provenance": []
    },
    "kernelspec": {
      "name": "python3",
      "display_name": "Python 3"
    },
    "language_info": {
      "name": "python"
    }
  },
  "cells": [
    {
      "cell_type": "markdown",
      "source": [
        "# 원, 사각형, 삼각형 구분하기\n",
        "- 어려운 테스트 문제를 데이터 부풀리기를 이용하여 데이터를 많이 생성\n",
        "- 기존 CNN 모델 사용\n"
      ],
      "metadata": {
        "id": "BpKz6wdl1WW9"
      }
    },
    {
      "cell_type": "code",
      "source": [
        "from google.colab import files\n",
        "up = files.upload()"
      ],
      "metadata": {
        "colab": {
          "resources": {
            "http://localhost:8080/nbextensions/google.colab/files.js": {
              "data": "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",
              "ok": true,
              "headers": [
                [
                  "content-type",
                  "application/javascript"
                ]
              ],
              "status": 200,
              "status_text": ""
            }
          },
          "base_uri": "https://localhost:8080/",
          "height": 91
        },
        "id": "Z-O9xKk01dy7",
        "outputId": "884bcfa2-7711-4643-d2b2-495c55817261"
      },
      "execution_count": 1,
      "outputs": [
        {
          "output_type": "display_data",
          "data": {
            "text/plain": [
              "<IPython.core.display.HTML object>"
            ],
            "text/html": [
              "\n",
              "     <input type=\"file\" id=\"files-c209fbf9-9475-42ca-a473-d48937004ad7\" name=\"files[]\" multiple disabled\n",
              "        style=\"border:none\" />\n",
              "     <output id=\"result-c209fbf9-9475-42ca-a473-d48937004ad7\">\n",
              "      Upload widget is only available when the cell has been executed in the\n",
              "      current browser session. Please rerun this cell to enable.\n",
              "      </output>\n",
              "      <script src=\"/nbextensions/google.colab/files.js\"></script> "
            ]
          },
          "metadata": {}
        },
        {
          "output_type": "stream",
          "name": "stdout",
          "text": [
            "Saving hard_handwriting_shape.zip to hard_handwriting_shape.zip\n"
          ]
        }
      ]
    },
    {
      "cell_type": "code",
      "source": [
        "!unzip hard_handwriting_shape.zip -d hard_handwriting > /dev/null"
      ],
      "metadata": {
        "id": "jd9MOWLH1kIU"
      },
      "execution_count": 2,
      "outputs": []
    },
    {
      "cell_type": "markdown",
      "source": [
        "- 데이터셋 생성하기"
      ],
      "metadata": {
        "id": "-ev1ps_l1sem"
      }
    },
    {
      "cell_type": "code",
      "source": [
        "from tensorflow.keras.preprocessing.image import ImageDataGenerator\n",
        "\n",
        "train_datagen = ImageDataGenerator(\n",
        "    rescale=1/255.,\n",
        "    rotation_range=15,          # randomly rotate images in the range 15 degree\n",
        "    width_shift_range=0.1,      # randomly shift images horizontally \n",
        "    height_shift_range=0.1,     # randomly shift images vertically\n",
        "    shear_range=0.5,            # 도형의 기울기\n",
        "    zoom_range=[0.8,1.5],       # 0.8~1.5 배 크기로 임의로 확대/축소\n",
        "    horizontal_flip=True,       # randomly flip images\n",
        "    vertical_flip=False,        # randomly flip images\n",
        "    fill_mode='nearest'         # set mode for filling points outside the input boundaries\n",
        ")"
      ],
      "metadata": {
        "id": "yx-ssatw1s7O"
      },
      "execution_count": 3,
      "outputs": []
    },
    {
      "cell_type": "code",
      "source": [
        "from tensorflow.keras.preprocessing.image import img_to_array, load_img\n",
        "\n",
        "img = load_img('hard_handwriting/train/triangle/triangle001.png')\n",
        "x = img_to_array(img)\n",
        "x.shape"
      ],
      "metadata": {
        "colab": {
          "base_uri": "https://localhost:8080/"
        },
        "id": "OH4ySApC1s_V",
        "outputId": "006c2d04-20c1-4961-bcda-93b1f8d48a23"
      },
      "execution_count": 4,
      "outputs": [
        {
          "output_type": "execute_result",
          "data": {
            "text/plain": [
              "(24, 24, 3)"
            ]
          },
          "metadata": {},
          "execution_count": 4
        }
      ]
    },
    {
      "cell_type": "code",
      "source": [
        "#x.reshape(1, 24, 24, 3)\n",
        "x = x.reshape((1,) + x.shape)\n",
        "x.shape"
      ],
      "metadata": {
        "colab": {
          "base_uri": "https://localhost:8080/"
        },
        "id": "Wn0-4x3D1tDX",
        "outputId": "4cacce57-3cc0-4dbc-b84f-90f1b5a9fda2"
      },
      "execution_count": 5,
      "outputs": [
        {
          "output_type": "execute_result",
          "data": {
            "text/plain": [
              "(1, 24, 24, 3)"
            ]
          },
          "metadata": {},
          "execution_count": 5
        }
      ]
    },
    {
      "cell_type": "markdown",
      "source": [
        "- 데이터 부풀리기를 통하여 만들어지는 새로운 도형 이미지"
      ],
      "metadata": {
        "id": "Ydq2Do7f10aM"
      }
    },
    {
      "cell_type": "code",
      "source": [
        "from PIL import Image\n",
        "from glob import glob\n",
        "import matplotlib.pyplot as plt"
      ],
      "metadata": {
        "id": "YxjSnCSp14f1"
      },
      "execution_count": 6,
      "outputs": []
    },
    {
      "cell_type": "code",
      "source": [
        "import os\n",
        "if not os.path.exists('preview'):\n",
        "    os.mkdir('preview')"
      ],
      "metadata": {
        "id": "hGBtTjgM15-0"
      },
      "execution_count": 7,
      "outputs": []
    },
    {
      "cell_type": "code",
      "source": [
        "count = 0\n",
        "for _ in train_datagen.flow(x, batch_size=1, save_to_dir='./preview', save_prefix='pre'):\n",
        "    count += 1\n",
        "    if count >= 30:\n",
        "        break"
      ],
      "metadata": {
        "id": "qrik0wQl17Wd"
      },
      "execution_count": 8,
      "outputs": []
    },
    {
      "cell_type": "code",
      "source": [
        "plt.figure(figsize=(10,3))\n",
        "for i, fname in enumerate(glob('preview/*.png')):\n",
        "    img = Image.open(fname)\n",
        "    plt.subplot(3, 10, i+1)\n",
        "    plt.imshow(img), plt.xticks([]), plt.yticks([])\n",
        "plt.show()"
      ],
      "metadata": {
        "colab": {
          "base_uri": "https://localhost:8080/",
          "height": 197
        },
        "id": "AuEw7e4818md",
        "outputId": "e2f2e0b7-50d9-4b9d-cdba-5e3853f98612"
      },
      "execution_count": 9,
      "outputs": [
        {
          "output_type": "display_data",
          "data": {
            "text/plain": [
              "<Figure size 720x216 with 30 Axes>"
            ],
            "image/png": "[encoded data removed]"
          },
          "metadata": {}
        }
      ]
    },
    {
      "cell_type": "markdown",
      "source": [
        "- data generator"
      ],
      "metadata": {
        "id": "-N4lQf2p1-xL"
      }
    },
    {
      "cell_type": "code",
      "source": [
        "train_data_generator = train_datagen.flow_from_directory(\n",
        "    'hard_handwriting/train', target_size=(24,24),\n",
        "    batch_size=3, class_mode='categorical'\n",
        ")"
      ],
      "metadata": {
        "colab": {
          "base_uri": "https://localhost:8080/"
        },
        "id": "3dEPyjdN2C1X",
        "outputId": "e15e858c-3c2a-488f-dc56-7a9f990d8b79"
      },
      "execution_count": 10,
      "outputs": [
        {
          "output_type": "stream",
          "name": "stdout",
          "text": [
            "Found 45 images belonging to 3 classes.\n"
          ]
        }
      ]
    },
    {
      "cell_type": "code",
      "source": [
        "test_datagen = ImageDataGenerator(rescale=1/255.)\n",
        "test_data_generator = test_datagen.flow_from_directory(\n",
        "    'hard_handwriting/test', target_size=(24,24),\n",
        "    batch_size=3, class_mode='categorical'\n",
        ")"
      ],
      "metadata": {
        "colab": {
          "base_uri": "https://localhost:8080/"
        },
        "id": "pJzHB0HR2Brs",
        "outputId": "804a15e8-3e8c-449d-ab72-de88692d6b54"
      },
      "execution_count": 11,
      "outputs": [
        {
          "output_type": "stream",
          "name": "stdout",
          "text": [
            "Found 15 images belonging to 3 classes.\n"
          ]
        }
      ]
    },
    {
      "cell_type": "markdown",
      "source": [
        "- 모델 정의/설정/학습"
      ],
      "metadata": {
        "id": "813QlvE72EnL"
      }
    },
    {
      "cell_type": "code",
      "source": [
        "import numpy as np\n",
        "import tensorflow as tf\n",
        "seed = 2022\n",
        "tf.random.set_seed(seed)\n",
        "np.random.seed(seed)"
      ],
      "metadata": {
        "id": "GpY07C5T2G86"
      },
      "execution_count": 12,
      "outputs": []
    },
    {
      "cell_type": "code",
      "source": [
        "from tensorflow.keras.models import Sequential\n",
        "from tensorflow.keras.layers import Conv2D, MaxPooling2D, Flatten, Dense"
      ],
      "metadata": {
        "id": "ckyDCZ7I2IQd"
      },
      "execution_count": 13,
      "outputs": []
    },
    {
      "cell_type": "code",
      "source": [
        "model = Sequential([ \n",
        "    Conv2D(32, (3,3), input_shape=(24,24,3), activation='relu'),\n",
        "    Conv2D(64, (3,3), activation='relu'),\n",
        "    MaxPooling2D(),\n",
        "    Flatten(),\n",
        "    Dense(128, activation='relu'),\n",
        "    Dense(3, activation='softmax')\n",
        "])\n",
        "model.summary()"
      ],
      "metadata": {
        "colab": {
          "base_uri": "https://localhost:8080/"
        },
        "id": "J4l8ynzv2Jkr",
        "outputId": "c83c2f68-ce5e-478d-fde8-edcd54fb502f"
      },
      "execution_count": 14,
      "outputs": [
        {
          "output_type": "stream",
          "name": "stdout",
          "text": [
            "Model: \"sequential\"\n",
            "_________________________________________________________________\n",
            " Layer (type)                Output Shape              Param #   \n",
            "=================================================================\n",
            " conv2d (Conv2D)             (None, 22, 22, 32)        896       \n",
            "                                                                 \n",
            " conv2d_1 (Conv2D)           (None, 20, 20, 64)        18496     \n",
            "                                                                 \n",
            " max_pooling2d (MaxPooling2D  (None, 10, 10, 64)       0         \n",
            " )                                                               \n",
            "                                                                 \n",
            " flatten (Flatten)           (None, 6400)              0         \n",
            "                                                                 \n",
            " dense (Dense)               (None, 128)               819328    \n",
            "                                                                 \n",
            " dense_1 (Dense)             (None, 3)                 387       \n",
            "                                                                 \n",
            "=================================================================\n",
            "Total params: 839,107\n",
            "Trainable params: 839,107\n",
            "Non-trainable params: 0\n",
            "_________________________________________________________________\n"
          ]
        }
      ]
    },
    {
      "cell_type": "code",
      "source": [
        "model.compile('adam', 'categorical_crossentropy', ['accuracy'])"
      ],
      "metadata": {
        "id": "9UNOwHm-2Lgz"
      },
      "execution_count": 15,
      "outputs": []
    },
    {
      "cell_type": "code",
      "source": [
        "model.fit(\n",
        "    train_data_generator, steps_per_epoch=15, epochs=300,\n",
        "    validation_data=test_data_generator, validation_steps=5\n",
        ")"
      ],
      "metadata": {
        "colab": {
          "base_uri": "https://localhost:8080/"
        },
        "id": "RU8tYhH72NiD",
        "outputId": "ad82b078-d1ba-49e8-a4c2-0d01737c9b28"
      },
      "execution_count": 16,
      "outputs": [
        {
          "output_type": "stream",
          "name": "stdout",
          "text": [
            "Epoch 1/300\n",
            "15/15 [==============================] - 2s 49ms/step - loss: 1.1368 - accuracy: 0.4444 - val_loss: 1.0789 - val_accuracy: 0.4000\n",
            "Epoch 2/300\n",
            "15/15 [==============================] - 0s 31ms/step - loss: 0.7868 - accuracy: 0.7111 - val_loss: 1.2228 - val_accuracy: 0.4000\n",
            "Epoch 3/300\n",
            "15/15 [==============================] - 1s 46ms/step - loss: 0.6612 - accuracy: 0.5778 - val_loss: 1.0910 - val_accuracy: 0.5333\n",
            "Epoch 4/300\n",
            "15/15 [==============================] - 0s 23ms/step - loss: 0.5112 - accuracy: 0.7778 - val_loss: 1.2458 - val_accuracy: 0.4000\n",
            "Epoch 5/300\n",
            "15/15 [==============================] - 0s 25ms/step - loss: 0.3171 - accuracy: 0.8667 - val_loss: 1.5862 - val_accuracy: 0.5333\n",
            "Epoch 6/300\n",
            "15/15 [==============================] - 0s 26ms/step - loss: 0.2777 - accuracy: 0.8667 - val_loss: 1.5589 - val_accuracy: 0.5333\n",
            "Epoch 7/300\n",
            "15/15 [==============================] - 0s 31ms/step - loss: 0.2231 - accuracy: 0.9111 - val_loss: 2.2819 - val_accuracy: 0.5333\n",
            "Epoch 8/300\n",
            "15/15 [==============================] - 1s 33ms/step - loss: 0.2922 - accuracy: 0.8444 - val_loss: 1.3731 - val_accuracy: 0.4667\n",
            "Epoch 9/300\n",
            "15/15 [==============================] - 0s 27ms/step - loss: 0.1513 - accuracy: 0.9111 - val_loss: 1.3298 - val_accuracy: 0.5333\n",
            "Epoch 10/300\n",
            "15/15 [==============================] - 0s 25ms/step - loss: 0.1876 - accuracy: 0.9333 - val_loss: 1.5132 - val_accuracy: 0.6000\n",
            "Epoch 11/300\n",
            "15/15 [==============================] - 0s 24ms/step - loss: 0.0473 - accuracy: 1.0000 - val_loss: 2.0764 - val_accuracy: 0.5333\n",
            "Epoch 12/300\n",
            "15/15 [==============================] - 0s 24ms/step - loss: 0.0297 - accuracy: 1.0000 - val_loss: 2.0470 - val_accuracy: 0.5333\n",
            "Epoch 13/300\n",
            "15/15 [==============================] - 0s 26ms/step - loss: 0.2038 - accuracy: 0.9333 - val_loss: 2.1515 - val_accuracy: 0.5333\n",
            "Epoch 14/300\n",
            "15/15 [==============================] - 0s 29ms/step - loss: 0.0518 - accuracy: 0.9778 - val_loss: 2.6011 - val_accuracy: 0.4000\n",
            "Epoch 15/300\n",
            "15/15 [==============================] - 0s 30ms/step - loss: 0.0985 - accuracy: 0.9778 - val_loss: 2.6127 - val_accuracy: 0.4667\n",
            "Epoch 16/300\n",
            "15/15 [==============================] - 0s 32ms/step - loss: 0.0820 - accuracy: 0.9556 - val_loss: 1.5099 - val_accuracy: 0.6667\n",
            "Epoch 17/300\n",
            "15/15 [==============================] - 0s 28ms/step - loss: 0.2866 - accuracy: 0.9111 - val_loss: 1.3702 - val_accuracy: 0.6000\n",
            "Epoch 18/300\n",
            "15/15 [==============================] - 0s 27ms/step - loss: 0.1562 - accuracy: 0.9556 - val_loss: 1.7057 - val_accuracy: 0.4667\n",
            "Epoch 19/300\n",
            "15/15 [==============================] - 0s 29ms/step - loss: 0.0710 - accuracy: 0.9778 - val_loss: 1.5375 - val_accuracy: 0.5333\n",
            "Epoch 20/300\n",
            "15/15 [==============================] - 0s 29ms/step - loss: 0.1197 - accuracy: 0.9778 - val_loss: 1.2671 - val_accuracy: 0.6667\n",
            "Epoch 21/300\n",
            "15/15 [==============================] - 0s 31ms/step - loss: 0.0313 - accuracy: 1.0000 - val_loss: 1.6909 - val_accuracy: 0.6000\n",
            "Epoch 22/300\n",
            "15/15 [==============================] - 0s 31ms/step - loss: 0.0229 - accuracy: 1.0000 - val_loss: 1.8579 - val_accuracy: 0.5333\n",
            "Epoch 23/300\n",
            "15/15 [==============================] - 0s 29ms/step - loss: 0.0080 - accuracy: 1.0000 - val_loss: 1.8314 - val_accuracy: 0.5333\n",
            "Epoch 24/300\n",
            "15/15 [==============================] - 0s 29ms/step - loss: 0.0215 - accuracy: 1.0000 - val_loss: 1.9503 - val_accuracy: 0.6667\n",
            "Epoch 25/300\n",
            "15/15 [==============================] - 0s 31ms/step - loss: 0.0517 - accuracy: 0.9556 - val_loss: 1.8149 - val_accuracy: 0.5333\n",
            "Epoch 26/300\n",
            "15/15 [==============================] - 0s 29ms/step - loss: 0.0337 - accuracy: 1.0000 - val_loss: 1.4613 - val_accuracy: 0.6667\n",
            "Epoch 27/300\n",
            "15/15 [==============================] - 0s 25ms/step - loss: 0.0127 - accuracy: 1.0000 - val_loss: 1.4698 - val_accuracy: 0.6667\n",
            "Epoch 28/300\n",
            "15/15 [==============================] - 0s 24ms/step - loss: 0.0079 - accuracy: 1.0000 - val_loss: 1.5666 - val_accuracy: 0.6000\n",
            "Epoch 29/300\n",
            "15/15 [==============================] - 0s 25ms/step - loss: 0.0378 - accuracy: 0.9778 - val_loss: 2.0758 - val_accuracy: 0.6000\n",
            "Epoch 30/300\n",
            "15/15 [==============================] - 0s 25ms/step - loss: 0.1312 - accuracy: 0.9556 - val_loss: 2.2923 - val_accuracy: 0.5333\n",
            "Epoch 31/300\n",
            "15/15 [==============================] - 0s 31ms/step - loss: 0.2891 - accuracy: 0.9111 - val_loss: 1.4881 - val_accuracy: 0.7333\n",
            "Epoch 32/300\n",
            "15/15 [==============================] - 1s 38ms/step - loss: 0.1543 - accuracy: 0.9111 - val_loss: 1.0475 - val_accuracy: 0.7333\n",
            "Epoch 33/300\n",
            "15/15 [==============================] - 1s 41ms/step - loss: 0.0445 - accuracy: 0.9778 - val_loss: 1.2453 - val_accuracy: 0.7333\n",
            "Epoch 34/300\n",
            "15/15 [==============================] - 1s 48ms/step - loss: 0.0322 - accuracy: 1.0000 - val_loss: 1.3636 - val_accuracy: 0.6667\n",
            "Epoch 35/300\n",
            "15/15 [==============================] - 1s 39ms/step - loss: 0.0289 - accuracy: 0.9778 - val_loss: 1.3643 - val_accuracy: 0.7333\n",
            "Epoch 36/300\n",
            "15/15 [==============================] - 1s 34ms/step - loss: 0.0322 - accuracy: 1.0000 - val_loss: 1.4042 - val_accuracy: 0.6667\n",
            "Epoch 37/300\n",
            "15/15 [==============================] - 0s 27ms/step - loss: 0.0270 - accuracy: 0.9778 - val_loss: 1.2367 - val_accuracy: 0.7333\n",
            "Epoch 38/300\n",
            "15/15 [==============================] - 0s 29ms/step - loss: 0.0236 - accuracy: 1.0000 - val_loss: 1.6154 - val_accuracy: 0.6000\n",
            "Epoch 39/300\n",
            "15/15 [==============================] - 1s 36ms/step - loss: 0.0200 - accuracy: 1.0000 - val_loss: 2.1185 - val_accuracy: 0.5333\n",
            "Epoch 40/300\n",
            "15/15 [==============================] - 0s 30ms/step - loss: 0.0690 - accuracy: 0.9778 - val_loss: 1.1787 - val_accuracy: 0.8000\n",
            "Epoch 41/300\n",
            "15/15 [==============================] - 0s 32ms/step - loss: 0.1890 - accuracy: 0.9333 - val_loss: 0.9509 - val_accuracy: 0.7333\n",
            "Epoch 42/300\n",
            "15/15 [==============================] - 0s 24ms/step - loss: 0.1490 - accuracy: 0.9333 - val_loss: 1.3036 - val_accuracy: 0.6000\n",
            "Epoch 43/300\n",
            "15/15 [==============================] - 0s 25ms/step - loss: 0.0627 - accuracy: 0.9778 - val_loss: 1.7978 - val_accuracy: 0.5333\n",
            "Epoch 44/300\n",
            "15/15 [==============================] - 0s 29ms/step - loss: 0.0566 - accuracy: 0.9778 - val_loss: 2.0828 - val_accuracy: 0.4667\n",
            "Epoch 45/300\n",
            "15/15 [==============================] - 0s 29ms/step - loss: 0.0369 - accuracy: 0.9778 - val_loss: 1.9968 - val_accuracy: 0.4667\n",
            "Epoch 46/300\n",
            "15/15 [==============================] - 0s 29ms/step - loss: 0.0905 - accuracy: 0.9556 - val_loss: 1.8737 - val_accuracy: 0.6000\n",
            "Epoch 47/300\n",
            "15/15 [==============================] - 0s 30ms/step - loss: 0.0212 - accuracy: 0.9778 - val_loss: 1.6857 - val_accuracy: 0.6000\n",
            "Epoch 48/300\n",
            "15/15 [==============================] - 0s 29ms/step - loss: 0.0990 - accuracy: 0.9556 - val_loss: 1.4644 - val_accuracy: 0.6000\n",
            "Epoch 49/300\n",
            "15/15 [==============================] - 0s 31ms/step - loss: 0.0107 - accuracy: 1.0000 - val_loss: 1.5112 - val_accuracy: 0.6000\n",
            "Epoch 50/300\n",
            "15/15 [==============================] - 1s 33ms/step - loss: 0.0396 - accuracy: 0.9778 - val_loss: 1.5541 - val_accuracy: 0.6667\n",
            "Epoch 51/300\n",
            "15/15 [==============================] - 0s 28ms/step - loss: 0.0085 - accuracy: 1.0000 - val_loss: 1.4622 - val_accuracy: 0.6667\n",
            "Epoch 52/300\n",
            "15/15 [==============================] - 0s 30ms/step - loss: 0.0051 - accuracy: 1.0000 - val_loss: 1.5569 - val_accuracy: 0.6667\n",
            "Epoch 53/300\n",
            "15/15 [==============================] - 0s 27ms/step - loss: 0.0318 - accuracy: 0.9778 - val_loss: 1.5837 - val_accuracy: 0.6667\n",
            "Epoch 54/300\n",
            "15/15 [==============================] - 0s 26ms/step - loss: 0.0046 - accuracy: 1.0000 - val_loss: 1.4874 - val_accuracy: 0.6667\n",
            "Epoch 55/300\n",
            "15/15 [==============================] - 0s 29ms/step - loss: 0.0011 - accuracy: 1.0000 - val_loss: 1.4957 - val_accuracy: 0.6667\n",
            "Epoch 56/300\n",
            "15/15 [==============================] - 0s 30ms/step - loss: 0.0018 - accuracy: 1.0000 - val_loss: 1.5119 - val_accuracy: 0.6667\n",
            "Epoch 57/300\n",
            "15/15 [==============================] - 0s 31ms/step - loss: 0.0649 - accuracy: 0.9778 - val_loss: 1.6055 - val_accuracy: 0.6667\n",
            "Epoch 58/300\n",
            "15/15 [==============================] - 0s 31ms/step - loss: 0.0217 - accuracy: 0.9778 - val_loss: 2.7909 - val_accuracy: 0.5333\n",
            "Epoch 59/300\n",
            "15/15 [==============================] - 0s 26ms/step - loss: 0.0170 - accuracy: 0.9778 - val_loss: 3.1274 - val_accuracy: 0.5333\n",
            "Epoch 60/300\n",
            "15/15 [==============================] - 0s 25ms/step - loss: 0.0628 - accuracy: 0.9778 - val_loss: 1.5417 - val_accuracy: 0.6667\n",
            "Epoch 61/300\n",
            "15/15 [==============================] - 0s 24ms/step - loss: 0.0107 - accuracy: 1.0000 - val_loss: 1.4448 - val_accuracy: 0.6000\n",
            "Epoch 62/300\n",
            "15/15 [==============================] - 0s 24ms/step - loss: 0.0035 - accuracy: 1.0000 - val_loss: 1.5214 - val_accuracy: 0.6667\n",
            "Epoch 63/300\n",
            "15/15 [==============================] - 0s 24ms/step - loss: 0.0032 - accuracy: 1.0000 - val_loss: 1.5828 - val_accuracy: 0.6667\n",
            "Epoch 64/300\n",
            "15/15 [==============================] - 0s 26ms/step - loss: 0.0047 - accuracy: 1.0000 - val_loss: 1.6334 - val_accuracy: 0.6667\n",
            "Epoch 65/300\n",
            "15/15 [==============================] - 0s 30ms/step - loss: 0.0033 - accuracy: 1.0000 - val_loss: 1.6500 - val_accuracy: 0.6000\n",
            "Epoch 66/300\n",
            "15/15 [==============================] - 0s 28ms/step - loss: 0.0148 - accuracy: 1.0000 - val_loss: 1.8518 - val_accuracy: 0.6667\n",
            "Epoch 67/300\n",
            "15/15 [==============================] - 0s 26ms/step - loss: 0.0350 - accuracy: 0.9778 - val_loss: 2.3288 - val_accuracy: 0.5333\n",
            "Epoch 68/300\n",
            "15/15 [==============================] - 0s 30ms/step - loss: 0.0182 - accuracy: 1.0000 - val_loss: 2.2952 - val_accuracy: 0.6000\n",
            "Epoch 69/300\n",
            "15/15 [==============================] - 0s 33ms/step - loss: 0.1003 - accuracy: 0.9556 - val_loss: 1.7158 - val_accuracy: 0.6667\n",
            "Epoch 70/300\n",
            "15/15 [==============================] - 0s 24ms/step - loss: 0.0155 - accuracy: 1.0000 - val_loss: 2.0001 - val_accuracy: 0.6667\n",
            "Epoch 71/300\n",
            "15/15 [==============================] - 0s 25ms/step - loss: 0.2023 - accuracy: 0.9111 - val_loss: 1.6926 - val_accuracy: 0.6667\n",
            "Epoch 72/300\n",
            "15/15 [==============================] - 0s 30ms/step - loss: 0.0697 - accuracy: 0.9556 - val_loss: 1.6049 - val_accuracy: 0.6667\n",
            "Epoch 73/300\n",
            "15/15 [==============================] - 1s 47ms/step - loss: 0.0079 - accuracy: 1.0000 - val_loss: 1.8475 - val_accuracy: 0.6000\n",
            "Epoch 74/300\n",
            "15/15 [==============================] - 0s 26ms/step - loss: 0.0054 - accuracy: 1.0000 - val_loss: 1.7068 - val_accuracy: 0.6000\n",
            "Epoch 75/300\n",
            "15/15 [==============================] - 0s 28ms/step - loss: 0.0039 - accuracy: 1.0000 - val_loss: 1.5733 - val_accuracy: 0.7333\n",
            "Epoch 76/300\n",
            "15/15 [==============================] - 0s 30ms/step - loss: 0.1215 - accuracy: 0.9333 - val_loss: 1.3766 - val_accuracy: 0.6667\n",
            "Epoch 77/300\n",
            "15/15 [==============================] - 0s 24ms/step - loss: 0.0063 - accuracy: 1.0000 - val_loss: 1.2150 - val_accuracy: 0.7333\n",
            "Epoch 78/300\n",
            "15/15 [==============================] - 0s 25ms/step - loss: 0.0297 - accuracy: 1.0000 - val_loss: 1.3979 - val_accuracy: 0.6667\n",
            "Epoch 79/300\n",
            "15/15 [==============================] - 0s 24ms/step - loss: 0.0598 - accuracy: 0.9778 - val_loss: 1.1561 - val_accuracy: 0.7333\n",
            "Epoch 80/300\n",
            "15/15 [==============================] - 0s 27ms/step - loss: 0.0380 - accuracy: 0.9778 - val_loss: 1.4072 - val_accuracy: 0.6000\n",
            "Epoch 81/300\n",
            "15/15 [==============================] - 0s 28ms/step - loss: 0.0095 - accuracy: 1.0000 - val_loss: 2.2122 - val_accuracy: 0.6000\n",
            "Epoch 82/300\n",
            "15/15 [==============================] - 0s 31ms/step - loss: 0.0047 - accuracy: 1.0000 - val_loss: 2.3783 - val_accuracy: 0.6000\n",
            "Epoch 83/300\n",
            "15/15 [==============================] - 0s 30ms/step - loss: 0.0059 - accuracy: 1.0000 - val_loss: 2.1361 - val_accuracy: 0.6000\n",
            "Epoch 84/300\n",
            "15/15 [==============================] - 0s 29ms/step - loss: 0.0050 - accuracy: 1.0000 - val_loss: 2.0563 - val_accuracy: 0.6000\n",
            "Epoch 85/300\n",
            "15/15 [==============================] - 0s 31ms/step - loss: 0.0058 - accuracy: 1.0000 - val_loss: 2.0568 - val_accuracy: 0.6000\n",
            "Epoch 86/300\n",
            "15/15 [==============================] - 0s 26ms/step - loss: 0.0567 - accuracy: 0.9778 - val_loss: 1.0277 - val_accuracy: 0.8000\n",
            "Epoch 87/300\n",
            "15/15 [==============================] - 0s 27ms/step - loss: 0.0695 - accuracy: 0.9778 - val_loss: 2.1172 - val_accuracy: 0.6000\n",
            "Epoch 88/300\n",
            "15/15 [==============================] - 0s 26ms/step - loss: 0.0041 - accuracy: 1.0000 - val_loss: 3.9764 - val_accuracy: 0.5333\n",
            "Epoch 89/300\n",
            "15/15 [==============================] - 0s 25ms/step - loss: 0.0033 - accuracy: 1.0000 - val_loss: 4.4629 - val_accuracy: 0.4667\n",
            "Epoch 90/300\n",
            "15/15 [==============================] - 0s 27ms/step - loss: 0.0065 - accuracy: 1.0000 - val_loss: 4.4987 - val_accuracy: 0.5333\n",
            "Epoch 91/300\n",
            "15/15 [==============================] - 0s 26ms/step - loss: 0.0658 - accuracy: 0.9778 - val_loss: 3.4683 - val_accuracy: 0.5333\n",
            "Epoch 92/300\n",
            "15/15 [==============================] - 0s 28ms/step - loss: 0.0194 - accuracy: 1.0000 - val_loss: 2.9223 - val_accuracy: 0.5333\n",
            "Epoch 93/300\n",
            "15/15 [==============================] - 0s 29ms/step - loss: 0.0168 - accuracy: 1.0000 - val_loss: 3.3552 - val_accuracy: 0.5333\n",
            "Epoch 94/300\n",
            "15/15 [==============================] - 0s 27ms/step - loss: 0.0416 - accuracy: 0.9778 - val_loss: 2.9596 - val_accuracy: 0.6000\n",
            "Epoch 95/300\n",
            "15/15 [==============================] - 0s 25ms/step - loss: 0.0989 - accuracy: 0.9778 - val_loss: 3.4536 - val_accuracy: 0.5333\n",
            "Epoch 96/300\n",
            "15/15 [==============================] - 0s 27ms/step - loss: 0.0231 - accuracy: 0.9778 - val_loss: 2.8607 - val_accuracy: 0.6000\n",
            "Epoch 97/300\n",
            "15/15 [==============================] - 0s 29ms/step - loss: 0.0226 - accuracy: 1.0000 - val_loss: 2.7202 - val_accuracy: 0.6000\n",
            "Epoch 98/300\n",
            "15/15 [==============================] - 0s 27ms/step - loss: 0.0023 - accuracy: 1.0000 - val_loss: 3.1332 - val_accuracy: 0.5333\n",
            "Epoch 99/300\n",
            "15/15 [==============================] - 0s 31ms/step - loss: 0.0311 - accuracy: 0.9778 - val_loss: 2.7429 - val_accuracy: 0.6000\n",
            "Epoch 100/300\n",
            "15/15 [==============================] - 0s 30ms/step - loss: 0.0043 - accuracy: 1.0000 - val_loss: 2.3833 - val_accuracy: 0.5333\n",
            "Epoch 101/300\n",
            "15/15 [==============================] - 0s 29ms/step - loss: 6.9233e-04 - accuracy: 1.0000 - val_loss: 2.2461 - val_accuracy: 0.5333\n",
            "Epoch 102/300\n",
            "15/15 [==============================] - 0s 30ms/step - loss: 0.0099 - accuracy: 1.0000 - val_loss: 2.2713 - val_accuracy: 0.6000\n",
            "Epoch 103/300\n",
            "15/15 [==============================] - 0s 31ms/step - loss: 0.1220 - accuracy: 0.9556 - val_loss: 1.4321 - val_accuracy: 0.7333\n",
            "Epoch 104/300\n",
            "15/15 [==============================] - 0s 27ms/step - loss: 0.0208 - accuracy: 1.0000 - val_loss: 1.3614 - val_accuracy: 0.7333\n",
            "Epoch 105/300\n",
            "15/15 [==============================] - 0s 27ms/step - loss: 0.0374 - accuracy: 1.0000 - val_loss: 1.7169 - val_accuracy: 0.6667\n",
            "Epoch 106/300\n",
            "15/15 [==============================] - 0s 29ms/step - loss: 0.0024 - accuracy: 1.0000 - val_loss: 1.6969 - val_accuracy: 0.7333\n",
            "Epoch 107/300\n",
            "15/15 [==============================] - 0s 32ms/step - loss: 0.0181 - accuracy: 1.0000 - val_loss: 1.5852 - val_accuracy: 0.8000\n",
            "Epoch 108/300\n",
            "15/15 [==============================] - 0s 26ms/step - loss: 5.7815e-04 - accuracy: 1.0000 - val_loss: 1.6598 - val_accuracy: 0.7333\n",
            "Epoch 109/300\n",
            "15/15 [==============================] - 0s 25ms/step - loss: 0.0019 - accuracy: 1.0000 - val_loss: 1.6860 - val_accuracy: 0.7333\n",
            "Epoch 110/300\n",
            "15/15 [==============================] - 0s 25ms/step - loss: 4.9893e-04 - accuracy: 1.0000 - val_loss: 1.6977 - val_accuracy: 0.7333\n",
            "Epoch 111/300\n",
            "15/15 [==============================] - 0s 29ms/step - loss: 0.0180 - accuracy: 0.9778 - val_loss: 2.0300 - val_accuracy: 0.6667\n",
            "Epoch 112/300\n",
            "15/15 [==============================] - 1s 33ms/step - loss: 0.1077 - accuracy: 0.9778 - val_loss: 1.5764 - val_accuracy: 0.8000\n",
            "Epoch 113/300\n",
            "15/15 [==============================] - 0s 28ms/step - loss: 0.0288 - accuracy: 0.9778 - val_loss: 1.5620 - val_accuracy: 0.8000\n",
            "Epoch 114/300\n",
            "15/15 [==============================] - 0s 25ms/step - loss: 0.0853 - accuracy: 0.9778 - val_loss: 1.5636 - val_accuracy: 0.7333\n",
            "Epoch 115/300\n",
            "15/15 [==============================] - 0s 27ms/step - loss: 0.1001 - accuracy: 0.9778 - val_loss: 1.8987 - val_accuracy: 0.7333\n",
            "Epoch 116/300\n",
            "15/15 [==============================] - 0s 31ms/step - loss: 0.0812 - accuracy: 0.9778 - val_loss: 1.8225 - val_accuracy: 0.5333\n",
            "Epoch 117/300\n",
            "15/15 [==============================] - 0s 30ms/step - loss: 0.0088 - accuracy: 1.0000 - val_loss: 1.7524 - val_accuracy: 0.5333\n",
            "Epoch 118/300\n",
            "15/15 [==============================] - 0s 28ms/step - loss: 0.0322 - accuracy: 0.9778 - val_loss: 1.6615 - val_accuracy: 0.6667\n",
            "Epoch 119/300\n",
            "15/15 [==============================] - 0s 27ms/step - loss: 0.0331 - accuracy: 0.9778 - val_loss: 1.4900 - val_accuracy: 0.6000\n",
            "Epoch 120/300\n",
            "15/15 [==============================] - 0s 30ms/step - loss: 0.0071 - accuracy: 1.0000 - val_loss: 1.5652 - val_accuracy: 0.6000\n",
            "Epoch 121/300\n",
            "15/15 [==============================] - 0s 30ms/step - loss: 0.0015 - accuracy: 1.0000 - val_loss: 1.6491 - val_accuracy: 0.5333\n",
            "Epoch 122/300\n",
            "15/15 [==============================] - 0s 30ms/step - loss: 0.0038 - accuracy: 1.0000 - val_loss: 1.5987 - val_accuracy: 0.5333\n",
            "Epoch 123/300\n",
            "15/15 [==============================] - 0s 30ms/step - loss: 0.0056 - accuracy: 1.0000 - val_loss: 1.6044 - val_accuracy: 0.7333\n",
            "Epoch 124/300\n",
            "15/15 [==============================] - 0s 30ms/step - loss: 0.0020 - accuracy: 1.0000 - val_loss: 1.6012 - val_accuracy: 0.8000\n",
            "Epoch 125/300\n",
            "15/15 [==============================] - 0s 30ms/step - loss: 4.3325e-04 - accuracy: 1.0000 - val_loss: 1.6033 - val_accuracy: 0.8000\n",
            "Epoch 126/300\n",
            "15/15 [==============================] - 0s 29ms/step - loss: 0.0010 - accuracy: 1.0000 - val_loss: 1.6187 - val_accuracy: 0.8000\n",
            "Epoch 127/300\n",
            "15/15 [==============================] - 0s 27ms/step - loss: 0.0119 - accuracy: 1.0000 - val_loss: 2.1688 - val_accuracy: 0.5333\n",
            "Epoch 128/300\n",
            "15/15 [==============================] - 0s 28ms/step - loss: 0.0024 - accuracy: 1.0000 - val_loss: 2.2810 - val_accuracy: 0.5333\n",
            "Epoch 129/300\n",
            "15/15 [==============================] - 0s 25ms/step - loss: 0.0369 - accuracy: 0.9778 - val_loss: 2.5492 - val_accuracy: 0.5333\n",
            "Epoch 130/300\n",
            "15/15 [==============================] - 0s 26ms/step - loss: 0.0227 - accuracy: 1.0000 - val_loss: 2.1180 - val_accuracy: 0.7333\n",
            "Epoch 131/300\n",
            "15/15 [==============================] - 0s 24ms/step - loss: 0.0086 - accuracy: 1.0000 - val_loss: 2.0303 - val_accuracy: 0.7333\n",
            "Epoch 132/300\n",
            "15/15 [==============================] - 0s 27ms/step - loss: 9.1987e-04 - accuracy: 1.0000 - val_loss: 2.1058 - val_accuracy: 0.7333\n",
            "Epoch 133/300\n",
            "15/15 [==============================] - 0s 26ms/step - loss: 0.1697 - accuracy: 0.9333 - val_loss: 1.8734 - val_accuracy: 0.7333\n",
            "Epoch 134/300\n",
            "15/15 [==============================] - 0s 30ms/step - loss: 0.1126 - accuracy: 0.9333 - val_loss: 1.9822 - val_accuracy: 0.6000\n",
            "Epoch 135/300\n",
            "15/15 [==============================] - 0s 32ms/step - loss: 0.2499 - accuracy: 0.9556 - val_loss: 2.3578 - val_accuracy: 0.6000\n",
            "Epoch 136/300\n",
            "15/15 [==============================] - 0s 30ms/step - loss: 0.0015 - accuracy: 1.0000 - val_loss: 1.9195 - val_accuracy: 0.6667\n",
            "Epoch 137/300\n",
            "15/15 [==============================] - 0s 33ms/step - loss: 0.0123 - accuracy: 1.0000 - val_loss: 1.8407 - val_accuracy: 0.6667\n",
            "Epoch 138/300\n",
            "15/15 [==============================] - 0s 30ms/step - loss: 0.0686 - accuracy: 0.9333 - val_loss: 1.5733 - val_accuracy: 0.7333\n",
            "Epoch 139/300\n",
            "15/15 [==============================] - 1s 39ms/step - loss: 0.0607 - accuracy: 0.9556 - val_loss: 1.8772 - val_accuracy: 0.6667\n",
            "Epoch 140/300\n",
            "15/15 [==============================] - 0s 30ms/step - loss: 0.0017 - accuracy: 1.0000 - val_loss: 2.5391 - val_accuracy: 0.5333\n",
            "Epoch 141/300\n",
            "15/15 [==============================] - 1s 32ms/step - loss: 0.0043 - accuracy: 1.0000 - val_loss: 2.5231 - val_accuracy: 0.5333\n",
            "Epoch 142/300\n",
            "15/15 [==============================] - 1s 39ms/step - loss: 0.0011 - accuracy: 1.0000 - val_loss: 2.5255 - val_accuracy: 0.5333\n",
            "Epoch 143/300\n",
            "15/15 [==============================] - 0s 27ms/step - loss: 9.2212e-04 - accuracy: 1.0000 - val_loss: 2.5655 - val_accuracy: 0.5333\n",
            "Epoch 144/300\n",
            "15/15 [==============================] - 0s 29ms/step - loss: 3.9609e-04 - accuracy: 1.0000 - val_loss: 2.5926 - val_accuracy: 0.5333\n",
            "Epoch 145/300\n",
            "15/15 [==============================] - 0s 25ms/step - loss: 0.0012 - accuracy: 1.0000 - val_loss: 2.6084 - val_accuracy: 0.5333\n",
            "Epoch 146/300\n",
            "15/15 [==============================] - 0s 27ms/step - loss: 0.0035 - accuracy: 1.0000 - val_loss: 2.5637 - val_accuracy: 0.5333\n",
            "Epoch 147/300\n",
            "15/15 [==============================] - 0s 26ms/step - loss: 0.0057 - accuracy: 1.0000 - val_loss: 2.4700 - val_accuracy: 0.5333\n",
            "Epoch 148/300\n",
            "15/15 [==============================] - 0s 25ms/step - loss: 0.0229 - accuracy: 1.0000 - val_loss: 2.3641 - val_accuracy: 0.6000\n",
            "Epoch 149/300\n",
            "15/15 [==============================] - 0s 31ms/step - loss: 9.8145e-04 - accuracy: 1.0000 - val_loss: 2.7343 - val_accuracy: 0.5333\n",
            "Epoch 150/300\n",
            "15/15 [==============================] - 0s 30ms/step - loss: 0.0096 - accuracy: 1.0000 - val_loss: 2.9161 - val_accuracy: 0.4667\n",
            "Epoch 151/300\n",
            "15/15 [==============================] - 0s 27ms/step - loss: 2.2852e-04 - accuracy: 1.0000 - val_loss: 2.9623 - val_accuracy: 0.4667\n",
            "Epoch 152/300\n",
            "15/15 [==============================] - 0s 29ms/step - loss: 0.0054 - accuracy: 1.0000 - val_loss: 2.8369 - val_accuracy: 0.4667\n",
            "Epoch 153/300\n",
            "15/15 [==============================] - 0s 25ms/step - loss: 3.0763e-04 - accuracy: 1.0000 - val_loss: 2.7437 - val_accuracy: 0.5333\n",
            "Epoch 154/300\n",
            "15/15 [==============================] - 0s 26ms/step - loss: 1.2418e-04 - accuracy: 1.0000 - val_loss: 2.7220 - val_accuracy: 0.5333\n",
            "Epoch 155/300\n",
            "15/15 [==============================] - 0s 25ms/step - loss: 4.1525e-05 - accuracy: 1.0000 - val_loss: 2.7174 - val_accuracy: 0.5333\n",
            "Epoch 156/300\n",
            "15/15 [==============================] - 0s 31ms/step - loss: 0.0125 - accuracy: 1.0000 - val_loss: 2.6021 - val_accuracy: 0.6667\n",
            "Epoch 157/300\n",
            "15/15 [==============================] - 0s 32ms/step - loss: 0.0031 - accuracy: 1.0000 - val_loss: 2.6114 - val_accuracy: 0.6667\n",
            "Epoch 158/300\n",
            "15/15 [==============================] - 0s 26ms/step - loss: 0.0032 - accuracy: 1.0000 - val_loss: 2.4486 - val_accuracy: 0.7333\n",
            "Epoch 159/300\n",
            "15/15 [==============================] - 0s 28ms/step - loss: 0.0217 - accuracy: 0.9778 - val_loss: 2.5334 - val_accuracy: 0.5333\n",
            "Epoch 160/300\n",
            "15/15 [==============================] - 0s 33ms/step - loss: 0.0155 - accuracy: 1.0000 - val_loss: 3.0961 - val_accuracy: 0.6000\n",
            "Epoch 161/300\n",
            "15/15 [==============================] - 0s 32ms/step - loss: 0.0878 - accuracy: 0.9556 - val_loss: 4.7932 - val_accuracy: 0.4667\n",
            "Epoch 162/300\n",
            "15/15 [==============================] - 0s 30ms/step - loss: 0.0022 - accuracy: 1.0000 - val_loss: 4.4592 - val_accuracy: 0.4667\n",
            "Epoch 163/300\n",
            "15/15 [==============================] - 1s 34ms/step - loss: 0.0099 - accuracy: 1.0000 - val_loss: 4.4465 - val_accuracy: 0.4667\n",
            "Epoch 164/300\n",
            "15/15 [==============================] - 1s 33ms/step - loss: 0.0046 - accuracy: 1.0000 - val_loss: 3.9074 - val_accuracy: 0.4667\n",
            "Epoch 165/300\n",
            "15/15 [==============================] - 0s 25ms/step - loss: 0.0173 - accuracy: 0.9778 - val_loss: 3.9340 - val_accuracy: 0.4667\n",
            "Epoch 166/300\n",
            "15/15 [==============================] - 0s 27ms/step - loss: 0.1269 - accuracy: 0.9778 - val_loss: 2.8865 - val_accuracy: 0.6000\n",
            "Epoch 167/300\n",
            "15/15 [==============================] - 0s 32ms/step - loss: 0.0648 - accuracy: 0.9778 - val_loss: 2.8767 - val_accuracy: 0.6000\n",
            "Epoch 168/300\n",
            "15/15 [==============================] - 0s 30ms/step - loss: 0.0201 - accuracy: 0.9778 - val_loss: 3.3366 - val_accuracy: 0.6000\n",
            "Epoch 169/300\n",
            "15/15 [==============================] - 0s 25ms/step - loss: 0.1324 - accuracy: 0.9778 - val_loss: 3.2439 - val_accuracy: 0.5333\n",
            "Epoch 170/300\n",
            "15/15 [==============================] - 0s 26ms/step - loss: 0.0279 - accuracy: 0.9778 - val_loss: 2.9895 - val_accuracy: 0.7333\n",
            "Epoch 171/300\n",
            "15/15 [==============================] - 0s 26ms/step - loss: 0.0128 - accuracy: 1.0000 - val_loss: 2.7318 - val_accuracy: 0.7333\n",
            "Epoch 172/300\n",
            "15/15 [==============================] - 0s 27ms/step - loss: 0.0044 - accuracy: 1.0000 - val_loss: 2.5130 - val_accuracy: 0.7333\n",
            "Epoch 173/300\n",
            "15/15 [==============================] - 0s 26ms/step - loss: 0.0019 - accuracy: 1.0000 - val_loss: 2.5732 - val_accuracy: 0.7333\n",
            "Epoch 174/300\n",
            "15/15 [==============================] - 0s 25ms/step - loss: 0.0339 - accuracy: 0.9778 - val_loss: 2.8466 - val_accuracy: 0.6667\n",
            "Epoch 175/300\n",
            "15/15 [==============================] - 0s 32ms/step - loss: 0.0202 - accuracy: 0.9778 - val_loss: 3.3178 - val_accuracy: 0.7333\n",
            "Epoch 176/300\n",
            "15/15 [==============================] - 1s 34ms/step - loss: 0.0048 - accuracy: 1.0000 - val_loss: 3.3935 - val_accuracy: 0.7333\n",
            "Epoch 177/300\n",
            "15/15 [==============================] - 0s 31ms/step - loss: 0.0391 - accuracy: 0.9778 - val_loss: 2.7298 - val_accuracy: 0.7333\n",
            "Epoch 178/300\n",
            "15/15 [==============================] - 0s 27ms/step - loss: 0.0015 - accuracy: 1.0000 - val_loss: 2.6908 - val_accuracy: 0.7333\n",
            "Epoch 179/300\n",
            "15/15 [==============================] - 0s 26ms/step - loss: 0.0082 - accuracy: 1.0000 - val_loss: 4.1952 - val_accuracy: 0.5333\n",
            "Epoch 180/300\n",
            "15/15 [==============================] - 0s 32ms/step - loss: 0.0136 - accuracy: 1.0000 - val_loss: 2.9552 - val_accuracy: 0.7333\n",
            "Epoch 181/300\n",
            "15/15 [==============================] - 0s 30ms/step - loss: 3.7232e-04 - accuracy: 1.0000 - val_loss: 3.0180 - val_accuracy: 0.7333\n",
            "Epoch 182/300\n",
            "15/15 [==============================] - 1s 33ms/step - loss: 0.0342 - accuracy: 0.9778 - val_loss: 3.1165 - val_accuracy: 0.6667\n",
            "Epoch 183/300\n",
            "15/15 [==============================] - 1s 33ms/step - loss: 0.0199 - accuracy: 1.0000 - val_loss: 3.2154 - val_accuracy: 0.6000\n",
            "Epoch 184/300\n",
            "15/15 [==============================] - 1s 33ms/step - loss: 0.1490 - accuracy: 0.9778 - val_loss: 2.4925 - val_accuracy: 0.7333\n",
            "Epoch 185/300\n",
            "15/15 [==============================] - 1s 34ms/step - loss: 0.0066 - accuracy: 1.0000 - val_loss: 2.1855 - val_accuracy: 0.8000\n",
            "Epoch 186/300\n",
            "15/15 [==============================] - 0s 31ms/step - loss: 6.5555e-05 - accuracy: 1.0000 - val_loss: 2.1891 - val_accuracy: 0.8000\n",
            "Epoch 187/300\n",
            "15/15 [==============================] - 0s 31ms/step - loss: 0.0021 - accuracy: 1.0000 - val_loss: 2.2187 - val_accuracy: 0.8000\n",
            "Epoch 188/300\n",
            "15/15 [==============================] - 0s 32ms/step - loss: 0.0103 - accuracy: 1.0000 - val_loss: 2.3299 - val_accuracy: 0.7333\n",
            "Epoch 189/300\n",
            "15/15 [==============================] - 0s 27ms/step - loss: 0.0035 - accuracy: 1.0000 - val_loss: 2.4472 - val_accuracy: 0.7333\n",
            "Epoch 190/300\n",
            "15/15 [==============================] - 0s 30ms/step - loss: 1.3269e-04 - accuracy: 1.0000 - val_loss: 2.4673 - val_accuracy: 0.7333\n",
            "Epoch 191/300\n",
            "15/15 [==============================] - 0s 32ms/step - loss: 0.0128 - accuracy: 1.0000 - val_loss: 2.4238 - val_accuracy: 0.7333\n",
            "Epoch 192/300\n",
            "15/15 [==============================] - 1s 48ms/step - loss: 4.6058e-04 - accuracy: 1.0000 - val_loss: 2.4568 - val_accuracy: 0.7333\n",
            "Epoch 193/300\n",
            "15/15 [==============================] - 0s 31ms/step - loss: 1.0211e-04 - accuracy: 1.0000 - val_loss: 2.4685 - val_accuracy: 0.6667\n",
            "Epoch 194/300\n",
            "15/15 [==============================] - 1s 33ms/step - loss: 0.0426 - accuracy: 0.9778 - val_loss: 1.9339 - val_accuracy: 0.8000\n",
            "Epoch 195/300\n",
            "15/15 [==============================] - 0s 28ms/step - loss: 3.8492e-04 - accuracy: 1.0000 - val_loss: 2.0527 - val_accuracy: 0.8000\n",
            "Epoch 196/300\n",
            "15/15 [==============================] - 0s 26ms/step - loss: 0.0072 - accuracy: 1.0000 - val_loss: 1.8449 - val_accuracy: 0.8000\n",
            "Epoch 197/300\n",
            "15/15 [==============================] - 0s 27ms/step - loss: 0.0078 - accuracy: 1.0000 - val_loss: 1.8382 - val_accuracy: 0.8000\n",
            "Epoch 198/300\n",
            "15/15 [==============================] - 0s 26ms/step - loss: 7.9578e-04 - accuracy: 1.0000 - val_loss: 1.9139 - val_accuracy: 0.7333\n",
            "Epoch 199/300\n",
            "15/15 [==============================] - 0s 25ms/step - loss: 0.1654 - accuracy: 0.9778 - val_loss: 2.2509 - val_accuracy: 0.8000\n",
            "Epoch 200/300\n",
            "15/15 [==============================] - 0s 30ms/step - loss: 0.0644 - accuracy: 0.9778 - val_loss: 2.0262 - val_accuracy: 0.8000\n",
            "Epoch 201/300\n",
            "15/15 [==============================] - 0s 33ms/step - loss: 0.0385 - accuracy: 0.9778 - val_loss: 1.9208 - val_accuracy: 0.8000\n",
            "Epoch 202/300\n",
            "15/15 [==============================] - 0s 32ms/step - loss: 0.0093 - accuracy: 1.0000 - val_loss: 1.8813 - val_accuracy: 0.8000\n",
            "Epoch 203/300\n",
            "15/15 [==============================] - 1s 35ms/step - loss: 0.0131 - accuracy: 1.0000 - val_loss: 2.0721 - val_accuracy: 0.8000\n",
            "Epoch 204/300\n",
            "15/15 [==============================] - 0s 25ms/step - loss: 0.0031 - accuracy: 1.0000 - val_loss: 2.2750 - val_accuracy: 0.8000\n",
            "Epoch 205/300\n",
            "15/15 [==============================] - 0s 28ms/step - loss: 0.1556 - accuracy: 0.9778 - val_loss: 2.8272 - val_accuracy: 0.6000\n",
            "Epoch 206/300\n",
            "15/15 [==============================] - 0s 30ms/step - loss: 0.0100 - accuracy: 1.0000 - val_loss: 2.8359 - val_accuracy: 0.6000\n",
            "Epoch 207/300\n",
            "15/15 [==============================] - 0s 25ms/step - loss: 9.7848e-04 - accuracy: 1.0000 - val_loss: 2.7242 - val_accuracy: 0.6000\n",
            "Epoch 208/300\n",
            "15/15 [==============================] - 0s 25ms/step - loss: 0.0028 - accuracy: 1.0000 - val_loss: 2.6587 - val_accuracy: 0.6000\n",
            "Epoch 209/300\n",
            "15/15 [==============================] - 0s 25ms/step - loss: 0.0234 - accuracy: 0.9778 - val_loss: 2.1954 - val_accuracy: 0.6667\n",
            "Epoch 210/300\n",
            "15/15 [==============================] - 0s 25ms/step - loss: 0.0016 - accuracy: 1.0000 - val_loss: 2.1105 - val_accuracy: 0.7333\n",
            "Epoch 211/300\n",
            "15/15 [==============================] - 0s 30ms/step - loss: 0.0031 - accuracy: 1.0000 - val_loss: 2.1933 - val_accuracy: 0.6667\n",
            "Epoch 212/300\n",
            "15/15 [==============================] - 0s 31ms/step - loss: 2.8194e-04 - accuracy: 1.0000 - val_loss: 2.2231 - val_accuracy: 0.6667\n",
            "Epoch 213/300\n",
            "15/15 [==============================] - 1s 33ms/step - loss: 3.8882e-05 - accuracy: 1.0000 - val_loss: 2.2267 - val_accuracy: 0.6667\n",
            "Epoch 214/300\n",
            "15/15 [==============================] - 0s 31ms/step - loss: 1.8738e-04 - accuracy: 1.0000 - val_loss: 2.2255 - val_accuracy: 0.6667\n",
            "Epoch 215/300\n",
            "15/15 [==============================] - 0s 28ms/step - loss: 9.1940e-05 - accuracy: 1.0000 - val_loss: 2.2277 - val_accuracy: 0.6667\n",
            "Epoch 216/300\n",
            "15/15 [==============================] - 0s 25ms/step - loss: 3.8724e-05 - accuracy: 1.0000 - val_loss: 2.2317 - val_accuracy: 0.6667\n",
            "Epoch 217/300\n",
            "15/15 [==============================] - 0s 29ms/step - loss: 2.1778e-04 - accuracy: 1.0000 - val_loss: 2.2311 - val_accuracy: 0.6667\n",
            "Epoch 218/300\n",
            "15/15 [==============================] - 0s 26ms/step - loss: 9.7441e-05 - accuracy: 1.0000 - val_loss: 2.2390 - val_accuracy: 0.6667\n",
            "Epoch 219/300\n",
            "15/15 [==============================] - 0s 29ms/step - loss: 2.9443e-04 - accuracy: 1.0000 - val_loss: 2.2733 - val_accuracy: 0.6667\n",
            "Epoch 220/300\n",
            "15/15 [==============================] - 0s 29ms/step - loss: 8.7416e-04 - accuracy: 1.0000 - val_loss: 2.3111 - val_accuracy: 0.6667\n",
            "Epoch 221/300\n",
            "15/15 [==============================] - 0s 25ms/step - loss: 1.9148e-05 - accuracy: 1.0000 - val_loss: 2.3627 - val_accuracy: 0.6667\n",
            "Epoch 222/300\n",
            "15/15 [==============================] - 0s 26ms/step - loss: 2.8770e-05 - accuracy: 1.0000 - val_loss: 2.3721 - val_accuracy: 0.6667\n",
            "Epoch 223/300\n",
            "15/15 [==============================] - 0s 30ms/step - loss: 5.6757e-04 - accuracy: 1.0000 - val_loss: 2.3776 - val_accuracy: 0.6667\n",
            "Epoch 224/300\n",
            "15/15 [==============================] - 0s 30ms/step - loss: 0.0017 - accuracy: 1.0000 - val_loss: 2.2730 - val_accuracy: 0.6667\n",
            "Epoch 225/300\n",
            "15/15 [==============================] - 0s 30ms/step - loss: 0.0086 - accuracy: 1.0000 - val_loss: 2.3668 - val_accuracy: 0.6667\n",
            "Epoch 226/300\n",
            "15/15 [==============================] - 0s 32ms/step - loss: 0.0011 - accuracy: 1.0000 - val_loss: 2.4442 - val_accuracy: 0.7333\n",
            "Epoch 227/300\n",
            "15/15 [==============================] - 0s 27ms/step - loss: 0.0011 - accuracy: 1.0000 - val_loss: 2.4529 - val_accuracy: 0.7333\n",
            "Epoch 228/300\n",
            "15/15 [==============================] - 0s 28ms/step - loss: 0.1264 - accuracy: 0.9778 - val_loss: 2.0232 - val_accuracy: 0.6667\n",
            "Epoch 229/300\n",
            "15/15 [==============================] - 0s 31ms/step - loss: 0.0080 - accuracy: 1.0000 - val_loss: 2.3860 - val_accuracy: 0.6667\n",
            "Epoch 230/300\n",
            "15/15 [==============================] - 0s 30ms/step - loss: 2.2858e-04 - accuracy: 1.0000 - val_loss: 2.3558 - val_accuracy: 0.6000\n",
            "Epoch 231/300\n",
            "15/15 [==============================] - 0s 27ms/step - loss: 0.0154 - accuracy: 1.0000 - val_loss: 2.7473 - val_accuracy: 0.6000\n",
            "Epoch 232/300\n",
            "15/15 [==============================] - 0s 31ms/step - loss: 0.0227 - accuracy: 0.9778 - val_loss: 2.2831 - val_accuracy: 0.6000\n",
            "Epoch 233/300\n",
            "15/15 [==============================] - 0s 32ms/step - loss: 0.0026 - accuracy: 1.0000 - val_loss: 2.2637 - val_accuracy: 0.6667\n",
            "Epoch 234/300\n",
            "15/15 [==============================] - 0s 31ms/step - loss: 0.0019 - accuracy: 1.0000 - val_loss: 2.3036 - val_accuracy: 0.6667\n",
            "Epoch 235/300\n",
            "15/15 [==============================] - 0s 32ms/step - loss: 0.0029 - accuracy: 1.0000 - val_loss: 2.3548 - val_accuracy: 0.6000\n",
            "Epoch 236/300\n",
            "15/15 [==============================] - 1s 35ms/step - loss: 3.7638e-04 - accuracy: 1.0000 - val_loss: 2.4183 - val_accuracy: 0.6000\n",
            "Epoch 237/300\n",
            "15/15 [==============================] - 0s 27ms/step - loss: 0.0013 - accuracy: 1.0000 - val_loss: 2.4417 - val_accuracy: 0.6667\n",
            "Epoch 238/300\n",
            "15/15 [==============================] - 0s 26ms/step - loss: 5.2499e-04 - accuracy: 1.0000 - val_loss: 2.4551 - val_accuracy: 0.6667\n",
            "Epoch 239/300\n",
            "15/15 [==============================] - 0s 25ms/step - loss: 0.0260 - accuracy: 0.9778 - val_loss: 2.6977 - val_accuracy: 0.6000\n",
            "Epoch 240/300\n",
            "15/15 [==============================] - 0s 25ms/step - loss: 0.1190 - accuracy: 0.9556 - val_loss: 2.3942 - val_accuracy: 0.6667\n",
            "Epoch 241/300\n",
            "15/15 [==============================] - 0s 33ms/step - loss: 0.0037 - accuracy: 1.0000 - val_loss: 2.0012 - val_accuracy: 0.6667\n",
            "Epoch 242/300\n",
            "15/15 [==============================] - 0s 31ms/step - loss: 0.0029 - accuracy: 1.0000 - val_loss: 1.9934 - val_accuracy: 0.6667\n",
            "Epoch 243/300\n",
            "15/15 [==============================] - 0s 27ms/step - loss: 0.0255 - accuracy: 1.0000 - val_loss: 2.1340 - val_accuracy: 0.6667\n",
            "Epoch 244/300\n",
            "15/15 [==============================] - 0s 25ms/step - loss: 0.0328 - accuracy: 0.9778 - val_loss: 2.5725 - val_accuracy: 0.6667\n",
            "Epoch 245/300\n",
            "15/15 [==============================] - 0s 26ms/step - loss: 0.1114 - accuracy: 0.9778 - val_loss: 3.3319 - val_accuracy: 0.6667\n",
            "Epoch 246/300\n",
            "15/15 [==============================] - 0s 26ms/step - loss: 0.1197 - accuracy: 0.9556 - val_loss: 2.7049 - val_accuracy: 0.7333\n",
            "Epoch 247/300\n",
            "15/15 [==============================] - 0s 27ms/step - loss: 0.0484 - accuracy: 0.9556 - val_loss: 2.8729 - val_accuracy: 0.6667\n",
            "Epoch 248/300\n",
            "15/15 [==============================] - 0s 25ms/step - loss: 0.0018 - accuracy: 1.0000 - val_loss: 2.7220 - val_accuracy: 0.6667\n",
            "Epoch 249/300\n",
            "15/15 [==============================] - 1s 34ms/step - loss: 7.0147e-04 - accuracy: 1.0000 - val_loss: 2.7035 - val_accuracy: 0.7333\n",
            "Epoch 250/300\n",
            "15/15 [==============================] - 0s 31ms/step - loss: 0.0543 - accuracy: 0.9778 - val_loss: 3.0249 - val_accuracy: 0.7333\n",
            "Epoch 251/300\n",
            "15/15 [==============================] - 0s 31ms/step - loss: 0.0023 - accuracy: 1.0000 - val_loss: 2.7977 - val_accuracy: 0.6667\n",
            "Epoch 252/300\n",
            "15/15 [==============================] - 0s 32ms/step - loss: 0.0058 - accuracy: 1.0000 - val_loss: 2.9135 - val_accuracy: 0.6667\n",
            "Epoch 253/300\n",
            "15/15 [==============================] - 0s 31ms/step - loss: 0.0158 - accuracy: 1.0000 - val_loss: 3.2449 - val_accuracy: 0.7333\n",
            "Epoch 254/300\n",
            "15/15 [==============================] - 0s 31ms/step - loss: 0.0150 - accuracy: 1.0000 - val_loss: 2.8261 - val_accuracy: 0.7333\n",
            "Epoch 255/300\n",
            "15/15 [==============================] - 1s 32ms/step - loss: 0.0015 - accuracy: 1.0000 - val_loss: 2.5085 - val_accuracy: 0.7333\n",
            "Epoch 256/300\n",
            "15/15 [==============================] - 0s 26ms/step - loss: 8.4091e-04 - accuracy: 1.0000 - val_loss: 2.4869 - val_accuracy: 0.7333\n",
            "Epoch 257/300\n",
            "15/15 [==============================] - 0s 27ms/step - loss: 0.0016 - accuracy: 1.0000 - val_loss: 2.4915 - val_accuracy: 0.7333\n",
            "Epoch 258/300\n",
            "15/15 [==============================] - 0s 31ms/step - loss: 2.5772e-04 - accuracy: 1.0000 - val_loss: 2.5016 - val_accuracy: 0.7333\n",
            "Epoch 259/300\n",
            "15/15 [==============================] - 0s 28ms/step - loss: 3.1167e-05 - accuracy: 1.0000 - val_loss: 2.4998 - val_accuracy: 0.7333\n",
            "Epoch 260/300\n",
            "15/15 [==============================] - 0s 26ms/step - loss: 1.0837e-04 - accuracy: 1.0000 - val_loss: 2.5018 - val_accuracy: 0.7333\n",
            "Epoch 261/300\n",
            "15/15 [==============================] - 0s 27ms/step - loss: 2.3822e-04 - accuracy: 1.0000 - val_loss: 2.5088 - val_accuracy: 0.7333\n",
            "Epoch 262/300\n",
            "15/15 [==============================] - 0s 27ms/step - loss: 0.1031 - accuracy: 0.9778 - val_loss: 2.5736 - val_accuracy: 0.7333\n",
            "Epoch 263/300\n",
            "15/15 [==============================] - 0s 30ms/step - loss: 0.0064 - accuracy: 1.0000 - val_loss: 2.2774 - val_accuracy: 0.6667\n",
            "Epoch 264/300\n",
            "15/15 [==============================] - 0s 31ms/step - loss: 0.0011 - accuracy: 1.0000 - val_loss: 2.0866 - val_accuracy: 0.6667\n",
            "Epoch 265/300\n",
            "15/15 [==============================] - 0s 32ms/step - loss: 5.5480e-04 - accuracy: 1.0000 - val_loss: 2.0581 - val_accuracy: 0.6667\n",
            "Epoch 266/300\n",
            "15/15 [==============================] - 0s 31ms/step - loss: 3.6303e-04 - accuracy: 1.0000 - val_loss: 2.0642 - val_accuracy: 0.6667\n",
            "Epoch 267/300\n",
            "15/15 [==============================] - 0s 30ms/step - loss: 0.0014 - accuracy: 1.0000 - val_loss: 2.0876 - val_accuracy: 0.6667\n",
            "Epoch 268/300\n",
            "15/15 [==============================] - 0s 28ms/step - loss: 2.9878e-04 - accuracy: 1.0000 - val_loss: 2.0994 - val_accuracy: 0.6667\n",
            "Epoch 269/300\n",
            "15/15 [==============================] - 0s 31ms/step - loss: 0.0047 - accuracy: 1.0000 - val_loss: 2.2827 - val_accuracy: 0.6667\n",
            "Epoch 270/300\n",
            "15/15 [==============================] - 1s 35ms/step - loss: 0.0083 - accuracy: 1.0000 - val_loss: 2.4321 - val_accuracy: 0.7333\n",
            "Epoch 271/300\n",
            "15/15 [==============================] - 0s 32ms/step - loss: 0.0151 - accuracy: 1.0000 - val_loss: 2.6144 - val_accuracy: 0.6667\n",
            "Epoch 272/300\n",
            "15/15 [==============================] - 1s 33ms/step - loss: 2.1922e-04 - accuracy: 1.0000 - val_loss: 3.0224 - val_accuracy: 0.6667\n",
            "Epoch 273/300\n",
            "15/15 [==============================] - 1s 35ms/step - loss: 2.3720e-04 - accuracy: 1.0000 - val_loss: 3.1346 - val_accuracy: 0.6667\n",
            "Epoch 274/300\n",
            "15/15 [==============================] - 0s 28ms/step - loss: 5.1245e-04 - accuracy: 1.0000 - val_loss: 3.1485 - val_accuracy: 0.6667\n",
            "Epoch 275/300\n",
            "15/15 [==============================] - 0s 27ms/step - loss: 0.0010 - accuracy: 1.0000 - val_loss: 3.0788 - val_accuracy: 0.6667\n",
            "Epoch 276/300\n",
            "15/15 [==============================] - 0s 27ms/step - loss: 1.3339e-04 - accuracy: 1.0000 - val_loss: 3.0239 - val_accuracy: 0.6667\n",
            "Epoch 277/300\n",
            "15/15 [==============================] - 0s 25ms/step - loss: 0.0027 - accuracy: 1.0000 - val_loss: 3.0296 - val_accuracy: 0.6667\n",
            "Epoch 278/300\n",
            "15/15 [==============================] - 0s 32ms/step - loss: 1.0506e-04 - accuracy: 1.0000 - val_loss: 3.1283 - val_accuracy: 0.6667\n",
            "Epoch 279/300\n",
            "15/15 [==============================] - 1s 36ms/step - loss: 3.2153e-05 - accuracy: 1.0000 - val_loss: 3.1420 - val_accuracy: 0.6667\n",
            "Epoch 280/300\n",
            "15/15 [==============================] - 0s 31ms/step - loss: 0.0020 - accuracy: 1.0000 - val_loss: 3.1253 - val_accuracy: 0.6667\n",
            "Epoch 281/300\n",
            "15/15 [==============================] - 1s 33ms/step - loss: 0.0739 - accuracy: 0.9778 - val_loss: 2.7836 - val_accuracy: 0.6667\n",
            "Epoch 282/300\n",
            "15/15 [==============================] - 0s 33ms/step - loss: 0.0030 - accuracy: 1.0000 - val_loss: 2.8855 - val_accuracy: 0.6000\n",
            "Epoch 283/300\n",
            "15/15 [==============================] - 0s 32ms/step - loss: 0.0012 - accuracy: 1.0000 - val_loss: 2.8268 - val_accuracy: 0.6000\n",
            "Epoch 284/300\n",
            "15/15 [==============================] - 1s 34ms/step - loss: 0.0054 - accuracy: 1.0000 - val_loss: 2.7025 - val_accuracy: 0.6667\n",
            "Epoch 285/300\n",
            "15/15 [==============================] - 1s 32ms/step - loss: 6.6195e-04 - accuracy: 1.0000 - val_loss: 2.8220 - val_accuracy: 0.6667\n",
            "Epoch 286/300\n",
            "15/15 [==============================] - 0s 30ms/step - loss: 0.0223 - accuracy: 0.9778 - val_loss: 2.9097 - val_accuracy: 0.6667\n",
            "Epoch 287/300\n",
            "15/15 [==============================] - 0s 33ms/step - loss: 0.1555 - accuracy: 0.9778 - val_loss: 3.2953 - val_accuracy: 0.6667\n",
            "Epoch 288/300\n",
            "15/15 [==============================] - 0s 27ms/step - loss: 0.0045 - accuracy: 1.0000 - val_loss: 3.9856 - val_accuracy: 0.6000\n",
            "Epoch 289/300\n",
            "15/15 [==============================] - 0s 25ms/step - loss: 0.0829 - accuracy: 0.9778 - val_loss: 3.7799 - val_accuracy: 0.6667\n",
            "Epoch 290/300\n",
            "15/15 [==============================] - 0s 30ms/step - loss: 5.2420e-04 - accuracy: 1.0000 - val_loss: 4.7347 - val_accuracy: 0.6000\n",
            "Epoch 291/300\n",
            "15/15 [==============================] - 1s 35ms/step - loss: 0.1176 - accuracy: 0.9778 - val_loss: 3.6651 - val_accuracy: 0.6667\n",
            "Epoch 292/300\n",
            "15/15 [==============================] - 1s 33ms/step - loss: 0.0042 - accuracy: 1.0000 - val_loss: 3.4096 - val_accuracy: 0.6667\n",
            "Epoch 293/300\n",
            "15/15 [==============================] - 0s 32ms/step - loss: 7.7748e-04 - accuracy: 1.0000 - val_loss: 3.0830 - val_accuracy: 0.6667\n",
            "Epoch 294/300\n",
            "15/15 [==============================] - 0s 31ms/step - loss: 0.0060 - accuracy: 1.0000 - val_loss: 3.4957 - val_accuracy: 0.6667\n",
            "Epoch 295/300\n",
            "15/15 [==============================] - 0s 30ms/step - loss: 0.0056 - accuracy: 1.0000 - val_loss: 3.3523 - val_accuracy: 0.7333\n",
            "Epoch 296/300\n",
            "15/15 [==============================] - 0s 28ms/step - loss: 0.1778 - accuracy: 0.9556 - val_loss: 3.0587 - val_accuracy: 0.8000\n",
            "Epoch 297/300\n",
            "15/15 [==============================] - 0s 26ms/step - loss: 0.0489 - accuracy: 0.9778 - val_loss: 2.1739 - val_accuracy: 0.6667\n",
            "Epoch 298/300\n",
            "15/15 [==============================] - 0s 27ms/step - loss: 1.6753e-04 - accuracy: 1.0000 - val_loss: 2.4942 - val_accuracy: 0.5333\n",
            "Epoch 299/300\n",
            "15/15 [==============================] - 0s 29ms/step - loss: 0.0106 - accuracy: 1.0000 - val_loss: 2.3441 - val_accuracy: 0.6000\n",
            "Epoch 300/300\n",
            "15/15 [==============================] - 0s 32ms/step - loss: 0.0041 - accuracy: 1.0000 - val_loss: 2.2406 - val_accuracy: 0.6000\n"
          ]
        },
        {
          "output_type": "execute_result",
          "data": {
            "text/plain": [
              "<keras.callbacks.History at 0x7f5cf94e9e90>"
            ]
          },
          "metadata": {},
          "execution_count": 16
        }
      ]
    },
    {
      "cell_type": "code",
      "source": [
        "model.evaluate(test_data_generator)"
      ],
      "metadata": {
        "colab": {
          "base_uri": "https://localhost:8080/"
        },
        "id": "bwiz1zzF2Oj1",
        "outputId": "5e48adcb-59e4-4921-f838-97411004c42d"
      },
      "execution_count": 17,
      "outputs": [
        {
          "output_type": "stream",
          "name": "stdout",
          "text": [
            "5/5 [==============================] - 0s 7ms/step - loss: 2.2406 - accuracy: 0.6000\n"
          ]
        },
        {
          "output_type": "execute_result",
          "data": {
            "text/plain": [
              "[2.240583896636963, 0.6000000238418579]"
            ]
          },
          "metadata": {},
          "execution_count": 17
        }
      ]
    },
    {
      "cell_type": "code",
      "source": [
        ""
      ],
      "metadata": {
        "id": "9q3NHT092U60"
      },
      "execution_count": null,
      "outputs": []
    }
  ]
}