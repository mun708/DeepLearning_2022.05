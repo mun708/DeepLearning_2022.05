{
  "nbformat": 4,
  "nbformat_minor": 0,
  "metadata": {
    "colab": {
      "name": "43_Cifar10_데이터부풀리기_v3.ipynb",
      "provenance": [],
      "collapsed_sections": []
    },
    "kernelspec": {
      "name": "python3",
      "display_name": "Python 3"
    },
    "language_info": {
      "name": "python"
    },
    "accelerator": "GPU"
  },
  "cells": [
    {
      "cell_type": "markdown",
      "source": [
        "# Cifar-10 이미지 분류 - v3\n",
        "- 데이터 부풀리기 적용\n",
        "- 파라메터 변경"
      ],
      "metadata": {
        "id": "V5Ga6Wy6s-pG"
      }
    },
    {
      "cell_type": "code",
      "source": [
        "import numpy as np\n",
        "import matplotlib.pyplot as plt\n",
        "import tensorflow as tf\n",
        "seed = 2022\n",
        "np.random.seed(seed)\n",
        "tf.random.set_seed(seed)"
      ],
      "metadata": {
        "id": "-93IAM7JtETr"
      },
      "execution_count": 1,
      "outputs": []
    },
    {
      "cell_type": "markdown",
      "source": [
        "- 데이터 전처리"
      ],
      "metadata": {
        "id": "U305-ZLmtFbk"
      }
    },
    {
      "cell_type": "code",
      "source": [
        "from tensorflow.keras.datasets import cifar10\n",
        "(X_train, y_train), (X_test, y_test) = cifar10.load_data()"
      ],
      "metadata": {
        "colab": {
          "base_uri": "https://localhost:8080/"
        },
        "id": "PyefHfdRtHGY",
        "outputId": "a9ea204b-7956-4100-d337-f875e84e6793"
      },
      "execution_count": 2,
      "outputs": [
        {
          "output_type": "stream",
          "name": "stdout",
          "text": [
            "Downloading data from https://www.cs.toronto.edu/~kriz/cifar-10-python.tar.gz\n",
            "170500096/170498071 [==============================] - 2s 0us/step\n",
            "170508288/170498071 [==============================] - 2s 0us/step\n"
          ]
        }
      ]
    },
    {
      "cell_type": "code",
      "source": [
        "# X_data: scaling\n",
        "X_train = X_train/255.\n",
        "X_test = X_test/255."
      ],
      "metadata": {
        "id": "39GeD8qntI_C"
      },
      "execution_count": 3,
      "outputs": []
    },
    {
      "cell_type": "code",
      "source": [
        "# y_data: one hot encoding\n",
        "from tensorflow.keras.utils import to_categorical\n",
        "Y_train = to_categorical(y_train)\n",
        "Y_test = to_categorical(y_test)"
      ],
      "metadata": {
        "id": "Wah9E2JEtKQD"
      },
      "execution_count": 4,
      "outputs": []
    },
    {
      "cell_type": "markdown",
      "source": [
        "- 모델 정의/설정"
      ],
      "metadata": {
        "id": "Dmcz4x_9tKTx"
      }
    },
    {
      "cell_type": "code",
      "source": [
        "from tensorflow.keras.models import Sequential, load_model\n",
        "from tensorflow.keras.layers import Dense, Conv2D, Flatten, MaxPooling2D, Dropout\n",
        "from tensorflow.keras.callbacks import ModelCheckpoint, EarlyStopping\n",
        "from tensorflow.keras.optimizers import RMSprop"
      ],
      "metadata": {
        "id": "9V2nQSsztKXb"
      },
      "execution_count": 5,
      "outputs": []
    },
    {
      "cell_type": "code",
      "source": [
        "model = Sequential([ \n",
        "    Conv2D(32, (3,3), input_shape=X_train.shape[1:], padding='same', activation='relu'),\n",
        "    Conv2D(32, (3,3), activation='relu'),\n",
        "    MaxPooling2D(),\n",
        "    Dropout(0.25),\n",
        "    Conv2D(64, (3,3), padding='same', activation='relu'),\n",
        "    Conv2D(64, (3,3), activation='relu'),\n",
        "    MaxPooling2D(),\n",
        "    Dropout(0.25),\n",
        "    Flatten(),\n",
        "    Dense(512, activation='relu'),\n",
        "    Dropout(0.5),\n",
        "    Dense(10, activation='softmax')\n",
        "])\n",
        "model.summary()"
      ],
      "metadata": {
        "colab": {
          "base_uri": "https://localhost:8080/"
        },
        "id": "KoCyO_0mtKbs",
        "outputId": "ccf231d3-8068-4167-e992-01d5c2c9bfa9"
      },
      "execution_count": 6,
      "outputs": [
        {
          "output_type": "stream",
          "name": "stdout",
          "text": [
            "Model: \"sequential\"\n",
            "_________________________________________________________________\n",
            " Layer (type)                Output Shape              Param #   \n",
            "=================================================================\n",
            " conv2d (Conv2D)             (None, 32, 32, 32)        896       \n",
            "                                                                 \n",
            " conv2d_1 (Conv2D)           (None, 30, 30, 32)        9248      \n",
            "                                                                 \n",
            " max_pooling2d (MaxPooling2D  (None, 15, 15, 32)       0         \n",
            " )                                                               \n",
            "                                                                 \n",
            " dropout (Dropout)           (None, 15, 15, 32)        0         \n",
            "                                                                 \n",
            " conv2d_2 (Conv2D)           (None, 15, 15, 64)        18496     \n",
            "                                                                 \n",
            " conv2d_3 (Conv2D)           (None, 13, 13, 64)        36928     \n",
            "                                                                 \n",
            " max_pooling2d_1 (MaxPooling  (None, 6, 6, 64)         0         \n",
            " 2D)                                                             \n",
            "                                                                 \n",
            " dropout_1 (Dropout)         (None, 6, 6, 64)          0         \n",
            "                                                                 \n",
            " flatten (Flatten)           (None, 2304)              0         \n",
            "                                                                 \n",
            " dense (Dense)               (None, 512)               1180160   \n",
            "                                                                 \n",
            " dropout_2 (Dropout)         (None, 512)               0         \n",
            "                                                                 \n",
            " dense_1 (Dense)             (None, 10)                5130      \n",
            "                                                                 \n",
            "=================================================================\n",
            "Total params: 1,250,858\n",
            "Trainable params: 1,250,858\n",
            "Non-trainable params: 0\n",
            "_________________________________________________________________\n"
          ]
        }
      ]
    },
    {
      "cell_type": "code",
      "source": [
        "model.compile(\n",
        "    optimizer=RMSprop(learning_rate=0.0001, decay=1e-6),\n",
        "    loss='categorical_crossentropy', metrics=['accuracy']\n",
        ")"
      ],
      "metadata": {
        "id": "-LRQj-ultKgj"
      },
      "execution_count": 7,
      "outputs": []
    },
    {
      "cell_type": "code",
      "source": [
        "model_path = 'best-cifar10-v2.h5'\n",
        "mc = ModelCheckpoint(model_path, save_best_only=True, verbose=1)\n",
        "es = EarlyStopping(patience=10)"
      ],
      "metadata": {
        "id": "elHiPPr7tKkL"
      },
      "execution_count": 8,
      "outputs": []
    },
    {
      "cell_type": "markdown",
      "source": [
        "- 데이터 부풀리기"
      ],
      "metadata": {
        "id": "P-vzg6IFtKn1"
      }
    },
    {
      "cell_type": "code",
      "source": [
        "from sklearn.model_selection import train_test_split\n",
        "X_train, X_valid, Y_train, Y_valid = train_test_split(\n",
        "    X_train, Y_train, stratify=Y_train, test_size=0.2, random_state=seed\n",
        ")"
      ],
      "metadata": {
        "id": "uYAhuNELtKrL"
      },
      "execution_count": 9,
      "outputs": []
    },
    {
      "cell_type": "code",
      "source": [
        "from tensorflow.keras.preprocessing.image import ImageDataGenerator\n",
        "\n",
        "datagen = ImageDataGenerator(\n",
        "    featurewise_center=False,   # set input mean to 0 over the dataset\n",
        "    samplewise_center=False,    # set each sample mean to 0\n",
        "    featurewise_std_normalization=False,    # divide inputs by std of dataset\n",
        "    samplewise_std_normalization=False,     # divide each input by its std\n",
        "    zca_whitening=False,    # apply ZCA whitening\n",
        "    zca_epsilon=1e-06,      # epsilon for ZCA whitening\n",
        "    rotation_range=0,       # randomly rotate images in the range (deg 0 to 180)\n",
        "    width_shift_range=0.1,  # randomly shift images horizontally\n",
        "    height_shift_range=0.1, # randomly shift images vertically\n",
        "    shear_range=0.,         # set range for random shear\n",
        "    zoom_range=0.1,         # set range for random zoom\n",
        "    channel_shift_range=0., # set range for random channel shifts\n",
        "    fill_mode='nearest',    # set mode for filling points outside the input boundaries\n",
        "    cval=0.,                # value used for fill_mode = \"constant\"\n",
        "    horizontal_flip=True,   # randomly flip images\n",
        "    vertical_flip=False,    # randomly flip images\n",
        "    rescale=None,           # set rescaling factor (applied before any other transformation)\n",
        "    preprocessing_function=None,    # set function that will be applied on each input\n",
        "    data_format=None,       # image data format, either \"channels_first\" or \"channels_last\"\n",
        "    validation_split=0.0    # fraction of images reserved for validation\n",
        ")"
      ],
      "metadata": {
        "id": "TKToqrvrtKuz"
      },
      "execution_count": 10,
      "outputs": []
    },
    {
      "cell_type": "code",
      "source": [
        "datagen.fit(X_train)"
      ],
      "metadata": {
        "id": "d92Gn8WgtKyM"
      },
      "execution_count": 11,
      "outputs": []
    },
    {
      "cell_type": "markdown",
      "source": [
        "- 데이터 부풀리기 한 결과로 학습"
      ],
      "metadata": {
        "id": "6NeEICOMtK11"
      }
    },
    {
      "cell_type": "code",
      "source": [
        "hist = model.fit(\n",
        "    datagen.flow(X_train, Y_train, batch_size=32),\n",
        "    validation_data=(X_valid, Y_valid),\n",
        "    epochs=100, callbacks=[mc, es]\n",
        ")"
      ],
      "metadata": {
        "colab": {
          "base_uri": "https://localhost:8080/"
        },
        "id": "vOyC5i27tK51",
        "outputId": "7ee0f573-874d-4834-8bde-48f91da71c91"
      },
      "execution_count": 12,
      "outputs": [
        {
          "output_type": "stream",
          "name": "stdout",
          "text": [
            "Epoch 1/100\n",
            "1249/1250 [============================>.] - ETA: 0s - loss: 1.8797 - accuracy: 0.3031\n",
            "Epoch 1: val_loss improved from inf to 1.64828, saving model to best-cifar10-v2.h5\n",
            "1250/1250 [==============================] - 34s 18ms/step - loss: 1.8793 - accuracy: 0.3033 - val_loss: 1.6483 - val_accuracy: 0.4051\n",
            "Epoch 2/100\n",
            "1247/1250 [============================>.] - ETA: 0s - loss: 1.6066 - accuracy: 0.4080\n",
            "Epoch 2: val_loss improved from 1.64828 to 1.47079, saving model to best-cifar10-v2.h5\n",
            "1250/1250 [==============================] - 22s 18ms/step - loss: 1.6064 - accuracy: 0.4081 - val_loss: 1.4708 - val_accuracy: 0.4739\n",
            "Epoch 3/100\n",
            "1249/1250 [============================>.] - ETA: 0s - loss: 1.5015 - accuracy: 0.4561\n",
            "Epoch 3: val_loss improved from 1.47079 to 1.35545, saving model to best-cifar10-v2.h5\n",
            "1250/1250 [==============================] - 26s 21ms/step - loss: 1.5015 - accuracy: 0.4561 - val_loss: 1.3555 - val_accuracy: 0.5166\n",
            "Epoch 4/100\n",
            "1250/1250 [==============================] - ETA: 0s - loss: 1.4175 - accuracy: 0.4897\n",
            "Epoch 4: val_loss did not improve from 1.35545\n",
            "1250/1250 [==============================] - 22s 18ms/step - loss: 1.4175 - accuracy: 0.4897 - val_loss: 1.3555 - val_accuracy: 0.5207\n",
            "Epoch 5/100\n",
            "1248/1250 [============================>.] - ETA: 0s - loss: 1.3599 - accuracy: 0.5115\n",
            "Epoch 5: val_loss improved from 1.35545 to 1.20304, saving model to best-cifar10-v2.h5\n",
            "1250/1250 [==============================] - 23s 18ms/step - loss: 1.3599 - accuracy: 0.5114 - val_loss: 1.2030 - val_accuracy: 0.5679\n",
            "Epoch 6/100\n",
            "1249/1250 [============================>.] - ETA: 0s - loss: 1.3049 - accuracy: 0.5344\n",
            "Epoch 6: val_loss improved from 1.20304 to 1.16625, saving model to best-cifar10-v2.h5\n",
            "1250/1250 [==============================] - 22s 18ms/step - loss: 1.3050 - accuracy: 0.5343 - val_loss: 1.1662 - val_accuracy: 0.5861\n",
            "Epoch 7/100\n",
            "1250/1250 [==============================] - ETA: 0s - loss: 1.2588 - accuracy: 0.5524\n",
            "Epoch 7: val_loss improved from 1.16625 to 1.14250, saving model to best-cifar10-v2.h5\n",
            "1250/1250 [==============================] - 22s 18ms/step - loss: 1.2588 - accuracy: 0.5524 - val_loss: 1.1425 - val_accuracy: 0.5980\n",
            "Epoch 8/100\n",
            "1250/1250 [==============================] - ETA: 0s - loss: 1.2172 - accuracy: 0.5671\n",
            "Epoch 8: val_loss improved from 1.14250 to 1.06136, saving model to best-cifar10-v2.h5\n",
            "1250/1250 [==============================] - 23s 18ms/step - loss: 1.2172 - accuracy: 0.5671 - val_loss: 1.0614 - val_accuracy: 0.6226\n",
            "Epoch 9/100\n",
            "1248/1250 [============================>.] - ETA: 0s - loss: 1.1809 - accuracy: 0.5841\n",
            "Epoch 9: val_loss improved from 1.06136 to 1.03865, saving model to best-cifar10-v2.h5\n",
            "1250/1250 [==============================] - 23s 18ms/step - loss: 1.1808 - accuracy: 0.5842 - val_loss: 1.0386 - val_accuracy: 0.6336\n",
            "Epoch 10/100\n",
            "1250/1250 [==============================] - ETA: 0s - loss: 1.1474 - accuracy: 0.5940\n",
            "Epoch 10: val_loss improved from 1.03865 to 1.03470, saving model to best-cifar10-v2.h5\n",
            "1250/1250 [==============================] - 22s 18ms/step - loss: 1.1474 - accuracy: 0.5940 - val_loss: 1.0347 - val_accuracy: 0.6342\n",
            "Epoch 11/100\n",
            "1249/1250 [============================>.] - ETA: 0s - loss: 1.1276 - accuracy: 0.6016\n",
            "Epoch 11: val_loss did not improve from 1.03470\n",
            "1250/1250 [==============================] - 23s 18ms/step - loss: 1.1274 - accuracy: 0.6016 - val_loss: 1.0872 - val_accuracy: 0.6284\n",
            "Epoch 12/100\n",
            "1248/1250 [============================>.] - ETA: 0s - loss: 1.1007 - accuracy: 0.6100\n",
            "Epoch 12: val_loss improved from 1.03470 to 0.99401, saving model to best-cifar10-v2.h5\n",
            "1250/1250 [==============================] - 22s 18ms/step - loss: 1.1007 - accuracy: 0.6100 - val_loss: 0.9940 - val_accuracy: 0.6566\n",
            "Epoch 13/100\n",
            "1248/1250 [============================>.] - ETA: 0s - loss: 1.0730 - accuracy: 0.6210\n",
            "Epoch 13: val_loss improved from 0.99401 to 0.96027, saving model to best-cifar10-v2.h5\n",
            "1250/1250 [==============================] - 23s 18ms/step - loss: 1.0731 - accuracy: 0.6209 - val_loss: 0.9603 - val_accuracy: 0.6629\n",
            "Epoch 14/100\n",
            "1250/1250 [==============================] - ETA: 0s - loss: 1.0578 - accuracy: 0.6261\n",
            "Epoch 14: val_loss did not improve from 0.96027\n",
            "1250/1250 [==============================] - 23s 18ms/step - loss: 1.0578 - accuracy: 0.6261 - val_loss: 0.9845 - val_accuracy: 0.6630\n",
            "Epoch 15/100\n",
            "1249/1250 [============================>.] - ETA: 0s - loss: 1.0381 - accuracy: 0.6339\n",
            "Epoch 15: val_loss improved from 0.96027 to 0.93577, saving model to best-cifar10-v2.h5\n",
            "1250/1250 [==============================] - 22s 18ms/step - loss: 1.0379 - accuracy: 0.6338 - val_loss: 0.9358 - val_accuracy: 0.6764\n",
            "Epoch 16/100\n",
            "1247/1250 [============================>.] - ETA: 0s - loss: 1.0228 - accuracy: 0.6417\n",
            "Epoch 16: val_loss did not improve from 0.93577\n",
            "1250/1250 [==============================] - 22s 18ms/step - loss: 1.0223 - accuracy: 0.6419 - val_loss: 0.9569 - val_accuracy: 0.6628\n",
            "Epoch 17/100\n",
            "1248/1250 [============================>.] - ETA: 0s - loss: 1.0039 - accuracy: 0.6466\n",
            "Epoch 17: val_loss did not improve from 0.93577\n",
            "1250/1250 [==============================] - 22s 18ms/step - loss: 1.0039 - accuracy: 0.6467 - val_loss: 0.9468 - val_accuracy: 0.6723\n",
            "Epoch 18/100\n",
            "1247/1250 [============================>.] - ETA: 0s - loss: 0.9925 - accuracy: 0.6514\n",
            "Epoch 18: val_loss improved from 0.93577 to 0.88097, saving model to best-cifar10-v2.h5\n",
            "1250/1250 [==============================] - 22s 18ms/step - loss: 0.9931 - accuracy: 0.6512 - val_loss: 0.8810 - val_accuracy: 0.6916\n",
            "Epoch 19/100\n",
            "1247/1250 [============================>.] - ETA: 0s - loss: 0.9738 - accuracy: 0.6589\n",
            "Epoch 19: val_loss did not improve from 0.88097\n",
            "1250/1250 [==============================] - 22s 18ms/step - loss: 0.9735 - accuracy: 0.6589 - val_loss: 0.9044 - val_accuracy: 0.6872\n",
            "Epoch 20/100\n",
            "1248/1250 [============================>.] - ETA: 0s - loss: 0.9668 - accuracy: 0.6620\n",
            "Epoch 20: val_loss improved from 0.88097 to 0.87799, saving model to best-cifar10-v2.h5\n",
            "1250/1250 [==============================] - 22s 18ms/step - loss: 0.9669 - accuracy: 0.6619 - val_loss: 0.8780 - val_accuracy: 0.7001\n",
            "Epoch 21/100\n",
            "1250/1250 [==============================] - ETA: 0s - loss: 0.9456 - accuracy: 0.6687\n",
            "Epoch 21: val_loss did not improve from 0.87799\n",
            "1250/1250 [==============================] - 22s 18ms/step - loss: 0.9456 - accuracy: 0.6687 - val_loss: 0.8902 - val_accuracy: 0.6930\n",
            "Epoch 22/100\n",
            "1247/1250 [============================>.] - ETA: 0s - loss: 0.9399 - accuracy: 0.6706\n",
            "Epoch 22: val_loss improved from 0.87799 to 0.87633, saving model to best-cifar10-v2.h5\n",
            "1250/1250 [==============================] - 22s 18ms/step - loss: 0.9402 - accuracy: 0.6705 - val_loss: 0.8763 - val_accuracy: 0.7019\n",
            "Epoch 23/100\n",
            "1248/1250 [============================>.] - ETA: 0s - loss: 0.9343 - accuracy: 0.6742\n",
            "Epoch 23: val_loss improved from 0.87633 to 0.83860, saving model to best-cifar10-v2.h5\n",
            "1250/1250 [==============================] - 22s 18ms/step - loss: 0.9343 - accuracy: 0.6742 - val_loss: 0.8386 - val_accuracy: 0.7107\n",
            "Epoch 24/100\n",
            "1248/1250 [============================>.] - ETA: 0s - loss: 0.9205 - accuracy: 0.6775\n",
            "Epoch 24: val_loss improved from 0.83860 to 0.79306, saving model to best-cifar10-v2.h5\n",
            "1250/1250 [==============================] - 22s 18ms/step - loss: 0.9203 - accuracy: 0.6776 - val_loss: 0.7931 - val_accuracy: 0.7285\n",
            "Epoch 25/100\n",
            "1250/1250 [==============================] - ETA: 0s - loss: 0.9072 - accuracy: 0.6850\n",
            "Epoch 25: val_loss did not improve from 0.79306\n",
            "1250/1250 [==============================] - 22s 18ms/step - loss: 0.9072 - accuracy: 0.6850 - val_loss: 0.8170 - val_accuracy: 0.7206\n",
            "Epoch 26/100\n",
            "1248/1250 [============================>.] - ETA: 0s - loss: 0.9026 - accuracy: 0.6870\n",
            "Epoch 26: val_loss did not improve from 0.79306\n",
            "1250/1250 [==============================] - 22s 18ms/step - loss: 0.9024 - accuracy: 0.6870 - val_loss: 0.8181 - val_accuracy: 0.7236\n",
            "Epoch 27/100\n",
            "1249/1250 [============================>.] - ETA: 0s - loss: 0.8966 - accuracy: 0.6912\n",
            "Epoch 27: val_loss did not improve from 0.79306\n",
            "1250/1250 [==============================] - 22s 18ms/step - loss: 0.8966 - accuracy: 0.6913 - val_loss: 0.8194 - val_accuracy: 0.7210\n",
            "Epoch 28/100\n",
            "1248/1250 [============================>.] - ETA: 0s - loss: 0.8906 - accuracy: 0.6926\n",
            "Epoch 28: val_loss improved from 0.79306 to 0.78335, saving model to best-cifar10-v2.h5\n",
            "1250/1250 [==============================] - 22s 18ms/step - loss: 0.8909 - accuracy: 0.6926 - val_loss: 0.7834 - val_accuracy: 0.7357\n",
            "Epoch 29/100\n",
            "1248/1250 [============================>.] - ETA: 0s - loss: 0.8850 - accuracy: 0.6938\n",
            "Epoch 29: val_loss did not improve from 0.78335\n",
            "1250/1250 [==============================] - 22s 18ms/step - loss: 0.8853 - accuracy: 0.6938 - val_loss: 0.7989 - val_accuracy: 0.7229\n",
            "Epoch 30/100\n",
            "1250/1250 [==============================] - ETA: 0s - loss: 0.8805 - accuracy: 0.6952\n",
            "Epoch 30: val_loss improved from 0.78335 to 0.76522, saving model to best-cifar10-v2.h5\n",
            "1250/1250 [==============================] - 23s 18ms/step - loss: 0.8805 - accuracy: 0.6952 - val_loss: 0.7652 - val_accuracy: 0.7384\n",
            "Epoch 31/100\n",
            "1248/1250 [============================>.] - ETA: 0s - loss: 0.8758 - accuracy: 0.6988\n",
            "Epoch 31: val_loss did not improve from 0.76522\n",
            "1250/1250 [==============================] - 23s 18ms/step - loss: 0.8756 - accuracy: 0.6989 - val_loss: 0.8613 - val_accuracy: 0.7075\n",
            "Epoch 32/100\n",
            "1247/1250 [============================>.] - ETA: 0s - loss: 0.8723 - accuracy: 0.6994\n",
            "Epoch 32: val_loss did not improve from 0.76522\n",
            "1250/1250 [==============================] - 22s 18ms/step - loss: 0.8724 - accuracy: 0.6993 - val_loss: 0.7857 - val_accuracy: 0.7326\n",
            "Epoch 33/100\n",
            "1250/1250 [==============================] - ETA: 0s - loss: 0.8573 - accuracy: 0.7056\n",
            "Epoch 33: val_loss did not improve from 0.76522\n",
            "1250/1250 [==============================] - 22s 18ms/step - loss: 0.8573 - accuracy: 0.7056 - val_loss: 0.7770 - val_accuracy: 0.7425\n",
            "Epoch 34/100\n",
            "1248/1250 [============================>.] - ETA: 0s - loss: 0.8599 - accuracy: 0.7052\n",
            "Epoch 34: val_loss did not improve from 0.76522\n",
            "1250/1250 [==============================] - 23s 18ms/step - loss: 0.8599 - accuracy: 0.7052 - val_loss: 0.7943 - val_accuracy: 0.7282\n",
            "Epoch 35/100\n",
            "1249/1250 [============================>.] - ETA: 0s - loss: 0.8529 - accuracy: 0.7056\n",
            "Epoch 35: val_loss improved from 0.76522 to 0.74793, saving model to best-cifar10-v2.h5\n",
            "1250/1250 [==============================] - 22s 18ms/step - loss: 0.8530 - accuracy: 0.7056 - val_loss: 0.7479 - val_accuracy: 0.7471\n",
            "Epoch 36/100\n",
            "1248/1250 [============================>.] - ETA: 0s - loss: 0.8477 - accuracy: 0.7082\n",
            "Epoch 36: val_loss did not improve from 0.74793\n",
            "1250/1250 [==============================] - 22s 18ms/step - loss: 0.8478 - accuracy: 0.7082 - val_loss: 0.7637 - val_accuracy: 0.7459\n",
            "Epoch 37/100\n",
            "1250/1250 [==============================] - ETA: 0s - loss: 0.8515 - accuracy: 0.7100\n",
            "Epoch 37: val_loss improved from 0.74793 to 0.74509, saving model to best-cifar10-v2.h5\n",
            "1250/1250 [==============================] - 22s 18ms/step - loss: 0.8515 - accuracy: 0.7100 - val_loss: 0.7451 - val_accuracy: 0.7449\n",
            "Epoch 38/100\n",
            "1248/1250 [============================>.] - ETA: 0s - loss: 0.8487 - accuracy: 0.7079\n",
            "Epoch 38: val_loss did not improve from 0.74509\n",
            "1250/1250 [==============================] - 22s 18ms/step - loss: 0.8488 - accuracy: 0.7078 - val_loss: 0.7815 - val_accuracy: 0.7418\n",
            "Epoch 39/100\n",
            "1249/1250 [============================>.] - ETA: 0s - loss: 0.8417 - accuracy: 0.7134\n",
            "Epoch 39: val_loss did not improve from 0.74509\n",
            "1250/1250 [==============================] - 23s 18ms/step - loss: 0.8419 - accuracy: 0.7133 - val_loss: 0.7701 - val_accuracy: 0.7380\n",
            "Epoch 40/100\n",
            "1249/1250 [============================>.] - ETA: 0s - loss: 0.8354 - accuracy: 0.7153\n",
            "Epoch 40: val_loss improved from 0.74509 to 0.70887, saving model to best-cifar10-v2.h5\n",
            "1250/1250 [==============================] - 22s 18ms/step - loss: 0.8351 - accuracy: 0.7154 - val_loss: 0.7089 - val_accuracy: 0.7556\n",
            "Epoch 41/100\n",
            "1249/1250 [============================>.] - ETA: 0s - loss: 0.8364 - accuracy: 0.7113\n",
            "Epoch 41: val_loss did not improve from 0.70887\n",
            "1250/1250 [==============================] - 22s 18ms/step - loss: 0.8363 - accuracy: 0.7114 - val_loss: 0.7423 - val_accuracy: 0.7498\n",
            "Epoch 42/100\n",
            "1248/1250 [============================>.] - ETA: 0s - loss: 0.8329 - accuracy: 0.7134\n",
            "Epoch 42: val_loss did not improve from 0.70887\n",
            "1250/1250 [==============================] - 23s 18ms/step - loss: 0.8329 - accuracy: 0.7135 - val_loss: 0.8273 - val_accuracy: 0.7219\n",
            "Epoch 43/100\n",
            "1247/1250 [============================>.] - ETA: 0s - loss: 0.8283 - accuracy: 0.7140\n",
            "Epoch 43: val_loss did not improve from 0.70887\n",
            "1250/1250 [==============================] - 22s 18ms/step - loss: 0.8280 - accuracy: 0.7141 - val_loss: 0.8213 - val_accuracy: 0.7275\n",
            "Epoch 44/100\n",
            "1248/1250 [============================>.] - ETA: 0s - loss: 0.8238 - accuracy: 0.7166\n",
            "Epoch 44: val_loss improved from 0.70887 to 0.69690, saving model to best-cifar10-v2.h5\n",
            "1250/1250 [==============================] - 23s 18ms/step - loss: 0.8236 - accuracy: 0.7165 - val_loss: 0.6969 - val_accuracy: 0.7678\n",
            "Epoch 45/100\n",
            "1249/1250 [============================>.] - ETA: 0s - loss: 0.8271 - accuracy: 0.7177\n",
            "Epoch 45: val_loss did not improve from 0.69690\n",
            "1250/1250 [==============================] - 23s 18ms/step - loss: 0.8273 - accuracy: 0.7176 - val_loss: 0.7359 - val_accuracy: 0.7491\n",
            "Epoch 46/100\n",
            "1249/1250 [============================>.] - ETA: 0s - loss: 0.8202 - accuracy: 0.7204\n",
            "Epoch 46: val_loss did not improve from 0.69690\n",
            "1250/1250 [==============================] - 23s 18ms/step - loss: 0.8202 - accuracy: 0.7204 - val_loss: 0.7170 - val_accuracy: 0.7537\n",
            "Epoch 47/100\n",
            "1250/1250 [==============================] - ETA: 0s - loss: 0.8185 - accuracy: 0.7211\n",
            "Epoch 47: val_loss did not improve from 0.69690\n",
            "1250/1250 [==============================] - 23s 18ms/step - loss: 0.8185 - accuracy: 0.7211 - val_loss: 0.7430 - val_accuracy: 0.7542\n",
            "Epoch 48/100\n",
            "1247/1250 [============================>.] - ETA: 0s - loss: 0.8212 - accuracy: 0.7229\n",
            "Epoch 48: val_loss did not improve from 0.69690\n",
            "1250/1250 [==============================] - 22s 18ms/step - loss: 0.8215 - accuracy: 0.7228 - val_loss: 0.7223 - val_accuracy: 0.7541\n",
            "Epoch 49/100\n",
            "1248/1250 [============================>.] - ETA: 0s - loss: 0.8171 - accuracy: 0.7218\n",
            "Epoch 49: val_loss did not improve from 0.69690\n",
            "1250/1250 [==============================] - 23s 18ms/step - loss: 0.8168 - accuracy: 0.7219 - val_loss: 0.7359 - val_accuracy: 0.7569\n",
            "Epoch 50/100\n",
            "1249/1250 [============================>.] - ETA: 0s - loss: 0.8184 - accuracy: 0.7235\n",
            "Epoch 50: val_loss did not improve from 0.69690\n",
            "1250/1250 [==============================] - 23s 18ms/step - loss: 0.8185 - accuracy: 0.7235 - val_loss: 0.7483 - val_accuracy: 0.7458\n",
            "Epoch 51/100\n",
            "1250/1250 [==============================] - ETA: 0s - loss: 0.8116 - accuracy: 0.7242\n",
            "Epoch 51: val_loss did not improve from 0.69690\n",
            "1250/1250 [==============================] - 22s 18ms/step - loss: 0.8116 - accuracy: 0.7242 - val_loss: 0.7115 - val_accuracy: 0.7586\n",
            "Epoch 52/100\n",
            "1248/1250 [============================>.] - ETA: 0s - loss: 0.8113 - accuracy: 0.7219\n",
            "Epoch 52: val_loss did not improve from 0.69690\n",
            "1250/1250 [==============================] - 22s 18ms/step - loss: 0.8116 - accuracy: 0.7218 - val_loss: 0.7408 - val_accuracy: 0.7535\n",
            "Epoch 53/100\n",
            "1250/1250 [==============================] - ETA: 0s - loss: 0.8129 - accuracy: 0.7233\n",
            "Epoch 53: val_loss did not improve from 0.69690\n",
            "1250/1250 [==============================] - 22s 18ms/step - loss: 0.8129 - accuracy: 0.7233 - val_loss: 0.7214 - val_accuracy: 0.7575\n",
            "Epoch 54/100\n",
            "1247/1250 [============================>.] - ETA: 0s - loss: 0.8115 - accuracy: 0.7273\n",
            "Epoch 54: val_loss did not improve from 0.69690\n",
            "1250/1250 [==============================] - 23s 18ms/step - loss: 0.8116 - accuracy: 0.7272 - val_loss: 0.7360 - val_accuracy: 0.7579\n"
          ]
        }
      ]
    },
    {
      "cell_type": "code",
      "source": [
        "best_model = load_model(model_path)\n",
        "best_model.evaluate(X_test, Y_test)"
      ],
      "metadata": {
        "colab": {
          "base_uri": "https://localhost:8080/"
        },
        "id": "0PhtAlzCtap6",
        "outputId": "11ac41f4-81e4-4f9f-a0cb-9853f0972772"
      },
      "execution_count": 13,
      "outputs": [
        {
          "output_type": "stream",
          "name": "stdout",
          "text": [
            "313/313 [==============================] - 1s 3ms/step - loss: 0.7169 - accuracy: 0.7574\n"
          ]
        },
        {
          "output_type": "execute_result",
          "data": {
            "text/plain": [
              "[0.7168664932250977, 0.7573999762535095]"
            ]
          },
          "metadata": {},
          "execution_count": 13
        }
      ]
    },
    {
      "cell_type": "markdown",
      "source": [
        "- 학습과정 시각화"
      ],
      "metadata": {
        "id": "-FoPb6Z-tati"
      }
    },
    {
      "cell_type": "code",
      "source": [
        "y_acc = hist.history['accuracy']\n",
        "y_vloss = hist.history['val_loss']\n",
        "xs = np.arange(1, len(y_acc)+1)"
      ],
      "metadata": {
        "id": "Al9qcWdkta3H"
      },
      "execution_count": 14,
      "outputs": []
    },
    {
      "cell_type": "code",
      "source": [
        "plt.figure(figsize=(12,8))\n",
        "plt.plot(xs, y_acc, label='train accuracy')\n",
        "plt.plot(xs, y_vloss, label='validation loss')\n",
        "plt.legend(), plt.grid(), plt.ylim(0,1.2),\n",
        "plt.xlabel('Epoch')\n",
        "plt.title('Cifar-10 CNN model v3')\n",
        "plt.show()"
      ],
      "metadata": {
        "colab": {
          "base_uri": "https://localhost:8080/",
          "height": 513
        },
        "id": "BbD7WUgztfRE",
        "outputId": "14f01f55-ab30-4e60-a1df-ca107073db84"
      },
      "execution_count": 15,
      "outputs": [
        {
          "output_type": "display_data",
          "data": {
            "text/plain": [
              "<Figure size 864x576 with 1 Axes>"
            ],
            "image/png": "[encoded data removed]"
          },
          "metadata": {
            "needs_background": "light"
          }
        }
      ]
    }
  ]
}