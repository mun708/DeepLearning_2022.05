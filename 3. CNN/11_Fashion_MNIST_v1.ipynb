{
  "nbformat": 4,
  "nbformat_minor": 0,
  "metadata": {
    "colab": {
      "name": "11_Fashion_MNIST_v3.ipynb",
      "provenance": [],
      "collapsed_sections": []
    },
    "kernelspec": {
      "name": "python3",
      "display_name": "Python 3"
    },
    "language_info": {
      "name": "python"
    },
    "accelerator": "GPU"
  },
  "cells": [
    {
      "cell_type": "markdown",
      "source": [
        "# Fashion MNIST - CNN v1\n",
        "- 2 X Conv2D layers\n",
        "- 1 MaxPooling2D layer\n",
        "- 1 Dropout(0.25) layer\n",
        "- 1 FCN layer\n",
        "- 1 Dropout(0.25) layer\n",
        "- 1 Output layer"
      ],
      "metadata": {
        "id": "QDiaSA0bY8sd"
      }
    },
    {
      "cell_type": "code",
      "source": [
        "import numpy as np\n",
        "import pandas as pd\n",
        "import matplotlib.pyplot as plt\n",
        "import tensorflow as tf\n",
        "seed = 2022\n",
        "np.random.seed(seed)\n",
        "tf.random.set_seed(seed)"
      ],
      "metadata": {
        "id": "6sGuypTqd_sO"
      },
      "execution_count": 1,
      "outputs": []
    },
    {
      "cell_type": "code",
      "source": [
        "from tensorflow.keras.datasets import fashion_mnist\n",
        "(X_train,y_train),(X_test,y_test) = fashion_mnist.load_data()\n",
        "X_train.shape,y_train.shape,X_test.shape,y_test.shape"
      ],
      "metadata": {
        "colab": {
          "base_uri": "https://localhost:8080/"
        },
        "id": "E4lBZKDNeHhQ",
        "outputId": "b75de4c3-5fa6-457a-fa89-156f86f8be5c"
      },
      "execution_count": 2,
      "outputs": [
        {
          "output_type": "stream",
          "name": "stdout",
          "text": [
            "Downloading data from https://storage.googleapis.com/tensorflow/tf-keras-datasets/train-labels-idx1-ubyte.gz\n",
            "32768/29515 [=================================] - 0s 0us/step\n",
            "40960/29515 [=========================================] - 0s 0us/step\n",
            "Downloading data from https://storage.googleapis.com/tensorflow/tf-keras-datasets/train-images-idx3-ubyte.gz\n",
            "26427392/26421880 [==============================] - 0s 0us/step\n",
            "26435584/26421880 [==============================] - 0s 0us/step\n",
            "Downloading data from https://storage.googleapis.com/tensorflow/tf-keras-datasets/t10k-labels-idx1-ubyte.gz\n",
            "16384/5148 [===============================================================================================] - 0s 0us/step\n",
            "Downloading data from https://storage.googleapis.com/tensorflow/tf-keras-datasets/t10k-images-idx3-ubyte.gz\n",
            "4423680/4422102 [==============================] - 0s 0us/step\n",
            "4431872/4422102 [==============================] - 0s 0us/step\n"
          ]
        },
        {
          "output_type": "execute_result",
          "data": {
            "text/plain": [
              "((60000, 28, 28), (60000,), (10000, 28, 28), (10000,))"
            ]
          },
          "metadata": {},
          "execution_count": 2
        }
      ]
    },
    {
      "cell_type": "code",
      "source": [
        "plt.imshow(X_train[0], cmap='Greys');"
      ],
      "metadata": {
        "colab": {
          "base_uri": "https://localhost:8080/",
          "height": 265
        },
        "id": "hwTtJlnDzarO",
        "outputId": "8e39319a-6869-457b-869c-0b5cb12e0e4d"
      },
      "execution_count": 3,
      "outputs": [
        {
          "output_type": "display_data",
          "data": {
            "text/plain": [
              "<Figure size 432x288 with 1 Axes>"
            ],
            "image/png": "[encoded data removed]"
          },
          "metadata": {
            "needs_background": "light"
          }
        }
      ]
    },
    {
      "cell_type": "code",
      "source": [
        "class_names = ['T-shirt/top', 'Trouser', 'Pullover', 'Dress', 'Coat',\n",
        "               'Sandal', 'Shirt', 'Sneaker', 'Bag', 'Ankle boot']"
      ],
      "metadata": {
        "id": "RwWDV0CHzrXv"
      },
      "execution_count": 4,
      "outputs": []
    },
    {
      "cell_type": "code",
      "source": [
        "plt.figure(figsize=(13,5))\n",
        "for i in range(1,11):\n",
        "  plt.subplot(2,5,i)\n",
        "  plt.imshow(X_train[i], cmap='Greys')\n",
        "  plt.title(class_names[y_train[i]])\n",
        "  plt.xticks([]),plt.yticks([])\n",
        "plt.show()"
      ],
      "metadata": {
        "colab": {
          "base_uri": "https://localhost:8080/",
          "height": 322
        },
        "id": "7vc-BYeZzvGW",
        "outputId": "861db232-7965-4936-80f9-af7c3e1b39fc"
      },
      "execution_count": 5,
      "outputs": [
        {
          "output_type": "display_data",
          "data": {
            "text/plain": [
              "<Figure size 936x360 with 10 Axes>"
            ],
            "image/png": "[encoded data removed]"
          },
          "metadata": {}
        }
      ]
    },
    {
      "cell_type": "code",
      "source": [
        "# X_train, X_test 정규화(0~1) 및 이미지 차원 변경 : 2차원 --> 1차원\n",
        "X_train = X_train.reshape(-1, 28, 28, 1) / 255.\n",
        "X_test = X_test.reshape(-1, 28, 28, 1) / 255.\n",
        "\n",
        "X_train.shape, X_test.shape"
      ],
      "metadata": {
        "colab": {
          "base_uri": "https://localhost:8080/"
        },
        "id": "GOprtwrGePOF",
        "outputId": "01da08ce-04ae-4926-e7b5-c77fae8a6e9d"
      },
      "execution_count": 6,
      "outputs": [
        {
          "output_type": "execute_result",
          "data": {
            "text/plain": [
              "((60000, 28, 28, 1), (10000, 28, 28, 1))"
            ]
          },
          "metadata": {},
          "execution_count": 6
        }
      ]
    },
    {
      "cell_type": "code",
      "source": [
        "# One Hot encoding\n",
        "from tensorflow.keras.utils import to_categorical\n",
        "Y_train = to_categorical(y_train)\n",
        "Y_test = to_categorical(y_test)\n",
        "Y_train.shape, Y_test.shape"
      ],
      "metadata": {
        "colab": {
          "base_uri": "https://localhost:8080/"
        },
        "id": "JdfEp22Ve0WJ",
        "outputId": "208e593d-1345-4fb7-9359-f78e83e4f86f"
      },
      "execution_count": 7,
      "outputs": [
        {
          "output_type": "execute_result",
          "data": {
            "text/plain": [
              "((60000, 10), (10000, 10))"
            ]
          },
          "metadata": {},
          "execution_count": 7
        }
      ]
    },
    {
      "cell_type": "markdown",
      "source": [
        "- 모델 정의/설정/학습/평가"
      ],
      "metadata": {
        "id": "KYj2zmdDfA6s"
      }
    },
    {
      "cell_type": "code",
      "source": [
        "from tensorflow.keras.models import Sequential, load_model\n",
        "from tensorflow.keras.layers import Dense, Conv2D, Flatten, MaxPooling2D, Dropout\n",
        "from tensorflow.keras.callbacks import ModelCheckpoint, EarlyStopping"
      ],
      "metadata": {
        "id": "5azSp3QjfN7U"
      },
      "execution_count": 8,
      "outputs": []
    },
    {
      "cell_type": "code",
      "source": [
        "model = Sequential([\n",
        "        Conv2D(32, kernel_size=(3,3),input_shape=(28,28,1), activation='relu'),\n",
        "        Conv2D(64, (3,3), activation = 'relu'),\n",
        "        MaxPooling2D(),     # MaxPooling2D(pool_size=(2,2))\n",
        "        Dropout(0.25),\n",
        "        Flatten(),\n",
        "        Dense(512, activation='relu'),\n",
        "        Dropout(0.25),\n",
        "        Dense(10, activation='softmax')\n",
        "])\n",
        "model.summary()"
      ],
      "metadata": {
        "colab": {
          "base_uri": "https://localhost:8080/"
        },
        "id": "9wWQMdlhfP4_",
        "outputId": "4daa3242-bf96-41b2-b692-0fc28aa93b25"
      },
      "execution_count": 9,
      "outputs": [
        {
          "output_type": "stream",
          "name": "stdout",
          "text": [
            "Model: \"sequential\"\n",
            "_________________________________________________________________\n",
            " Layer (type)                Output Shape              Param #   \n",
            "=================================================================\n",
            " conv2d (Conv2D)             (None, 26, 26, 32)        320       \n",
            "                                                                 \n",
            " conv2d_1 (Conv2D)           (None, 24, 24, 64)        18496     \n",
            "                                                                 \n",
            " max_pooling2d (MaxPooling2D  (None, 12, 12, 64)       0         \n",
            " )                                                               \n",
            "                                                                 \n",
            " dropout (Dropout)           (None, 12, 12, 64)        0         \n",
            "                                                                 \n",
            " flatten (Flatten)           (None, 9216)              0         \n",
            "                                                                 \n",
            " dense (Dense)               (None, 512)               4719104   \n",
            "                                                                 \n",
            " dropout_1 (Dropout)         (None, 512)               0         \n",
            "                                                                 \n",
            " dense_1 (Dense)             (None, 10)                5130      \n",
            "                                                                 \n",
            "=================================================================\n",
            "Total params: 4,743,050\n",
            "Trainable params: 4,743,050\n",
            "Non-trainable params: 0\n",
            "_________________________________________________________________\n"
          ]
        }
      ]
    },
    {
      "cell_type": "code",
      "source": [
        "model.compile('adam', 'categorical_crossentropy', ['accuracy'])"
      ],
      "metadata": {
        "id": "Xp6MpK0rhoPG"
      },
      "execution_count": 10,
      "outputs": []
    },
    {
      "cell_type": "code",
      "source": [
        "model_path = 'best_fashion_mnist_cnn_v1.h5'\n",
        "mc = ModelCheckpoint(model_path, save_best_only=True, verbose = 1)\n",
        "es = EarlyStopping(patience = 10)"
      ],
      "metadata": {
        "id": "I1Z4y-Eqi6E8"
      },
      "execution_count": 11,
      "outputs": []
    },
    {
      "cell_type": "code",
      "source": [
        "hist = model.fit(\n",
        "    X_train, Y_train, validation_split=0.2, epochs=100, batch_size=200,\n",
        "    callbacks=[mc,es]\n",
        ")"
      ],
      "metadata": {
        "colab": {
          "base_uri": "https://localhost:8080/"
        },
        "id": "BhbMM4XYliQt",
        "outputId": "f0d4207b-2a70-4a75-c57d-00c599c3bad3"
      },
      "execution_count": 12,
      "outputs": [
        {
          "output_type": "stream",
          "name": "stdout",
          "text": [
            "Epoch 1/100\n",
            "239/240 [============================>.] - ETA: 0s - loss: 0.4728 - accuracy: 0.8304\n",
            "Epoch 1: val_loss improved from inf to 0.31501, saving model to best_fashion_mnist_cnn_v1.h5\n",
            "240/240 [==============================] - 14s 15ms/step - loss: 0.4726 - accuracy: 0.8304 - val_loss: 0.3150 - val_accuracy: 0.8867\n",
            "Epoch 2/100\n",
            "240/240 [==============================] - ETA: 0s - loss: 0.2927 - accuracy: 0.8936\n",
            "Epoch 2: val_loss improved from 0.31501 to 0.27540, saving model to best_fashion_mnist_cnn_v1.h5\n",
            "240/240 [==============================] - 3s 14ms/step - loss: 0.2927 - accuracy: 0.8936 - val_loss: 0.2754 - val_accuracy: 0.8971\n",
            "Epoch 3/100\n",
            "238/240 [============================>.] - ETA: 0s - loss: 0.2358 - accuracy: 0.9132\n",
            "Epoch 3: val_loss improved from 0.27540 to 0.23681, saving model to best_fashion_mnist_cnn_v1.h5\n",
            "240/240 [==============================] - 3s 14ms/step - loss: 0.2364 - accuracy: 0.9128 - val_loss: 0.2368 - val_accuracy: 0.9120\n",
            "Epoch 4/100\n",
            "239/240 [============================>.] - ETA: 0s - loss: 0.2027 - accuracy: 0.9254\n",
            "Epoch 4: val_loss improved from 0.23681 to 0.22406, saving model to best_fashion_mnist_cnn_v1.h5\n",
            "240/240 [==============================] - 3s 14ms/step - loss: 0.2025 - accuracy: 0.9255 - val_loss: 0.2241 - val_accuracy: 0.9175\n",
            "Epoch 5/100\n",
            "239/240 [============================>.] - ETA: 0s - loss: 0.1742 - accuracy: 0.9363\n",
            "Epoch 5: val_loss improved from 0.22406 to 0.22289, saving model to best_fashion_mnist_cnn_v1.h5\n",
            "240/240 [==============================] - 3s 14ms/step - loss: 0.1742 - accuracy: 0.9363 - val_loss: 0.2229 - val_accuracy: 0.9176\n",
            "Epoch 6/100\n",
            "239/240 [============================>.] - ETA: 0s - loss: 0.1510 - accuracy: 0.9431\n",
            "Epoch 6: val_loss improved from 0.22289 to 0.21394, saving model to best_fashion_mnist_cnn_v1.h5\n",
            "240/240 [==============================] - 3s 14ms/step - loss: 0.1509 - accuracy: 0.9431 - val_loss: 0.2139 - val_accuracy: 0.9240\n",
            "Epoch 7/100\n",
            "240/240 [==============================] - ETA: 0s - loss: 0.1279 - accuracy: 0.9529\n",
            "Epoch 7: val_loss improved from 0.21394 to 0.21309, saving model to best_fashion_mnist_cnn_v1.h5\n",
            "240/240 [==============================] - 3s 14ms/step - loss: 0.1279 - accuracy: 0.9529 - val_loss: 0.2131 - val_accuracy: 0.9275\n",
            "Epoch 8/100\n",
            "236/240 [============================>.] - ETA: 0s - loss: 0.1070 - accuracy: 0.9597\n",
            "Epoch 8: val_loss did not improve from 0.21309\n",
            "240/240 [==============================] - 3s 14ms/step - loss: 0.1080 - accuracy: 0.9592 - val_loss: 0.2265 - val_accuracy: 0.9245\n",
            "Epoch 9/100\n",
            "238/240 [============================>.] - ETA: 0s - loss: 0.0944 - accuracy: 0.9647\n",
            "Epoch 9: val_loss did not improve from 0.21309\n",
            "240/240 [==============================] - 3s 14ms/step - loss: 0.0944 - accuracy: 0.9647 - val_loss: 0.2176 - val_accuracy: 0.9283\n",
            "Epoch 10/100\n",
            "238/240 [============================>.] - ETA: 0s - loss: 0.0790 - accuracy: 0.9715\n",
            "Epoch 10: val_loss did not improve from 0.21309\n",
            "240/240 [==============================] - 3s 14ms/step - loss: 0.0790 - accuracy: 0.9715 - val_loss: 0.2371 - val_accuracy: 0.9259\n",
            "Epoch 11/100\n",
            "239/240 [============================>.] - ETA: 0s - loss: 0.0678 - accuracy: 0.9761\n",
            "Epoch 11: val_loss did not improve from 0.21309\n",
            "240/240 [==============================] - 3s 14ms/step - loss: 0.0678 - accuracy: 0.9761 - val_loss: 0.2352 - val_accuracy: 0.9307\n",
            "Epoch 12/100\n",
            "238/240 [============================>.] - ETA: 0s - loss: 0.0575 - accuracy: 0.9791\n",
            "Epoch 12: val_loss did not improve from 0.21309\n",
            "240/240 [==============================] - 3s 14ms/step - loss: 0.0576 - accuracy: 0.9791 - val_loss: 0.2453 - val_accuracy: 0.9287\n",
            "Epoch 13/100\n",
            "238/240 [============================>.] - ETA: 0s - loss: 0.0500 - accuracy: 0.9824\n",
            "Epoch 13: val_loss did not improve from 0.21309\n",
            "240/240 [==============================] - 3s 14ms/step - loss: 0.0501 - accuracy: 0.9824 - val_loss: 0.2621 - val_accuracy: 0.9292\n",
            "Epoch 14/100\n",
            "237/240 [============================>.] - ETA: 0s - loss: 0.0435 - accuracy: 0.9849\n",
            "Epoch 14: val_loss did not improve from 0.21309\n",
            "240/240 [==============================] - 3s 13ms/step - loss: 0.0435 - accuracy: 0.9849 - val_loss: 0.2709 - val_accuracy: 0.9310\n",
            "Epoch 15/100\n",
            "239/240 [============================>.] - ETA: 0s - loss: 0.0398 - accuracy: 0.9854\n",
            "Epoch 15: val_loss did not improve from 0.21309\n",
            "240/240 [==============================] - 3s 14ms/step - loss: 0.0398 - accuracy: 0.9854 - val_loss: 0.2655 - val_accuracy: 0.9287\n",
            "Epoch 16/100\n",
            "237/240 [============================>.] - ETA: 0s - loss: 0.0344 - accuracy: 0.9878\n",
            "Epoch 16: val_loss did not improve from 0.21309\n",
            "240/240 [==============================] - 3s 14ms/step - loss: 0.0344 - accuracy: 0.9877 - val_loss: 0.2864 - val_accuracy: 0.9289\n",
            "Epoch 17/100\n",
            "236/240 [============================>.] - ETA: 0s - loss: 0.0304 - accuracy: 0.9889\n",
            "Epoch 17: val_loss did not improve from 0.21309\n",
            "240/240 [==============================] - 3s 14ms/step - loss: 0.0304 - accuracy: 0.9889 - val_loss: 0.2990 - val_accuracy: 0.9283\n"
          ]
        }
      ]
    },
    {
      "cell_type": "code",
      "source": [
        "best_model = load_model(model_path)\n",
        "best_model.evaluate(X_test, Y_test)"
      ],
      "metadata": {
        "colab": {
          "base_uri": "https://localhost:8080/"
        },
        "id": "jxHj_TcTm-eT",
        "outputId": "77e4aec4-4175-4165-e183-e1f51e279ba7"
      },
      "execution_count": 13,
      "outputs": [
        {
          "output_type": "stream",
          "name": "stdout",
          "text": [
            "313/313 [==============================] - 1s 3ms/step - loss: 0.2258 - accuracy: 0.9217\n"
          ]
        },
        {
          "output_type": "execute_result",
          "data": {
            "text/plain": [
              "[0.22578872740268707, 0.9217000007629395]"
            ]
          },
          "metadata": {},
          "execution_count": 13
        }
      ]
    },
    {
      "cell_type": "markdown",
      "source": [
        "- 학습과정 시각화"
      ],
      "metadata": {
        "id": "5tDuOKazm-mu"
      }
    },
    {
      "cell_type": "code",
      "source": [
        "y_acc = hist.history['accuracy']\n",
        "y_vloss = hist.history['val_loss']\n",
        "xs = np.arange(1, len(y_acc)+1)"
      ],
      "metadata": {
        "id": "ckZkRdxAm-uP"
      },
      "execution_count": 14,
      "outputs": []
    },
    {
      "cell_type": "code",
      "source": [
        "plt.figure(figsize=(12,8))\n",
        "plt.plot(xs,y_acc,label='train accuracy')\n",
        "plt.plot(xs,y_vloss, label = 'validation loss')\n",
        "plt.legend(),plt.grid()\n",
        "plt.xlabel('Epoch')\n",
        "plt.title('Fashion MNIST CNN model v1')\n",
        "plt.show()"
      ],
      "metadata": {
        "colab": {
          "base_uri": "https://localhost:8080/",
          "height": 513
        },
        "id": "-keej-l8nd2m",
        "outputId": "105708f8-6392-40d4-f1a8-79401ee5d257"
      },
      "execution_count": 15,
      "outputs": [
        {
          "output_type": "display_data",
          "data": {
            "text/plain": [
              "<Figure size 864x576 with 1 Axes>"
            ],
            "image/png": "[encoded data removed]"
          },
          "metadata": {
            "needs_background": "light"
          }
        }
      ]
    },
    {
      "cell_type": "code",
      "source": [
        ""
      ],
      "metadata": {
        "id": "VWsgNtxynlDy"
      },
      "execution_count": null,
      "outputs": []
    }
  ]
}