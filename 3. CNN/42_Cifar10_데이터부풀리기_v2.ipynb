{
  "nbformat": 4,
  "nbformat_minor": 0,
  "metadata": {
    "colab": {
      "name": "42_Cifar10_데이터부풀리기_v2.ipynb",
      "provenance": [],
      "collapsed_sections": []
    },
    "kernelspec": {
      "name": "python3",
      "display_name": "Python 3"
    },
    "language_info": {
      "name": "python"
    },
    "accelerator": "GPU"
  },
  "cells": [
    {
      "cell_type": "markdown",
      "source": [
        "# Cifar-10 이미지 분류 - v2\n",
        "- 데이터 부풀리기 적용"
      ],
      "metadata": {
        "id": "aBwfRlD_Hwt8"
      }
    },
    {
      "cell_type": "code",
      "source": [
        "import numpy as np\n",
        "import matplotlib.pyplot as plt\n",
        "import tensorflow as tf\n",
        "seed = 2022\n",
        "np.random.seed(seed)\n",
        "tf.random.set_seed(seed)"
      ],
      "metadata": {
        "id": "ECcL211cH1De"
      },
      "execution_count": 6,
      "outputs": []
    },
    {
      "cell_type": "markdown",
      "source": [
        "- 데이터 전처리"
      ],
      "metadata": {
        "id": "XfRMSrlTH2K-"
      }
    },
    {
      "cell_type": "code",
      "source": [
        "from tensorflow.keras.datasets import cifar10\n",
        "(X_train, y_train), (X_test, y_test) = cifar10.load_data()"
      ],
      "metadata": {
        "id": "LsYOt8TYH4Pq"
      },
      "execution_count": 7,
      "outputs": []
    },
    {
      "cell_type": "code",
      "source": [
        "# X_data: scaling\n",
        "X_train = X_train/255.\n",
        "X_test = X_test/255."
      ],
      "metadata": {
        "id": "5kzKXBPqIBDG"
      },
      "execution_count": 8,
      "outputs": []
    },
    {
      "cell_type": "code",
      "source": [
        "# y_data: one hot encoding\n",
        "from tensorflow.keras.utils import to_categorical\n",
        "Y_train = to_categorical(y_train)\n",
        "Y_test = to_categorical(y_test)"
      ],
      "metadata": {
        "id": "zcspAhpVIDXF"
      },
      "execution_count": 9,
      "outputs": []
    },
    {
      "cell_type": "markdown",
      "source": [
        "- 모델 정의/설정"
      ],
      "metadata": {
        "id": "X7XL739UIEie"
      }
    },
    {
      "cell_type": "code",
      "source": [
        "from tensorflow.keras.models import Sequential, load_model\n",
        "from tensorflow.keras.layers import Dense, Conv2D, Flatten, MaxPooling2D, Dropout\n",
        "from tensorflow.keras.callbacks import ModelCheckpoint, EarlyStopping\n",
        "from tensorflow.keras.optimizers import RMSprop"
      ],
      "metadata": {
        "id": "iVwBOM-oIF3X"
      },
      "execution_count": 10,
      "outputs": []
    },
    {
      "cell_type": "code",
      "source": [
        "model = Sequential([ \n",
        "    Conv2D(32, (3,3), input_shape=X_train.shape[1:], padding='same', activation='relu'),\n",
        "    Conv2D(32, (3,3), activation='relu'),\n",
        "    MaxPooling2D(),\n",
        "    Dropout(0.25),\n",
        "    Conv2D(64, (3,3), padding='same', activation='relu'),\n",
        "    Conv2D(64, (3,3), activation='relu'),\n",
        "    MaxPooling2D(),\n",
        "    Dropout(0.25),\n",
        "    Flatten(),\n",
        "    Dense(512, activation='relu'),\n",
        "    Dropout(0.5),\n",
        "    Dense(10, activation='softmax')\n",
        "])\n",
        "model.summary()"
      ],
      "metadata": {
        "colab": {
          "base_uri": "https://localhost:8080/"
        },
        "id": "Ng-MRjDdIHLW",
        "outputId": "888f2b51-124d-41f6-c541-98e92387be3f"
      },
      "execution_count": 11,
      "outputs": [
        {
          "output_type": "stream",
          "name": "stdout",
          "text": [
            "Model: \"sequential\"\n",
            "_________________________________________________________________\n",
            " Layer (type)                Output Shape              Param #   \n",
            "=================================================================\n",
            " conv2d (Conv2D)             (None, 32, 32, 32)        896       \n",
            "                                                                 \n",
            " conv2d_1 (Conv2D)           (None, 30, 30, 32)        9248      \n",
            "                                                                 \n",
            " max_pooling2d (MaxPooling2D  (None, 15, 15, 32)       0         \n",
            " )                                                               \n",
            "                                                                 \n",
            " dropout (Dropout)           (None, 15, 15, 32)        0         \n",
            "                                                                 \n",
            " conv2d_2 (Conv2D)           (None, 15, 15, 64)        18496     \n",
            "                                                                 \n",
            " conv2d_3 (Conv2D)           (None, 13, 13, 64)        36928     \n",
            "                                                                 \n",
            " max_pooling2d_1 (MaxPooling  (None, 6, 6, 64)         0         \n",
            " 2D)                                                             \n",
            "                                                                 \n",
            " dropout_1 (Dropout)         (None, 6, 6, 64)          0         \n",
            "                                                                 \n",
            " flatten (Flatten)           (None, 2304)              0         \n",
            "                                                                 \n",
            " dense (Dense)               (None, 512)               1180160   \n",
            "                                                                 \n",
            " dropout_2 (Dropout)         (None, 512)               0         \n",
            "                                                                 \n",
            " dense_1 (Dense)             (None, 10)                5130      \n",
            "                                                                 \n",
            "=================================================================\n",
            "Total params: 1,250,858\n",
            "Trainable params: 1,250,858\n",
            "Non-trainable params: 0\n",
            "_________________________________________________________________\n"
          ]
        }
      ]
    },
    {
      "cell_type": "code",
      "source": [
        "model.compile(\n",
        "    optimizer=RMSprop(learning_rate=0.0001, decay=1e-6),\n",
        "    loss='categorical_crossentropy', metrics=['accuracy']\n",
        ")"
      ],
      "metadata": {
        "id": "ntdPzQGBIHO2"
      },
      "execution_count": 12,
      "outputs": []
    },
    {
      "cell_type": "code",
      "source": [
        "model_path = 'best-cifar10-v2.h5'\n",
        "mc = ModelCheckpoint(model_path, save_best_only=True, verbose=1)\n",
        "es = EarlyStopping(patience=10)"
      ],
      "metadata": {
        "id": "QJH0F_WpIHSG"
      },
      "execution_count": 13,
      "outputs": []
    },
    {
      "cell_type": "markdown",
      "source": [
        "- 데이터 부풀리기"
      ],
      "metadata": {
        "id": "j9Rp_C2-IHVV"
      }
    },
    {
      "cell_type": "code",
      "source": [
        "from sklearn.model_selection import train_test_split\n",
        "X_train, X_valid, Y_train, Y_valid = train_test_split(\n",
        "    X_train, Y_train, stratify=Y_train, test_size=0.2, random_state=seed\n",
        ")"
      ],
      "metadata": {
        "id": "aX1sA6LVIHY2"
      },
      "execution_count": 14,
      "outputs": []
    },
    {
      "cell_type": "code",
      "source": [
        "from tensorflow.keras.preprocessing.image import ImageDataGenerator\n",
        "\n",
        "datagen = ImageDataGenerator(\n",
        "    rotation_range=10,          # randomly rotate images in the range 15 degree\n",
        "    width_shift_range=0.1,      # randomly shift images horizontally \n",
        "    height_shift_range=0.1,     # randomly shift images vertically\n",
        "    shear_range=0.1,            # 도형의 기울기\n",
        "    zoom_range=[0.8,1.2],       # 0.8~1.2 배 크기로 임의로 확대/축소\n",
        "    horizontal_flip=True,       # randomly flip images\n",
        "    vertical_flip=False,        # randomly flip images\n",
        "    fill_mode='nearest'         # set mode for filling points outside the input boundaries\n",
        ")"
      ],
      "metadata": {
        "id": "eMYkE-THIHcN"
      },
      "execution_count": 15,
      "outputs": []
    },
    {
      "cell_type": "code",
      "source": [
        "datagen.fit(X_train)"
      ],
      "metadata": {
        "id": "uJVsF0txIHft"
      },
      "execution_count": 16,
      "outputs": []
    },
    {
      "cell_type": "markdown",
      "source": [
        "- 데이터 부풀리기로 한 결과로 학습"
      ],
      "metadata": {
        "id": "UYdXruBZIHjE"
      }
    },
    {
      "cell_type": "code",
      "source": [
        "hist = model.fit(\n",
        "    datagen.flow(X_train, Y_train, batch_size=32),\n",
        "    validation_data=(X_valid, Y_valid),\n",
        "    epochs=100, callbacks=[mc, es]\n",
        ")"
      ],
      "metadata": {
        "colab": {
          "base_uri": "https://localhost:8080/"
        },
        "id": "sxAWy64XIHmV",
        "outputId": "f86aedd5-8b36-405a-904e-8c2ea0cf278f"
      },
      "execution_count": 17,
      "outputs": [
        {
          "output_type": "stream",
          "name": "stdout",
          "text": [
            "Epoch 1/100\n",
            "1248/1250 [============================>.] - ETA: 0s - loss: 1.8916 - accuracy: 0.3018\n",
            "Epoch 1: val_loss improved from inf to 1.57353, saving model to best-cifar10-v2.h5\n",
            "1250/1250 [==============================] - 36s 20ms/step - loss: 1.8915 - accuracy: 0.3018 - val_loss: 1.5735 - val_accuracy: 0.4292\n",
            "Epoch 2/100\n",
            "1250/1250 [==============================] - ETA: 0s - loss: 1.6382 - accuracy: 0.4002\n",
            "Epoch 2: val_loss improved from 1.57353 to 1.48512, saving model to best-cifar10-v2.h5\n",
            "1250/1250 [==============================] - 24s 19ms/step - loss: 1.6382 - accuracy: 0.4002 - val_loss: 1.4851 - val_accuracy: 0.4707\n",
            "Epoch 3/100\n",
            "1248/1250 [============================>.] - ETA: 0s - loss: 1.5398 - accuracy: 0.4398\n",
            "Epoch 3: val_loss improved from 1.48512 to 1.36185, saving model to best-cifar10-v2.h5\n",
            "1250/1250 [==============================] - 23s 19ms/step - loss: 1.5397 - accuracy: 0.4399 - val_loss: 1.3618 - val_accuracy: 0.5098\n",
            "Epoch 4/100\n",
            "1250/1250 [==============================] - ETA: 0s - loss: 1.4636 - accuracy: 0.4701\n",
            "Epoch 4: val_loss improved from 1.36185 to 1.29371, saving model to best-cifar10-v2.h5\n",
            "1250/1250 [==============================] - 23s 19ms/step - loss: 1.4636 - accuracy: 0.4701 - val_loss: 1.2937 - val_accuracy: 0.5382\n",
            "Epoch 5/100\n",
            "1250/1250 [==============================] - ETA: 0s - loss: 1.4042 - accuracy: 0.4976\n",
            "Epoch 5: val_loss improved from 1.29371 to 1.20690, saving model to best-cifar10-v2.h5\n",
            "1250/1250 [==============================] - 24s 19ms/step - loss: 1.4042 - accuracy: 0.4976 - val_loss: 1.2069 - val_accuracy: 0.5699\n",
            "Epoch 6/100\n",
            "1250/1250 [==============================] - ETA: 0s - loss: 1.3510 - accuracy: 0.5197\n",
            "Epoch 6: val_loss did not improve from 1.20690\n",
            "1250/1250 [==============================] - 24s 19ms/step - loss: 1.3510 - accuracy: 0.5197 - val_loss: 1.2203 - val_accuracy: 0.5666\n",
            "Epoch 7/100\n",
            "1249/1250 [============================>.] - ETA: 0s - loss: 1.3049 - accuracy: 0.5364\n",
            "Epoch 7: val_loss improved from 1.20690 to 1.16739, saving model to best-cifar10-v2.h5\n",
            "1250/1250 [==============================] - 23s 19ms/step - loss: 1.3048 - accuracy: 0.5364 - val_loss: 1.1674 - val_accuracy: 0.5912\n",
            "Epoch 8/100\n",
            "1248/1250 [============================>.] - ETA: 0s - loss: 1.2618 - accuracy: 0.5501\n",
            "Epoch 8: val_loss improved from 1.16739 to 1.12845, saving model to best-cifar10-v2.h5\n",
            "1250/1250 [==============================] - 24s 19ms/step - loss: 1.2616 - accuracy: 0.5502 - val_loss: 1.1284 - val_accuracy: 0.5973\n",
            "Epoch 9/100\n",
            "1249/1250 [============================>.] - ETA: 0s - loss: 1.2338 - accuracy: 0.5628\n",
            "Epoch 9: val_loss improved from 1.12845 to 1.04309, saving model to best-cifar10-v2.h5\n",
            "1250/1250 [==============================] - 24s 19ms/step - loss: 1.2335 - accuracy: 0.5629 - val_loss: 1.0431 - val_accuracy: 0.6279\n",
            "Epoch 10/100\n",
            "1249/1250 [============================>.] - ETA: 0s - loss: 1.2061 - accuracy: 0.5707\n",
            "Epoch 10: val_loss did not improve from 1.04309\n",
            "1250/1250 [==============================] - 24s 19ms/step - loss: 1.2063 - accuracy: 0.5706 - val_loss: 1.0602 - val_accuracy: 0.6232\n",
            "Epoch 11/100\n",
            "1250/1250 [==============================] - ETA: 0s - loss: 1.1719 - accuracy: 0.5846\n",
            "Epoch 11: val_loss improved from 1.04309 to 1.02523, saving model to best-cifar10-v2.h5\n",
            "1250/1250 [==============================] - 24s 20ms/step - loss: 1.1719 - accuracy: 0.5846 - val_loss: 1.0252 - val_accuracy: 0.6367\n",
            "Epoch 12/100\n",
            "1249/1250 [============================>.] - ETA: 0s - loss: 1.1524 - accuracy: 0.5941\n",
            "Epoch 12: val_loss improved from 1.02523 to 0.96462, saving model to best-cifar10-v2.h5\n",
            "1250/1250 [==============================] - 24s 19ms/step - loss: 1.1526 - accuracy: 0.5940 - val_loss: 0.9646 - val_accuracy: 0.6552\n",
            "Epoch 13/100\n",
            "1250/1250 [==============================] - ETA: 0s - loss: 1.1327 - accuracy: 0.5990\n",
            "Epoch 13: val_loss did not improve from 0.96462\n",
            "1250/1250 [==============================] - 24s 19ms/step - loss: 1.1327 - accuracy: 0.5990 - val_loss: 0.9906 - val_accuracy: 0.6455\n",
            "Epoch 14/100\n",
            "1249/1250 [============================>.] - ETA: 0s - loss: 1.1137 - accuracy: 0.6097\n",
            "Epoch 14: val_loss improved from 0.96462 to 0.95392, saving model to best-cifar10-v2.h5\n",
            "1250/1250 [==============================] - 24s 19ms/step - loss: 1.1137 - accuracy: 0.6096 - val_loss: 0.9539 - val_accuracy: 0.6639\n",
            "Epoch 15/100\n",
            "1247/1250 [============================>.] - ETA: 0s - loss: 1.0915 - accuracy: 0.6173\n",
            "Epoch 15: val_loss did not improve from 0.95392\n",
            "1250/1250 [==============================] - 24s 19ms/step - loss: 1.0918 - accuracy: 0.6171 - val_loss: 1.0219 - val_accuracy: 0.6478\n",
            "Epoch 16/100\n",
            "1247/1250 [============================>.] - ETA: 0s - loss: 1.0869 - accuracy: 0.6181\n",
            "Epoch 16: val_loss improved from 0.95392 to 0.92013, saving model to best-cifar10-v2.h5\n",
            "1250/1250 [==============================] - 24s 19ms/step - loss: 1.0868 - accuracy: 0.6180 - val_loss: 0.9201 - val_accuracy: 0.6725\n",
            "Epoch 17/100\n",
            "1248/1250 [============================>.] - ETA: 0s - loss: 1.0674 - accuracy: 0.6246\n",
            "Epoch 17: val_loss did not improve from 0.92013\n",
            "1250/1250 [==============================] - 24s 19ms/step - loss: 1.0677 - accuracy: 0.6246 - val_loss: 0.9476 - val_accuracy: 0.6739\n",
            "Epoch 18/100\n",
            "1248/1250 [============================>.] - ETA: 0s - loss: 1.0481 - accuracy: 0.6314\n",
            "Epoch 18: val_loss did not improve from 0.92013\n",
            "1250/1250 [==============================] - 24s 19ms/step - loss: 1.0481 - accuracy: 0.6314 - val_loss: 0.9749 - val_accuracy: 0.6671\n",
            "Epoch 19/100\n",
            "1249/1250 [============================>.] - ETA: 0s - loss: 1.0397 - accuracy: 0.6348\n",
            "Epoch 19: val_loss did not improve from 0.92013\n",
            "1250/1250 [==============================] - 24s 19ms/step - loss: 1.0401 - accuracy: 0.6346 - val_loss: 0.9654 - val_accuracy: 0.6627\n",
            "Epoch 20/100\n",
            "1249/1250 [============================>.] - ETA: 0s - loss: 1.0166 - accuracy: 0.6442\n",
            "Epoch 20: val_loss improved from 0.92013 to 0.86712, saving model to best-cifar10-v2.h5\n",
            "1250/1250 [==============================] - 24s 19ms/step - loss: 1.0167 - accuracy: 0.6442 - val_loss: 0.8671 - val_accuracy: 0.7017\n",
            "Epoch 21/100\n",
            "1250/1250 [==============================] - ETA: 0s - loss: 1.0134 - accuracy: 0.6435\n",
            "Epoch 21: val_loss improved from 0.86712 to 0.86092, saving model to best-cifar10-v2.h5\n",
            "1250/1250 [==============================] - 24s 19ms/step - loss: 1.0134 - accuracy: 0.6435 - val_loss: 0.8609 - val_accuracy: 0.7015\n",
            "Epoch 22/100\n",
            "1250/1250 [==============================] - ETA: 0s - loss: 1.0005 - accuracy: 0.6496\n",
            "Epoch 22: val_loss did not improve from 0.86092\n",
            "1250/1250 [==============================] - 24s 19ms/step - loss: 1.0005 - accuracy: 0.6496 - val_loss: 0.8823 - val_accuracy: 0.6966\n",
            "Epoch 23/100\n",
            "1250/1250 [==============================] - ETA: 0s - loss: 0.9938 - accuracy: 0.6536\n",
            "Epoch 23: val_loss did not improve from 0.86092\n",
            "1250/1250 [==============================] - 24s 19ms/step - loss: 0.9938 - accuracy: 0.6536 - val_loss: 0.8951 - val_accuracy: 0.6954\n",
            "Epoch 24/100\n",
            "1249/1250 [============================>.] - ETA: 0s - loss: 0.9775 - accuracy: 0.6570\n",
            "Epoch 24: val_loss did not improve from 0.86092\n",
            "1250/1250 [==============================] - 24s 19ms/step - loss: 0.9776 - accuracy: 0.6570 - val_loss: 0.8880 - val_accuracy: 0.6931\n",
            "Epoch 25/100\n",
            "1249/1250 [============================>.] - ETA: 0s - loss: 0.9763 - accuracy: 0.6598\n",
            "Epoch 25: val_loss did not improve from 0.86092\n",
            "1250/1250 [==============================] - 24s 20ms/step - loss: 0.9761 - accuracy: 0.6599 - val_loss: 0.8727 - val_accuracy: 0.6979\n",
            "Epoch 26/100\n",
            "1247/1250 [============================>.] - ETA: 0s - loss: 0.9674 - accuracy: 0.6605\n",
            "Epoch 26: val_loss did not improve from 0.86092\n",
            "1250/1250 [==============================] - 24s 19ms/step - loss: 0.9674 - accuracy: 0.6604 - val_loss: 0.9120 - val_accuracy: 0.6853\n",
            "Epoch 27/100\n",
            "1248/1250 [============================>.] - ETA: 0s - loss: 0.9562 - accuracy: 0.6680\n",
            "Epoch 27: val_loss did not improve from 0.86092\n",
            "1250/1250 [==============================] - 24s 19ms/step - loss: 0.9566 - accuracy: 0.6679 - val_loss: 0.8769 - val_accuracy: 0.6947\n",
            "Epoch 28/100\n",
            "1249/1250 [============================>.] - ETA: 0s - loss: 0.9529 - accuracy: 0.6689\n",
            "Epoch 28: val_loss did not improve from 0.86092\n",
            "1250/1250 [==============================] - 24s 19ms/step - loss: 0.9528 - accuracy: 0.6689 - val_loss: 0.8731 - val_accuracy: 0.6970\n",
            "Epoch 29/100\n",
            "1250/1250 [==============================] - ETA: 0s - loss: 0.9446 - accuracy: 0.6720\n",
            "Epoch 29: val_loss improved from 0.86092 to 0.79991, saving model to best-cifar10-v2.h5\n",
            "1250/1250 [==============================] - 24s 19ms/step - loss: 0.9446 - accuracy: 0.6720 - val_loss: 0.7999 - val_accuracy: 0.7275\n",
            "Epoch 30/100\n",
            "1248/1250 [============================>.] - ETA: 0s - loss: 0.9408 - accuracy: 0.6742\n",
            "Epoch 30: val_loss did not improve from 0.79991\n",
            "1250/1250 [==============================] - 24s 19ms/step - loss: 0.9409 - accuracy: 0.6740 - val_loss: 0.8559 - val_accuracy: 0.7039\n",
            "Epoch 31/100\n",
            "1248/1250 [============================>.] - ETA: 0s - loss: 0.9320 - accuracy: 0.6766\n",
            "Epoch 31: val_loss did not improve from 0.79991\n",
            "1250/1250 [==============================] - 24s 19ms/step - loss: 0.9320 - accuracy: 0.6766 - val_loss: 0.8423 - val_accuracy: 0.7105\n",
            "Epoch 32/100\n",
            "1249/1250 [============================>.] - ETA: 0s - loss: 0.9298 - accuracy: 0.6774\n",
            "Epoch 32: val_loss did not improve from 0.79991\n",
            "1250/1250 [==============================] - 24s 19ms/step - loss: 0.9297 - accuracy: 0.6774 - val_loss: 0.8814 - val_accuracy: 0.6975\n",
            "Epoch 33/100\n",
            "1249/1250 [============================>.] - ETA: 0s - loss: 0.9237 - accuracy: 0.6803\n",
            "Epoch 33: val_loss did not improve from 0.79991\n",
            "1250/1250 [==============================] - 24s 19ms/step - loss: 0.9236 - accuracy: 0.6802 - val_loss: 0.8192 - val_accuracy: 0.7220\n",
            "Epoch 34/100\n",
            "1248/1250 [============================>.] - ETA: 0s - loss: 0.9206 - accuracy: 0.6817\n",
            "Epoch 34: val_loss improved from 0.79991 to 0.76433, saving model to best-cifar10-v2.h5\n",
            "1250/1250 [==============================] - 24s 19ms/step - loss: 0.9205 - accuracy: 0.6818 - val_loss: 0.7643 - val_accuracy: 0.7420\n",
            "Epoch 35/100\n",
            "1248/1250 [============================>.] - ETA: 0s - loss: 0.9163 - accuracy: 0.6844\n",
            "Epoch 35: val_loss did not improve from 0.76433\n",
            "1250/1250 [==============================] - 24s 19ms/step - loss: 0.9164 - accuracy: 0.6843 - val_loss: 0.7787 - val_accuracy: 0.7367\n",
            "Epoch 36/100\n",
            "1248/1250 [============================>.] - ETA: 0s - loss: 0.9151 - accuracy: 0.6822\n",
            "Epoch 36: val_loss did not improve from 0.76433\n",
            "1250/1250 [==============================] - 24s 19ms/step - loss: 0.9150 - accuracy: 0.6823 - val_loss: 0.7977 - val_accuracy: 0.7260\n",
            "Epoch 37/100\n",
            "1249/1250 [============================>.] - ETA: 0s - loss: 0.9055 - accuracy: 0.6887\n",
            "Epoch 37: val_loss improved from 0.76433 to 0.75636, saving model to best-cifar10-v2.h5\n",
            "1250/1250 [==============================] - 24s 19ms/step - loss: 0.9055 - accuracy: 0.6887 - val_loss: 0.7564 - val_accuracy: 0.7427\n",
            "Epoch 38/100\n",
            "1249/1250 [============================>.] - ETA: 0s - loss: 0.8983 - accuracy: 0.6884\n",
            "Epoch 38: val_loss did not improve from 0.75636\n",
            "1250/1250 [==============================] - 24s 19ms/step - loss: 0.8982 - accuracy: 0.6884 - val_loss: 0.8392 - val_accuracy: 0.7219\n",
            "Epoch 39/100\n",
            "1250/1250 [==============================] - ETA: 0s - loss: 0.8996 - accuracy: 0.6896\n",
            "Epoch 39: val_loss did not improve from 0.75636\n",
            "1250/1250 [==============================] - 24s 19ms/step - loss: 0.8996 - accuracy: 0.6896 - val_loss: 0.8234 - val_accuracy: 0.7212\n",
            "Epoch 40/100\n",
            "1249/1250 [============================>.] - ETA: 0s - loss: 0.9023 - accuracy: 0.6914\n",
            "Epoch 40: val_loss did not improve from 0.75636\n",
            "1250/1250 [==============================] - 24s 19ms/step - loss: 0.9026 - accuracy: 0.6912 - val_loss: 0.7909 - val_accuracy: 0.7314\n",
            "Epoch 41/100\n",
            "1249/1250 [============================>.] - ETA: 0s - loss: 0.9031 - accuracy: 0.6905\n",
            "Epoch 41: val_loss did not improve from 0.75636\n",
            "1250/1250 [==============================] - 24s 19ms/step - loss: 0.9032 - accuracy: 0.6904 - val_loss: 0.7850 - val_accuracy: 0.7294\n",
            "Epoch 42/100\n",
            "1250/1250 [==============================] - ETA: 0s - loss: 0.8878 - accuracy: 0.6931\n",
            "Epoch 42: val_loss did not improve from 0.75636\n",
            "1250/1250 [==============================] - 24s 19ms/step - loss: 0.8878 - accuracy: 0.6931 - val_loss: 0.7712 - val_accuracy: 0.7407\n",
            "Epoch 43/100\n",
            "1250/1250 [==============================] - ETA: 0s - loss: 0.8935 - accuracy: 0.6924\n",
            "Epoch 43: val_loss did not improve from 0.75636\n",
            "1250/1250 [==============================] - 24s 19ms/step - loss: 0.8935 - accuracy: 0.6924 - val_loss: 0.7738 - val_accuracy: 0.7352\n",
            "Epoch 44/100\n",
            "1248/1250 [============================>.] - ETA: 0s - loss: 0.8852 - accuracy: 0.6976\n",
            "Epoch 44: val_loss did not improve from 0.75636\n",
            "1250/1250 [==============================] - 24s 19ms/step - loss: 0.8853 - accuracy: 0.6975 - val_loss: 0.8820 - val_accuracy: 0.7054\n",
            "Epoch 45/100\n",
            "1248/1250 [============================>.] - ETA: 0s - loss: 0.8819 - accuracy: 0.6995\n",
            "Epoch 45: val_loss did not improve from 0.75636\n",
            "1250/1250 [==============================] - 24s 19ms/step - loss: 0.8822 - accuracy: 0.6995 - val_loss: 0.7592 - val_accuracy: 0.7424\n",
            "Epoch 46/100\n",
            "1248/1250 [============================>.] - ETA: 0s - loss: 0.8872 - accuracy: 0.6974\n",
            "Epoch 46: val_loss did not improve from 0.75636\n",
            "1250/1250 [==============================] - 24s 19ms/step - loss: 0.8867 - accuracy: 0.6975 - val_loss: 0.8049 - val_accuracy: 0.7341\n",
            "Epoch 47/100\n",
            "1250/1250 [==============================] - ETA: 0s - loss: 0.8859 - accuracy: 0.6960\n",
            "Epoch 47: val_loss improved from 0.75636 to 0.73129, saving model to best-cifar10-v2.h5\n",
            "1250/1250 [==============================] - 24s 19ms/step - loss: 0.8859 - accuracy: 0.6960 - val_loss: 0.7313 - val_accuracy: 0.7562\n",
            "Epoch 48/100\n",
            "1249/1250 [============================>.] - ETA: 0s - loss: 0.8798 - accuracy: 0.6981\n",
            "Epoch 48: val_loss did not improve from 0.73129\n",
            "1250/1250 [==============================] - 24s 19ms/step - loss: 0.8797 - accuracy: 0.6983 - val_loss: 0.7994 - val_accuracy: 0.7279\n",
            "Epoch 49/100\n",
            "1248/1250 [============================>.] - ETA: 0s - loss: 0.8762 - accuracy: 0.6992\n",
            "Epoch 49: val_loss did not improve from 0.73129\n",
            "1250/1250 [==============================] - 24s 19ms/step - loss: 0.8763 - accuracy: 0.6992 - val_loss: 0.7717 - val_accuracy: 0.7371\n",
            "Epoch 50/100\n",
            "1248/1250 [============================>.] - ETA: 0s - loss: 0.8822 - accuracy: 0.6964\n",
            "Epoch 50: val_loss did not improve from 0.73129\n",
            "1250/1250 [==============================] - 24s 19ms/step - loss: 0.8822 - accuracy: 0.6965 - val_loss: 0.7730 - val_accuracy: 0.7371\n",
            "Epoch 51/100\n",
            "1248/1250 [============================>.] - ETA: 0s - loss: 0.8721 - accuracy: 0.6995\n",
            "Epoch 51: val_loss did not improve from 0.73129\n",
            "1250/1250 [==============================] - 24s 19ms/step - loss: 0.8722 - accuracy: 0.6995 - val_loss: 0.7840 - val_accuracy: 0.7313\n",
            "Epoch 52/100\n",
            "1249/1250 [============================>.] - ETA: 0s - loss: 0.8706 - accuracy: 0.7032\n",
            "Epoch 52: val_loss did not improve from 0.73129\n",
            "1250/1250 [==============================] - 24s 19ms/step - loss: 0.8706 - accuracy: 0.7031 - val_loss: 0.7398 - val_accuracy: 0.7548\n",
            "Epoch 53/100\n",
            "1250/1250 [==============================] - ETA: 0s - loss: 0.8760 - accuracy: 0.7038\n",
            "Epoch 53: val_loss did not improve from 0.73129\n",
            "1250/1250 [==============================] - 24s 19ms/step - loss: 0.8760 - accuracy: 0.7038 - val_loss: 0.7522 - val_accuracy: 0.7440\n",
            "Epoch 54/100\n",
            "1247/1250 [============================>.] - ETA: 0s - loss: 0.8720 - accuracy: 0.7014\n",
            "Epoch 54: val_loss did not improve from 0.73129\n",
            "1250/1250 [==============================] - 24s 19ms/step - loss: 0.8716 - accuracy: 0.7016 - val_loss: 0.7326 - val_accuracy: 0.7502\n",
            "Epoch 55/100\n",
            "1250/1250 [==============================] - ETA: 0s - loss: 0.8655 - accuracy: 0.7012\n",
            "Epoch 55: val_loss did not improve from 0.73129\n",
            "1250/1250 [==============================] - 24s 19ms/step - loss: 0.8655 - accuracy: 0.7012 - val_loss: 0.7900 - val_accuracy: 0.7404\n",
            "Epoch 56/100\n",
            "1250/1250 [==============================] - ETA: 0s - loss: 0.8720 - accuracy: 0.7013\n",
            "Epoch 56: val_loss did not improve from 0.73129\n",
            "1250/1250 [==============================] - 24s 19ms/step - loss: 0.8720 - accuracy: 0.7013 - val_loss: 0.7407 - val_accuracy: 0.7584\n",
            "Epoch 57/100\n",
            "1248/1250 [============================>.] - ETA: 0s - loss: 0.8698 - accuracy: 0.7040\n",
            "Epoch 57: val_loss did not improve from 0.73129\n",
            "1250/1250 [==============================] - 24s 19ms/step - loss: 0.8696 - accuracy: 0.7040 - val_loss: 0.7689 - val_accuracy: 0.7477\n"
          ]
        }
      ]
    },
    {
      "cell_type": "code",
      "source": [
        "best_model = load_model(model_path)\n",
        "best_model.evaluate(X_test, Y_test)"
      ],
      "metadata": {
        "colab": {
          "base_uri": "https://localhost:8080/"
        },
        "id": "K6owJuGtIHp0",
        "outputId": "bce96ef2-7263-4f30-909b-28cdd7bda9b2"
      },
      "execution_count": 18,
      "outputs": [
        {
          "output_type": "stream",
          "name": "stdout",
          "text": [
            "313/313 [==============================] - 1s 3ms/step - loss: 0.7466 - accuracy: 0.7459\n"
          ]
        },
        {
          "output_type": "execute_result",
          "data": {
            "text/plain": [
              "[0.746574878692627, 0.7458999752998352]"
            ]
          },
          "metadata": {},
          "execution_count": 18
        }
      ]
    },
    {
      "cell_type": "markdown",
      "source": [
        "- 학습과정 시각화"
      ],
      "metadata": {
        "id": "jrJwfbYVIVXl"
      }
    },
    {
      "cell_type": "code",
      "source": [
        "y_acc = hist.history['accuracy']\n",
        "y_vloss = hist.history['val_loss']\n",
        "xs = np.arange(1, len(y_acc)+1)"
      ],
      "metadata": {
        "id": "5NQuj7bFIVbn"
      },
      "execution_count": 19,
      "outputs": []
    },
    {
      "cell_type": "code",
      "source": [
        "plt.figure(figsize=(12,8))\n",
        "plt.plot(xs, y_acc, label='train accuracy')\n",
        "plt.plot(xs, y_vloss, label='validation loss')\n",
        "plt.legend(), plt.grid(), plt.ylim(0,1.2),\n",
        "plt.xlabel('Epoch')\n",
        "plt.title('Cifar-10 CNN model v2')\n",
        "plt.show()"
      ],
      "metadata": {
        "colab": {
          "base_uri": "https://localhost:8080/",
          "height": 513
        },
        "id": "2YMnI-pGIVid",
        "outputId": "9c8d6dc7-6850-4f8e-d9f8-9f546d0d9e24"
      },
      "execution_count": 20,
      "outputs": [
        {
          "output_type": "display_data",
          "data": {
            "text/plain": [
              "<Figure size 864x576 with 1 Axes>"
            ],
            "image/png": "[encoded data removed]"
          },
          "metadata": {
            "needs_background": "light"
          }
        }
      ]
    }
  ]
}