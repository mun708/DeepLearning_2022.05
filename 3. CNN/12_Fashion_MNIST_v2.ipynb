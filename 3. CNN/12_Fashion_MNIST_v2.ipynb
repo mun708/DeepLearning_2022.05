{
  "nbformat": 4,
  "nbformat_minor": 0,
  "metadata": {
    "colab": {
      "name": "12_Fashion_MNIST_v2.ipynb",
      "provenance": [],
      "collapsed_sections": []
    },
    "kernelspec": {
      "name": "python3",
      "display_name": "Python 3"
    },
    "language_info": {
      "name": "python"
    },
    "accelerator": "GPU"
  },
  "cells": [
    {
      "cell_type": "markdown",
      "source": [
        "# Fashion MNIST - CNN v1\n",
        "- 2 X Conv2D layers with padding\n",
        "- 1 MaxPooling2D layer\n",
        "- 1 Dropout(0.25) layer\n",
        "- 1 FCN layer\n",
        "- 1 Dropout(0.25) layer\n",
        "- 1 Output layer"
      ],
      "metadata": {
        "id": "QDiaSA0bY8sd"
      }
    },
    {
      "cell_type": "code",
      "source": [
        "import numpy as np\n",
        "import pandas as pd\n",
        "import matplotlib.pyplot as plt\n",
        "import tensorflow as tf\n",
        "seed = 2022\n",
        "np.random.seed(seed)\n",
        "tf.random.set_seed(seed)"
      ],
      "metadata": {
        "id": "6sGuypTqd_sO"
      },
      "execution_count": 1,
      "outputs": []
    },
    {
      "cell_type": "code",
      "source": [
        "from tensorflow.keras.datasets import fashion_mnist\n",
        "(X_train,y_train),(X_test,y_test) = fashion_mnist.load_data()\n",
        "X_train.shape,y_train.shape,X_test.shape,y_test.shape"
      ],
      "metadata": {
        "colab": {
          "base_uri": "https://localhost:8080/"
        },
        "id": "E4lBZKDNeHhQ",
        "outputId": "fd1f265f-483f-4c90-f882-3b14d5e6e2fb"
      },
      "execution_count": 2,
      "outputs": [
        {
          "output_type": "stream",
          "name": "stdout",
          "text": [
            "Downloading data from https://storage.googleapis.com/tensorflow/tf-keras-datasets/train-labels-idx1-ubyte.gz\n",
            "32768/29515 [=================================] - 0s 0us/step\n",
            "40960/29515 [=========================================] - 0s 0us/step\n",
            "Downloading data from https://storage.googleapis.com/tensorflow/tf-keras-datasets/train-images-idx3-ubyte.gz\n",
            "26427392/26421880 [==============================] - 0s 0us/step\n",
            "26435584/26421880 [==============================] - 0s 0us/step\n",
            "Downloading data from https://storage.googleapis.com/tensorflow/tf-keras-datasets/t10k-labels-idx1-ubyte.gz\n",
            "16384/5148 [===============================================================================================] - 0s 0us/step\n",
            "Downloading data from https://storage.googleapis.com/tensorflow/tf-keras-datasets/t10k-images-idx3-ubyte.gz\n",
            "4423680/4422102 [==============================] - 0s 0us/step\n",
            "4431872/4422102 [==============================] - 0s 0us/step\n"
          ]
        },
        {
          "output_type": "execute_result",
          "data": {
            "text/plain": [
              "((60000, 28, 28), (60000,), (10000, 28, 28), (10000,))"
            ]
          },
          "metadata": {},
          "execution_count": 2
        }
      ]
    },
    {
      "cell_type": "code",
      "source": [
        "plt.imshow(X_train[0], cmap='Greys');"
      ],
      "metadata": {
        "colab": {
          "base_uri": "https://localhost:8080/",
          "height": 265
        },
        "id": "hwTtJlnDzarO",
        "outputId": "65acfb61-6a8e-490d-8e06-0594892a497a"
      },
      "execution_count": 3,
      "outputs": [
        {
          "output_type": "display_data",
          "data": {
            "text/plain": [
              "<Figure size 432x288 with 1 Axes>"
            ],
            "image/png": "[encoded data removed]"
          },
          "metadata": {
            "needs_background": "light"
          }
        }
      ]
    },
    {
      "cell_type": "code",
      "source": [
        "class_names = ['T-shirt/top', 'Trouser', 'Pullover', 'Dress', 'Coat',\n",
        "               'Sandal', 'Shirt', 'Sneaker', 'Bag', 'Ankle boot']"
      ],
      "metadata": {
        "id": "RwWDV0CHzrXv"
      },
      "execution_count": 4,
      "outputs": []
    },
    {
      "cell_type": "code",
      "source": [
        "plt.figure(figsize=(13,5))\n",
        "for i in range(1,11):\n",
        "  plt.subplot(2,5,i)\n",
        "  plt.imshow(X_train[i], cmap='Greys')\n",
        "  plt.title(class_names[y_train[i]])\n",
        "  plt.xticks([]),plt.yticks([])\n",
        "plt.show()"
      ],
      "metadata": {
        "colab": {
          "base_uri": "https://localhost:8080/",
          "height": 322
        },
        "id": "7vc-BYeZzvGW",
        "outputId": "4836da39-437b-4d62-c3eb-49b4e374ff10"
      },
      "execution_count": 5,
      "outputs": [
        {
          "output_type": "display_data",
          "data": {
            "text/plain": [
              "<Figure size 936x360 with 10 Axes>"
            ],
            "image/png": "[encoded data removed]"
          },
          "metadata": {}
        }
      ]
    },
    {
      "cell_type": "code",
      "source": [
        "# X_train, X_test 정규화(0~1) 및 이미지 차원 변경 : 2차원 --> 1차원\n",
        "X_train = X_train.reshape(-1, 28, 28, 1) / 255.\n",
        "X_test = X_test.reshape(-1, 28, 28, 1) / 255.\n",
        "\n",
        "X_train.shape, X_test.shape"
      ],
      "metadata": {
        "colab": {
          "base_uri": "https://localhost:8080/"
        },
        "id": "GOprtwrGePOF",
        "outputId": "2e75f615-c330-4f4b-dd50-e377ae268c59"
      },
      "execution_count": 6,
      "outputs": [
        {
          "output_type": "execute_result",
          "data": {
            "text/plain": [
              "((60000, 28, 28, 1), (10000, 28, 28, 1))"
            ]
          },
          "metadata": {},
          "execution_count": 6
        }
      ]
    },
    {
      "cell_type": "code",
      "source": [
        "# One Hot encoding\n",
        "from tensorflow.keras.utils import to_categorical\n",
        "Y_train = to_categorical(y_train)\n",
        "Y_test = to_categorical(y_test)\n",
        "Y_train.shape, Y_test.shape"
      ],
      "metadata": {
        "colab": {
          "base_uri": "https://localhost:8080/"
        },
        "id": "JdfEp22Ve0WJ",
        "outputId": "c135626a-2f94-426c-cb07-6ebdff99bab9"
      },
      "execution_count": 7,
      "outputs": [
        {
          "output_type": "execute_result",
          "data": {
            "text/plain": [
              "((60000, 10), (10000, 10))"
            ]
          },
          "metadata": {},
          "execution_count": 7
        }
      ]
    },
    {
      "cell_type": "markdown",
      "source": [
        "- 모델 정의/설정/학습/평가"
      ],
      "metadata": {
        "id": "KYj2zmdDfA6s"
      }
    },
    {
      "cell_type": "code",
      "source": [
        "from tensorflow.keras.models import Sequential, load_model\n",
        "from tensorflow.keras.layers import Dense, Conv2D, Flatten, MaxPooling2D, Dropout\n",
        "from tensorflow.keras.callbacks import ModelCheckpoint, EarlyStopping"
      ],
      "metadata": {
        "id": "5azSp3QjfN7U"
      },
      "execution_count": 8,
      "outputs": []
    },
    {
      "cell_type": "code",
      "source": [
        "model = Sequential([\n",
        "        Conv2D(32, kernel_size=(3,3), padding='same', input_shape=(28,28,1), activation='relu'),\n",
        "        Conv2D(64, (3,3),padding='same', activation = 'relu'),\n",
        "        MaxPooling2D(),     # MaxPooling2D(pool_size=(2,2))\n",
        "        Dropout(0.25),\n",
        "        Flatten(),\n",
        "        Dense(512, activation='relu'),\n",
        "        Dropout(0.25),\n",
        "        Dense(10, activation='softmax')\n",
        "])\n",
        "model.summary()"
      ],
      "metadata": {
        "colab": {
          "base_uri": "https://localhost:8080/"
        },
        "id": "9wWQMdlhfP4_",
        "outputId": "c0cc0f35-7ded-4fe6-ef6b-f9ce4ab8afb8"
      },
      "execution_count": 10,
      "outputs": [
        {
          "output_type": "stream",
          "name": "stdout",
          "text": [
            "Model: \"sequential\"\n",
            "_________________________________________________________________\n",
            " Layer (type)                Output Shape              Param #   \n",
            "=================================================================\n",
            " conv2d_1 (Conv2D)           (None, 28, 28, 32)        320       \n",
            "                                                                 \n",
            " conv2d_2 (Conv2D)           (None, 28, 28, 64)        18496     \n",
            "                                                                 \n",
            " max_pooling2d (MaxPooling2D  (None, 14, 14, 64)       0         \n",
            " )                                                               \n",
            "                                                                 \n",
            " dropout (Dropout)           (None, 14, 14, 64)        0         \n",
            "                                                                 \n",
            " flatten (Flatten)           (None, 12544)             0         \n",
            "                                                                 \n",
            " dense (Dense)               (None, 512)               6423040   \n",
            "                                                                 \n",
            " dropout_1 (Dropout)         (None, 512)               0         \n",
            "                                                                 \n",
            " dense_1 (Dense)             (None, 10)                5130      \n",
            "                                                                 \n",
            "=================================================================\n",
            "Total params: 6,446,986\n",
            "Trainable params: 6,446,986\n",
            "Non-trainable params: 0\n",
            "_________________________________________________________________\n"
          ]
        }
      ]
    },
    {
      "cell_type": "code",
      "source": [
        "model.compile('adam', 'categorical_crossentropy', ['accuracy'])"
      ],
      "metadata": {
        "id": "Xp6MpK0rhoPG"
      },
      "execution_count": 11,
      "outputs": []
    },
    {
      "cell_type": "code",
      "source": [
        "model_path = 'best_fashion_mnist_cnn_v2.h5'\n",
        "mc = ModelCheckpoint(model_path, save_best_only=True, verbose = 1)\n",
        "es = EarlyStopping(patience = 10)"
      ],
      "metadata": {
        "id": "I1Z4y-Eqi6E8"
      },
      "execution_count": 12,
      "outputs": []
    },
    {
      "cell_type": "code",
      "source": [
        "hist = model.fit(\n",
        "    X_train, Y_train, validation_split=0.2, epochs=100, batch_size=200,\n",
        "    callbacks=[mc,es]\n",
        ")"
      ],
      "metadata": {
        "colab": {
          "base_uri": "https://localhost:8080/"
        },
        "id": "BhbMM4XYliQt",
        "outputId": "8a22eb65-4b19-42d1-d6f6-7ca751d5c477"
      },
      "execution_count": 13,
      "outputs": [
        {
          "output_type": "stream",
          "name": "stdout",
          "text": [
            "Epoch 1/100\n",
            "238/240 [============================>.] - ETA: 0s - loss: 0.4468 - accuracy: 0.8403\n",
            "Epoch 1: val_loss improved from inf to 0.30092, saving model to best_fashion_mnist_cnn_v2.h5\n",
            "240/240 [==============================] - 15s 18ms/step - loss: 0.4460 - accuracy: 0.8405 - val_loss: 0.3009 - val_accuracy: 0.8904\n",
            "Epoch 2/100\n",
            "237/240 [============================>.] - ETA: 0s - loss: 0.2774 - accuracy: 0.8999\n",
            "Epoch 2: val_loss improved from 0.30092 to 0.26813, saving model to best_fashion_mnist_cnn_v2.h5\n",
            "240/240 [==============================] - 5s 19ms/step - loss: 0.2773 - accuracy: 0.8998 - val_loss: 0.2681 - val_accuracy: 0.9003\n",
            "Epoch 3/100\n",
            "239/240 [============================>.] - ETA: 0s - loss: 0.2219 - accuracy: 0.9177\n",
            "Epoch 3: val_loss improved from 0.26813 to 0.22731, saving model to best_fashion_mnist_cnn_v2.h5\n",
            "240/240 [==============================] - 4s 19ms/step - loss: 0.2220 - accuracy: 0.9177 - val_loss: 0.2273 - val_accuracy: 0.9152\n",
            "Epoch 4/100\n",
            "238/240 [============================>.] - ETA: 0s - loss: 0.1864 - accuracy: 0.9312\n",
            "Epoch 4: val_loss improved from 0.22731 to 0.21810, saving model to best_fashion_mnist_cnn_v2.h5\n",
            "240/240 [==============================] - 5s 19ms/step - loss: 0.1864 - accuracy: 0.9312 - val_loss: 0.2181 - val_accuracy: 0.9212\n",
            "Epoch 5/100\n",
            "240/240 [==============================] - ETA: 0s - loss: 0.1588 - accuracy: 0.9410\n",
            "Epoch 5: val_loss did not improve from 0.21810\n",
            "240/240 [==============================] - 4s 17ms/step - loss: 0.1588 - accuracy: 0.9410 - val_loss: 0.2264 - val_accuracy: 0.9185\n",
            "Epoch 6/100\n",
            "237/240 [============================>.] - ETA: 0s - loss: 0.1347 - accuracy: 0.9511\n",
            "Epoch 6: val_loss improved from 0.21810 to 0.21575, saving model to best_fashion_mnist_cnn_v2.h5\n",
            "240/240 [==============================] - 4s 17ms/step - loss: 0.1346 - accuracy: 0.9511 - val_loss: 0.2158 - val_accuracy: 0.9243\n",
            "Epoch 7/100\n",
            "239/240 [============================>.] - ETA: 0s - loss: 0.1114 - accuracy: 0.9587\n",
            "Epoch 7: val_loss improved from 0.21575 to 0.21549, saving model to best_fashion_mnist_cnn_v2.h5\n",
            "240/240 [==============================] - 4s 19ms/step - loss: 0.1115 - accuracy: 0.9587 - val_loss: 0.2155 - val_accuracy: 0.9281\n",
            "Epoch 8/100\n",
            "239/240 [============================>.] - ETA: 0s - loss: 0.0944 - accuracy: 0.9654\n",
            "Epoch 8: val_loss did not improve from 0.21549\n",
            "240/240 [==============================] - 4s 17ms/step - loss: 0.0944 - accuracy: 0.9654 - val_loss: 0.2305 - val_accuracy: 0.9249\n",
            "Epoch 9/100\n",
            "240/240 [==============================] - ETA: 0s - loss: 0.0791 - accuracy: 0.9713\n",
            "Epoch 9: val_loss did not improve from 0.21549\n",
            "240/240 [==============================] - 4s 18ms/step - loss: 0.0791 - accuracy: 0.9713 - val_loss: 0.2402 - val_accuracy: 0.9270\n",
            "Epoch 10/100\n",
            "240/240 [==============================] - ETA: 0s - loss: 0.0657 - accuracy: 0.9758\n",
            "Epoch 10: val_loss did not improve from 0.21549\n",
            "240/240 [==============================] - 4s 17ms/step - loss: 0.0657 - accuracy: 0.9758 - val_loss: 0.2587 - val_accuracy: 0.9260\n",
            "Epoch 11/100\n",
            "239/240 [============================>.] - ETA: 0s - loss: 0.0558 - accuracy: 0.9799\n",
            "Epoch 11: val_loss did not improve from 0.21549\n",
            "240/240 [==============================] - 4s 18ms/step - loss: 0.0558 - accuracy: 0.9799 - val_loss: 0.2542 - val_accuracy: 0.9282\n",
            "Epoch 12/100\n",
            "239/240 [============================>.] - ETA: 0s - loss: 0.0472 - accuracy: 0.9829\n",
            "Epoch 12: val_loss did not improve from 0.21549\n",
            "240/240 [==============================] - 4s 17ms/step - loss: 0.0473 - accuracy: 0.9829 - val_loss: 0.2884 - val_accuracy: 0.9268\n",
            "Epoch 13/100\n",
            "239/240 [============================>.] - ETA: 0s - loss: 0.0400 - accuracy: 0.9859\n",
            "Epoch 13: val_loss did not improve from 0.21549\n",
            "240/240 [==============================] - 4s 17ms/step - loss: 0.0401 - accuracy: 0.9859 - val_loss: 0.2801 - val_accuracy: 0.9250\n",
            "Epoch 14/100\n",
            "239/240 [============================>.] - ETA: 0s - loss: 0.0350 - accuracy: 0.9874\n",
            "Epoch 14: val_loss did not improve from 0.21549\n",
            "240/240 [==============================] - 4s 18ms/step - loss: 0.0352 - accuracy: 0.9873 - val_loss: 0.2908 - val_accuracy: 0.9281\n",
            "Epoch 15/100\n",
            "237/240 [============================>.] - ETA: 0s - loss: 0.0317 - accuracy: 0.9892\n",
            "Epoch 15: val_loss did not improve from 0.21549\n",
            "240/240 [==============================] - 4s 17ms/step - loss: 0.0316 - accuracy: 0.9892 - val_loss: 0.2906 - val_accuracy: 0.9276\n",
            "Epoch 16/100\n",
            "237/240 [============================>.] - ETA: 0s - loss: 0.0261 - accuracy: 0.9910\n",
            "Epoch 16: val_loss did not improve from 0.21549\n",
            "240/240 [==============================] - 4s 17ms/step - loss: 0.0261 - accuracy: 0.9910 - val_loss: 0.3049 - val_accuracy: 0.9304\n",
            "Epoch 17/100\n",
            "240/240 [==============================] - ETA: 0s - loss: 0.0259 - accuracy: 0.9911\n",
            "Epoch 17: val_loss did not improve from 0.21549\n",
            "240/240 [==============================] - 4s 17ms/step - loss: 0.0259 - accuracy: 0.9911 - val_loss: 0.3058 - val_accuracy: 0.9273\n"
          ]
        }
      ]
    },
    {
      "cell_type": "code",
      "source": [
        "best_model = load_model(model_path)\n",
        "best_model.evaluate(X_test, Y_test)"
      ],
      "metadata": {
        "colab": {
          "base_uri": "https://localhost:8080/"
        },
        "id": "jxHj_TcTm-eT",
        "outputId": "9ae9ea91-89a4-44c9-fd5d-09a8153f4444"
      },
      "execution_count": 14,
      "outputs": [
        {
          "output_type": "stream",
          "name": "stdout",
          "text": [
            "313/313 [==============================] - 1s 3ms/step - loss: 0.2246 - accuracy: 0.9242\n"
          ]
        },
        {
          "output_type": "execute_result",
          "data": {
            "text/plain": [
              "[0.2245780974626541, 0.9241999983787537]"
            ]
          },
          "metadata": {},
          "execution_count": 14
        }
      ]
    },
    {
      "cell_type": "markdown",
      "source": [
        "- 학습과정 시각화"
      ],
      "metadata": {
        "id": "5tDuOKazm-mu"
      }
    },
    {
      "cell_type": "code",
      "source": [
        "y_acc = hist.history['accuracy']\n",
        "y_vloss = hist.history['val_loss']\n",
        "xs = np.arange(1, len(y_acc)+1)"
      ],
      "metadata": {
        "id": "ckZkRdxAm-uP"
      },
      "execution_count": 15,
      "outputs": []
    },
    {
      "cell_type": "code",
      "source": [
        "plt.figure(figsize=(12,8))\n",
        "plt.plot(xs,y_acc,label='train accuracy')\n",
        "plt.plot(xs,y_vloss, label = 'validation loss')\n",
        "plt.legend(),plt.grid()\n",
        "plt.xlabel('Epoch')\n",
        "plt.title('Fashion MNIST CNN model v2')\n",
        "plt.show()"
      ],
      "metadata": {
        "colab": {
          "base_uri": "https://localhost:8080/",
          "height": 513
        },
        "id": "-keej-l8nd2m",
        "outputId": "c488b77c-3c47-4c68-89f2-8f58a114f6d3"
      },
      "execution_count": 17,
      "outputs": [
        {
          "output_type": "display_data",
          "data": {
            "text/plain": [
              "<Figure size 864x576 with 1 Axes>"
            ],
            "image/png": "[encoded data removed]"
          },
          "metadata": {
            "needs_background": "light"
          }
        }
      ]
    },
    {
      "cell_type": "code",
      "source": [
        ""
      ],
      "metadata": {
        "id": "VWsgNtxynlDy"
      },
      "execution_count": null,
      "outputs": []
    }
  ]
}