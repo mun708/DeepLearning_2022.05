{
  "nbformat": 4,
  "nbformat_minor": 0,
  "metadata": {
    "colab": {
      "name": "02_MNIST_v2.ipynb",
      "provenance": [],
      "collapsed_sections": []
    },
    "kernelspec": {
      "name": "python3",
      "display_name": "Python 3"
    },
    "language_info": {
      "name": "python"
    },
    "accelerator": "GPU"
  },
  "cells": [
    {
      "cell_type": "markdown",
      "source": [
        "# MNIST 손글씨 - CNN v2\n",
        "- 2 X Conv2D layers\n",
        "- 1 MaxPooling2D layer\n",
        "- 1 FCN layer\n",
        "- 1 Output layer"
      ],
      "metadata": {
        "id": "QDiaSA0bY8sd"
      }
    },
    {
      "cell_type": "code",
      "source": [
        "import numpy as np\n",
        "import pandas as pd\n",
        "import matplotlib.pyplot as plt\n",
        "import tensorflow as tf\n",
        "seed = 2022\n",
        "np.random.seed(seed)\n",
        "tf.random.set_seed(seed)"
      ],
      "metadata": {
        "id": "6sGuypTqd_sO"
      },
      "execution_count": 1,
      "outputs": []
    },
    {
      "cell_type": "code",
      "source": [
        "from tensorflow.keras.datasets import mnist\n",
        "(X_train,y_train),(X_test,y_test) = mnist.load_data()\n",
        "X_train.shape,y_train.shape,X_test.shape,y_test.shape"
      ],
      "metadata": {
        "colab": {
          "base_uri": "https://localhost:8080/"
        },
        "id": "E4lBZKDNeHhQ",
        "outputId": "c34ef34e-5565-48ba-e07f-c38dfde8fbe6"
      },
      "execution_count": 2,
      "outputs": [
        {
          "output_type": "stream",
          "name": "stdout",
          "text": [
            "Downloading data from https://storage.googleapis.com/tensorflow/tf-keras-datasets/mnist.npz\n",
            "11493376/11490434 [==============================] - 0s 0us/step\n",
            "11501568/11490434 [==============================] - 0s 0us/step\n"
          ]
        },
        {
          "output_type": "execute_result",
          "data": {
            "text/plain": [
              "((60000, 28, 28), (60000,), (10000, 28, 28), (10000,))"
            ]
          },
          "metadata": {},
          "execution_count": 2
        }
      ]
    },
    {
      "cell_type": "code",
      "source": [
        "#  X_train, X_test 정규화(0~1) 및 이미지 차원 변경 : 2차원 --> 1차원\n",
        "X_train = X_train.reshape(-1, 28, 28, 1) / 255.\n",
        "X_test = X_test.reshape(-1, 28, 28, 1) / 255.\n",
        "\n",
        "X_train.shape, X_test.shape"
      ],
      "metadata": {
        "colab": {
          "base_uri": "https://localhost:8080/"
        },
        "id": "GOprtwrGePOF",
        "outputId": "90d58d78-1627-443d-e0e7-fba642016a1e"
      },
      "execution_count": 3,
      "outputs": [
        {
          "output_type": "execute_result",
          "data": {
            "text/plain": [
              "((60000, 28, 28, 1), (10000, 28, 28, 1))"
            ]
          },
          "metadata": {},
          "execution_count": 3
        }
      ]
    },
    {
      "cell_type": "code",
      "source": [
        "# One Hot encoding\n",
        "from tensorflow.keras.utils import to_categorical\n",
        "Y_train = to_categorical(y_train)\n",
        "Y_test = to_categorical(y_test)\n",
        "Y_train.shape, Y_test.shape"
      ],
      "metadata": {
        "colab": {
          "base_uri": "https://localhost:8080/"
        },
        "id": "JdfEp22Ve0WJ",
        "outputId": "8cd7cfac-804c-44f9-f105-487bb2c676fb"
      },
      "execution_count": 4,
      "outputs": [
        {
          "output_type": "execute_result",
          "data": {
            "text/plain": [
              "((60000, 10), (10000, 10))"
            ]
          },
          "metadata": {},
          "execution_count": 4
        }
      ]
    },
    {
      "cell_type": "markdown",
      "source": [
        "- 모델 정의/설정/학습/평가"
      ],
      "metadata": {
        "id": "KYj2zmdDfA6s"
      }
    },
    {
      "cell_type": "code",
      "source": [
        "from tensorflow.keras.models import Sequential, load_model\n",
        "from tensorflow.keras.layers import Dense, Conv2D, Flatten, MaxPooling2D\n",
        "from tensorflow.keras.callbacks import ModelCheckpoint, EarlyStopping"
      ],
      "metadata": {
        "id": "5azSp3QjfN7U"
      },
      "execution_count": 5,
      "outputs": []
    },
    {
      "cell_type": "code",
      "source": [
        "model = Sequential([\n",
        "        Conv2D(32, kernel_size=(3,3),input_shape=(28,28,1), activation='relu'),\n",
        "        Conv2D(64, (3,3), activation = 'relu'),\n",
        "        MaxPooling2D(),     # MaxPooling2D(pool_size=(2,2))\n",
        "        Flatten(),\n",
        "        Dense(512, activation='relu'),\n",
        "        Dense(10, activation='softmax')\n",
        "])\n",
        "model.summary()"
      ],
      "metadata": {
        "colab": {
          "base_uri": "https://localhost:8080/"
        },
        "id": "9wWQMdlhfP4_",
        "outputId": "a5bb83fb-f448-4026-8577-96c6f6ecb001"
      },
      "execution_count": 6,
      "outputs": [
        {
          "output_type": "stream",
          "name": "stdout",
          "text": [
            "Model: \"sequential\"\n",
            "_________________________________________________________________\n",
            " Layer (type)                Output Shape              Param #   \n",
            "=================================================================\n",
            " conv2d (Conv2D)             (None, 26, 26, 32)        320       \n",
            "                                                                 \n",
            " conv2d_1 (Conv2D)           (None, 24, 24, 64)        18496     \n",
            "                                                                 \n",
            " max_pooling2d (MaxPooling2D  (None, 12, 12, 64)       0         \n",
            " )                                                               \n",
            "                                                                 \n",
            " flatten (Flatten)           (None, 9216)              0         \n",
            "                                                                 \n",
            " dense (Dense)               (None, 512)               4719104   \n",
            "                                                                 \n",
            " dense_1 (Dense)             (None, 10)                5130      \n",
            "                                                                 \n",
            "=================================================================\n",
            "Total params: 4,743,050\n",
            "Trainable params: 4,743,050\n",
            "Non-trainable params: 0\n",
            "_________________________________________________________________\n"
          ]
        }
      ]
    },
    {
      "cell_type": "code",
      "source": [
        "model.compile('adam', 'categorical_crossentropy', ['accuracy'])"
      ],
      "metadata": {
        "id": "Xp6MpK0rhoPG"
      },
      "execution_count": 7,
      "outputs": []
    },
    {
      "cell_type": "code",
      "source": [
        "model_path = 'best_mnist_cnn_v2.h5'\n",
        "mc = ModelCheckpoint(model_path, save_best_only=True, verbose = 1)\n",
        "es = EarlyStopping(patience = 10)"
      ],
      "metadata": {
        "id": "I1Z4y-Eqi6E8"
      },
      "execution_count": 8,
      "outputs": []
    },
    {
      "cell_type": "code",
      "source": [
        "hist = model.fit(\n",
        "    X_train, Y_train, validation_split=0.2, epochs=100, batch_size=200,\n",
        "    callbacks=[mc,es]\n",
        ")"
      ],
      "metadata": {
        "colab": {
          "base_uri": "https://localhost:8080/"
        },
        "id": "BhbMM4XYliQt",
        "outputId": "d3b9a659-dae2-4d76-fda7-ab3e3d0cc61a"
      },
      "execution_count": 9,
      "outputs": [
        {
          "output_type": "stream",
          "name": "stdout",
          "text": [
            "Epoch 1/100\n",
            "240/240 [==============================] - ETA: 0s - loss: 0.1826 - accuracy: 0.9442\n",
            "Epoch 1: val_loss improved from inf to 0.06105, saving model to best_mnist_cnn_v2.h5\n",
            "240/240 [==============================] - 15s 15ms/step - loss: 0.1826 - accuracy: 0.9442 - val_loss: 0.0611 - val_accuracy: 0.9818\n",
            "Epoch 2/100\n",
            "239/240 [============================>.] - ETA: 0s - loss: 0.0438 - accuracy: 0.9863\n",
            "Epoch 2: val_loss improved from 0.06105 to 0.05740, saving model to best_mnist_cnn_v2.h5\n",
            "240/240 [==============================] - 3s 14ms/step - loss: 0.0437 - accuracy: 0.9863 - val_loss: 0.0574 - val_accuracy: 0.9849\n",
            "Epoch 3/100\n",
            "239/240 [============================>.] - ETA: 0s - loss: 0.0263 - accuracy: 0.9917\n",
            "Epoch 3: val_loss improved from 0.05740 to 0.03779, saving model to best_mnist_cnn_v2.h5\n",
            "240/240 [==============================] - 3s 14ms/step - loss: 0.0262 - accuracy: 0.9917 - val_loss: 0.0378 - val_accuracy: 0.9892\n",
            "Epoch 4/100\n",
            "237/240 [============================>.] - ETA: 0s - loss: 0.0168 - accuracy: 0.9947\n",
            "Epoch 4: val_loss did not improve from 0.03779\n",
            "240/240 [==============================] - 3s 13ms/step - loss: 0.0168 - accuracy: 0.9947 - val_loss: 0.0442 - val_accuracy: 0.9861\n",
            "Epoch 5/100\n",
            "236/240 [============================>.] - ETA: 0s - loss: 0.0110 - accuracy: 0.9964\n",
            "Epoch 5: val_loss did not improve from 0.03779\n",
            "240/240 [==============================] - 3s 13ms/step - loss: 0.0110 - accuracy: 0.9964 - val_loss: 0.0485 - val_accuracy: 0.9872\n",
            "Epoch 6/100\n",
            "238/240 [============================>.] - ETA: 0s - loss: 0.0097 - accuracy: 0.9968\n",
            "Epoch 6: val_loss did not improve from 0.03779\n",
            "240/240 [==============================] - 3s 13ms/step - loss: 0.0097 - accuracy: 0.9968 - val_loss: 0.0421 - val_accuracy: 0.9889\n",
            "Epoch 7/100\n",
            "238/240 [============================>.] - ETA: 0s - loss: 0.0073 - accuracy: 0.9978\n",
            "Epoch 7: val_loss did not improve from 0.03779\n",
            "240/240 [==============================] - 3s 13ms/step - loss: 0.0073 - accuracy: 0.9978 - val_loss: 0.0446 - val_accuracy: 0.9893\n",
            "Epoch 8/100\n",
            "238/240 [============================>.] - ETA: 0s - loss: 0.0043 - accuracy: 0.9986\n",
            "Epoch 8: val_loss did not improve from 0.03779\n",
            "240/240 [==============================] - 3s 13ms/step - loss: 0.0044 - accuracy: 0.9986 - val_loss: 0.0427 - val_accuracy: 0.9903\n",
            "Epoch 9/100\n",
            "237/240 [============================>.] - ETA: 0s - loss: 0.0038 - accuracy: 0.9986\n",
            "Epoch 9: val_loss did not improve from 0.03779\n",
            "240/240 [==============================] - 3s 13ms/step - loss: 0.0039 - accuracy: 0.9986 - val_loss: 0.0477 - val_accuracy: 0.9881\n",
            "Epoch 10/100\n",
            "240/240 [==============================] - ETA: 0s - loss: 0.0039 - accuracy: 0.9988\n",
            "Epoch 10: val_loss did not improve from 0.03779\n",
            "240/240 [==============================] - 3s 14ms/step - loss: 0.0039 - accuracy: 0.9988 - val_loss: 0.0617 - val_accuracy: 0.9882\n",
            "Epoch 11/100\n",
            "239/240 [============================>.] - ETA: 0s - loss: 0.0058 - accuracy: 0.9981\n",
            "Epoch 11: val_loss did not improve from 0.03779\n",
            "240/240 [==============================] - 3s 13ms/step - loss: 0.0058 - accuracy: 0.9981 - val_loss: 0.0532 - val_accuracy: 0.9883\n",
            "Epoch 12/100\n",
            "240/240 [==============================] - ETA: 0s - loss: 0.0018 - accuracy: 0.9995\n",
            "Epoch 12: val_loss did not improve from 0.03779\n",
            "240/240 [==============================] - 3s 13ms/step - loss: 0.0018 - accuracy: 0.9995 - val_loss: 0.0659 - val_accuracy: 0.9888\n",
            "Epoch 13/100\n",
            "237/240 [============================>.] - ETA: 0s - loss: 0.0022 - accuracy: 0.9994\n",
            "Epoch 13: val_loss did not improve from 0.03779\n",
            "240/240 [==============================] - 3s 14ms/step - loss: 0.0022 - accuracy: 0.9994 - val_loss: 0.0524 - val_accuracy: 0.9897\n"
          ]
        }
      ]
    },
    {
      "cell_type": "code",
      "source": [
        "best_model = load_model(model_path)\n",
        "best_model.evaluate(X_test, Y_test)"
      ],
      "metadata": {
        "colab": {
          "base_uri": "https://localhost:8080/"
        },
        "id": "jxHj_TcTm-eT",
        "outputId": "97e8f81a-f138-4efd-9ee1-4edc8a5d100f"
      },
      "execution_count": 10,
      "outputs": [
        {
          "output_type": "stream",
          "name": "stdout",
          "text": [
            "313/313 [==============================] - 1s 3ms/step - loss: 0.0360 - accuracy: 0.9888\n"
          ]
        },
        {
          "output_type": "execute_result",
          "data": {
            "text/plain": [
              "[0.03600480780005455, 0.9887999892234802]"
            ]
          },
          "metadata": {},
          "execution_count": 10
        }
      ]
    },
    {
      "cell_type": "markdown",
      "source": [
        "- 학습과정 시각화"
      ],
      "metadata": {
        "id": "5tDuOKazm-mu"
      }
    },
    {
      "cell_type": "code",
      "source": [
        "y_acc = hist.history['accuracy']\n",
        "y_vloss = hist.history['val_loss']\n",
        "xs = np.arange(1, len(y_acc)+1)"
      ],
      "metadata": {
        "id": "ckZkRdxAm-uP"
      },
      "execution_count": 11,
      "outputs": []
    },
    {
      "cell_type": "code",
      "source": [
        "plt.figure(figsize=(12,8))\n",
        "plt.plot(xs,y_acc,label='train accuracy')\n",
        "plt.plot(xs,y_vloss, label = 'validation loss')\n",
        "plt.legend(),plt.grid()\n",
        "plt.xlabel('Epoch')\n",
        "plt.title('MNIST CNN model v2')\n",
        "plt.show()"
      ],
      "metadata": {
        "colab": {
          "base_uri": "https://localhost:8080/",
          "height": 513
        },
        "id": "-keej-l8nd2m",
        "outputId": "ea233e6f-a130-450b-ee07-e51579cab458"
      },
      "execution_count": 12,
      "outputs": [
        {
          "output_type": "display_data",
          "data": {
            "text/plain": [
              "<Figure size 864x576 with 1 Axes>"
            ],
            "image/png": "[encoded data removed]"
          },
          "metadata": {
            "needs_background": "light"
          }
        }
      ]
    },
    {
      "cell_type": "code",
      "source": [
        ""
      ],
      "metadata": {
        "id": "VWsgNtxynlDy"
      },
      "execution_count": null,
      "outputs": []
    }
  ]
}