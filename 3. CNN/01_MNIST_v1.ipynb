{
  "nbformat": 4,
  "nbformat_minor": 0,
  "metadata": {
    "colab": {
      "name": "01_MNIST_v1.ipynb",
      "provenance": [],
      "collapsed_sections": []
    },
    "kernelspec": {
      "name": "python3",
      "display_name": "Python 3"
    },
    "language_info": {
      "name": "python"
    },
    "accelerator": "GPU"
  },
  "cells": [
    {
      "cell_type": "markdown",
      "source": [
        "# MNIST 손글씨 - CNN v1\n",
        "- 2 X Conv2D layers\n",
        "- 1 FCN layer\n",
        "- 1 Output layer"
      ],
      "metadata": {
        "id": "QDiaSA0bY8sd"
      }
    },
    {
      "cell_type": "code",
      "source": [
        "import numpy as np\n",
        "import pandas as pd\n",
        "import matplotlib.pyplot as plt\n",
        "import tensorflow as tf\n",
        "seed = 2022\n",
        "np.random.seed(seed)\n",
        "tf.random.set_seed(seed)"
      ],
      "metadata": {
        "id": "6sGuypTqd_sO"
      },
      "execution_count": 1,
      "outputs": []
    },
    {
      "cell_type": "code",
      "source": [
        "from tensorflow.keras.datasets import mnist\n",
        "(X_train,y_train),(X_test,y_test) = mnist.load_data()\n",
        "X_train.shape,y_train.shape,X_test.shape,y_test.shape"
      ],
      "metadata": {
        "colab": {
          "base_uri": "https://localhost:8080/"
        },
        "id": "E4lBZKDNeHhQ",
        "outputId": "04ef34a0-2406-4fa7-d9a5-89befe134c60"
      },
      "execution_count": 2,
      "outputs": [
        {
          "output_type": "stream",
          "name": "stdout",
          "text": [
            "Downloading data from https://storage.googleapis.com/tensorflow/tf-keras-datasets/mnist.npz\n",
            "11493376/11490434 [==============================] - 0s 0us/step\n",
            "11501568/11490434 [==============================] - 0s 0us/step\n"
          ]
        },
        {
          "output_type": "execute_result",
          "data": {
            "text/plain": [
              "((60000, 28, 28), (60000,), (10000, 28, 28), (10000,))"
            ]
          },
          "metadata": {},
          "execution_count": 2
        }
      ]
    },
    {
      "cell_type": "code",
      "source": [
        "#  X_train, X_test 정규화(0~1) 및 이미지 차원 변경 : 2차원 --> 1차원\n",
        "X_train = X_train.reshape(-1, 28, 28, 1) / 255.\n",
        "X_test = X_test.reshape(-1, 28, 28, 1) / 255.\n",
        "\n",
        "X_train.shape, X_test.shape"
      ],
      "metadata": {
        "colab": {
          "base_uri": "https://localhost:8080/"
        },
        "id": "GOprtwrGePOF",
        "outputId": "126309d2-057a-496d-f9a8-00c001b44daa"
      },
      "execution_count": 3,
      "outputs": [
        {
          "output_type": "execute_result",
          "data": {
            "text/plain": [
              "((60000, 28, 28, 1), (10000, 28, 28, 1))"
            ]
          },
          "metadata": {},
          "execution_count": 3
        }
      ]
    },
    {
      "cell_type": "code",
      "source": [
        "# One Hot encoding\n",
        "from tensorflow.keras.utils import to_categorical\n",
        "Y_train = to_categorical(y_train)\n",
        "Y_test = to_categorical(y_test)\n",
        "Y_train.shape, Y_test.shape"
      ],
      "metadata": {
        "colab": {
          "base_uri": "https://localhost:8080/"
        },
        "id": "JdfEp22Ve0WJ",
        "outputId": "336495e5-a2ec-4cc1-9c09-3dc427f22d51"
      },
      "execution_count": 4,
      "outputs": [
        {
          "output_type": "execute_result",
          "data": {
            "text/plain": [
              "((60000, 10), (10000, 10))"
            ]
          },
          "metadata": {},
          "execution_count": 4
        }
      ]
    },
    {
      "cell_type": "markdown",
      "source": [
        "- 모델 정의/설정/학습/평가"
      ],
      "metadata": {
        "id": "KYj2zmdDfA6s"
      }
    },
    {
      "cell_type": "code",
      "source": [
        "from tensorflow.keras.models import Sequential, load_model\n",
        "from tensorflow.keras.layers import Dense, Conv2D, Flatten\n",
        "from tensorflow.keras.callbacks import ModelCheckpoint, EarlyStopping"
      ],
      "metadata": {
        "id": "5azSp3QjfN7U"
      },
      "execution_count": 5,
      "outputs": []
    },
    {
      "cell_type": "code",
      "source": [
        "model = Sequential([\n",
        "        Conv2D(32, kernel_size=(3,3),input_shape=(28,28,1), activation='relu'),\n",
        "        Conv2D(64, (3,3), activation = 'relu'),\n",
        "        Flatten(),\n",
        "        Dense(512, activation='relu'),\n",
        "        Dense(10, activation='softmax')\n",
        "])\n",
        "model.summary()"
      ],
      "metadata": {
        "colab": {
          "base_uri": "https://localhost:8080/"
        },
        "id": "9wWQMdlhfP4_",
        "outputId": "19790085-f57f-45ab-9624-0d3356232eaf"
      },
      "execution_count": 6,
      "outputs": [
        {
          "output_type": "stream",
          "name": "stdout",
          "text": [
            "Model: \"sequential\"\n",
            "_________________________________________________________________\n",
            " Layer (type)                Output Shape              Param #   \n",
            "=================================================================\n",
            " conv2d (Conv2D)             (None, 26, 26, 32)        320       \n",
            "                                                                 \n",
            " conv2d_1 (Conv2D)           (None, 24, 24, 64)        18496     \n",
            "                                                                 \n",
            " flatten (Flatten)           (None, 36864)             0         \n",
            "                                                                 \n",
            " dense (Dense)               (None, 512)               18874880  \n",
            "                                                                 \n",
            " dense_1 (Dense)             (None, 10)                5130      \n",
            "                                                                 \n",
            "=================================================================\n",
            "Total params: 18,898,826\n",
            "Trainable params: 18,898,826\n",
            "Non-trainable params: 0\n",
            "_________________________________________________________________\n"
          ]
        }
      ]
    },
    {
      "cell_type": "code",
      "source": [
        "model.compile('adam', 'categorical_crossentropy', ['accuracy'])"
      ],
      "metadata": {
        "id": "Xp6MpK0rhoPG"
      },
      "execution_count": 7,
      "outputs": []
    },
    {
      "cell_type": "code",
      "source": [
        "model_path = 'best_mnist_cnn_v1.h5'\n",
        "mc = ModelCheckpoint(model_path, save_best_only=True, verbose = 1)\n",
        "es = EarlyStopping(patience = 10)"
      ],
      "metadata": {
        "id": "I1Z4y-Eqi6E8"
      },
      "execution_count": 8,
      "outputs": []
    },
    {
      "cell_type": "code",
      "source": [
        "hist = model.fit(\n",
        "    X_train, Y_train, validation_split=0.2, epochs=100, batch_size=200,\n",
        "    callbacks=[mc,es]\n",
        ")"
      ],
      "metadata": {
        "colab": {
          "base_uri": "https://localhost:8080/"
        },
        "id": "BhbMM4XYliQt",
        "outputId": "3487a250-22d0-437b-dcb9-2ae2b62d5f88"
      },
      "execution_count": 9,
      "outputs": [
        {
          "output_type": "stream",
          "name": "stdout",
          "text": [
            "Epoch 1/100\n",
            "238/240 [============================>.] - ETA: 0s - loss: 0.1528 - accuracy: 0.9528\n",
            "Epoch 1: val_loss improved from inf to 0.05647, saving model to best_mnist_cnn_v1.h5\n",
            "240/240 [==============================] - 16s 23ms/step - loss: 0.1520 - accuracy: 0.9531 - val_loss: 0.0565 - val_accuracy: 0.9831\n",
            "Epoch 2/100\n",
            "238/240 [============================>.] - ETA: 0s - loss: 0.0353 - accuracy: 0.9892\n",
            "Epoch 2: val_loss improved from 0.05647 to 0.05352, saving model to best_mnist_cnn_v1.h5\n",
            "240/240 [==============================] - 6s 23ms/step - loss: 0.0351 - accuracy: 0.9892 - val_loss: 0.0535 - val_accuracy: 0.9852\n",
            "Epoch 3/100\n",
            "238/240 [============================>.] - ETA: 0s - loss: 0.0173 - accuracy: 0.9947\n",
            "Epoch 3: val_loss improved from 0.05352 to 0.04666, saving model to best_mnist_cnn_v1.h5\n",
            "240/240 [==============================] - 5s 23ms/step - loss: 0.0172 - accuracy: 0.9947 - val_loss: 0.0467 - val_accuracy: 0.9863\n",
            "Epoch 4/100\n",
            "239/240 [============================>.] - ETA: 0s - loss: 0.0109 - accuracy: 0.9967\n",
            "Epoch 4: val_loss did not improve from 0.04666\n",
            "240/240 [==============================] - 5s 22ms/step - loss: 0.0109 - accuracy: 0.9967 - val_loss: 0.0491 - val_accuracy: 0.9861\n",
            "Epoch 5/100\n",
            "238/240 [============================>.] - ETA: 0s - loss: 0.0075 - accuracy: 0.9976\n",
            "Epoch 5: val_loss did not improve from 0.04666\n",
            "240/240 [==============================] - 5s 20ms/step - loss: 0.0074 - accuracy: 0.9977 - val_loss: 0.0490 - val_accuracy: 0.9882\n",
            "Epoch 6/100\n",
            "238/240 [============================>.] - ETA: 0s - loss: 0.0059 - accuracy: 0.9981\n",
            "Epoch 6: val_loss did not improve from 0.04666\n",
            "240/240 [==============================] - 5s 21ms/step - loss: 0.0059 - accuracy: 0.9981 - val_loss: 0.0563 - val_accuracy: 0.9856\n",
            "Epoch 7/100\n",
            "239/240 [============================>.] - ETA: 0s - loss: 0.0052 - accuracy: 0.9981\n",
            "Epoch 7: val_loss did not improve from 0.04666\n",
            "240/240 [==============================] - 5s 20ms/step - loss: 0.0052 - accuracy: 0.9981 - val_loss: 0.0583 - val_accuracy: 0.9883\n",
            "Epoch 8/100\n",
            "238/240 [============================>.] - ETA: 0s - loss: 0.0037 - accuracy: 0.9989\n",
            "Epoch 8: val_loss did not improve from 0.04666\n",
            "240/240 [==============================] - 5s 20ms/step - loss: 0.0038 - accuracy: 0.9988 - val_loss: 0.0556 - val_accuracy: 0.9893\n",
            "Epoch 9/100\n",
            "238/240 [============================>.] - ETA: 0s - loss: 0.0059 - accuracy: 0.9979\n",
            "Epoch 9: val_loss did not improve from 0.04666\n",
            "240/240 [==============================] - 5s 21ms/step - loss: 0.0059 - accuracy: 0.9980 - val_loss: 0.0511 - val_accuracy: 0.9894\n",
            "Epoch 10/100\n",
            "238/240 [============================>.] - ETA: 0s - loss: 0.0033 - accuracy: 0.9990\n",
            "Epoch 10: val_loss did not improve from 0.04666\n",
            "240/240 [==============================] - 5s 21ms/step - loss: 0.0033 - accuracy: 0.9990 - val_loss: 0.0577 - val_accuracy: 0.9887\n",
            "Epoch 11/100\n",
            "238/240 [============================>.] - ETA: 0s - loss: 9.8040e-04 - accuracy: 0.9998\n",
            "Epoch 11: val_loss did not improve from 0.04666\n",
            "240/240 [==============================] - 5s 22ms/step - loss: 9.7591e-04 - accuracy: 0.9998 - val_loss: 0.0560 - val_accuracy: 0.9894\n",
            "Epoch 12/100\n",
            "239/240 [============================>.] - ETA: 0s - loss: 4.5882e-04 - accuracy: 0.9999\n",
            "Epoch 12: val_loss did not improve from 0.04666\n",
            "240/240 [==============================] - 5s 20ms/step - loss: 4.5715e-04 - accuracy: 0.9999 - val_loss: 0.0564 - val_accuracy: 0.9896\n",
            "Epoch 13/100\n",
            "239/240 [============================>.] - ETA: 0s - loss: 0.0069 - accuracy: 0.9982\n",
            "Epoch 13: val_loss did not improve from 0.04666\n",
            "240/240 [==============================] - 5s 22ms/step - loss: 0.0069 - accuracy: 0.9982 - val_loss: 0.0620 - val_accuracy: 0.9857\n"
          ]
        }
      ]
    },
    {
      "cell_type": "code",
      "source": [
        "best_model = load_model(model_path)\n",
        "best_model.evaluate(X_test, Y_test)"
      ],
      "metadata": {
        "colab": {
          "base_uri": "https://localhost:8080/"
        },
        "id": "jxHj_TcTm-eT",
        "outputId": "666024d3-0b02-4227-8252-47f777a5e275"
      },
      "execution_count": 10,
      "outputs": [
        {
          "output_type": "stream",
          "name": "stdout",
          "text": [
            "313/313 [==============================] - 1s 4ms/step - loss: 0.0413 - accuracy: 0.9872\n"
          ]
        },
        {
          "output_type": "execute_result",
          "data": {
            "text/plain": [
              "[0.041281819343566895, 0.9872000217437744]"
            ]
          },
          "metadata": {},
          "execution_count": 10
        }
      ]
    },
    {
      "cell_type": "markdown",
      "source": [
        "- 학습과정 시각화"
      ],
      "metadata": {
        "id": "5tDuOKazm-mu"
      }
    },
    {
      "cell_type": "code",
      "source": [
        "y_acc = hist.history['accuracy']\n",
        "y_vloss = hist.history['val_loss']\n",
        "xs = np.arange(1, len(y_acc)+1)"
      ],
      "metadata": {
        "id": "ckZkRdxAm-uP"
      },
      "execution_count": 11,
      "outputs": []
    },
    {
      "cell_type": "code",
      "source": [
        "plt.figure(figsize=(12,8))\n",
        "plt.plot(xs,y_acc,label='train accuracy')\n",
        "plt.plot(xs,y_vloss, label = 'validation loss')\n",
        "plt.legend(),plt.grid()\n",
        "plt.xlabel('Epoch')\n",
        "plt.title('MNIST CNN model v1')\n",
        "plt.show()"
      ],
      "metadata": {
        "colab": {
          "base_uri": "https://localhost:8080/",
          "height": 459
        },
        "id": "-keej-l8nd2m",
        "outputId": "81412874-cf92-4d98-b09b-b6d3b836ca39"
      },
      "execution_count": 13,
      "outputs": [
        {
          "output_type": "display_data",
          "data": {
            "text/plain": [
              "<Figure size 864x576 with 1 Axes>"
            ],
            "image/png": "[encoded data removed]"
          },
          "metadata": {
            "needs_background": "light"
          }
        }
      ]
    },
    {
      "cell_type": "code",
      "source": [
        ""
      ],
      "metadata": {
        "id": "VWsgNtxynlDy"
      },
      "execution_count": null,
      "outputs": []
    }
  ]
}