{
  "nbformat": 4,
  "nbformat_minor": 0,
  "metadata": {
    "colab": {
      "name": "04_다중분류.ipynb",
      "provenance": [],
      "collapsed_sections": []
    },
    "kernelspec": {
      "name": "python3",
      "display_name": "Python 3"
    },
    "language_info": {
      "name": "python"
    }
  },
  "cells": [
    {
      "cell_type": "markdown",
      "source": [
        "# 다중 분류\n",
        "- Wine data"
      ],
      "metadata": {
        "id": "5nVZ8U4VOqxi"
      }
    },
    {
      "cell_type": "code",
      "source": [
        "import numpy as np\n",
        "import pandas as pd\n",
        "import matplotlib.pyplot as plt\n",
        "import tensorflow as tf\n",
        "seed = 2022\n",
        "np.random.seed(seed)\n",
        "tf.random.set_seed(seed)"
      ],
      "metadata": {
        "id": "li42y7tfPcR0"
      },
      "execution_count": 1,
      "outputs": []
    },
    {
      "cell_type": "markdown",
      "source": [
        "- 데이터 전처리"
      ],
      "metadata": {
        "id": "RtIPnCb5PkT_"
      }
    },
    {
      "cell_type": "code",
      "source": [
        "from sklearn.datasets import load_wine\n",
        "wine = load_wine()\n"
      ],
      "metadata": {
        "id": "m5jQ5sEYQIkH"
      },
      "execution_count": 2,
      "outputs": []
    },
    {
      "cell_type": "code",
      "source": [
        "wine.data.shape"
      ],
      "metadata": {
        "colab": {
          "base_uri": "https://localhost:8080/"
        },
        "id": "oJ0Es36BQOoF",
        "outputId": "b85e3138-4d6c-4c2a-b77b-5a37a18f377e"
      },
      "execution_count": 3,
      "outputs": [
        {
          "output_type": "execute_result",
          "data": {
            "text/plain": [
              "(178, 13)"
            ]
          },
          "metadata": {},
          "execution_count": 3
        }
      ]
    },
    {
      "cell_type": "code",
      "source": [
        "wine"
      ],
      "metadata": {
        "colab": {
          "base_uri": "https://localhost:8080/"
        },
        "id": "YCUkUrMmQ_X1",
        "outputId": "4c22ef6e-f0af-41ba-c6ae-9888608b6fe8"
      },
      "execution_count": 4,
      "outputs": [
        {
          "output_type": "execute_result",
          "data": {
            "text/plain": [
              "{'DESCR': '.. _wine_dataset:\\n\\nWine recognition dataset\\n------------------------\\n\\n**Data Set Characteristics:**\\n\\n    :Number of Instances: 178 (50 in each of three classes)\\n    :Number of Attributes: 13 numeric, predictive attributes and the class\\n    :Attribute Information:\\n \\t\\t- Alcohol\\n \\t\\t- Malic acid\\n \\t\\t- Ash\\n\\t\\t- Alcalinity of ash  \\n \\t\\t- Magnesium\\n\\t\\t- Total phenols\\n \\t\\t- Flavanoids\\n \\t\\t- Nonflavanoid phenols\\n \\t\\t- Proanthocyanins\\n\\t\\t- Color intensity\\n \\t\\t- Hue\\n \\t\\t- OD280/OD315 of diluted wines\\n \\t\\t- Proline\\n\\n    - class:\\n            - class_0\\n            - class_1\\n            - class_2\\n\\t\\t\\n    :Summary Statistics:\\n    \\n    ============================= ==== ===== ======= =====\\n                                   Min   Max   Mean     SD\\n    ============================= ==== ===== ======= =====\\n    Alcohol:                      11.0  14.8    13.0   0.8\\n    Malic Acid:                   0.74  5.80    2.34  1.12\\n    Ash:                          1.36  3.23    2.36  0.27\\n    Alcalinity of Ash:            10.6  30.0    19.5   3.3\\n    Magnesium:                    70.0 162.0    99.7  14.3\\n    Total Phenols:                0.98  3.88    2.29  0.63\\n    Flavanoids:                   0.34  5.08    2.03  1.00\\n    Nonflavanoid Phenols:         0.13  0.66    0.36  0.12\\n    Proanthocyanins:              0.41  3.58    1.59  0.57\\n    Colour Intensity:              1.3  13.0     5.1   2.3\\n    Hue:                          0.48  1.71    0.96  0.23\\n    OD280/OD315 of diluted wines: 1.27  4.00    2.61  0.71\\n    Proline:                       278  1680     746   315\\n    ============================= ==== ===== ======= =====\\n\\n    :Missing Attribute Values: None\\n    :Class Distribution: class_0 (59), class_1 (71), class_2 (48)\\n    :Creator: R.A. Fisher\\n    :Donor: Michael Marshall (MARSHALL%PLU@io.arc.nasa.gov)\\n    :Date: July, 1988\\n\\nThis is a copy of UCI ML Wine recognition datasets.\\nhttps://archive.ics.uci.edu/ml/machine-learning-databases/wine/wine.data\\n\\nThe data is the results of a chemical analysis of wines grown in the same\\nregion in Italy by three different cultivators. There are thirteen different\\nmeasurements taken for different constituents found in the three types of\\nwine.\\n\\nOriginal Owners: \\n\\nForina, M. et al, PARVUS - \\nAn Extendible Package for Data Exploration, Classification and Correlation. \\nInstitute of Pharmaceutical and Food Analysis and Technologies,\\nVia Brigata Salerno, 16147 Genoa, Italy.\\n\\nCitation:\\n\\nLichman, M. (2013). UCI Machine Learning Repository\\n[https://archive.ics.uci.edu/ml]. Irvine, CA: University of California,\\nSchool of Information and Computer Science. \\n\\n.. topic:: References\\n\\n  (1) S. Aeberhard, D. Coomans and O. de Vel, \\n  Comparison of Classifiers in High Dimensional Settings, \\n  Tech. Rep. no. 92-02, (1992), Dept. of Computer Science and Dept. of  \\n  Mathematics and Statistics, James Cook University of North Queensland. \\n  (Also submitted to Technometrics). \\n\\n  The data was used with many others for comparing various \\n  classifiers. The classes are separable, though only RDA \\n  has achieved 100% correct classification. \\n  (RDA : 100%, QDA 99.4%, LDA 98.9%, 1NN 96.1% (z-transformed data)) \\n  (All results using the leave-one-out technique) \\n\\n  (2) S. Aeberhard, D. Coomans and O. de Vel, \\n  \"THE CLASSIFICATION PERFORMANCE OF RDA\" \\n  Tech. Rep. no. 92-01, (1992), Dept. of Computer Science and Dept. of \\n  Mathematics and Statistics, James Cook University of North Queensland. \\n  (Also submitted to Journal of Chemometrics).\\n',\n",
              " 'data': array([[1.423e+01, 1.710e+00, 2.430e+00, ..., 1.040e+00, 3.920e+00,\n",
              "         1.065e+03],\n",
              "        [1.320e+01, 1.780e+00, 2.140e+00, ..., 1.050e+00, 3.400e+00,\n",
              "         1.050e+03],\n",
              "        [1.316e+01, 2.360e+00, 2.670e+00, ..., 1.030e+00, 3.170e+00,\n",
              "         1.185e+03],\n",
              "        ...,\n",
              "        [1.327e+01, 4.280e+00, 2.260e+00, ..., 5.900e-01, 1.560e+00,\n",
              "         8.350e+02],\n",
              "        [1.317e+01, 2.590e+00, 2.370e+00, ..., 6.000e-01, 1.620e+00,\n",
              "         8.400e+02],\n",
              "        [1.413e+01, 4.100e+00, 2.740e+00, ..., 6.100e-01, 1.600e+00,\n",
              "         5.600e+02]]),\n",
              " 'feature_names': ['alcohol',\n",
              "  'malic_acid',\n",
              "  'ash',\n",
              "  'alcalinity_of_ash',\n",
              "  'magnesium',\n",
              "  'total_phenols',\n",
              "  'flavanoids',\n",
              "  'nonflavanoid_phenols',\n",
              "  'proanthocyanins',\n",
              "  'color_intensity',\n",
              "  'hue',\n",
              "  'od280/od315_of_diluted_wines',\n",
              "  'proline'],\n",
              " 'frame': None,\n",
              " 'target': array([0, 0, 0, 0, 0, 0, 0, 0, 0, 0, 0, 0, 0, 0, 0, 0, 0, 0, 0, 0, 0, 0,\n",
              "        0, 0, 0, 0, 0, 0, 0, 0, 0, 0, 0, 0, 0, 0, 0, 0, 0, 0, 0, 0, 0, 0,\n",
              "        0, 0, 0, 0, 0, 0, 0, 0, 0, 0, 0, 0, 0, 0, 0, 1, 1, 1, 1, 1, 1, 1,\n",
              "        1, 1, 1, 1, 1, 1, 1, 1, 1, 1, 1, 1, 1, 1, 1, 1, 1, 1, 1, 1, 1, 1,\n",
              "        1, 1, 1, 1, 1, 1, 1, 1, 1, 1, 1, 1, 1, 1, 1, 1, 1, 1, 1, 1, 1, 1,\n",
              "        1, 1, 1, 1, 1, 1, 1, 1, 1, 1, 1, 1, 1, 1, 1, 1, 1, 1, 1, 1, 2, 2,\n",
              "        2, 2, 2, 2, 2, 2, 2, 2, 2, 2, 2, 2, 2, 2, 2, 2, 2, 2, 2, 2, 2, 2,\n",
              "        2, 2, 2, 2, 2, 2, 2, 2, 2, 2, 2, 2, 2, 2, 2, 2, 2, 2, 2, 2, 2, 2,\n",
              "        2, 2]),\n",
              " 'target_names': array(['class_0', 'class_1', 'class_2'], dtype='<U7')}"
            ]
          },
          "metadata": {},
          "execution_count": 4
        }
      ]
    },
    {
      "cell_type": "code",
      "source": [
        "#X 데이터는 표준화\n",
        "from sklearn.preprocessing import StandardScaler\n",
        "wine_std = StandardScaler().fit_transform(wine.data)"
      ],
      "metadata": {
        "id": "ZNv87VNGQUO0"
      },
      "execution_count": 5,
      "outputs": []
    },
    {
      "cell_type": "code",
      "source": [
        "# y데이터는 원핫인코딩\n",
        "from tensorflow.keras.utils import to_categorical\n",
        "Y = to_categorical(wine.target)\n",
        "Y[:5]"
      ],
      "metadata": {
        "colab": {
          "base_uri": "https://localhost:8080/"
        },
        "id": "8SkRMpwEQ02w",
        "outputId": "c5329d8f-7133-4d56-d626-98621542737a"
      },
      "execution_count": 6,
      "outputs": [
        {
          "output_type": "execute_result",
          "data": {
            "text/plain": [
              "array([[1., 0., 0.],\n",
              "       [1., 0., 0.],\n",
              "       [1., 0., 0.],\n",
              "       [1., 0., 0.],\n",
              "       [1., 0., 0.]], dtype=float32)"
            ]
          },
          "metadata": {},
          "execution_count": 6
        }
      ]
    },
    {
      "cell_type": "code",
      "source": [
        "from sklearn.model_selection import train_test_split\n",
        "X_train,X_test,Y_train,Y_test = train_test_split(\n",
        "    wine_std, Y, stratify=Y, test_size = 0.2, random_state = seed\n",
        ")\n",
        "X_train.shape,X_test.shape,Y_train.shape,Y_test.shape #Y를 원핫인코딩해서 3차원이 됨"
      ],
      "metadata": {
        "colab": {
          "base_uri": "https://localhost:8080/"
        },
        "id": "8pzx9gSzRND0",
        "outputId": "648fdfc8-8ae0-47e7-ad5d-00ddd0a0dc91"
      },
      "execution_count": 7,
      "outputs": [
        {
          "output_type": "execute_result",
          "data": {
            "text/plain": [
              "((142, 13), (36, 13), (142, 3), (36, 3))"
            ]
          },
          "metadata": {},
          "execution_count": 7
        }
      ]
    },
    {
      "cell_type": "markdown",
      "source": [
        "- 모델 정의/ 설정/ 학습/ 평가"
      ],
      "metadata": {
        "id": "YzgdOfkURxMu"
      }
    },
    {
      "cell_type": "code",
      "source": [
        "from tensorflow.keras.models import Sequential\n",
        "from tensorflow.keras.layers import Dense"
      ],
      "metadata": {
        "id": "afLFQywPR61N"
      },
      "execution_count": 8,
      "outputs": []
    },
    {
      "cell_type": "code",
      "source": [
        "model = Sequential([\n",
        "    Dense(30, input_dim = 13, activation='relu'), #첫번째 은닉층\n",
        "    Dense(12, activation='relu'),\n",
        "    Dense(3, activation='softmax')   #노드수는 Y의 종류(N)수, 활성화함수는 softmax\n",
        "])\n",
        "model.summary()"
      ],
      "metadata": {
        "colab": {
          "base_uri": "https://localhost:8080/"
        },
        "id": "uzQboG4TSDn9",
        "outputId": "25da45b1-8408-4f98-f420-d8e97abc414a"
      },
      "execution_count": 9,
      "outputs": [
        {
          "output_type": "stream",
          "name": "stdout",
          "text": [
            "Model: \"sequential\"\n",
            "_________________________________________________________________\n",
            " Layer (type)                Output Shape              Param #   \n",
            "=================================================================\n",
            " dense (Dense)               (None, 30)                420       \n",
            "                                                                 \n",
            " dense_1 (Dense)             (None, 12)                372       \n",
            "                                                                 \n",
            " dense_2 (Dense)             (None, 3)                 39        \n",
            "                                                                 \n",
            "=================================================================\n",
            "Total params: 831\n",
            "Trainable params: 831\n",
            "Non-trainable params: 0\n",
            "_________________________________________________________________\n"
          ]
        }
      ]
    },
    {
      "cell_type": "code",
      "source": [
        "# 다중분류 시 손실 함수는 categorical_crossentropy\n",
        "model.compile('adam', loss = 'categorical_crossentropy', metrics=['accuracy'])"
      ],
      "metadata": {
        "id": "nP6rbDjKS86t"
      },
      "execution_count": 10,
      "outputs": []
    },
    {
      "cell_type": "code",
      "source": [
        "#학습\n",
        "hist = model.fit(X_train, Y_train, validation_split=0.2, epochs = 100, batch_size=100)"
      ],
      "metadata": {
        "colab": {
          "base_uri": "https://localhost:8080/"
        },
        "id": "7dkslq64Tn7Y",
        "outputId": "fab6a540-fccc-4b61-d93f-e6b720e5491e"
      },
      "execution_count": 11,
      "outputs": [
        {
          "output_type": "stream",
          "name": "stdout",
          "text": [
            "Epoch 1/100\n",
            "2/2 [==============================] - 1s 152ms/step - loss: 1.9052 - accuracy: 0.3097 - val_loss: 1.6885 - val_accuracy: 0.2414\n",
            "Epoch 2/100\n",
            "2/2 [==============================] - 0s 24ms/step - loss: 1.7975 - accuracy: 0.3274 - val_loss: 1.5971 - val_accuracy: 0.2414\n",
            "Epoch 3/100\n",
            "2/2 [==============================] - 0s 23ms/step - loss: 1.6979 - accuracy: 0.3274 - val_loss: 1.5142 - val_accuracy: 0.2414\n",
            "Epoch 4/100\n",
            "2/2 [==============================] - 0s 20ms/step - loss: 1.6102 - accuracy: 0.3363 - val_loss: 1.4398 - val_accuracy: 0.2759\n",
            "Epoch 5/100\n",
            "2/2 [==============================] - 0s 21ms/step - loss: 1.5276 - accuracy: 0.3363 - val_loss: 1.3735 - val_accuracy: 0.3103\n",
            "Epoch 6/100\n",
            "2/2 [==============================] - 0s 24ms/step - loss: 1.4533 - accuracy: 0.3540 - val_loss: 1.3120 - val_accuracy: 0.3448\n",
            "Epoch 7/100\n",
            "2/2 [==============================] - 0s 22ms/step - loss: 1.3849 - accuracy: 0.3894 - val_loss: 1.2561 - val_accuracy: 0.3448\n",
            "Epoch 8/100\n",
            "2/2 [==============================] - 0s 25ms/step - loss: 1.3211 - accuracy: 0.3982 - val_loss: 1.2059 - val_accuracy: 0.3793\n",
            "Epoch 9/100\n",
            "2/2 [==============================] - 0s 21ms/step - loss: 1.2617 - accuracy: 0.4336 - val_loss: 1.1593 - val_accuracy: 0.4138\n",
            "Epoch 10/100\n",
            "2/2 [==============================] - 0s 28ms/step - loss: 1.2093 - accuracy: 0.4513 - val_loss: 1.1157 - val_accuracy: 0.4483\n",
            "Epoch 11/100\n",
            "2/2 [==============================] - 0s 22ms/step - loss: 1.1600 - accuracy: 0.4602 - val_loss: 1.0763 - val_accuracy: 0.5172\n",
            "Epoch 12/100\n",
            "2/2 [==============================] - 0s 23ms/step - loss: 1.1148 - accuracy: 0.4956 - val_loss: 1.0410 - val_accuracy: 0.5172\n",
            "Epoch 13/100\n",
            "2/2 [==============================] - 0s 24ms/step - loss: 1.0720 - accuracy: 0.4956 - val_loss: 1.0088 - val_accuracy: 0.5517\n",
            "Epoch 14/100\n",
            "2/2 [==============================] - 0s 24ms/step - loss: 1.0346 - accuracy: 0.5310 - val_loss: 0.9797 - val_accuracy: 0.5862\n",
            "Epoch 15/100\n",
            "2/2 [==============================] - 0s 24ms/step - loss: 1.0003 - accuracy: 0.5575 - val_loss: 0.9535 - val_accuracy: 0.5862\n",
            "Epoch 16/100\n",
            "2/2 [==============================] - 0s 21ms/step - loss: 0.9690 - accuracy: 0.5664 - val_loss: 0.9290 - val_accuracy: 0.6207\n",
            "Epoch 17/100\n",
            "2/2 [==============================] - 0s 22ms/step - loss: 0.9397 - accuracy: 0.5841 - val_loss: 0.9055 - val_accuracy: 0.6207\n",
            "Epoch 18/100\n",
            "2/2 [==============================] - 0s 24ms/step - loss: 0.9120 - accuracy: 0.5841 - val_loss: 0.8836 - val_accuracy: 0.6207\n",
            "Epoch 19/100\n",
            "2/2 [==============================] - 0s 25ms/step - loss: 0.8872 - accuracy: 0.5841 - val_loss: 0.8628 - val_accuracy: 0.6552\n",
            "Epoch 20/100\n",
            "2/2 [==============================] - 0s 26ms/step - loss: 0.8635 - accuracy: 0.6018 - val_loss: 0.8431 - val_accuracy: 0.6552\n",
            "Epoch 21/100\n",
            "2/2 [==============================] - 0s 25ms/step - loss: 0.8404 - accuracy: 0.6195 - val_loss: 0.8242 - val_accuracy: 0.6552\n",
            "Epoch 22/100\n",
            "2/2 [==============================] - 0s 23ms/step - loss: 0.8195 - accuracy: 0.6283 - val_loss: 0.8059 - val_accuracy: 0.6897\n",
            "Epoch 23/100\n",
            "2/2 [==============================] - 0s 23ms/step - loss: 0.7987 - accuracy: 0.6372 - val_loss: 0.7885 - val_accuracy: 0.6897\n",
            "Epoch 24/100\n",
            "2/2 [==============================] - 0s 55ms/step - loss: 0.7789 - accuracy: 0.6726 - val_loss: 0.7715 - val_accuracy: 0.6897\n",
            "Epoch 25/100\n",
            "2/2 [==============================] - 0s 49ms/step - loss: 0.7594 - accuracy: 0.7080 - val_loss: 0.7555 - val_accuracy: 0.6897\n",
            "Epoch 26/100\n",
            "2/2 [==============================] - 0s 41ms/step - loss: 0.7409 - accuracy: 0.7168 - val_loss: 0.7400 - val_accuracy: 0.7241\n",
            "Epoch 27/100\n",
            "2/2 [==============================] - 0s 36ms/step - loss: 0.7227 - accuracy: 0.7345 - val_loss: 0.7248 - val_accuracy: 0.7241\n",
            "Epoch 28/100\n",
            "2/2 [==============================] - 0s 40ms/step - loss: 0.7051 - accuracy: 0.7345 - val_loss: 0.7096 - val_accuracy: 0.7586\n",
            "Epoch 29/100\n",
            "2/2 [==============================] - 0s 40ms/step - loss: 0.6880 - accuracy: 0.7345 - val_loss: 0.6944 - val_accuracy: 0.7586\n",
            "Epoch 30/100\n",
            "2/2 [==============================] - 0s 33ms/step - loss: 0.6714 - accuracy: 0.7434 - val_loss: 0.6793 - val_accuracy: 0.7931\n",
            "Epoch 31/100\n",
            "2/2 [==============================] - 0s 36ms/step - loss: 0.6553 - accuracy: 0.7699 - val_loss: 0.6641 - val_accuracy: 0.7931\n",
            "Epoch 32/100\n",
            "2/2 [==============================] - 0s 28ms/step - loss: 0.6397 - accuracy: 0.7876 - val_loss: 0.6491 - val_accuracy: 0.8276\n",
            "Epoch 33/100\n",
            "2/2 [==============================] - 0s 61ms/step - loss: 0.6246 - accuracy: 0.8053 - val_loss: 0.6346 - val_accuracy: 0.8966\n",
            "Epoch 34/100\n",
            "2/2 [==============================] - 0s 30ms/step - loss: 0.6100 - accuracy: 0.8053 - val_loss: 0.6205 - val_accuracy: 0.8966\n",
            "Epoch 35/100\n",
            "2/2 [==============================] - 0s 33ms/step - loss: 0.5959 - accuracy: 0.8053 - val_loss: 0.6070 - val_accuracy: 0.8966\n",
            "Epoch 36/100\n",
            "2/2 [==============================] - 0s 35ms/step - loss: 0.5821 - accuracy: 0.8230 - val_loss: 0.5943 - val_accuracy: 0.8966\n",
            "Epoch 37/100\n",
            "2/2 [==============================] - 0s 28ms/step - loss: 0.5684 - accuracy: 0.8230 - val_loss: 0.5824 - val_accuracy: 0.8966\n",
            "Epoch 38/100\n",
            "2/2 [==============================] - 0s 34ms/step - loss: 0.5550 - accuracy: 0.8319 - val_loss: 0.5708 - val_accuracy: 0.8966\n",
            "Epoch 39/100\n",
            "2/2 [==============================] - 0s 34ms/step - loss: 0.5417 - accuracy: 0.8407 - val_loss: 0.5593 - val_accuracy: 0.8966\n",
            "Epoch 40/100\n",
            "2/2 [==============================] - 0s 37ms/step - loss: 0.5288 - accuracy: 0.8496 - val_loss: 0.5478 - val_accuracy: 0.8966\n",
            "Epoch 41/100\n",
            "2/2 [==============================] - 0s 29ms/step - loss: 0.5163 - accuracy: 0.8673 - val_loss: 0.5362 - val_accuracy: 0.8966\n",
            "Epoch 42/100\n",
            "2/2 [==============================] - 0s 33ms/step - loss: 0.5042 - accuracy: 0.8673 - val_loss: 0.5248 - val_accuracy: 0.8966\n",
            "Epoch 43/100\n",
            "2/2 [==============================] - 0s 34ms/step - loss: 0.4924 - accuracy: 0.8673 - val_loss: 0.5138 - val_accuracy: 0.8966\n",
            "Epoch 44/100\n",
            "2/2 [==============================] - 0s 36ms/step - loss: 0.4807 - accuracy: 0.8761 - val_loss: 0.5032 - val_accuracy: 0.8966\n",
            "Epoch 45/100\n",
            "2/2 [==============================] - 0s 26ms/step - loss: 0.4695 - accuracy: 0.8761 - val_loss: 0.4930 - val_accuracy: 0.8966\n",
            "Epoch 46/100\n",
            "2/2 [==============================] - 0s 34ms/step - loss: 0.4583 - accuracy: 0.8761 - val_loss: 0.4829 - val_accuracy: 0.8966\n",
            "Epoch 47/100\n",
            "2/2 [==============================] - 0s 51ms/step - loss: 0.4476 - accuracy: 0.8761 - val_loss: 0.4731 - val_accuracy: 0.8966\n",
            "Epoch 48/100\n",
            "2/2 [==============================] - 0s 36ms/step - loss: 0.4373 - accuracy: 0.9027 - val_loss: 0.4639 - val_accuracy: 0.8966\n",
            "Epoch 49/100\n",
            "2/2 [==============================] - 0s 41ms/step - loss: 0.4273 - accuracy: 0.9204 - val_loss: 0.4548 - val_accuracy: 0.8966\n",
            "Epoch 50/100\n",
            "2/2 [==============================] - 0s 32ms/step - loss: 0.4174 - accuracy: 0.9381 - val_loss: 0.4461 - val_accuracy: 0.8966\n",
            "Epoch 51/100\n",
            "2/2 [==============================] - 0s 32ms/step - loss: 0.4080 - accuracy: 0.9381 - val_loss: 0.4377 - val_accuracy: 0.8966\n",
            "Epoch 52/100\n",
            "2/2 [==============================] - 0s 33ms/step - loss: 0.3987 - accuracy: 0.9558 - val_loss: 0.4295 - val_accuracy: 0.9310\n",
            "Epoch 53/100\n",
            "2/2 [==============================] - 0s 51ms/step - loss: 0.3898 - accuracy: 0.9558 - val_loss: 0.4213 - val_accuracy: 0.9310\n",
            "Epoch 54/100\n",
            "2/2 [==============================] - 0s 64ms/step - loss: 0.3812 - accuracy: 0.9558 - val_loss: 0.4131 - val_accuracy: 0.9310\n",
            "Epoch 55/100\n",
            "2/2 [==============================] - 0s 80ms/step - loss: 0.3729 - accuracy: 0.9558 - val_loss: 0.4050 - val_accuracy: 0.9310\n",
            "Epoch 56/100\n",
            "2/2 [==============================] - 0s 58ms/step - loss: 0.3648 - accuracy: 0.9646 - val_loss: 0.3968 - val_accuracy: 0.9310\n",
            "Epoch 57/100\n",
            "2/2 [==============================] - 0s 41ms/step - loss: 0.3570 - accuracy: 0.9646 - val_loss: 0.3886 - val_accuracy: 0.9310\n",
            "Epoch 58/100\n",
            "2/2 [==============================] - 0s 31ms/step - loss: 0.3487 - accuracy: 0.9646 - val_loss: 0.3803 - val_accuracy: 0.9310\n",
            "Epoch 59/100\n",
            "2/2 [==============================] - 0s 27ms/step - loss: 0.3406 - accuracy: 0.9735 - val_loss: 0.3722 - val_accuracy: 0.9310\n",
            "Epoch 60/100\n",
            "2/2 [==============================] - 0s 29ms/step - loss: 0.3325 - accuracy: 0.9735 - val_loss: 0.3644 - val_accuracy: 0.9310\n",
            "Epoch 61/100\n",
            "2/2 [==============================] - 0s 29ms/step - loss: 0.3244 - accuracy: 0.9735 - val_loss: 0.3568 - val_accuracy: 0.9310\n",
            "Epoch 62/100\n",
            "2/2 [==============================] - 0s 34ms/step - loss: 0.3162 - accuracy: 0.9735 - val_loss: 0.3494 - val_accuracy: 0.9310\n",
            "Epoch 63/100\n",
            "2/2 [==============================] - 0s 25ms/step - loss: 0.3085 - accuracy: 0.9735 - val_loss: 0.3420 - val_accuracy: 0.9310\n",
            "Epoch 64/100\n",
            "2/2 [==============================] - 0s 62ms/step - loss: 0.3007 - accuracy: 0.9735 - val_loss: 0.3347 - val_accuracy: 0.9310\n",
            "Epoch 65/100\n",
            "2/2 [==============================] - 0s 34ms/step - loss: 0.2932 - accuracy: 0.9735 - val_loss: 0.3275 - val_accuracy: 0.9310\n",
            "Epoch 66/100\n",
            "2/2 [==============================] - 0s 27ms/step - loss: 0.2860 - accuracy: 0.9735 - val_loss: 0.3206 - val_accuracy: 0.9310\n",
            "Epoch 67/100\n",
            "2/2 [==============================] - 0s 34ms/step - loss: 0.2789 - accuracy: 0.9735 - val_loss: 0.3137 - val_accuracy: 0.9310\n",
            "Epoch 68/100\n",
            "2/2 [==============================] - 0s 27ms/step - loss: 0.2717 - accuracy: 0.9735 - val_loss: 0.3070 - val_accuracy: 0.9310\n",
            "Epoch 69/100\n",
            "2/2 [==============================] - 0s 29ms/step - loss: 0.2651 - accuracy: 0.9735 - val_loss: 0.3005 - val_accuracy: 0.9310\n",
            "Epoch 70/100\n",
            "2/2 [==============================] - 0s 68ms/step - loss: 0.2581 - accuracy: 0.9735 - val_loss: 0.2941 - val_accuracy: 0.9655\n",
            "Epoch 71/100\n",
            "2/2 [==============================] - 0s 42ms/step - loss: 0.2514 - accuracy: 0.9735 - val_loss: 0.2877 - val_accuracy: 0.9655\n",
            "Epoch 72/100\n",
            "2/2 [==============================] - 0s 54ms/step - loss: 0.2451 - accuracy: 0.9735 - val_loss: 0.2813 - val_accuracy: 0.9655\n",
            "Epoch 73/100\n",
            "2/2 [==============================] - 0s 47ms/step - loss: 0.2387 - accuracy: 0.9735 - val_loss: 0.2748 - val_accuracy: 0.9655\n",
            "Epoch 74/100\n",
            "2/2 [==============================] - 0s 32ms/step - loss: 0.2327 - accuracy: 0.9735 - val_loss: 0.2682 - val_accuracy: 0.9655\n",
            "Epoch 75/100\n",
            "2/2 [==============================] - 0s 75ms/step - loss: 0.2268 - accuracy: 0.9735 - val_loss: 0.2614 - val_accuracy: 0.9655\n",
            "Epoch 76/100\n",
            "2/2 [==============================] - 0s 33ms/step - loss: 0.2209 - accuracy: 0.9735 - val_loss: 0.2546 - val_accuracy: 0.9655\n",
            "Epoch 77/100\n",
            "2/2 [==============================] - 0s 77ms/step - loss: 0.2153 - accuracy: 0.9735 - val_loss: 0.2481 - val_accuracy: 0.9655\n",
            "Epoch 78/100\n",
            "2/2 [==============================] - 0s 44ms/step - loss: 0.2098 - accuracy: 0.9735 - val_loss: 0.2416 - val_accuracy: 0.9655\n",
            "Epoch 79/100\n",
            "2/2 [==============================] - 0s 37ms/step - loss: 0.2045 - accuracy: 0.9735 - val_loss: 0.2352 - val_accuracy: 0.9655\n",
            "Epoch 80/100\n",
            "2/2 [==============================] - 0s 36ms/step - loss: 0.1996 - accuracy: 0.9735 - val_loss: 0.2289 - val_accuracy: 0.9655\n",
            "Epoch 81/100\n",
            "2/2 [==============================] - 0s 62ms/step - loss: 0.1945 - accuracy: 0.9735 - val_loss: 0.2229 - val_accuracy: 0.9655\n",
            "Epoch 82/100\n",
            "2/2 [==============================] - 0s 33ms/step - loss: 0.1898 - accuracy: 0.9735 - val_loss: 0.2171 - val_accuracy: 0.9655\n",
            "Epoch 83/100\n",
            "2/2 [==============================] - 0s 35ms/step - loss: 0.1850 - accuracy: 0.9735 - val_loss: 0.2115 - val_accuracy: 0.9655\n",
            "Epoch 84/100\n",
            "2/2 [==============================] - 0s 38ms/step - loss: 0.1805 - accuracy: 0.9735 - val_loss: 0.2060 - val_accuracy: 0.9655\n",
            "Epoch 85/100\n",
            "2/2 [==============================] - 0s 31ms/step - loss: 0.1759 - accuracy: 0.9735 - val_loss: 0.2005 - val_accuracy: 0.9655\n",
            "Epoch 86/100\n",
            "2/2 [==============================] - 0s 38ms/step - loss: 0.1716 - accuracy: 0.9735 - val_loss: 0.1950 - val_accuracy: 0.9655\n",
            "Epoch 87/100\n",
            "2/2 [==============================] - 0s 33ms/step - loss: 0.1675 - accuracy: 0.9735 - val_loss: 0.1898 - val_accuracy: 0.9655\n",
            "Epoch 88/100\n",
            "2/2 [==============================] - 0s 35ms/step - loss: 0.1634 - accuracy: 0.9735 - val_loss: 0.1848 - val_accuracy: 0.9655\n",
            "Epoch 89/100\n",
            "2/2 [==============================] - 0s 31ms/step - loss: 0.1595 - accuracy: 0.9735 - val_loss: 0.1798 - val_accuracy: 0.9655\n",
            "Epoch 90/100\n",
            "2/2 [==============================] - 0s 31ms/step - loss: 0.1556 - accuracy: 0.9735 - val_loss: 0.1750 - val_accuracy: 0.9655\n",
            "Epoch 91/100\n",
            "2/2 [==============================] - 0s 28ms/step - loss: 0.1517 - accuracy: 0.9735 - val_loss: 0.1703 - val_accuracy: 0.9655\n",
            "Epoch 92/100\n",
            "2/2 [==============================] - 0s 103ms/step - loss: 0.1483 - accuracy: 0.9823 - val_loss: 0.1659 - val_accuracy: 1.0000\n",
            "Epoch 93/100\n",
            "2/2 [==============================] - 0s 32ms/step - loss: 0.1448 - accuracy: 0.9823 - val_loss: 0.1617 - val_accuracy: 1.0000\n",
            "Epoch 94/100\n",
            "2/2 [==============================] - 0s 29ms/step - loss: 0.1415 - accuracy: 0.9823 - val_loss: 0.1578 - val_accuracy: 1.0000\n",
            "Epoch 95/100\n",
            "2/2 [==============================] - 0s 36ms/step - loss: 0.1382 - accuracy: 0.9823 - val_loss: 0.1541 - val_accuracy: 1.0000\n",
            "Epoch 96/100\n",
            "2/2 [==============================] - 0s 28ms/step - loss: 0.1351 - accuracy: 0.9823 - val_loss: 0.1507 - val_accuracy: 1.0000\n",
            "Epoch 97/100\n",
            "2/2 [==============================] - 0s 49ms/step - loss: 0.1320 - accuracy: 0.9823 - val_loss: 0.1475 - val_accuracy: 1.0000\n",
            "Epoch 98/100\n",
            "2/2 [==============================] - 0s 46ms/step - loss: 0.1291 - accuracy: 0.9823 - val_loss: 0.1444 - val_accuracy: 1.0000\n",
            "Epoch 99/100\n",
            "2/2 [==============================] - 0s 40ms/step - loss: 0.1264 - accuracy: 0.9823 - val_loss: 0.1414 - val_accuracy: 1.0000\n",
            "Epoch 100/100\n",
            "2/2 [==============================] - 0s 30ms/step - loss: 0.1237 - accuracy: 0.9823 - val_loss: 0.1385 - val_accuracy: 1.0000\n"
          ]
        }
      ]
    },
    {
      "cell_type": "code",
      "source": [
        "model.evaluate(X_test,Y_test)"
      ],
      "metadata": {
        "colab": {
          "base_uri": "https://localhost:8080/"
        },
        "id": "xPAGsbEPT-UT",
        "outputId": "eaa4212f-0e04-4b91-9251-e8edab491840"
      },
      "execution_count": 12,
      "outputs": [
        {
          "output_type": "stream",
          "name": "stdout",
          "text": [
            "2/2 [==============================] - 0s 4ms/step - loss: 0.1301 - accuracy: 0.9722\n"
          ]
        },
        {
          "output_type": "execute_result",
          "data": {
            "text/plain": [
              "[0.13005691766738892, 0.9722222089767456]"
            ]
          },
          "metadata": {},
          "execution_count": 12
        }
      ]
    },
    {
      "cell_type": "markdown",
      "source": [
        "- 학습과정 시각화"
      ],
      "metadata": {
        "id": "iTmi2BceUL3e"
      }
    },
    {
      "cell_type": "code",
      "source": [
        "y_acc = hist.history['accuracy']\n",
        "y_vloss = hist.history['val_loss']\n",
        "xs = np.arange(1, len(y_acc)+1)"
      ],
      "metadata": {
        "id": "t22nYywfUW1J"
      },
      "execution_count": 13,
      "outputs": []
    },
    {
      "cell_type": "code",
      "source": [
        "plt.figure(figsize=(12,8))\n",
        "plt.plot(xs,y_acc,label='train accuracy')\n",
        "plt.plot(xs,y_vloss, label = 'validation loss')\n",
        "plt.legend(),plt.grid()\n",
        "plt.xlabel('Epoch')\n",
        "plt.show()"
      ],
      "metadata": {
        "colab": {
          "base_uri": "https://localhost:8080/",
          "height": 476
        },
        "id": "pqSU0U6HUXb-",
        "outputId": "ac0fb705-3d8e-445c-be39-61d021ef6e64"
      },
      "execution_count": 14,
      "outputs": [
        {
          "output_type": "display_data",
          "data": {
            "text/plain": [
              "<Figure size 864x576 with 1 Axes>"
            ],
            "image/png": "[encoded data removed]"
          },
          "metadata": {
            "needs_background": "light"
          }
        }
      ]
    },
    {
      "cell_type": "markdown",
      "source": [
        "- Epoch 횟수를 늘려서 학습을 더 해보자"
      ],
      "metadata": {
        "id": "429tlBaqUXje"
      }
    },
    {
      "cell_type": "code",
      "source": [
        "model2 = Sequential([\n",
        "    Dense(30, input_dim = 13, activation='relu'), #첫번째 은닉층\n",
        "    Dense(12, activation='relu'),\n",
        "    Dense(3, activation='softmax')   #노드수는 Y의 종류(N)수, 활성화함수는 softmax\n",
        "])\n",
        "model2.summary()"
      ],
      "metadata": {
        "colab": {
          "base_uri": "https://localhost:8080/"
        },
        "id": "as7qIVdUVd2x",
        "outputId": "c1a688e6-e4fe-4a0d-e522-712da9348f6b"
      },
      "execution_count": 15,
      "outputs": [
        {
          "output_type": "stream",
          "name": "stdout",
          "text": [
            "Model: \"sequential_1\"\n",
            "_________________________________________________________________\n",
            " Layer (type)                Output Shape              Param #   \n",
            "=================================================================\n",
            " dense_3 (Dense)             (None, 30)                420       \n",
            "                                                                 \n",
            " dense_4 (Dense)             (None, 12)                372       \n",
            "                                                                 \n",
            " dense_5 (Dense)             (None, 3)                 39        \n",
            "                                                                 \n",
            "=================================================================\n",
            "Total params: 831\n",
            "Trainable params: 831\n",
            "Non-trainable params: 0\n",
            "_________________________________________________________________\n"
          ]
        }
      ]
    },
    {
      "cell_type": "code",
      "source": [
        "# 다중분류 시 손실 함수는 categorical_crossentropy\n",
        "model2.compile('adam', loss = 'categorical_crossentropy', metrics=['accuracy'])"
      ],
      "metadata": {
        "id": "7GAXi1g5Vepv"
      },
      "execution_count": 16,
      "outputs": []
    },
    {
      "cell_type": "code",
      "source": [
        "hist2 = model2.fit(X_train, Y_train, validation_split=0.2,\n",
        "                   epochs = 1000, batch_size=100, verbose=0)"
      ],
      "metadata": {
        "id": "EsTfh-bxVett"
      },
      "execution_count": 17,
      "outputs": []
    },
    {
      "cell_type": "code",
      "source": [
        "model2.evaluate(X_test,Y_test)"
      ],
      "metadata": {
        "colab": {
          "base_uri": "https://localhost:8080/"
        },
        "id": "ps9ZtZo4Wi5E",
        "outputId": "0911aeb7-d311-4578-f536-2f6d9ffc62e1"
      },
      "execution_count": 18,
      "outputs": [
        {
          "output_type": "stream",
          "name": "stdout",
          "text": [
            "2/2 [==============================] - 0s 6ms/step - loss: 6.3747e-04 - accuracy: 1.0000\n"
          ]
        },
        {
          "output_type": "execute_result",
          "data": {
            "text/plain": [
              "[0.0006374737713485956, 1.0]"
            ]
          },
          "metadata": {},
          "execution_count": 18
        }
      ]
    },
    {
      "cell_type": "code",
      "source": [
        "y_acc2 = hist2.history['accuracy']\n",
        "y_vloss2 = hist2.history['val_loss']\n",
        "xs2 = np.arange(1, len(y_acc2)+1)"
      ],
      "metadata": {
        "id": "0A2ZjvK6Vew9"
      },
      "execution_count": 19,
      "outputs": []
    },
    {
      "cell_type": "code",
      "source": [
        "plt.figure(figsize=(12,8))\n",
        "plt.plot(xs2,y_acc2,label='train accuracy')\n",
        "plt.plot(xs2,y_vloss2, label = 'validation loss')\n",
        "plt.legend(),plt.grid()\n",
        "plt.xlabel('Epoch')\n",
        "plt.show()"
      ],
      "metadata": {
        "colab": {
          "base_uri": "https://localhost:8080/",
          "height": 476
        },
        "id": "Yd6AVYF7Ve0F",
        "outputId": "4ba0ec49-0c1a-4da1-962b-184bd5fcfbd9"
      },
      "execution_count": 20,
      "outputs": [
        {
          "output_type": "display_data",
          "data": {
            "text/plain": [
              "<Figure size 864x576 with 1 Axes>"
            ],
            "image/png": "[encoded data removed]"
          },
          "metadata": {
            "needs_background": "light"
          }
        }
      ]
    },
    {
      "cell_type": "markdown",
      "source": [
        "- 모델 저장 및 로드"
      ],
      "metadata": {
        "id": "mFqDor6JVe3p"
      }
    },
    {
      "cell_type": "code",
      "source": [
        "model2.save('wine.h5')"
      ],
      "metadata": {
        "id": "mJraIbkWWyYf"
      },
      "execution_count": 21,
      "outputs": []
    },
    {
      "cell_type": "code",
      "source": [
        "!ls -l"
      ],
      "metadata": {
        "colab": {
          "base_uri": "https://localhost:8080/"
        },
        "id": "oEVSzT2kXZYd",
        "outputId": "051420ed-bd6d-43ff-d62d-baeb402acb38"
      },
      "execution_count": 22,
      "outputs": [
        {
          "output_type": "stream",
          "name": "stdout",
          "text": [
            "total 48\n",
            "drwxr-xr-x 1 root root  4096 May 17 13:39 sample_data\n",
            "-rw-r--r-- 1 root root 43704 May 23 00:59 wine.h5\n"
          ]
        }
      ]
    },
    {
      "cell_type": "code",
      "source": [
        "from tensorflow.keras.models import load_model\n",
        "my_model = load_model('wine.h5')"
      ],
      "metadata": {
        "id": "2LRIj9gGXgT9"
      },
      "execution_count": 23,
      "outputs": []
    },
    {
      "cell_type": "code",
      "source": [
        "my_model.evaluate(X_test,Y_test)"
      ],
      "metadata": {
        "colab": {
          "base_uri": "https://localhost:8080/"
        },
        "id": "R3Mkm0cxXzWs",
        "outputId": "ceb15ef6-7b0b-4a35-cb52-a0fe805c327e"
      },
      "execution_count": 24,
      "outputs": [
        {
          "output_type": "stream",
          "name": "stdout",
          "text": [
            "2/2 [==============================] - 0s 3ms/step - loss: 6.3747e-04 - accuracy: 1.0000\n"
          ]
        },
        {
          "output_type": "execute_result",
          "data": {
            "text/plain": [
              "[0.0006374737713485956, 1.0]"
            ]
          },
          "metadata": {},
          "execution_count": 24
        }
      ]
    },
    {
      "cell_type": "markdown",
      "source": [
        "- 실제 데이터로 테스트"
      ],
      "metadata": {
        "id": "mmOTfqIUX5eF"
      }
    },
    {
      "cell_type": "code",
      "source": [
        "wine_std[100], Y[100]"
      ],
      "metadata": {
        "colab": {
          "base_uri": "https://localhost:8080/"
        },
        "id": "abyxydSLYGlm",
        "outputId": "afdb1a11-6656-45fc-822c-ca82d898e425"
      },
      "execution_count": 25,
      "outputs": [
        {
          "output_type": "execute_result",
          "data": {
            "text/plain": [
              "(array([-1.13720713, -0.23011443, -2.43634632, -0.59905169, -0.192495  ,\n",
              "        -0.10433159,  0.14128858, -0.82071924, -0.33447089, -0.76049691,\n",
              "         1.37126518,  0.49197446, -0.11748635]),\n",
              " array([0., 1., 0.], dtype=float32))"
            ]
          },
          "metadata": {},
          "execution_count": 25
        }
      ]
    },
    {
      "cell_type": "code",
      "source": [
        "wine.target_names"
      ],
      "metadata": {
        "colab": {
          "base_uri": "https://localhost:8080/"
        },
        "id": "3usNKVqdYQcz",
        "outputId": "95ef28e8-f3fa-4469-afe1-d738b9e8c7fd"
      },
      "execution_count": 26,
      "outputs": [
        {
          "output_type": "execute_result",
          "data": {
            "text/plain": [
              "array(['class_0', 'class_1', 'class_2'], dtype='<U7')"
            ]
          },
          "metadata": {},
          "execution_count": 26
        }
      ]
    },
    {
      "cell_type": "code",
      "source": [
        "my_model.evaluate(wine_std[100].reshape(1,-1),Y[100].reshape(1,-1))"
      ],
      "metadata": {
        "colab": {
          "base_uri": "https://localhost:8080/"
        },
        "id": "zdftQ0MLYZpT",
        "outputId": "401e8ceb-8592-4f69-f561-1c167162bced"
      },
      "execution_count": 27,
      "outputs": [
        {
          "output_type": "stream",
          "name": "stdout",
          "text": [
            "1/1 [==============================] - 0s 15ms/step - loss: 1.9073e-06 - accuracy: 1.0000\n"
          ]
        },
        {
          "output_type": "execute_result",
          "data": {
            "text/plain": [
              "[1.9073468138230965e-06, 1.0]"
            ]
          },
          "metadata": {},
          "execution_count": 27
        }
      ]
    },
    {
      "cell_type": "code",
      "source": [
        ""
      ],
      "metadata": {
        "id": "9bMpCXqWYrmO"
      },
      "execution_count": 27,
      "outputs": []
    }
  ]
}