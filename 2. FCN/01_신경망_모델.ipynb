{
  "nbformat": 4,
  "nbformat_minor": 0,
  "metadata": {
    "colab": {
      "name": "01_신경망 모델.ipynb",
      "provenance": [],
      "collapsed_sections": []
    },
    "kernelspec": {
      "name": "python3",
      "display_name": "Python 3"
    },
    "language_info": {
      "name": "python"
    }
  },
  "cells": [
    {
      "cell_type": "markdown",
      "source": [
        "# 신경망 모델\n",
        "### - 이진 분류 : 유방안 예측 사례"
      ],
      "metadata": {
        "id": "cilJvT6XPKrD"
      }
    },
    {
      "cell_type": "code",
      "source": [
        "import numpy as np\n",
        "import pandas as pd\n",
        "import matplotlib.pyplot as plt"
      ],
      "metadata": {
        "id": "A_WKloSiA84U"
      },
      "execution_count": 1,
      "outputs": []
    },
    {
      "cell_type": "markdown",
      "source": [
        "- 데이터 준비"
      ],
      "metadata": {
        "id": "vNrDe4LwDoWz"
      }
    },
    {
      "cell_type": "code",
      "source": [
        "from sklearn.datasets import load_breast_cancer\n",
        "cancer = load_breast_cancer()\n",
        "df = pd.DataFrame(cancer.data, columns=cancer.feature_names)\n",
        "df['target']= cancer.target\n",
        "df.head()"
      ],
      "metadata": {
        "colab": {
          "base_uri": "https://localhost:8080/",
          "height": 334
        },
        "id": "1KQEmtH2DqVd",
        "outputId": "6d0757d7-ad40-426d-fa56-b9d95a4d9077"
      },
      "execution_count": 2,
      "outputs": [
        {
          "output_type": "execute_result",
          "data": {
            "text/plain": [
              "   mean radius  mean texture  mean perimeter  mean area  mean smoothness  \\\n",
              "0        17.99         10.38          122.80     1001.0          0.11840   \n",
              "1        20.57         17.77          132.90     1326.0          0.08474   \n",
              "2        19.69         21.25          130.00     1203.0          0.10960   \n",
              "3        11.42         20.38           77.58      386.1          0.14250   \n",
              "4        20.29         14.34          135.10     1297.0          0.10030   \n",
              "\n",
              "   mean compactness  mean concavity  mean concave points  mean symmetry  \\\n",
              "0           0.27760          0.3001              0.14710         0.2419   \n",
              "1           0.07864          0.0869              0.07017         0.1812   \n",
              "2           0.15990          0.1974              0.12790         0.2069   \n",
              "3           0.28390          0.2414              0.10520         0.2597   \n",
              "4           0.13280          0.1980              0.10430         0.1809   \n",
              "\n",
              "   mean fractal dimension  ...  worst texture  worst perimeter  worst area  \\\n",
              "0                 0.07871  ...          17.33           184.60      2019.0   \n",
              "1                 0.05667  ...          23.41           158.80      1956.0   \n",
              "2                 0.05999  ...          25.53           152.50      1709.0   \n",
              "3                 0.09744  ...          26.50            98.87       567.7   \n",
              "4                 0.05883  ...          16.67           152.20      1575.0   \n",
              "\n",
              "   worst smoothness  worst compactness  worst concavity  worst concave points  \\\n",
              "0            0.1622             0.6656           0.7119                0.2654   \n",
              "1            0.1238             0.1866           0.2416                0.1860   \n",
              "2            0.1444             0.4245           0.4504                0.2430   \n",
              "3            0.2098             0.8663           0.6869                0.2575   \n",
              "4            0.1374             0.2050           0.4000                0.1625   \n",
              "\n",
              "   worst symmetry  worst fractal dimension  target  \n",
              "0          0.4601                  0.11890       0  \n",
              "1          0.2750                  0.08902       0  \n",
              "2          0.3613                  0.08758       0  \n",
              "3          0.6638                  0.17300       0  \n",
              "4          0.2364                  0.07678       0  \n",
              "\n",
              "[5 rows x 31 columns]"
            ],
            "text/html": [
              "\n",
              "  <div id=\"df-6c17e374-6c9a-490d-92bc-a965e7da62ef\">\n",
              "    <div class=\"colab-df-container\">\n",
              "      <div>\n",
              "<style scoped>\n",
              "    .dataframe tbody tr th:only-of-type {\n",
              "        vertical-align: middle;\n",
              "    }\n",
              "\n",
              "    .dataframe tbody tr th {\n",
              "        vertical-align: top;\n",
              "    }\n",
              "\n",
              "    .dataframe thead th {\n",
              "        text-align: right;\n",
              "    }\n",
              "</style>\n",
              "<table border=\"1\" class=\"dataframe\">\n",
              "  <thead>\n",
              "    <tr style=\"text-align: right;\">\n",
              "      <th></th>\n",
              "      <th>mean radius</th>\n",
              "      <th>mean texture</th>\n",
              "      <th>mean perimeter</th>\n",
              "      <th>mean area</th>\n",
              "      <th>mean smoothness</th>\n",
              "      <th>mean compactness</th>\n",
              "      <th>mean concavity</th>\n",
              "      <th>mean concave points</th>\n",
              "      <th>mean symmetry</th>\n",
              "      <th>mean fractal dimension</th>\n",
              "      <th>...</th>\n",
              "      <th>worst texture</th>\n",
              "      <th>worst perimeter</th>\n",
              "      <th>worst area</th>\n",
              "      <th>worst smoothness</th>\n",
              "      <th>worst compactness</th>\n",
              "      <th>worst concavity</th>\n",
              "      <th>worst concave points</th>\n",
              "      <th>worst symmetry</th>\n",
              "      <th>worst fractal dimension</th>\n",
              "      <th>target</th>\n",
              "    </tr>\n",
              "  </thead>\n",
              "  <tbody>\n",
              "    <tr>\n",
              "      <th>0</th>\n",
              "      <td>17.99</td>\n",
              "      <td>10.38</td>\n",
              "      <td>122.80</td>\n",
              "      <td>1001.0</td>\n",
              "      <td>0.11840</td>\n",
              "      <td>0.27760</td>\n",
              "      <td>0.3001</td>\n",
              "      <td>0.14710</td>\n",
              "      <td>0.2419</td>\n",
              "      <td>0.07871</td>\n",
              "      <td>...</td>\n",
              "      <td>17.33</td>\n",
              "      <td>184.60</td>\n",
              "      <td>2019.0</td>\n",
              "      <td>0.1622</td>\n",
              "      <td>0.6656</td>\n",
              "      <td>0.7119</td>\n",
              "      <td>0.2654</td>\n",
              "      <td>0.4601</td>\n",
              "      <td>0.11890</td>\n",
              "      <td>0</td>\n",
              "    </tr>\n",
              "    <tr>\n",
              "      <th>1</th>\n",
              "      <td>20.57</td>\n",
              "      <td>17.77</td>\n",
              "      <td>132.90</td>\n",
              "      <td>1326.0</td>\n",
              "      <td>0.08474</td>\n",
              "      <td>0.07864</td>\n",
              "      <td>0.0869</td>\n",
              "      <td>0.07017</td>\n",
              "      <td>0.1812</td>\n",
              "      <td>0.05667</td>\n",
              "      <td>...</td>\n",
              "      <td>23.41</td>\n",
              "      <td>158.80</td>\n",
              "      <td>1956.0</td>\n",
              "      <td>0.1238</td>\n",
              "      <td>0.1866</td>\n",
              "      <td>0.2416</td>\n",
              "      <td>0.1860</td>\n",
              "      <td>0.2750</td>\n",
              "      <td>0.08902</td>\n",
              "      <td>0</td>\n",
              "    </tr>\n",
              "    <tr>\n",
              "      <th>2</th>\n",
              "      <td>19.69</td>\n",
              "      <td>21.25</td>\n",
              "      <td>130.00</td>\n",
              "      <td>1203.0</td>\n",
              "      <td>0.10960</td>\n",
              "      <td>0.15990</td>\n",
              "      <td>0.1974</td>\n",
              "      <td>0.12790</td>\n",
              "      <td>0.2069</td>\n",
              "      <td>0.05999</td>\n",
              "      <td>...</td>\n",
              "      <td>25.53</td>\n",
              "      <td>152.50</td>\n",
              "      <td>1709.0</td>\n",
              "      <td>0.1444</td>\n",
              "      <td>0.4245</td>\n",
              "      <td>0.4504</td>\n",
              "      <td>0.2430</td>\n",
              "      <td>0.3613</td>\n",
              "      <td>0.08758</td>\n",
              "      <td>0</td>\n",
              "    </tr>\n",
              "    <tr>\n",
              "      <th>3</th>\n",
              "      <td>11.42</td>\n",
              "      <td>20.38</td>\n",
              "      <td>77.58</td>\n",
              "      <td>386.1</td>\n",
              "      <td>0.14250</td>\n",
              "      <td>0.28390</td>\n",
              "      <td>0.2414</td>\n",
              "      <td>0.10520</td>\n",
              "      <td>0.2597</td>\n",
              "      <td>0.09744</td>\n",
              "      <td>...</td>\n",
              "      <td>26.50</td>\n",
              "      <td>98.87</td>\n",
              "      <td>567.7</td>\n",
              "      <td>0.2098</td>\n",
              "      <td>0.8663</td>\n",
              "      <td>0.6869</td>\n",
              "      <td>0.2575</td>\n",
              "      <td>0.6638</td>\n",
              "      <td>0.17300</td>\n",
              "      <td>0</td>\n",
              "    </tr>\n",
              "    <tr>\n",
              "      <th>4</th>\n",
              "      <td>20.29</td>\n",
              "      <td>14.34</td>\n",
              "      <td>135.10</td>\n",
              "      <td>1297.0</td>\n",
              "      <td>0.10030</td>\n",
              "      <td>0.13280</td>\n",
              "      <td>0.1980</td>\n",
              "      <td>0.10430</td>\n",
              "      <td>0.1809</td>\n",
              "      <td>0.05883</td>\n",
              "      <td>...</td>\n",
              "      <td>16.67</td>\n",
              "      <td>152.20</td>\n",
              "      <td>1575.0</td>\n",
              "      <td>0.1374</td>\n",
              "      <td>0.2050</td>\n",
              "      <td>0.4000</td>\n",
              "      <td>0.1625</td>\n",
              "      <td>0.2364</td>\n",
              "      <td>0.07678</td>\n",
              "      <td>0</td>\n",
              "    </tr>\n",
              "  </tbody>\n",
              "</table>\n",
              "<p>5 rows × 31 columns</p>\n",
              "</div>\n",
              "      <button class=\"colab-df-convert\" onclick=\"convertToInteractive('df-6c17e374-6c9a-490d-92bc-a965e7da62ef')\"\n",
              "              title=\"Convert this dataframe to an interactive table.\"\n",
              "              style=\"display:none;\">\n",
              "        \n",
              "  <svg xmlns=\"http://www.w3.org/2000/svg\" height=\"24px\"viewBox=\"0 0 24 24\"\n",
              "       width=\"24px\">\n",
              "    <path d=\"M0 0h24v24H0V0z\" fill=\"none\"/>\n",
              "    <path d=\"M18.56 5.44l.94 2.06.94-2.06 2.06-.94-2.06-.94-.94-2.06-.94 2.06-2.06.94zm-11 1L8.5 8.5l.94-2.06 2.06-.94-2.06-.94L8.5 2.5l-.94 2.06-2.06.94zm10 10l.94 2.06.94-2.06 2.06-.94-2.06-.94-.94-2.06-.94 2.06-2.06.94z\"/><path d=\"M17.41 7.96l-1.37-1.37c-.4-.4-.92-.59-1.43-.59-.52 0-1.04.2-1.43.59L10.3 9.45l-7.72 7.72c-.78.78-.78 2.05 0 2.83L4 21.41c.39.39.9.59 1.41.59.51 0 1.02-.2 1.41-.59l7.78-7.78 2.81-2.81c.8-.78.8-2.07 0-2.86zM5.41 20L4 18.59l7.72-7.72 1.47 1.35L5.41 20z\"/>\n",
              "  </svg>\n",
              "      </button>\n",
              "      \n",
              "  <style>\n",
              "    .colab-df-container {\n",
              "      display:flex;\n",
              "      flex-wrap:wrap;\n",
              "      gap: 12px;\n",
              "    }\n",
              "\n",
              "    .colab-df-convert {\n",
              "      background-color: #E8F0FE;\n",
              "      border: none;\n",
              "      border-radius: 50%;\n",
              "      cursor: pointer;\n",
              "      display: none;\n",
              "      fill: #1967D2;\n",
              "      height: 32px;\n",
              "      padding: 0 0 0 0;\n",
              "      width: 32px;\n",
              "    }\n",
              "\n",
              "    .colab-df-convert:hover {\n",
              "      background-color: #E2EBFA;\n",
              "      box-shadow: 0px 1px 2px rgba(60, 64, 67, 0.3), 0px 1px 3px 1px rgba(60, 64, 67, 0.15);\n",
              "      fill: #174EA6;\n",
              "    }\n",
              "\n",
              "    [theme=dark] .colab-df-convert {\n",
              "      background-color: #3B4455;\n",
              "      fill: #D2E3FC;\n",
              "    }\n",
              "\n",
              "    [theme=dark] .colab-df-convert:hover {\n",
              "      background-color: #434B5C;\n",
              "      box-shadow: 0px 1px 3px 1px rgba(0, 0, 0, 0.15);\n",
              "      filter: drop-shadow(0px 1px 2px rgba(0, 0, 0, 0.3));\n",
              "      fill: #FFFFFF;\n",
              "    }\n",
              "  </style>\n",
              "\n",
              "      <script>\n",
              "        const buttonEl =\n",
              "          document.querySelector('#df-6c17e374-6c9a-490d-92bc-a965e7da62ef button.colab-df-convert');\n",
              "        buttonEl.style.display =\n",
              "          google.colab.kernel.accessAllowed ? 'block' : 'none';\n",
              "\n",
              "        async function convertToInteractive(key) {\n",
              "          const element = document.querySelector('#df-6c17e374-6c9a-490d-92bc-a965e7da62ef');\n",
              "          const dataTable =\n",
              "            await google.colab.kernel.invokeFunction('convertToInteractive',\n",
              "                                                     [key], {});\n",
              "          if (!dataTable) return;\n",
              "\n",
              "          const docLinkHtml = 'Like what you see? Visit the ' +\n",
              "            '<a target=\"_blank\" href=https://colab.research.google.com/notebooks/data_table.ipynb>data table notebook</a>'\n",
              "            + ' to learn more about interactive tables.';\n",
              "          element.innerHTML = '';\n",
              "          dataTable['output_type'] = 'display_data';\n",
              "          await google.colab.output.renderOutput(dataTable, element);\n",
              "          const docLink = document.createElement('div');\n",
              "          docLink.innerHTML = docLinkHtml;\n",
              "          element.appendChild(docLink);\n",
              "        }\n",
              "      </script>\n",
              "    </div>\n",
              "  </div>\n",
              "  "
            ]
          },
          "metadata": {},
          "execution_count": 2
        }
      ]
    },
    {
      "cell_type": "code",
      "source": [
        "df.shape"
      ],
      "metadata": {
        "colab": {
          "base_uri": "https://localhost:8080/"
        },
        "id": "cffbP9v8D3u1",
        "outputId": "b8daedd8-dd9b-4d85-f95a-ce52e9ac7a80"
      },
      "execution_count": 3,
      "outputs": [
        {
          "output_type": "execute_result",
          "data": {
            "text/plain": [
              "(569, 31)"
            ]
          },
          "metadata": {},
          "execution_count": 3
        }
      ]
    },
    {
      "cell_type": "markdown",
      "source": [
        "### 1. 데이터를 정규/표준화 하지 않은 경우"
      ],
      "metadata": {
        "id": "GxT4qYIgEKHd"
      }
    },
    {
      "cell_type": "code",
      "source": [
        "from sklearn.model_selection import train_test_split\n",
        "X_train,X_test,y_train,y_test = train_test_split(\n",
        "    cancer.data, cancer.target, stratify=cancer.target,\n",
        "    test_size=0.2, random_state = 2022\n",
        ")"
      ],
      "metadata": {
        "id": "_ZiWgacnEM_7"
      },
      "execution_count": 4,
      "outputs": []
    },
    {
      "cell_type": "markdown",
      "source": [
        "- 모델 정의"
      ],
      "metadata": {
        "id": "xBRKOxPdE71l"
      }
    },
    {
      "cell_type": "code",
      "source": [
        "!pip install tensorflow"
      ],
      "metadata": {
        "colab": {
          "base_uri": "https://localhost:8080/"
        },
        "id": "oeFHLLu5FK2e",
        "outputId": "52a690eb-3528-4a13-95d1-0989eab19cea"
      },
      "execution_count": 5,
      "outputs": [
        {
          "output_type": "stream",
          "name": "stdout",
          "text": [
            "Requirement already satisfied: tensorflow in /usr/local/lib/python3.7/dist-packages (2.8.0+zzzcolab20220506162203)\n",
            "Requirement already satisfied: numpy>=1.20 in /usr/local/lib/python3.7/dist-packages (from tensorflow) (1.21.6)\n",
            "Requirement already satisfied: gast>=0.2.1 in /usr/local/lib/python3.7/dist-packages (from tensorflow) (0.5.3)\n",
            "Requirement already satisfied: tensorflow-io-gcs-filesystem>=0.23.1 in /usr/local/lib/python3.7/dist-packages (from tensorflow) (0.25.0)\n",
            "Requirement already satisfied: termcolor>=1.1.0 in /usr/local/lib/python3.7/dist-packages (from tensorflow) (1.1.0)\n",
            "Requirement already satisfied: wrapt>=1.11.0 in /usr/local/lib/python3.7/dist-packages (from tensorflow) (1.14.1)\n",
            "Requirement already satisfied: tensorboard<2.9,>=2.8 in /usr/local/lib/python3.7/dist-packages (from tensorflow) (2.8.0)\n",
            "Requirement already satisfied: absl-py>=0.4.0 in /usr/local/lib/python3.7/dist-packages (from tensorflow) (1.0.0)\n",
            "Requirement already satisfied: flatbuffers>=1.12 in /usr/local/lib/python3.7/dist-packages (from tensorflow) (2.0)\n",
            "Requirement already satisfied: six>=1.12.0 in /usr/local/lib/python3.7/dist-packages (from tensorflow) (1.15.0)\n",
            "Collecting tf-estimator-nightly==2.8.0.dev2021122109\n",
            "  Downloading tf_estimator_nightly-2.8.0.dev2021122109-py2.py3-none-any.whl (462 kB)\n",
            "\u001b[K     |████████████████████████████████| 462 kB 30.1 MB/s \n",
            "\u001b[?25hRequirement already satisfied: google-pasta>=0.1.1 in /usr/local/lib/python3.7/dist-packages (from tensorflow) (0.2.0)\n",
            "Requirement already satisfied: protobuf>=3.9.2 in /usr/local/lib/python3.7/dist-packages (from tensorflow) (3.17.3)\n",
            "Requirement already satisfied: setuptools in /usr/local/lib/python3.7/dist-packages (from tensorflow) (57.4.0)\n",
            "Requirement already satisfied: opt-einsum>=2.3.2 in /usr/local/lib/python3.7/dist-packages (from tensorflow) (3.3.0)\n",
            "Requirement already satisfied: h5py>=2.9.0 in /usr/local/lib/python3.7/dist-packages (from tensorflow) (3.1.0)\n",
            "Requirement already satisfied: typing-extensions>=3.6.6 in /usr/local/lib/python3.7/dist-packages (from tensorflow) (4.2.0)\n",
            "Requirement already satisfied: astunparse>=1.6.0 in /usr/local/lib/python3.7/dist-packages (from tensorflow) (1.6.3)\n",
            "Requirement already satisfied: libclang>=9.0.1 in /usr/local/lib/python3.7/dist-packages (from tensorflow) (14.0.1)\n",
            "Requirement already satisfied: keras-preprocessing>=1.1.1 in /usr/local/lib/python3.7/dist-packages (from tensorflow) (1.1.2)\n",
            "Requirement already satisfied: grpcio<2.0,>=1.24.3 in /usr/local/lib/python3.7/dist-packages (from tensorflow) (1.46.1)\n",
            "Requirement already satisfied: keras<2.9,>=2.8.0rc0 in /usr/local/lib/python3.7/dist-packages (from tensorflow) (2.8.0)\n",
            "Requirement already satisfied: wheel<1.0,>=0.23.0 in /usr/local/lib/python3.7/dist-packages (from astunparse>=1.6.0->tensorflow) (0.37.1)\n",
            "Requirement already satisfied: cached-property in /usr/local/lib/python3.7/dist-packages (from h5py>=2.9.0->tensorflow) (1.5.2)\n",
            "Requirement already satisfied: werkzeug>=0.11.15 in /usr/local/lib/python3.7/dist-packages (from tensorboard<2.9,>=2.8->tensorflow) (1.0.1)\n",
            "Requirement already satisfied: markdown>=2.6.8 in /usr/local/lib/python3.7/dist-packages (from tensorboard<2.9,>=2.8->tensorflow) (3.3.7)\n",
            "Requirement already satisfied: requests<3,>=2.21.0 in /usr/local/lib/python3.7/dist-packages (from tensorboard<2.9,>=2.8->tensorflow) (2.23.0)\n",
            "Requirement already satisfied: tensorboard-data-server<0.7.0,>=0.6.0 in /usr/local/lib/python3.7/dist-packages (from tensorboard<2.9,>=2.8->tensorflow) (0.6.1)\n",
            "Requirement already satisfied: google-auth<3,>=1.6.3 in /usr/local/lib/python3.7/dist-packages (from tensorboard<2.9,>=2.8->tensorflow) (1.35.0)\n",
            "Requirement already satisfied: tensorboard-plugin-wit>=1.6.0 in /usr/local/lib/python3.7/dist-packages (from tensorboard<2.9,>=2.8->tensorflow) (1.8.1)\n",
            "Requirement already satisfied: google-auth-oauthlib<0.5,>=0.4.1 in /usr/local/lib/python3.7/dist-packages (from tensorboard<2.9,>=2.8->tensorflow) (0.4.6)\n",
            "Requirement already satisfied: rsa<5,>=3.1.4 in /usr/local/lib/python3.7/dist-packages (from google-auth<3,>=1.6.3->tensorboard<2.9,>=2.8->tensorflow) (4.8)\n",
            "Requirement already satisfied: cachetools<5.0,>=2.0.0 in /usr/local/lib/python3.7/dist-packages (from google-auth<3,>=1.6.3->tensorboard<2.9,>=2.8->tensorflow) (4.2.4)\n",
            "Requirement already satisfied: pyasn1-modules>=0.2.1 in /usr/local/lib/python3.7/dist-packages (from google-auth<3,>=1.6.3->tensorboard<2.9,>=2.8->tensorflow) (0.2.8)\n",
            "Requirement already satisfied: requests-oauthlib>=0.7.0 in /usr/local/lib/python3.7/dist-packages (from google-auth-oauthlib<0.5,>=0.4.1->tensorboard<2.9,>=2.8->tensorflow) (1.3.1)\n",
            "Requirement already satisfied: importlib-metadata>=4.4 in /usr/local/lib/python3.7/dist-packages (from markdown>=2.6.8->tensorboard<2.9,>=2.8->tensorflow) (4.11.3)\n",
            "Requirement already satisfied: zipp>=0.5 in /usr/local/lib/python3.7/dist-packages (from importlib-metadata>=4.4->markdown>=2.6.8->tensorboard<2.9,>=2.8->tensorflow) (3.8.0)\n",
            "Requirement already satisfied: pyasn1<0.5.0,>=0.4.6 in /usr/local/lib/python3.7/dist-packages (from pyasn1-modules>=0.2.1->google-auth<3,>=1.6.3->tensorboard<2.9,>=2.8->tensorflow) (0.4.8)\n",
            "Requirement already satisfied: chardet<4,>=3.0.2 in /usr/local/lib/python3.7/dist-packages (from requests<3,>=2.21.0->tensorboard<2.9,>=2.8->tensorflow) (3.0.4)\n",
            "Requirement already satisfied: idna<3,>=2.5 in /usr/local/lib/python3.7/dist-packages (from requests<3,>=2.21.0->tensorboard<2.9,>=2.8->tensorflow) (2.10)\n",
            "Requirement already satisfied: certifi>=2017.4.17 in /usr/local/lib/python3.7/dist-packages (from requests<3,>=2.21.0->tensorboard<2.9,>=2.8->tensorflow) (2021.10.8)\n",
            "Requirement already satisfied: urllib3!=1.25.0,!=1.25.1,<1.26,>=1.21.1 in /usr/local/lib/python3.7/dist-packages (from requests<3,>=2.21.0->tensorboard<2.9,>=2.8->tensorflow) (1.24.3)\n",
            "Requirement already satisfied: oauthlib>=3.0.0 in /usr/local/lib/python3.7/dist-packages (from requests-oauthlib>=0.7.0->google-auth-oauthlib<0.5,>=0.4.1->tensorboard<2.9,>=2.8->tensorflow) (3.2.0)\n",
            "Installing collected packages: tf-estimator-nightly\n",
            "Successfully installed tf-estimator-nightly-2.8.0.dev2021122109\n"
          ]
        }
      ]
    },
    {
      "cell_type": "code",
      "source": [
        "from tensorflow.keras.models import Sequential\n",
        "from tensorflow.keras.layers import Dense     # Fully Connected Network"
      ],
      "metadata": {
        "id": "8brYGMRtFB50"
      },
      "execution_count": 8,
      "outputs": []
    },
    {
      "cell_type": "code",
      "source": [
        "model = Sequential([\n",
        "      Dense(100, input_shape = (30,), activation = 'relu'),\n",
        "      Dense(24, activation = 'relu'),\n",
        "      Dense(1,activation ='sigmoid')\n",
        "])\n",
        "model.summary()"
      ],
      "metadata": {
        "colab": {
          "base_uri": "https://localhost:8080/"
        },
        "id": "VPbWTGnXFUUU",
        "outputId": "15318341-8c9d-45b8-d110-2f922bd3ad27"
      },
      "execution_count": 10,
      "outputs": [
        {
          "output_type": "stream",
          "name": "stdout",
          "text": [
            "Model: \"sequential\"\n",
            "_________________________________________________________________\n",
            " Layer (type)                Output Shape              Param #   \n",
            "=================================================================\n",
            " dense (Dense)               (None, 100)               3100      \n",
            "                                                                 \n",
            " dense_1 (Dense)             (None, 24)                2424      \n",
            "                                                                 \n",
            " dense_2 (Dense)             (None, 1)                 25        \n",
            "                                                                 \n",
            "=================================================================\n",
            "Total params: 5,549\n",
            "Trainable params: 5,549\n",
            "Non-trainable params: 0\n",
            "_________________________________________________________________\n"
          ]
        }
      ]
    },
    {
      "cell_type": "markdown",
      "source": [
        "- 모델 설정(컴파일)"
      ],
      "metadata": {
        "id": "NjPCeMDnGOx1"
      }
    },
    {
      "cell_type": "code",
      "source": [
        "model.compile(optimizer='adam', loss='binary_crossentropy', metrics= ['accuracy'])\n"
      ],
      "metadata": {
        "id": "wcxObt5FG1Vs"
      },
      "execution_count": 13,
      "outputs": []
    },
    {
      "cell_type": "markdown",
      "source": [
        "- 모델 학습"
      ],
      "metadata": {
        "id": "HtBsCjZwHLoO"
      }
    },
    {
      "cell_type": "code",
      "source": [
        "history = model.fit(X_train,y_train, validation_split=0.2,\n",
        "                    epochs=100, batch_size=100)"
      ],
      "metadata": {
        "colab": {
          "base_uri": "https://localhost:8080/"
        },
        "id": "dY0d5mtBHWQ2",
        "outputId": "d7c301e4-f7f7-4ba2-8ce8-71a2990acb43"
      },
      "execution_count": 15,
      "outputs": [
        {
          "output_type": "stream",
          "name": "stdout",
          "text": [
            "Epoch 1/100\n",
            "4/4 [==============================] - 2s 125ms/step - loss: 24.0553 - accuracy: 0.3791 - val_loss: 12.2377 - val_accuracy: 0.3516\n",
            "Epoch 2/100\n",
            "4/4 [==============================] - 0s 20ms/step - loss: 7.3100 - accuracy: 0.3791 - val_loss: 1.7021 - val_accuracy: 0.6154\n",
            "Epoch 3/100\n",
            "4/4 [==============================] - 0s 18ms/step - loss: 3.9675 - accuracy: 0.6209 - val_loss: 3.2809 - val_accuracy: 0.6484\n",
            "Epoch 4/100\n",
            "4/4 [==============================] - 0s 16ms/step - loss: 1.7728 - accuracy: 0.6703 - val_loss: 1.1680 - val_accuracy: 0.3846\n",
            "Epoch 5/100\n",
            "4/4 [==============================] - 0s 22ms/step - loss: 1.7467 - accuracy: 0.4148 - val_loss: 1.9947 - val_accuracy: 0.3516\n",
            "Epoch 6/100\n",
            "4/4 [==============================] - 0s 19ms/step - loss: 1.2548 - accuracy: 0.4973 - val_loss: 0.2931 - val_accuracy: 0.9011\n",
            "Epoch 7/100\n",
            "4/4 [==============================] - 0s 26ms/step - loss: 0.5642 - accuracy: 0.7857 - val_loss: 0.7603 - val_accuracy: 0.7363\n",
            "Epoch 8/100\n",
            "4/4 [==============================] - 0s 21ms/step - loss: 0.4818 - accuracy: 0.8104 - val_loss: 0.3563 - val_accuracy: 0.9011\n",
            "Epoch 9/100\n",
            "4/4 [==============================] - 0s 18ms/step - loss: 0.5010 - accuracy: 0.7582 - val_loss: 0.4872 - val_accuracy: 0.8132\n",
            "Epoch 10/100\n",
            "4/4 [==============================] - 0s 19ms/step - loss: 0.3605 - accuracy: 0.8434 - val_loss: 0.3162 - val_accuracy: 0.8681\n",
            "Epoch 11/100\n",
            "4/4 [==============================] - 0s 22ms/step - loss: 0.3596 - accuracy: 0.8516 - val_loss: 0.2859 - val_accuracy: 0.8901\n",
            "Epoch 12/100\n",
            "4/4 [==============================] - 0s 18ms/step - loss: 0.2550 - accuracy: 0.9011 - val_loss: 0.2835 - val_accuracy: 0.9121\n",
            "Epoch 13/100\n",
            "4/4 [==============================] - 0s 19ms/step - loss: 0.2854 - accuracy: 0.8791 - val_loss: 0.2613 - val_accuracy: 0.9011\n",
            "Epoch 14/100\n",
            "4/4 [==============================] - 0s 23ms/step - loss: 0.2294 - accuracy: 0.9038 - val_loss: 0.2585 - val_accuracy: 0.9011\n",
            "Epoch 15/100\n",
            "4/4 [==============================] - 0s 24ms/step - loss: 0.2667 - accuracy: 0.9011 - val_loss: 0.2412 - val_accuracy: 0.9011\n",
            "Epoch 16/100\n",
            "4/4 [==============================] - 0s 19ms/step - loss: 0.2315 - accuracy: 0.9038 - val_loss: 0.2607 - val_accuracy: 0.9011\n",
            "Epoch 17/100\n",
            "4/4 [==============================] - 0s 26ms/step - loss: 0.2424 - accuracy: 0.9121 - val_loss: 0.2353 - val_accuracy: 0.9121\n",
            "Epoch 18/100\n",
            "4/4 [==============================] - 0s 22ms/step - loss: 0.2265 - accuracy: 0.9148 - val_loss: 0.2449 - val_accuracy: 0.9011\n",
            "Epoch 19/100\n",
            "4/4 [==============================] - 0s 27ms/step - loss: 0.2308 - accuracy: 0.9121 - val_loss: 0.2309 - val_accuracy: 0.9121\n",
            "Epoch 20/100\n",
            "4/4 [==============================] - 0s 18ms/step - loss: 0.2178 - accuracy: 0.9121 - val_loss: 0.2408 - val_accuracy: 0.9011\n",
            "Epoch 21/100\n",
            "4/4 [==============================] - 0s 26ms/step - loss: 0.2200 - accuracy: 0.9093 - val_loss: 0.2272 - val_accuracy: 0.9231\n",
            "Epoch 22/100\n",
            "4/4 [==============================] - 0s 19ms/step - loss: 0.2184 - accuracy: 0.9176 - val_loss: 0.2277 - val_accuracy: 0.9231\n",
            "Epoch 23/100\n",
            "4/4 [==============================] - 0s 17ms/step - loss: 0.2166 - accuracy: 0.9176 - val_loss: 0.2314 - val_accuracy: 0.9121\n",
            "Epoch 24/100\n",
            "4/4 [==============================] - 0s 16ms/step - loss: 0.2149 - accuracy: 0.9148 - val_loss: 0.2244 - val_accuracy: 0.9121\n",
            "Epoch 25/100\n",
            "4/4 [==============================] - 0s 24ms/step - loss: 0.2094 - accuracy: 0.9176 - val_loss: 0.2219 - val_accuracy: 0.9231\n",
            "Epoch 26/100\n",
            "4/4 [==============================] - 0s 28ms/step - loss: 0.2088 - accuracy: 0.9176 - val_loss: 0.2197 - val_accuracy: 0.9121\n",
            "Epoch 27/100\n",
            "4/4 [==============================] - 0s 23ms/step - loss: 0.2049 - accuracy: 0.9176 - val_loss: 0.2152 - val_accuracy: 0.9231\n",
            "Epoch 28/100\n",
            "4/4 [==============================] - 0s 20ms/step - loss: 0.2025 - accuracy: 0.9258 - val_loss: 0.2142 - val_accuracy: 0.9231\n",
            "Epoch 29/100\n",
            "4/4 [==============================] - 0s 18ms/step - loss: 0.1952 - accuracy: 0.9341 - val_loss: 0.2192 - val_accuracy: 0.9121\n",
            "Epoch 30/100\n",
            "4/4 [==============================] - 0s 23ms/step - loss: 0.1939 - accuracy: 0.9203 - val_loss: 0.2117 - val_accuracy: 0.9231\n",
            "Epoch 31/100\n",
            "4/4 [==============================] - 0s 40ms/step - loss: 0.1855 - accuracy: 0.9258 - val_loss: 0.2127 - val_accuracy: 0.9231\n",
            "Epoch 32/100\n",
            "4/4 [==============================] - 0s 18ms/step - loss: 0.1899 - accuracy: 0.9286 - val_loss: 0.2176 - val_accuracy: 0.9121\n",
            "Epoch 33/100\n",
            "4/4 [==============================] - 0s 16ms/step - loss: 0.1891 - accuracy: 0.9148 - val_loss: 0.2262 - val_accuracy: 0.9231\n",
            "Epoch 34/100\n",
            "4/4 [==============================] - 0s 21ms/step - loss: 0.1865 - accuracy: 0.9231 - val_loss: 0.2177 - val_accuracy: 0.9121\n",
            "Epoch 35/100\n",
            "4/4 [==============================] - 0s 19ms/step - loss: 0.1827 - accuracy: 0.9258 - val_loss: 0.2213 - val_accuracy: 0.9231\n",
            "Epoch 36/100\n",
            "4/4 [==============================] - 0s 17ms/step - loss: 0.1802 - accuracy: 0.9313 - val_loss: 0.2131 - val_accuracy: 0.9121\n",
            "Epoch 37/100\n",
            "4/4 [==============================] - 0s 19ms/step - loss: 0.1826 - accuracy: 0.9231 - val_loss: 0.2118 - val_accuracy: 0.9231\n",
            "Epoch 38/100\n",
            "4/4 [==============================] - 0s 21ms/step - loss: 0.1751 - accuracy: 0.9313 - val_loss: 0.2180 - val_accuracy: 0.9231\n",
            "Epoch 39/100\n",
            "4/4 [==============================] - 0s 16ms/step - loss: 0.1760 - accuracy: 0.9313 - val_loss: 0.2151 - val_accuracy: 0.9121\n",
            "Epoch 40/100\n",
            "4/4 [==============================] - 0s 34ms/step - loss: 0.1779 - accuracy: 0.9286 - val_loss: 0.2118 - val_accuracy: 0.9121\n",
            "Epoch 41/100\n",
            "4/4 [==============================] - 0s 18ms/step - loss: 0.1745 - accuracy: 0.9341 - val_loss: 0.2194 - val_accuracy: 0.9231\n",
            "Epoch 42/100\n",
            "4/4 [==============================] - 0s 18ms/step - loss: 0.1720 - accuracy: 0.9313 - val_loss: 0.2109 - val_accuracy: 0.9121\n",
            "Epoch 43/100\n",
            "4/4 [==============================] - 0s 17ms/step - loss: 0.1699 - accuracy: 0.9313 - val_loss: 0.2116 - val_accuracy: 0.9121\n",
            "Epoch 44/100\n",
            "4/4 [==============================] - 0s 17ms/step - loss: 0.1696 - accuracy: 0.9368 - val_loss: 0.2142 - val_accuracy: 0.9231\n",
            "Epoch 45/100\n",
            "4/4 [==============================] - 0s 17ms/step - loss: 0.1677 - accuracy: 0.9341 - val_loss: 0.2099 - val_accuracy: 0.9121\n",
            "Epoch 46/100\n",
            "4/4 [==============================] - 0s 17ms/step - loss: 0.1695 - accuracy: 0.9341 - val_loss: 0.2119 - val_accuracy: 0.9231\n",
            "Epoch 47/100\n",
            "4/4 [==============================] - 0s 11ms/step - loss: 0.1664 - accuracy: 0.9341 - val_loss: 0.2129 - val_accuracy: 0.9231\n",
            "Epoch 48/100\n",
            "4/4 [==============================] - 0s 11ms/step - loss: 0.1660 - accuracy: 0.9341 - val_loss: 0.2164 - val_accuracy: 0.9231\n",
            "Epoch 49/100\n",
            "4/4 [==============================] - 0s 12ms/step - loss: 0.1652 - accuracy: 0.9313 - val_loss: 0.2116 - val_accuracy: 0.9231\n",
            "Epoch 50/100\n",
            "4/4 [==============================] - 0s 13ms/step - loss: 0.1637 - accuracy: 0.9341 - val_loss: 0.2106 - val_accuracy: 0.9231\n",
            "Epoch 51/100\n",
            "4/4 [==============================] - 0s 13ms/step - loss: 0.1638 - accuracy: 0.9368 - val_loss: 0.2101 - val_accuracy: 0.9231\n",
            "Epoch 52/100\n",
            "4/4 [==============================] - 0s 13ms/step - loss: 0.1636 - accuracy: 0.9341 - val_loss: 0.2092 - val_accuracy: 0.9231\n",
            "Epoch 53/100\n",
            "4/4 [==============================] - 0s 12ms/step - loss: 0.1631 - accuracy: 0.9368 - val_loss: 0.2085 - val_accuracy: 0.9231\n",
            "Epoch 54/100\n",
            "4/4 [==============================] - 0s 14ms/step - loss: 0.1600 - accuracy: 0.9368 - val_loss: 0.2178 - val_accuracy: 0.9231\n",
            "Epoch 55/100\n",
            "4/4 [==============================] - 0s 12ms/step - loss: 0.1628 - accuracy: 0.9341 - val_loss: 0.2111 - val_accuracy: 0.9231\n",
            "Epoch 56/100\n",
            "4/4 [==============================] - 0s 12ms/step - loss: 0.1617 - accuracy: 0.9451 - val_loss: 0.2085 - val_accuracy: 0.9121\n",
            "Epoch 57/100\n",
            "4/4 [==============================] - 0s 12ms/step - loss: 0.1600 - accuracy: 0.9396 - val_loss: 0.2129 - val_accuracy: 0.9231\n",
            "Epoch 58/100\n",
            "4/4 [==============================] - 0s 11ms/step - loss: 0.1575 - accuracy: 0.9341 - val_loss: 0.2087 - val_accuracy: 0.9121\n",
            "Epoch 59/100\n",
            "4/4 [==============================] - 0s 12ms/step - loss: 0.1612 - accuracy: 0.9451 - val_loss: 0.2107 - val_accuracy: 0.9231\n",
            "Epoch 60/100\n",
            "4/4 [==============================] - 0s 11ms/step - loss: 0.1598 - accuracy: 0.9341 - val_loss: 0.2149 - val_accuracy: 0.9231\n",
            "Epoch 61/100\n",
            "4/4 [==============================] - 0s 11ms/step - loss: 0.1689 - accuracy: 0.9313 - val_loss: 0.2063 - val_accuracy: 0.9121\n",
            "Epoch 62/100\n",
            "4/4 [==============================] - 0s 12ms/step - loss: 0.1659 - accuracy: 0.9396 - val_loss: 0.2270 - val_accuracy: 0.9231\n",
            "Epoch 63/100\n",
            "4/4 [==============================] - 0s 11ms/step - loss: 0.1637 - accuracy: 0.9368 - val_loss: 0.2092 - val_accuracy: 0.9121\n",
            "Epoch 64/100\n",
            "4/4 [==============================] - 0s 12ms/step - loss: 0.1601 - accuracy: 0.9451 - val_loss: 0.2217 - val_accuracy: 0.9231\n",
            "Epoch 65/100\n",
            "4/4 [==============================] - 0s 12ms/step - loss: 0.1590 - accuracy: 0.9341 - val_loss: 0.2078 - val_accuracy: 0.9231\n",
            "Epoch 66/100\n",
            "4/4 [==============================] - 0s 11ms/step - loss: 0.1542 - accuracy: 0.9368 - val_loss: 0.2107 - val_accuracy: 0.9231\n",
            "Epoch 67/100\n",
            "4/4 [==============================] - 0s 12ms/step - loss: 0.1545 - accuracy: 0.9451 - val_loss: 0.2076 - val_accuracy: 0.9121\n",
            "Epoch 68/100\n",
            "4/4 [==============================] - 0s 12ms/step - loss: 0.1521 - accuracy: 0.9451 - val_loss: 0.2075 - val_accuracy: 0.9121\n",
            "Epoch 69/100\n",
            "4/4 [==============================] - 0s 14ms/step - loss: 0.1564 - accuracy: 0.9396 - val_loss: 0.2121 - val_accuracy: 0.9231\n",
            "Epoch 70/100\n",
            "4/4 [==============================] - 0s 12ms/step - loss: 0.1576 - accuracy: 0.9341 - val_loss: 0.2134 - val_accuracy: 0.9231\n",
            "Epoch 71/100\n",
            "4/4 [==============================] - 0s 12ms/step - loss: 0.1507 - accuracy: 0.9423 - val_loss: 0.2042 - val_accuracy: 0.9121\n",
            "Epoch 72/100\n",
            "4/4 [==============================] - 0s 13ms/step - loss: 0.1519 - accuracy: 0.9451 - val_loss: 0.2080 - val_accuracy: 0.9231\n",
            "Epoch 73/100\n",
            "4/4 [==============================] - 0s 15ms/step - loss: 0.1546 - accuracy: 0.9396 - val_loss: 0.2077 - val_accuracy: 0.9231\n",
            "Epoch 74/100\n",
            "4/4 [==============================] - 0s 14ms/step - loss: 0.1545 - accuracy: 0.9396 - val_loss: 0.2022 - val_accuracy: 0.9121\n",
            "Epoch 75/100\n",
            "4/4 [==============================] - 0s 12ms/step - loss: 0.1546 - accuracy: 0.9451 - val_loss: 0.2188 - val_accuracy: 0.9231\n",
            "Epoch 76/100\n",
            "4/4 [==============================] - 0s 11ms/step - loss: 0.1502 - accuracy: 0.9423 - val_loss: 0.2050 - val_accuracy: 0.9121\n",
            "Epoch 77/100\n",
            "4/4 [==============================] - 0s 11ms/step - loss: 0.1491 - accuracy: 0.9505 - val_loss: 0.2164 - val_accuracy: 0.9231\n",
            "Epoch 78/100\n",
            "4/4 [==============================] - 0s 12ms/step - loss: 0.1508 - accuracy: 0.9396 - val_loss: 0.2075 - val_accuracy: 0.9231\n",
            "Epoch 79/100\n",
            "4/4 [==============================] - 0s 12ms/step - loss: 0.1485 - accuracy: 0.9423 - val_loss: 0.2038 - val_accuracy: 0.9121\n",
            "Epoch 80/100\n",
            "4/4 [==============================] - 0s 12ms/step - loss: 0.1459 - accuracy: 0.9451 - val_loss: 0.2022 - val_accuracy: 0.9121\n",
            "Epoch 81/100\n",
            "4/4 [==============================] - 0s 12ms/step - loss: 0.1471 - accuracy: 0.9451 - val_loss: 0.2087 - val_accuracy: 0.9121\n",
            "Epoch 82/100\n",
            "4/4 [==============================] - 0s 11ms/step - loss: 0.1549 - accuracy: 0.9368 - val_loss: 0.2066 - val_accuracy: 0.9121\n",
            "Epoch 83/100\n",
            "4/4 [==============================] - 0s 12ms/step - loss: 0.1480 - accuracy: 0.9451 - val_loss: 0.2004 - val_accuracy: 0.9121\n",
            "Epoch 84/100\n",
            "4/4 [==============================] - 0s 11ms/step - loss: 0.1604 - accuracy: 0.9368 - val_loss: 0.2116 - val_accuracy: 0.9231\n",
            "Epoch 85/100\n",
            "4/4 [==============================] - 0s 11ms/step - loss: 0.1396 - accuracy: 0.9423 - val_loss: 0.1999 - val_accuracy: 0.9121\n",
            "Epoch 86/100\n",
            "4/4 [==============================] - 0s 10ms/step - loss: 0.1527 - accuracy: 0.9478 - val_loss: 0.2087 - val_accuracy: 0.9231\n",
            "Epoch 87/100\n",
            "4/4 [==============================] - 0s 12ms/step - loss: 0.1424 - accuracy: 0.9368 - val_loss: 0.2161 - val_accuracy: 0.9231\n",
            "Epoch 88/100\n",
            "4/4 [==============================] - 0s 13ms/step - loss: 0.1454 - accuracy: 0.9396 - val_loss: 0.2011 - val_accuracy: 0.9121\n",
            "Epoch 89/100\n",
            "4/4 [==============================] - 0s 12ms/step - loss: 0.1443 - accuracy: 0.9368 - val_loss: 0.2156 - val_accuracy: 0.9231\n",
            "Epoch 90/100\n",
            "4/4 [==============================] - 0s 88ms/step - loss: 0.1421 - accuracy: 0.9451 - val_loss: 0.2006 - val_accuracy: 0.9121\n",
            "Epoch 91/100\n",
            "4/4 [==============================] - 0s 20ms/step - loss: 0.1450 - accuracy: 0.9505 - val_loss: 0.2055 - val_accuracy: 0.9121\n",
            "Epoch 92/100\n",
            "4/4 [==============================] - 0s 11ms/step - loss: 0.1442 - accuracy: 0.9396 - val_loss: 0.2089 - val_accuracy: 0.9121\n",
            "Epoch 93/100\n",
            "4/4 [==============================] - 0s 11ms/step - loss: 0.1533 - accuracy: 0.9451 - val_loss: 0.2071 - val_accuracy: 0.9121\n",
            "Epoch 94/100\n",
            "4/4 [==============================] - 0s 11ms/step - loss: 0.1452 - accuracy: 0.9451 - val_loss: 0.2093 - val_accuracy: 0.9231\n",
            "Epoch 95/100\n",
            "4/4 [==============================] - 0s 13ms/step - loss: 0.1478 - accuracy: 0.9423 - val_loss: 0.1980 - val_accuracy: 0.9121\n",
            "Epoch 96/100\n",
            "4/4 [==============================] - 0s 12ms/step - loss: 0.1619 - accuracy: 0.9313 - val_loss: 0.2082 - val_accuracy: 0.9231\n",
            "Epoch 97/100\n",
            "4/4 [==============================] - 0s 11ms/step - loss: 0.1590 - accuracy: 0.9368 - val_loss: 0.1964 - val_accuracy: 0.9121\n",
            "Epoch 98/100\n",
            "4/4 [==============================] - 0s 11ms/step - loss: 0.1434 - accuracy: 0.9423 - val_loss: 0.2310 - val_accuracy: 0.9121\n",
            "Epoch 99/100\n",
            "4/4 [==============================] - 0s 11ms/step - loss: 0.1431 - accuracy: 0.9423 - val_loss: 0.1973 - val_accuracy: 0.9121\n",
            "Epoch 100/100\n",
            "4/4 [==============================] - 0s 11ms/step - loss: 0.1416 - accuracy: 0.9533 - val_loss: 0.2167 - val_accuracy: 0.9231\n"
          ]
        }
      ]
    },
    {
      "cell_type": "markdown",
      "source": [
        "- 모델 평가"
      ],
      "metadata": {
        "id": "jh8D4dKeHrvE"
      }
    },
    {
      "cell_type": "code",
      "source": [
        "model.evaluate(X_test, y_test)"
      ],
      "metadata": {
        "colab": {
          "base_uri": "https://localhost:8080/"
        },
        "id": "pKTJKU6TH_sU",
        "outputId": "e50e7fcf-4771-454c-ecdd-53977a4f7c13"
      },
      "execution_count": 16,
      "outputs": [
        {
          "output_type": "stream",
          "name": "stdout",
          "text": [
            "4/4 [==============================] - 0s 4ms/step - loss: 0.2283 - accuracy: 0.9035\n"
          ]
        },
        {
          "output_type": "execute_result",
          "data": {
            "text/plain": [
              "[0.22828814387321472, 0.9035087823867798]"
            ]
          },
          "metadata": {},
          "execution_count": 16
        }
      ]
    },
    {
      "cell_type": "markdown",
      "source": [
        "- 훈련과정 시각화 : epoch에 따른 accuracy, val_loss의 변화"
      ],
      "metadata": {
        "id": "S_2EhpyzIE07"
      }
    },
    {
      "cell_type": "code",
      "source": [
        "y_acc = history.history['accuracy']\n",
        "y_vloss = history.history['val_loss']\n",
        "xs = np.arange(1,len(y_acc)+1)"
      ],
      "metadata": {
        "id": "HmwNfs34Ihv4"
      },
      "execution_count": 17,
      "outputs": []
    },
    {
      "cell_type": "code",
      "source": [
        "plt.figure(figsize = (12,8))\n",
        "plt.plot(xs, y_acc, label='train accuracy')\n",
        "plt.plot(xs,y_vloss, label='validation loss')\n",
        "plt.legend(), plt.grid()\n",
        "plt.xlabel('Epoch')\n",
        "plt.title('No feature transform')\n",
        "plt.show()"
      ],
      "metadata": {
        "colab": {
          "base_uri": "https://localhost:8080/",
          "height": 513
        },
        "id": "_UxLszccJFIe",
        "outputId": "c70fdded-eb7a-4edb-cf9f-d8a5722f1385"
      },
      "execution_count": 22,
      "outputs": [
        {
          "output_type": "display_data",
          "data": {
            "text/plain": [
              "<Figure size 864x576 with 1 Axes>"
            ],
            "image/png": "[encoded data removed]"
          },
          "metadata": {
            "needs_background": "light"
          }
        }
      ]
    },
    {
      "cell_type": "code",
      "source": [
        "plt.figure(figsize = (12,8))\n",
        "plt.plot(xs, y_acc, label='train accuracy')\n",
        "plt.plot(xs,y_vloss, label='validation loss')\n",
        "plt.legend(), plt.grid()\n",
        "plt.ylim([0,1])\n",
        "plt.xlabel('Epoch')\n",
        "plt.title('No feature transform')\n",
        "plt.show()"
      ],
      "metadata": {
        "colab": {
          "base_uri": "https://localhost:8080/",
          "height": 513
        },
        "id": "orIUllzIJLws",
        "outputId": "0f69355c-e8f9-42e3-aeb1-3373e8642085"
      },
      "execution_count": 23,
      "outputs": [
        {
          "output_type": "display_data",
          "data": {
            "text/plain": [
              "<Figure size 864x576 with 1 Axes>"
            ],
            "image/png": "[encoded data removed]"
          },
          "metadata": {
            "needs_background": "light"
          }
        }
      ]
    },
    {
      "cell_type": "markdown",
      "source": [
        "### 2. 데이터를 정규/ 표준화한 경우"
      ],
      "metadata": {
        "id": "eDyjVHKVJsC5"
      }
    },
    {
      "cell_type": "code",
      "source": [
        "from sklearn.preprocessing import StandardScaler\n",
        "cancer_std = StandardScaler().fit_transform(cancer.data)"
      ],
      "metadata": {
        "id": "Mo1H-AoQKaa1"
      },
      "execution_count": 25,
      "outputs": []
    },
    {
      "cell_type": "code",
      "source": [
        "from sklearn.model_selection import train_test_split\n",
        "X_train2,X_test2,y_train2,y_test2 = train_test_split(\n",
        "    cancer_std, cancer.target, stratify=cancer.target,\n",
        "    test_size=0.2, random_state = 2022\n",
        ")"
      ],
      "metadata": {
        "id": "qhqMvvYCKmGF"
      },
      "execution_count": 26,
      "outputs": []
    },
    {
      "cell_type": "markdown",
      "source": [
        "- 모델 정의"
      ],
      "metadata": {
        "id": "RzaZmirjK0KG"
      }
    },
    {
      "cell_type": "code",
      "source": [
        "model2 = Sequential()\n",
        "model2.add(Dense(100, input_dim=30, activation='relu'))\n",
        "model2.add(Dense(24, activation='relu'))\n",
        "model2.add(Dense(1,activation='sigmoid'))\n",
        "model2.summary()"
      ],
      "metadata": {
        "colab": {
          "base_uri": "https://localhost:8080/"
        },
        "id": "YwWbob-8K4Sy",
        "outputId": "399f599b-8b6d-431d-d361-c21a2144f4d6"
      },
      "execution_count": 27,
      "outputs": [
        {
          "output_type": "stream",
          "name": "stdout",
          "text": [
            "Model: \"sequential_1\"\n",
            "_________________________________________________________________\n",
            " Layer (type)                Output Shape              Param #   \n",
            "=================================================================\n",
            " dense_3 (Dense)             (None, 100)               3100      \n",
            "                                                                 \n",
            " dense_4 (Dense)             (None, 24)                2424      \n",
            "                                                                 \n",
            " dense_5 (Dense)             (None, 1)                 25        \n",
            "                                                                 \n",
            "=================================================================\n",
            "Total params: 5,549\n",
            "Trainable params: 5,549\n",
            "Non-trainable params: 0\n",
            "_________________________________________________________________\n"
          ]
        }
      ]
    },
    {
      "cell_type": "markdown",
      "source": [
        "- 모델 설정"
      ],
      "metadata": {
        "id": "jTeDSQOJLS-u"
      }
    },
    {
      "cell_type": "code",
      "source": [
        "model2.compile(optimizer='adam', loss='binary_crossentropy', metrics=['accuracy'])"
      ],
      "metadata": {
        "id": "XM62ccP0LnYp"
      },
      "execution_count": 28,
      "outputs": []
    },
    {
      "cell_type": "markdown",
      "source": [
        "- 모델 학습"
      ],
      "metadata": {
        "id": "OYqkmGVeLxMN"
      }
    },
    {
      "cell_type": "code",
      "source": [
        "hist2 = model2.fit(X_train2, y_train2, validation_split=0.2,\n",
        "                   epochs = 100, batch_size=100)"
      ],
      "metadata": {
        "colab": {
          "base_uri": "https://localhost:8080/"
        },
        "id": "08DhneDNL55J",
        "outputId": "f96377ce-48b4-4436-8e22-8ae2c9d72724"
      },
      "execution_count": 29,
      "outputs": [
        {
          "output_type": "stream",
          "name": "stdout",
          "text": [
            "Epoch 1/100\n",
            "4/4 [==============================] - 1s 97ms/step - loss: 0.6377 - accuracy: 0.6868 - val_loss: 0.5488 - val_accuracy: 0.8462\n",
            "Epoch 2/100\n",
            "4/4 [==============================] - 0s 23ms/step - loss: 0.4852 - accuracy: 0.8984 - val_loss: 0.4334 - val_accuracy: 0.9011\n",
            "Epoch 3/100\n",
            "4/4 [==============================] - 0s 19ms/step - loss: 0.3789 - accuracy: 0.9341 - val_loss: 0.3497 - val_accuracy: 0.9011\n",
            "Epoch 4/100\n",
            "4/4 [==============================] - 0s 17ms/step - loss: 0.3032 - accuracy: 0.9423 - val_loss: 0.2876 - val_accuracy: 0.9121\n",
            "Epoch 5/100\n",
            "4/4 [==============================] - 0s 17ms/step - loss: 0.2474 - accuracy: 0.9423 - val_loss: 0.2425 - val_accuracy: 0.9231\n",
            "Epoch 6/100\n",
            "4/4 [==============================] - 0s 17ms/step - loss: 0.2078 - accuracy: 0.9451 - val_loss: 0.2100 - val_accuracy: 0.9341\n",
            "Epoch 7/100\n",
            "4/4 [==============================] - 0s 18ms/step - loss: 0.1776 - accuracy: 0.9505 - val_loss: 0.1868 - val_accuracy: 0.9341\n",
            "Epoch 8/100\n",
            "4/4 [==============================] - 0s 16ms/step - loss: 0.1562 - accuracy: 0.9560 - val_loss: 0.1694 - val_accuracy: 0.9341\n",
            "Epoch 9/100\n",
            "4/4 [==============================] - 0s 17ms/step - loss: 0.1382 - accuracy: 0.9643 - val_loss: 0.1569 - val_accuracy: 0.9341\n",
            "Epoch 10/100\n",
            "4/4 [==============================] - 0s 15ms/step - loss: 0.1232 - accuracy: 0.9698 - val_loss: 0.1474 - val_accuracy: 0.9451\n",
            "Epoch 11/100\n",
            "4/4 [==============================] - 0s 17ms/step - loss: 0.1119 - accuracy: 0.9780 - val_loss: 0.1401 - val_accuracy: 0.9451\n",
            "Epoch 12/100\n",
            "4/4 [==============================] - 0s 15ms/step - loss: 0.1029 - accuracy: 0.9780 - val_loss: 0.1350 - val_accuracy: 0.9341\n",
            "Epoch 13/100\n",
            "4/4 [==============================] - 0s 19ms/step - loss: 0.0951 - accuracy: 0.9780 - val_loss: 0.1312 - val_accuracy: 0.9341\n",
            "Epoch 14/100\n",
            "4/4 [==============================] - 0s 17ms/step - loss: 0.0887 - accuracy: 0.9780 - val_loss: 0.1278 - val_accuracy: 0.9560\n",
            "Epoch 15/100\n",
            "4/4 [==============================] - 0s 21ms/step - loss: 0.0842 - accuracy: 0.9780 - val_loss: 0.1258 - val_accuracy: 0.9560\n",
            "Epoch 16/100\n",
            "4/4 [==============================] - 0s 17ms/step - loss: 0.0791 - accuracy: 0.9780 - val_loss: 0.1233 - val_accuracy: 0.9560\n",
            "Epoch 17/100\n",
            "4/4 [==============================] - 0s 24ms/step - loss: 0.0751 - accuracy: 0.9780 - val_loss: 0.1206 - val_accuracy: 0.9560\n",
            "Epoch 18/100\n",
            "4/4 [==============================] - 0s 18ms/step - loss: 0.0718 - accuracy: 0.9780 - val_loss: 0.1187 - val_accuracy: 0.9560\n",
            "Epoch 19/100\n",
            "4/4 [==============================] - 0s 18ms/step - loss: 0.0688 - accuracy: 0.9780 - val_loss: 0.1173 - val_accuracy: 0.9560\n",
            "Epoch 20/100\n",
            "4/4 [==============================] - 0s 19ms/step - loss: 0.0658 - accuracy: 0.9780 - val_loss: 0.1161 - val_accuracy: 0.9560\n",
            "Epoch 21/100\n",
            "4/4 [==============================] - 0s 17ms/step - loss: 0.0633 - accuracy: 0.9780 - val_loss: 0.1154 - val_accuracy: 0.9560\n",
            "Epoch 22/100\n",
            "4/4 [==============================] - 0s 17ms/step - loss: 0.0608 - accuracy: 0.9808 - val_loss: 0.1152 - val_accuracy: 0.9560\n",
            "Epoch 23/100\n",
            "4/4 [==============================] - 0s 19ms/step - loss: 0.0588 - accuracy: 0.9808 - val_loss: 0.1144 - val_accuracy: 0.9560\n",
            "Epoch 24/100\n",
            "4/4 [==============================] - 0s 19ms/step - loss: 0.0565 - accuracy: 0.9835 - val_loss: 0.1141 - val_accuracy: 0.9560\n",
            "Epoch 25/100\n",
            "4/4 [==============================] - 0s 16ms/step - loss: 0.0546 - accuracy: 0.9835 - val_loss: 0.1142 - val_accuracy: 0.9560\n",
            "Epoch 26/100\n",
            "4/4 [==============================] - 0s 17ms/step - loss: 0.0528 - accuracy: 0.9835 - val_loss: 0.1143 - val_accuracy: 0.9560\n",
            "Epoch 27/100\n",
            "4/4 [==============================] - 0s 18ms/step - loss: 0.0509 - accuracy: 0.9863 - val_loss: 0.1148 - val_accuracy: 0.9451\n",
            "Epoch 28/100\n",
            "4/4 [==============================] - 0s 20ms/step - loss: 0.0492 - accuracy: 0.9890 - val_loss: 0.1156 - val_accuracy: 0.9560\n",
            "Epoch 29/100\n",
            "4/4 [==============================] - 0s 18ms/step - loss: 0.0474 - accuracy: 0.9890 - val_loss: 0.1158 - val_accuracy: 0.9560\n",
            "Epoch 30/100\n",
            "4/4 [==============================] - 0s 19ms/step - loss: 0.0457 - accuracy: 0.9890 - val_loss: 0.1159 - val_accuracy: 0.9560\n",
            "Epoch 31/100\n",
            "4/4 [==============================] - 0s 24ms/step - loss: 0.0441 - accuracy: 0.9890 - val_loss: 0.1156 - val_accuracy: 0.9560\n",
            "Epoch 32/100\n",
            "4/4 [==============================] - 0s 18ms/step - loss: 0.0428 - accuracy: 0.9890 - val_loss: 0.1161 - val_accuracy: 0.9560\n",
            "Epoch 33/100\n",
            "4/4 [==============================] - 0s 18ms/step - loss: 0.0413 - accuracy: 0.9890 - val_loss: 0.1166 - val_accuracy: 0.9560\n",
            "Epoch 34/100\n",
            "4/4 [==============================] - 0s 17ms/step - loss: 0.0398 - accuracy: 0.9890 - val_loss: 0.1169 - val_accuracy: 0.9670\n",
            "Epoch 35/100\n",
            "4/4 [==============================] - 0s 18ms/step - loss: 0.0384 - accuracy: 0.9890 - val_loss: 0.1167 - val_accuracy: 0.9670\n",
            "Epoch 36/100\n",
            "4/4 [==============================] - 0s 20ms/step - loss: 0.0374 - accuracy: 0.9890 - val_loss: 0.1178 - val_accuracy: 0.9560\n",
            "Epoch 37/100\n",
            "4/4 [==============================] - 0s 17ms/step - loss: 0.0359 - accuracy: 0.9890 - val_loss: 0.1185 - val_accuracy: 0.9560\n",
            "Epoch 38/100\n",
            "4/4 [==============================] - 0s 16ms/step - loss: 0.0345 - accuracy: 0.9890 - val_loss: 0.1199 - val_accuracy: 0.9560\n",
            "Epoch 39/100\n",
            "4/4 [==============================] - 0s 18ms/step - loss: 0.0333 - accuracy: 0.9890 - val_loss: 0.1212 - val_accuracy: 0.9560\n",
            "Epoch 40/100\n",
            "4/4 [==============================] - 0s 19ms/step - loss: 0.0322 - accuracy: 0.9890 - val_loss: 0.1232 - val_accuracy: 0.9560\n",
            "Epoch 41/100\n",
            "4/4 [==============================] - 0s 18ms/step - loss: 0.0312 - accuracy: 0.9890 - val_loss: 0.1249 - val_accuracy: 0.9560\n",
            "Epoch 42/100\n",
            "4/4 [==============================] - 0s 17ms/step - loss: 0.0302 - accuracy: 0.9890 - val_loss: 0.1271 - val_accuracy: 0.9560\n",
            "Epoch 43/100\n",
            "4/4 [==============================] - 0s 18ms/step - loss: 0.0289 - accuracy: 0.9918 - val_loss: 0.1287 - val_accuracy: 0.9560\n",
            "Epoch 44/100\n",
            "4/4 [==============================] - 0s 21ms/step - loss: 0.0278 - accuracy: 0.9918 - val_loss: 0.1298 - val_accuracy: 0.9560\n",
            "Epoch 45/100\n",
            "4/4 [==============================] - 0s 21ms/step - loss: 0.0269 - accuracy: 0.9918 - val_loss: 0.1313 - val_accuracy: 0.9560\n",
            "Epoch 46/100\n",
            "4/4 [==============================] - 0s 16ms/step - loss: 0.0259 - accuracy: 0.9918 - val_loss: 0.1334 - val_accuracy: 0.9560\n",
            "Epoch 47/100\n",
            "4/4 [==============================] - 0s 24ms/step - loss: 0.0249 - accuracy: 0.9918 - val_loss: 0.1350 - val_accuracy: 0.9560\n",
            "Epoch 48/100\n",
            "4/4 [==============================] - 0s 19ms/step - loss: 0.0241 - accuracy: 0.9918 - val_loss: 0.1356 - val_accuracy: 0.9560\n",
            "Epoch 49/100\n",
            "4/4 [==============================] - 0s 19ms/step - loss: 0.0232 - accuracy: 0.9918 - val_loss: 0.1374 - val_accuracy: 0.9560\n",
            "Epoch 50/100\n",
            "4/4 [==============================] - 0s 17ms/step - loss: 0.0225 - accuracy: 0.9918 - val_loss: 0.1377 - val_accuracy: 0.9560\n",
            "Epoch 51/100\n",
            "4/4 [==============================] - 0s 18ms/step - loss: 0.0215 - accuracy: 0.9945 - val_loss: 0.1407 - val_accuracy: 0.9560\n",
            "Epoch 52/100\n",
            "4/4 [==============================] - 0s 18ms/step - loss: 0.0207 - accuracy: 0.9945 - val_loss: 0.1430 - val_accuracy: 0.9560\n",
            "Epoch 53/100\n",
            "4/4 [==============================] - 0s 17ms/step - loss: 0.0200 - accuracy: 0.9945 - val_loss: 0.1432 - val_accuracy: 0.9560\n",
            "Epoch 54/100\n",
            "4/4 [==============================] - 0s 21ms/step - loss: 0.0192 - accuracy: 0.9973 - val_loss: 0.1438 - val_accuracy: 0.9560\n",
            "Epoch 55/100\n",
            "4/4 [==============================] - 0s 19ms/step - loss: 0.0186 - accuracy: 0.9973 - val_loss: 0.1440 - val_accuracy: 0.9670\n",
            "Epoch 56/100\n",
            "4/4 [==============================] - 0s 18ms/step - loss: 0.0179 - accuracy: 0.9973 - val_loss: 0.1456 - val_accuracy: 0.9670\n",
            "Epoch 57/100\n",
            "4/4 [==============================] - 0s 16ms/step - loss: 0.0174 - accuracy: 0.9973 - val_loss: 0.1479 - val_accuracy: 0.9670\n",
            "Epoch 58/100\n",
            "4/4 [==============================] - 0s 18ms/step - loss: 0.0167 - accuracy: 0.9973 - val_loss: 0.1508 - val_accuracy: 0.9560\n",
            "Epoch 59/100\n",
            "4/4 [==============================] - 0s 23ms/step - loss: 0.0161 - accuracy: 1.0000 - val_loss: 0.1513 - val_accuracy: 0.9560\n",
            "Epoch 60/100\n",
            "4/4 [==============================] - 0s 18ms/step - loss: 0.0155 - accuracy: 1.0000 - val_loss: 0.1520 - val_accuracy: 0.9670\n",
            "Epoch 61/100\n",
            "4/4 [==============================] - 0s 19ms/step - loss: 0.0150 - accuracy: 1.0000 - val_loss: 0.1528 - val_accuracy: 0.9670\n",
            "Epoch 62/100\n",
            "4/4 [==============================] - 0s 18ms/step - loss: 0.0145 - accuracy: 1.0000 - val_loss: 0.1544 - val_accuracy: 0.9670\n",
            "Epoch 63/100\n",
            "4/4 [==============================] - 0s 22ms/step - loss: 0.0140 - accuracy: 1.0000 - val_loss: 0.1565 - val_accuracy: 0.9670\n",
            "Epoch 64/100\n",
            "4/4 [==============================] - 0s 16ms/step - loss: 0.0134 - accuracy: 1.0000 - val_loss: 0.1578 - val_accuracy: 0.9670\n",
            "Epoch 65/100\n",
            "4/4 [==============================] - 0s 17ms/step - loss: 0.0130 - accuracy: 1.0000 - val_loss: 0.1599 - val_accuracy: 0.9670\n",
            "Epoch 66/100\n",
            "4/4 [==============================] - 0s 18ms/step - loss: 0.0125 - accuracy: 1.0000 - val_loss: 0.1601 - val_accuracy: 0.9670\n",
            "Epoch 67/100\n",
            "4/4 [==============================] - 0s 17ms/step - loss: 0.0121 - accuracy: 1.0000 - val_loss: 0.1624 - val_accuracy: 0.9670\n",
            "Epoch 68/100\n",
            "4/4 [==============================] - 0s 19ms/step - loss: 0.0116 - accuracy: 1.0000 - val_loss: 0.1628 - val_accuracy: 0.9670\n",
            "Epoch 69/100\n",
            "4/4 [==============================] - 0s 16ms/step - loss: 0.0113 - accuracy: 1.0000 - val_loss: 0.1636 - val_accuracy: 0.9670\n",
            "Epoch 70/100\n",
            "4/4 [==============================] - 0s 16ms/step - loss: 0.0110 - accuracy: 1.0000 - val_loss: 0.1661 - val_accuracy: 0.9670\n",
            "Epoch 71/100\n",
            "4/4 [==============================] - 0s 18ms/step - loss: 0.0105 - accuracy: 1.0000 - val_loss: 0.1671 - val_accuracy: 0.9670\n",
            "Epoch 72/100\n",
            "4/4 [==============================] - 0s 17ms/step - loss: 0.0103 - accuracy: 1.0000 - val_loss: 0.1691 - val_accuracy: 0.9670\n",
            "Epoch 73/100\n",
            "4/4 [==============================] - 0s 16ms/step - loss: 0.0099 - accuracy: 1.0000 - val_loss: 0.1705 - val_accuracy: 0.9670\n",
            "Epoch 74/100\n",
            "4/4 [==============================] - 0s 21ms/step - loss: 0.0095 - accuracy: 1.0000 - val_loss: 0.1712 - val_accuracy: 0.9670\n",
            "Epoch 75/100\n",
            "4/4 [==============================] - 0s 19ms/step - loss: 0.0092 - accuracy: 1.0000 - val_loss: 0.1727 - val_accuracy: 0.9560\n",
            "Epoch 76/100\n",
            "4/4 [==============================] - 0s 18ms/step - loss: 0.0089 - accuracy: 1.0000 - val_loss: 0.1739 - val_accuracy: 0.9560\n",
            "Epoch 77/100\n",
            "4/4 [==============================] - 0s 20ms/step - loss: 0.0086 - accuracy: 1.0000 - val_loss: 0.1757 - val_accuracy: 0.9560\n",
            "Epoch 78/100\n",
            "4/4 [==============================] - 0s 19ms/step - loss: 0.0084 - accuracy: 1.0000 - val_loss: 0.1766 - val_accuracy: 0.9560\n",
            "Epoch 79/100\n",
            "4/4 [==============================] - 0s 20ms/step - loss: 0.0081 - accuracy: 1.0000 - val_loss: 0.1784 - val_accuracy: 0.9560\n",
            "Epoch 80/100\n",
            "4/4 [==============================] - 0s 20ms/step - loss: 0.0078 - accuracy: 1.0000 - val_loss: 0.1794 - val_accuracy: 0.9560\n",
            "Epoch 81/100\n",
            "4/4 [==============================] - 0s 21ms/step - loss: 0.0076 - accuracy: 1.0000 - val_loss: 0.1795 - val_accuracy: 0.9560\n",
            "Epoch 82/100\n",
            "4/4 [==============================] - 0s 24ms/step - loss: 0.0074 - accuracy: 1.0000 - val_loss: 0.1787 - val_accuracy: 0.9560\n",
            "Epoch 83/100\n",
            "4/4 [==============================] - 0s 20ms/step - loss: 0.0072 - accuracy: 1.0000 - val_loss: 0.1808 - val_accuracy: 0.9560\n",
            "Epoch 84/100\n",
            "4/4 [==============================] - 0s 20ms/step - loss: 0.0069 - accuracy: 1.0000 - val_loss: 0.1813 - val_accuracy: 0.9560\n",
            "Epoch 85/100\n",
            "4/4 [==============================] - 0s 20ms/step - loss: 0.0067 - accuracy: 1.0000 - val_loss: 0.1818 - val_accuracy: 0.9560\n",
            "Epoch 86/100\n",
            "4/4 [==============================] - 0s 25ms/step - loss: 0.0065 - accuracy: 1.0000 - val_loss: 0.1827 - val_accuracy: 0.9560\n",
            "Epoch 87/100\n",
            "4/4 [==============================] - 0s 19ms/step - loss: 0.0063 - accuracy: 1.0000 - val_loss: 0.1833 - val_accuracy: 0.9560\n",
            "Epoch 88/100\n",
            "4/4 [==============================] - 0s 19ms/step - loss: 0.0061 - accuracy: 1.0000 - val_loss: 0.1834 - val_accuracy: 0.9560\n",
            "Epoch 89/100\n",
            "4/4 [==============================] - 0s 17ms/step - loss: 0.0060 - accuracy: 1.0000 - val_loss: 0.1832 - val_accuracy: 0.9560\n",
            "Epoch 90/100\n",
            "4/4 [==============================] - 0s 17ms/step - loss: 0.0058 - accuracy: 1.0000 - val_loss: 0.1855 - val_accuracy: 0.9560\n",
            "Epoch 91/100\n",
            "4/4 [==============================] - 0s 17ms/step - loss: 0.0056 - accuracy: 1.0000 - val_loss: 0.1870 - val_accuracy: 0.9560\n",
            "Epoch 92/100\n",
            "4/4 [==============================] - 0s 18ms/step - loss: 0.0055 - accuracy: 1.0000 - val_loss: 0.1869 - val_accuracy: 0.9560\n",
            "Epoch 93/100\n",
            "4/4 [==============================] - 0s 17ms/step - loss: 0.0053 - accuracy: 1.0000 - val_loss: 0.1871 - val_accuracy: 0.9560\n",
            "Epoch 94/100\n",
            "4/4 [==============================] - 0s 18ms/step - loss: 0.0052 - accuracy: 1.0000 - val_loss: 0.1880 - val_accuracy: 0.9560\n",
            "Epoch 95/100\n",
            "4/4 [==============================] - 0s 17ms/step - loss: 0.0050 - accuracy: 1.0000 - val_loss: 0.1885 - val_accuracy: 0.9560\n",
            "Epoch 96/100\n",
            "4/4 [==============================] - 0s 22ms/step - loss: 0.0049 - accuracy: 1.0000 - val_loss: 0.1901 - val_accuracy: 0.9560\n",
            "Epoch 97/100\n",
            "4/4 [==============================] - 0s 19ms/step - loss: 0.0047 - accuracy: 1.0000 - val_loss: 0.1910 - val_accuracy: 0.9560\n",
            "Epoch 98/100\n",
            "4/4 [==============================] - 0s 20ms/step - loss: 0.0046 - accuracy: 1.0000 - val_loss: 0.1910 - val_accuracy: 0.9560\n",
            "Epoch 99/100\n",
            "4/4 [==============================] - 0s 18ms/step - loss: 0.0045 - accuracy: 1.0000 - val_loss: 0.1926 - val_accuracy: 0.9560\n",
            "Epoch 100/100\n",
            "4/4 [==============================] - 0s 22ms/step - loss: 0.0044 - accuracy: 1.0000 - val_loss: 0.1942 - val_accuracy: 0.9560\n"
          ]
        }
      ]
    },
    {
      "cell_type": "code",
      "source": [
        "model2.evaluate(X_test2,y_test2)"
      ],
      "metadata": {
        "colab": {
          "base_uri": "https://localhost:8080/"
        },
        "id": "3h6Se46QMFr1",
        "outputId": "11867166-7335-4850-d861-a8092819aa7b"
      },
      "execution_count": 30,
      "outputs": [
        {
          "output_type": "stream",
          "name": "stdout",
          "text": [
            "4/4 [==============================] - 0s 3ms/step - loss: 0.1147 - accuracy: 0.9737\n"
          ]
        },
        {
          "output_type": "execute_result",
          "data": {
            "text/plain": [
              "[0.11469301581382751, 0.9736841917037964]"
            ]
          },
          "metadata": {},
          "execution_count": 30
        }
      ]
    },
    {
      "cell_type": "markdown",
      "source": [
        "- 학습과정 시각화"
      ],
      "metadata": {
        "id": "A4APwAVfMblf"
      }
    },
    {
      "cell_type": "code",
      "source": [
        "y_acc2 = hist2.history['accuracy']\n",
        "y_vloss2 = hist2.history['val_loss']\n",
        "xs = np.arange(1,len(y_acc2)+1)"
      ],
      "metadata": {
        "id": "HsIaAwYTMgeG"
      },
      "execution_count": 32,
      "outputs": []
    },
    {
      "cell_type": "code",
      "source": [
        "plt.figure(figsize = (12,8))\n",
        "plt.plot(xs, y_acc2, label='train accuracy')\n",
        "plt.plot(xs,y_vloss2, label='validation loss')\n",
        "plt.legend(), plt.grid()\n",
        "plt.ylim([0,1.2])\n",
        "plt.xlabel('Epoch')\n",
        "plt.title('After feature transform')\n",
        "plt.show()"
      ],
      "metadata": {
        "colab": {
          "base_uri": "https://localhost:8080/",
          "height": 513
        },
        "id": "vjKAkdpcMms2",
        "outputId": "10c9c720-b9f6-4162-fbbb-f3f53c99b5ea"
      },
      "execution_count": 34,
      "outputs": [
        {
          "output_type": "display_data",
          "data": {
            "text/plain": [
              "<Figure size 864x576 with 1 Axes>"
            ],
            "image/png": "[encoded data removed]"
          },
          "metadata": {
            "needs_background": "light"
          }
        }
      ]
    },
    {
      "cell_type": "code",
      "source": [
        ""
      ],
      "metadata": {
        "id": "7kYDDIK6Mz20"
      },
      "execution_count": null,
      "outputs": []
    }
  ]
}