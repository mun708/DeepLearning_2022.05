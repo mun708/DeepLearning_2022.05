{
  "nbformat": 4,
  "nbformat_minor": 0,
  "metadata": {
    "colab": {
      "name": "05_회귀.ipynb",
      "provenance": [],
      "collapsed_sections": []
    },
    "kernelspec": {
      "name": "python3",
      "display_name": "Python 3"
    },
    "language_info": {
      "name": "python"
    }
  },
  "cells": [
    {
      "cell_type": "code",
      "execution_count": 1,
      "metadata": {
        "id": "aUGj2g0YcCfD"
      },
      "outputs": [],
      "source": [
        "import numpy as np\n",
        "import pandas as pd\n",
        "import matplotlib.pyplot as plt\n",
        "import tensorflow as tf\n",
        "seed = 2022\n",
        "np.random.seed(seed)\n",
        "tf.random.set_seed(seed)"
      ]
    },
    {
      "cell_type": "code",
      "source": [
        "from sklearn.datasets import fetch_california_housing\n",
        "house = fetch_california_housing()"
      ],
      "metadata": {
        "id": "mKlDAbAOcKiF"
      },
      "execution_count": 2,
      "outputs": []
    },
    {
      "cell_type": "code",
      "source": [
        "df= pd.DataFrame(house.data,columns=house.feature_names)\n",
        "df['target']=house.target"
      ],
      "metadata": {
        "id": "XZMyWFBscTg0"
      },
      "execution_count": 3,
      "outputs": []
    },
    {
      "cell_type": "code",
      "source": [
        "df.head()"
      ],
      "metadata": {
        "colab": {
          "base_uri": "https://localhost:8080/",
          "height": 206
        },
        "id": "SqL3T_i6ceN8",
        "outputId": "a045309a-84a2-478e-d65b-fe52dd401c07"
      },
      "execution_count": 4,
      "outputs": [
        {
          "output_type": "execute_result",
          "data": {
            "text/plain": [
              "   MedInc  HouseAge  AveRooms  AveBedrms  Population  AveOccup  Latitude  \\\n",
              "0  8.3252      41.0  6.984127   1.023810       322.0  2.555556     37.88   \n",
              "1  8.3014      21.0  6.238137   0.971880      2401.0  2.109842     37.86   \n",
              "2  7.2574      52.0  8.288136   1.073446       496.0  2.802260     37.85   \n",
              "3  5.6431      52.0  5.817352   1.073059       558.0  2.547945     37.85   \n",
              "4  3.8462      52.0  6.281853   1.081081       565.0  2.181467     37.85   \n",
              "\n",
              "   Longitude  target  \n",
              "0    -122.23   4.526  \n",
              "1    -122.22   3.585  \n",
              "2    -122.24   3.521  \n",
              "3    -122.25   3.413  \n",
              "4    -122.25   3.422  "
            ],
            "text/html": [
              "\n",
              "  <div id=\"df-56a64dca-990a-4dbe-85fb-cf97373425d0\">\n",
              "    <div class=\"colab-df-container\">\n",
              "      <div>\n",
              "<style scoped>\n",
              "    .dataframe tbody tr th:only-of-type {\n",
              "        vertical-align: middle;\n",
              "    }\n",
              "\n",
              "    .dataframe tbody tr th {\n",
              "        vertical-align: top;\n",
              "    }\n",
              "\n",
              "    .dataframe thead th {\n",
              "        text-align: right;\n",
              "    }\n",
              "</style>\n",
              "<table border=\"1\" class=\"dataframe\">\n",
              "  <thead>\n",
              "    <tr style=\"text-align: right;\">\n",
              "      <th></th>\n",
              "      <th>MedInc</th>\n",
              "      <th>HouseAge</th>\n",
              "      <th>AveRooms</th>\n",
              "      <th>AveBedrms</th>\n",
              "      <th>Population</th>\n",
              "      <th>AveOccup</th>\n",
              "      <th>Latitude</th>\n",
              "      <th>Longitude</th>\n",
              "      <th>target</th>\n",
              "    </tr>\n",
              "  </thead>\n",
              "  <tbody>\n",
              "    <tr>\n",
              "      <th>0</th>\n",
              "      <td>8.3252</td>\n",
              "      <td>41.0</td>\n",
              "      <td>6.984127</td>\n",
              "      <td>1.023810</td>\n",
              "      <td>322.0</td>\n",
              "      <td>2.555556</td>\n",
              "      <td>37.88</td>\n",
              "      <td>-122.23</td>\n",
              "      <td>4.526</td>\n",
              "    </tr>\n",
              "    <tr>\n",
              "      <th>1</th>\n",
              "      <td>8.3014</td>\n",
              "      <td>21.0</td>\n",
              "      <td>6.238137</td>\n",
              "      <td>0.971880</td>\n",
              "      <td>2401.0</td>\n",
              "      <td>2.109842</td>\n",
              "      <td>37.86</td>\n",
              "      <td>-122.22</td>\n",
              "      <td>3.585</td>\n",
              "    </tr>\n",
              "    <tr>\n",
              "      <th>2</th>\n",
              "      <td>7.2574</td>\n",
              "      <td>52.0</td>\n",
              "      <td>8.288136</td>\n",
              "      <td>1.073446</td>\n",
              "      <td>496.0</td>\n",
              "      <td>2.802260</td>\n",
              "      <td>37.85</td>\n",
              "      <td>-122.24</td>\n",
              "      <td>3.521</td>\n",
              "    </tr>\n",
              "    <tr>\n",
              "      <th>3</th>\n",
              "      <td>5.6431</td>\n",
              "      <td>52.0</td>\n",
              "      <td>5.817352</td>\n",
              "      <td>1.073059</td>\n",
              "      <td>558.0</td>\n",
              "      <td>2.547945</td>\n",
              "      <td>37.85</td>\n",
              "      <td>-122.25</td>\n",
              "      <td>3.413</td>\n",
              "    </tr>\n",
              "    <tr>\n",
              "      <th>4</th>\n",
              "      <td>3.8462</td>\n",
              "      <td>52.0</td>\n",
              "      <td>6.281853</td>\n",
              "      <td>1.081081</td>\n",
              "      <td>565.0</td>\n",
              "      <td>2.181467</td>\n",
              "      <td>37.85</td>\n",
              "      <td>-122.25</td>\n",
              "      <td>3.422</td>\n",
              "    </tr>\n",
              "  </tbody>\n",
              "</table>\n",
              "</div>\n",
              "      <button class=\"colab-df-convert\" onclick=\"convertToInteractive('df-56a64dca-990a-4dbe-85fb-cf97373425d0')\"\n",
              "              title=\"Convert this dataframe to an interactive table.\"\n",
              "              style=\"display:none;\">\n",
              "        \n",
              "  <svg xmlns=\"http://www.w3.org/2000/svg\" height=\"24px\"viewBox=\"0 0 24 24\"\n",
              "       width=\"24px\">\n",
              "    <path d=\"M0 0h24v24H0V0z\" fill=\"none\"/>\n",
              "    <path d=\"M18.56 5.44l.94 2.06.94-2.06 2.06-.94-2.06-.94-.94-2.06-.94 2.06-2.06.94zm-11 1L8.5 8.5l.94-2.06 2.06-.94-2.06-.94L8.5 2.5l-.94 2.06-2.06.94zm10 10l.94 2.06.94-2.06 2.06-.94-2.06-.94-.94-2.06-.94 2.06-2.06.94z\"/><path d=\"M17.41 7.96l-1.37-1.37c-.4-.4-.92-.59-1.43-.59-.52 0-1.04.2-1.43.59L10.3 9.45l-7.72 7.72c-.78.78-.78 2.05 0 2.83L4 21.41c.39.39.9.59 1.41.59.51 0 1.02-.2 1.41-.59l7.78-7.78 2.81-2.81c.8-.78.8-2.07 0-2.86zM5.41 20L4 18.59l7.72-7.72 1.47 1.35L5.41 20z\"/>\n",
              "  </svg>\n",
              "      </button>\n",
              "      \n",
              "  <style>\n",
              "    .colab-df-container {\n",
              "      display:flex;\n",
              "      flex-wrap:wrap;\n",
              "      gap: 12px;\n",
              "    }\n",
              "\n",
              "    .colab-df-convert {\n",
              "      background-color: #E8F0FE;\n",
              "      border: none;\n",
              "      border-radius: 50%;\n",
              "      cursor: pointer;\n",
              "      display: none;\n",
              "      fill: #1967D2;\n",
              "      height: 32px;\n",
              "      padding: 0 0 0 0;\n",
              "      width: 32px;\n",
              "    }\n",
              "\n",
              "    .colab-df-convert:hover {\n",
              "      background-color: #E2EBFA;\n",
              "      box-shadow: 0px 1px 2px rgba(60, 64, 67, 0.3), 0px 1px 3px 1px rgba(60, 64, 67, 0.15);\n",
              "      fill: #174EA6;\n",
              "    }\n",
              "\n",
              "    [theme=dark] .colab-df-convert {\n",
              "      background-color: #3B4455;\n",
              "      fill: #D2E3FC;\n",
              "    }\n",
              "\n",
              "    [theme=dark] .colab-df-convert:hover {\n",
              "      background-color: #434B5C;\n",
              "      box-shadow: 0px 1px 3px 1px rgba(0, 0, 0, 0.15);\n",
              "      filter: drop-shadow(0px 1px 2px rgba(0, 0, 0, 0.3));\n",
              "      fill: #FFFFFF;\n",
              "    }\n",
              "  </style>\n",
              "\n",
              "      <script>\n",
              "        const buttonEl =\n",
              "          document.querySelector('#df-56a64dca-990a-4dbe-85fb-cf97373425d0 button.colab-df-convert');\n",
              "        buttonEl.style.display =\n",
              "          google.colab.kernel.accessAllowed ? 'block' : 'none';\n",
              "\n",
              "        async function convertToInteractive(key) {\n",
              "          const element = document.querySelector('#df-56a64dca-990a-4dbe-85fb-cf97373425d0');\n",
              "          const dataTable =\n",
              "            await google.colab.kernel.invokeFunction('convertToInteractive',\n",
              "                                                     [key], {});\n",
              "          if (!dataTable) return;\n",
              "\n",
              "          const docLinkHtml = 'Like what you see? Visit the ' +\n",
              "            '<a target=\"_blank\" href=https://colab.research.google.com/notebooks/data_table.ipynb>data table notebook</a>'\n",
              "            + ' to learn more about interactive tables.';\n",
              "          element.innerHTML = '';\n",
              "          dataTable['output_type'] = 'display_data';\n",
              "          await google.colab.output.renderOutput(dataTable, element);\n",
              "          const docLink = document.createElement('div');\n",
              "          docLink.innerHTML = docLinkHtml;\n",
              "          element.appendChild(docLink);\n",
              "        }\n",
              "      </script>\n",
              "    </div>\n",
              "  </div>\n",
              "  "
            ]
          },
          "metadata": {},
          "execution_count": 4
        }
      ]
    },
    {
      "cell_type": "code",
      "source": [
        "df.shape"
      ],
      "metadata": {
        "colab": {
          "base_uri": "https://localhost:8080/"
        },
        "id": "4nmjaR6xcgAE",
        "outputId": "7e3ac874-71de-45bd-d453-46c8b3ae7a62"
      },
      "execution_count": 5,
      "outputs": [
        {
          "output_type": "execute_result",
          "data": {
            "text/plain": [
              "(20640, 9)"
            ]
          },
          "metadata": {},
          "execution_count": 5
        }
      ]
    },
    {
      "cell_type": "code",
      "source": [
        "from sklearn.model_selection import train_test_split\n",
        "X_train,X_test,y_train,y_test = train_test_split(\n",
        "    house.data,house.target, test_size = 0.1, random_state=seed\n",
        ")"
      ],
      "metadata": {
        "id": "05aDKMd3cqk0"
      },
      "execution_count": 7,
      "outputs": []
    },
    {
      "cell_type": "markdown",
      "source": [
        "- 회귀모델 정의/설정/학습/평가"
      ],
      "metadata": {
        "id": "jIE5mViDdJrD"
      }
    },
    {
      "cell_type": "code",
      "source": [
        "from tensorflow.keras.models import Sequential\n",
        "from tensorflow.keras.layers import Dense"
      ],
      "metadata": {
        "id": "pJPCHIIodNzZ"
      },
      "execution_count": 8,
      "outputs": []
    },
    {
      "cell_type": "code",
      "source": [
        "model = Sequential([\n",
        "    Dense(20, input_dim=8, activation='relu'),\n",
        "    Dense(6, activation='relu'),\n",
        "    Dense(1)                    #회귀에서는 출력층에서 활성화함수를 사용하지 않음\n",
        "])\n",
        "model.summary()"
      ],
      "metadata": {
        "colab": {
          "base_uri": "https://localhost:8080/"
        },
        "id": "A438Edptdb6u",
        "outputId": "68028d89-41e7-4d23-df17-05d15d695561"
      },
      "execution_count": 9,
      "outputs": [
        {
          "output_type": "stream",
          "name": "stdout",
          "text": [
            "Model: \"sequential\"\n",
            "_________________________________________________________________\n",
            " Layer (type)                Output Shape              Param #   \n",
            "=================================================================\n",
            " dense (Dense)               (None, 20)                180       \n",
            "                                                                 \n",
            " dense_1 (Dense)             (None, 6)                 126       \n",
            "                                                                 \n",
            " dense_2 (Dense)             (None, 1)                 7         \n",
            "                                                                 \n",
            "=================================================================\n",
            "Total params: 313\n",
            "Trainable params: 313\n",
            "Non-trainable params: 0\n",
            "_________________________________________________________________\n"
          ]
        }
      ]
    },
    {
      "cell_type": "code",
      "source": [
        "model.compile(optimizer='rmsprop',loss='mean_squared_error')  #회귀에서는 metrics 사용하지 않음"
      ],
      "metadata": {
        "id": "Bsux3JJ7eAA-"
      },
      "execution_count": 19,
      "outputs": []
    },
    {
      "cell_type": "code",
      "source": [
        "hist = model.fit(X_train,y_train,validation_split = 0.1,\n",
        "                 epochs=100, batch_size = 256)"
      ],
      "metadata": {
        "colab": {
          "base_uri": "https://localhost:8080/"
        },
        "id": "ALyioDSDeYHQ",
        "outputId": "83b86ac4-a465-4afe-b338-e3e9dd99a501"
      },
      "execution_count": 11,
      "outputs": [
        {
          "output_type": "stream",
          "name": "stdout",
          "text": [
            "Epoch 1/100\n",
            "66/66 [==============================] - 1s 5ms/step - loss: 21442.0410 - val_loss: 564.6730\n",
            "Epoch 2/100\n",
            "66/66 [==============================] - 0s 3ms/step - loss: 252.0607 - val_loss: 78.7020\n",
            "Epoch 3/100\n",
            "66/66 [==============================] - 0s 3ms/step - loss: 89.4380 - val_loss: 40.1161\n",
            "Epoch 4/100\n",
            "66/66 [==============================] - 0s 3ms/step - loss: 78.0327 - val_loss: 24.2611\n",
            "Epoch 5/100\n",
            "66/66 [==============================] - 0s 3ms/step - loss: 72.4681 - val_loss: 4.4685\n",
            "Epoch 6/100\n",
            "66/66 [==============================] - 0s 3ms/step - loss: 80.4876 - val_loss: 3.8992\n",
            "Epoch 7/100\n",
            "66/66 [==============================] - 0s 3ms/step - loss: 63.2060 - val_loss: 5.1332\n",
            "Epoch 8/100\n",
            "66/66 [==============================] - 0s 3ms/step - loss: 75.5559 - val_loss: 3.1091\n",
            "Epoch 9/100\n",
            "66/66 [==============================] - 0s 3ms/step - loss: 65.3774 - val_loss: 279.5380\n",
            "Epoch 10/100\n",
            "66/66 [==============================] - 0s 3ms/step - loss: 71.4813 - val_loss: 29.5460\n",
            "Epoch 11/100\n",
            "66/66 [==============================] - 0s 3ms/step - loss: 69.4626 - val_loss: 56.3681\n",
            "Epoch 12/100\n",
            "66/66 [==============================] - 0s 3ms/step - loss: 67.4889 - val_loss: 2.2862\n",
            "Epoch 13/100\n",
            "66/66 [==============================] - 0s 3ms/step - loss: 64.1690 - val_loss: 19.2476\n",
            "Epoch 14/100\n",
            "66/66 [==============================] - 0s 3ms/step - loss: 69.8630 - val_loss: 4.8160\n",
            "Epoch 15/100\n",
            "66/66 [==============================] - 0s 3ms/step - loss: 66.9885 - val_loss: 3.9633\n",
            "Epoch 16/100\n",
            "66/66 [==============================] - 0s 3ms/step - loss: 68.6397 - val_loss: 18.9748\n",
            "Epoch 17/100\n",
            "66/66 [==============================] - 0s 3ms/step - loss: 59.3220 - val_loss: 122.9000\n",
            "Epoch 18/100\n",
            "66/66 [==============================] - 0s 3ms/step - loss: 70.4534 - val_loss: 15.3979\n",
            "Epoch 19/100\n",
            "66/66 [==============================] - 0s 3ms/step - loss: 64.0862 - val_loss: 14.2166\n",
            "Epoch 20/100\n",
            "66/66 [==============================] - 0s 3ms/step - loss: 54.2264 - val_loss: 83.3508\n",
            "Epoch 21/100\n",
            "66/66 [==============================] - 0s 3ms/step - loss: 65.8698 - val_loss: 16.6668\n",
            "Epoch 22/100\n",
            "66/66 [==============================] - 0s 3ms/step - loss: 61.6829 - val_loss: 26.2439\n",
            "Epoch 23/100\n",
            "66/66 [==============================] - 0s 3ms/step - loss: 60.8315 - val_loss: 13.8071\n",
            "Epoch 24/100\n",
            "66/66 [==============================] - 0s 3ms/step - loss: 59.4658 - val_loss: 15.9225\n",
            "Epoch 25/100\n",
            "66/66 [==============================] - 0s 3ms/step - loss: 54.5093 - val_loss: 21.0914\n",
            "Epoch 26/100\n",
            "66/66 [==============================] - 0s 3ms/step - loss: 61.9586 - val_loss: 95.5198\n",
            "Epoch 27/100\n",
            "66/66 [==============================] - 0s 3ms/step - loss: 51.7473 - val_loss: 2.4870\n",
            "Epoch 28/100\n",
            "66/66 [==============================] - 0s 3ms/step - loss: 54.0278 - val_loss: 2.2912\n",
            "Epoch 29/100\n",
            "66/66 [==============================] - 0s 3ms/step - loss: 58.8128 - val_loss: 1.8258\n",
            "Epoch 30/100\n",
            "66/66 [==============================] - 0s 3ms/step - loss: 47.9969 - val_loss: 61.9773\n",
            "Epoch 31/100\n",
            "66/66 [==============================] - 0s 3ms/step - loss: 53.7731 - val_loss: 276.0070\n",
            "Epoch 32/100\n",
            "66/66 [==============================] - 0s 3ms/step - loss: 51.2600 - val_loss: 1.8096\n",
            "Epoch 33/100\n",
            "66/66 [==============================] - 0s 3ms/step - loss: 54.5238 - val_loss: 1.7041\n",
            "Epoch 34/100\n",
            "66/66 [==============================] - 0s 3ms/step - loss: 54.4985 - val_loss: 33.7311\n",
            "Epoch 35/100\n",
            "66/66 [==============================] - 0s 3ms/step - loss: 50.2612 - val_loss: 12.1380\n",
            "Epoch 36/100\n",
            "66/66 [==============================] - 0s 3ms/step - loss: 54.6964 - val_loss: 2.0422\n",
            "Epoch 37/100\n",
            "66/66 [==============================] - 0s 3ms/step - loss: 51.5671 - val_loss: 49.2033\n",
            "Epoch 38/100\n",
            "66/66 [==============================] - 0s 2ms/step - loss: 51.7415 - val_loss: 113.0466\n",
            "Epoch 39/100\n",
            "66/66 [==============================] - 0s 3ms/step - loss: 51.9679 - val_loss: 70.0094\n",
            "Epoch 40/100\n",
            "66/66 [==============================] - 0s 3ms/step - loss: 47.1830 - val_loss: 3.2410\n",
            "Epoch 41/100\n",
            "66/66 [==============================] - 0s 3ms/step - loss: 58.1827 - val_loss: 2.2621\n",
            "Epoch 42/100\n",
            "66/66 [==============================] - 0s 3ms/step - loss: 47.0301 - val_loss: 1.5474\n",
            "Epoch 43/100\n",
            "66/66 [==============================] - 0s 3ms/step - loss: 44.1297 - val_loss: 78.8778\n",
            "Epoch 44/100\n",
            "66/66 [==============================] - 0s 3ms/step - loss: 56.3887 - val_loss: 84.5672\n",
            "Epoch 45/100\n",
            "66/66 [==============================] - 0s 3ms/step - loss: 45.3673 - val_loss: 20.4672\n",
            "Epoch 46/100\n",
            "66/66 [==============================] - 0s 3ms/step - loss: 52.8076 - val_loss: 2.2786\n",
            "Epoch 47/100\n",
            "66/66 [==============================] - 0s 3ms/step - loss: 48.3405 - val_loss: 13.6567\n",
            "Epoch 48/100\n",
            "66/66 [==============================] - 0s 3ms/step - loss: 48.8793 - val_loss: 1.5046\n",
            "Epoch 49/100\n",
            "66/66 [==============================] - 0s 3ms/step - loss: 52.2241 - val_loss: 2.3238\n",
            "Epoch 50/100\n",
            "66/66 [==============================] - 0s 3ms/step - loss: 46.7219 - val_loss: 38.6534\n",
            "Epoch 51/100\n",
            "66/66 [==============================] - 0s 3ms/step - loss: 61.8686 - val_loss: 1.7510\n",
            "Epoch 52/100\n",
            "66/66 [==============================] - 0s 3ms/step - loss: 40.9912 - val_loss: 7.8357\n",
            "Epoch 53/100\n",
            "66/66 [==============================] - 0s 2ms/step - loss: 44.6207 - val_loss: 347.3043\n",
            "Epoch 54/100\n",
            "66/66 [==============================] - 0s 3ms/step - loss: 48.6190 - val_loss: 206.6675\n",
            "Epoch 55/100\n",
            "66/66 [==============================] - 0s 3ms/step - loss: 41.6391 - val_loss: 156.8077\n",
            "Epoch 56/100\n",
            "66/66 [==============================] - 0s 3ms/step - loss: 46.2333 - val_loss: 9.4136\n",
            "Epoch 57/100\n",
            "66/66 [==============================] - 0s 3ms/step - loss: 47.6985 - val_loss: 1.4763\n",
            "Epoch 58/100\n",
            "66/66 [==============================] - 0s 3ms/step - loss: 43.2369 - val_loss: 96.0139\n",
            "Epoch 59/100\n",
            "66/66 [==============================] - 0s 3ms/step - loss: 50.6121 - val_loss: 6.1527\n",
            "Epoch 60/100\n",
            "66/66 [==============================] - 0s 3ms/step - loss: 44.8537 - val_loss: 33.4961\n",
            "Epoch 61/100\n",
            "66/66 [==============================] - 0s 3ms/step - loss: 44.4903 - val_loss: 2.2608\n",
            "Epoch 62/100\n",
            "66/66 [==============================] - 0s 3ms/step - loss: 42.8730 - val_loss: 173.7412\n",
            "Epoch 63/100\n",
            "66/66 [==============================] - 0s 3ms/step - loss: 51.6986 - val_loss: 1.6108\n",
            "Epoch 64/100\n",
            "66/66 [==============================] - 0s 3ms/step - loss: 39.0996 - val_loss: 2.2409\n",
            "Epoch 65/100\n",
            "66/66 [==============================] - 0s 3ms/step - loss: 42.0403 - val_loss: 1.7038\n",
            "Epoch 66/100\n",
            "66/66 [==============================] - 0s 3ms/step - loss: 43.7185 - val_loss: 118.0637\n",
            "Epoch 67/100\n",
            "66/66 [==============================] - 0s 3ms/step - loss: 47.8770 - val_loss: 1.8874\n",
            "Epoch 68/100\n",
            "66/66 [==============================] - 0s 3ms/step - loss: 38.5778 - val_loss: 333.4394\n",
            "Epoch 69/100\n",
            "66/66 [==============================] - 0s 3ms/step - loss: 44.4052 - val_loss: 1.4726\n",
            "Epoch 70/100\n",
            "66/66 [==============================] - 0s 3ms/step - loss: 45.6656 - val_loss: 14.8161\n",
            "Epoch 71/100\n",
            "66/66 [==============================] - 0s 3ms/step - loss: 46.7767 - val_loss: 1.4520\n",
            "Epoch 72/100\n",
            "66/66 [==============================] - 0s 3ms/step - loss: 43.7242 - val_loss: 56.4700\n",
            "Epoch 73/100\n",
            "66/66 [==============================] - 0s 3ms/step - loss: 40.6713 - val_loss: 80.3559\n",
            "Epoch 74/100\n",
            "66/66 [==============================] - 0s 3ms/step - loss: 42.2143 - val_loss: 24.9815\n",
            "Epoch 75/100\n",
            "66/66 [==============================] - 0s 3ms/step - loss: 45.0218 - val_loss: 75.2405\n",
            "Epoch 76/100\n",
            "66/66 [==============================] - 0s 3ms/step - loss: 36.5926 - val_loss: 33.0450\n",
            "Epoch 77/100\n",
            "66/66 [==============================] - 0s 3ms/step - loss: 45.1736 - val_loss: 88.7009\n",
            "Epoch 78/100\n",
            "66/66 [==============================] - 0s 3ms/step - loss: 42.6010 - val_loss: 2.0092\n",
            "Epoch 79/100\n",
            "66/66 [==============================] - 0s 3ms/step - loss: 41.4286 - val_loss: 10.5031\n",
            "Epoch 80/100\n",
            "66/66 [==============================] - 0s 3ms/step - loss: 43.0869 - val_loss: 151.6212\n",
            "Epoch 81/100\n",
            "66/66 [==============================] - 0s 3ms/step - loss: 37.0667 - val_loss: 136.9664\n",
            "Epoch 82/100\n",
            "66/66 [==============================] - 0s 3ms/step - loss: 44.3291 - val_loss: 5.6753\n",
            "Epoch 83/100\n",
            "66/66 [==============================] - 0s 3ms/step - loss: 50.1816 - val_loss: 1.4102\n",
            "Epoch 84/100\n",
            "66/66 [==============================] - 0s 3ms/step - loss: 37.5152 - val_loss: 1.5497\n",
            "Epoch 85/100\n",
            "66/66 [==============================] - 0s 2ms/step - loss: 41.1485 - val_loss: 28.4480\n",
            "Epoch 86/100\n",
            "66/66 [==============================] - 0s 2ms/step - loss: 41.2368 - val_loss: 130.0992\n",
            "Epoch 87/100\n",
            "66/66 [==============================] - 0s 2ms/step - loss: 41.6687 - val_loss: 1.3856\n",
            "Epoch 88/100\n",
            "66/66 [==============================] - 0s 2ms/step - loss: 38.7985 - val_loss: 45.8228\n",
            "Epoch 89/100\n",
            "66/66 [==============================] - 0s 4ms/step - loss: 41.5495 - val_loss: 296.3513\n",
            "Epoch 90/100\n",
            "66/66 [==============================] - 0s 4ms/step - loss: 39.6826 - val_loss: 1.2705\n",
            "Epoch 91/100\n",
            "66/66 [==============================] - 0s 4ms/step - loss: 40.3921 - val_loss: 771.0897\n",
            "Epoch 92/100\n",
            "66/66 [==============================] - 0s 3ms/step - loss: 42.4792 - val_loss: 27.9477\n",
            "Epoch 93/100\n",
            "66/66 [==============================] - 0s 5ms/step - loss: 39.8231 - val_loss: 2.6477\n",
            "Epoch 94/100\n",
            "66/66 [==============================] - 0s 5ms/step - loss: 43.7355 - val_loss: 22.3692\n",
            "Epoch 95/100\n",
            "66/66 [==============================] - 0s 4ms/step - loss: 41.2702 - val_loss: 4.5003\n",
            "Epoch 96/100\n",
            "66/66 [==============================] - 0s 4ms/step - loss: 39.5133 - val_loss: 10.1148\n",
            "Epoch 97/100\n",
            "66/66 [==============================] - 0s 5ms/step - loss: 38.2533 - val_loss: 189.0677\n",
            "Epoch 98/100\n",
            "66/66 [==============================] - 0s 4ms/step - loss: 37.8447 - val_loss: 26.0210\n",
            "Epoch 99/100\n",
            "66/66 [==============================] - 0s 5ms/step - loss: 41.3681 - val_loss: 1.3511\n",
            "Epoch 100/100\n",
            "66/66 [==============================] - 0s 3ms/step - loss: 38.5583 - val_loss: 1.3322\n"
          ]
        }
      ]
    },
    {
      "cell_type": "markdown",
      "source": [
        "- 학습과정 시각화"
      ],
      "metadata": {
        "id": "SzCzuqXmfSLH"
      }
    },
    {
      "cell_type": "code",
      "source": [
        "y_loss = hist.history['loss']\n",
        "y_vloss = hist.history['val_loss']\n",
        "xs = np.arange(1, len(y_loss)+1)"
      ],
      "metadata": {
        "id": "z2BBh6z8escB"
      },
      "execution_count": 12,
      "outputs": []
    },
    {
      "cell_type": "code",
      "source": [
        "plt.figure(figsize=(12,8))\n",
        "plt.plot(xs,y_loss,label='train loss')\n",
        "plt.plot(xs,y_vloss, label = 'validation loss')\n",
        "plt.legend(),plt.grid(), plt.ylim(0,500)\n",
        "plt.xlabel('Epoch')\n",
        "plt.show()"
      ],
      "metadata": {
        "colab": {
          "base_uri": "https://localhost:8080/",
          "height": 501
        },
        "id": "CanLL_l1fRtN",
        "outputId": "4abb3eab-bcd7-4739-b89b-1b6f6e5254b8"
      },
      "execution_count": 15,
      "outputs": [
        {
          "output_type": "display_data",
          "data": {
            "text/plain": [
              "<Figure size 864x576 with 1 Axes>"
            ],
            "image/png": "[encoded data removed]"
          },
          "metadata": {
            "needs_background": "light"
          }
        }
      ]
    },
    {
      "cell_type": "markdown",
      "source": [
        "- 평가"
      ],
      "metadata": {
        "id": "M_1w1Cv9fhv8"
      }
    },
    {
      "cell_type": "code",
      "source": [
        "pred = model.predict(X_test)"
      ],
      "metadata": {
        "id": "0_dDNfWif6bV"
      },
      "execution_count": 16,
      "outputs": []
    },
    {
      "cell_type": "code",
      "source": [
        "dft = pd.DataFrame({'y_test':y_test,'pred':pred.flatten()})\n",
        "dft.head()"
      ],
      "metadata": {
        "colab": {
          "base_uri": "https://localhost:8080/",
          "height": 206
        },
        "id": "3gekeEH_f-RL",
        "outputId": "37e7ecb8-d29b-43b7-cb2a-765fcc90b982"
      },
      "execution_count": 17,
      "outputs": [
        {
          "output_type": "execute_result",
          "data": {
            "text/plain": [
              "   y_test      pred\n",
              "0   4.771  4.939739\n",
              "1   1.371  2.508445\n",
              "2   1.233  2.938078\n",
              "3   0.938  1.560721\n",
              "4   3.260  3.459108"
            ],
            "text/html": [
              "\n",
              "  <div id=\"df-f415baa3-1b80-4991-bae8-e590a07fa066\">\n",
              "    <div class=\"colab-df-container\">\n",
              "      <div>\n",
              "<style scoped>\n",
              "    .dataframe tbody tr th:only-of-type {\n",
              "        vertical-align: middle;\n",
              "    }\n",
              "\n",
              "    .dataframe tbody tr th {\n",
              "        vertical-align: top;\n",
              "    }\n",
              "\n",
              "    .dataframe thead th {\n",
              "        text-align: right;\n",
              "    }\n",
              "</style>\n",
              "<table border=\"1\" class=\"dataframe\">\n",
              "  <thead>\n",
              "    <tr style=\"text-align: right;\">\n",
              "      <th></th>\n",
              "      <th>y_test</th>\n",
              "      <th>pred</th>\n",
              "    </tr>\n",
              "  </thead>\n",
              "  <tbody>\n",
              "    <tr>\n",
              "      <th>0</th>\n",
              "      <td>4.771</td>\n",
              "      <td>4.939739</td>\n",
              "    </tr>\n",
              "    <tr>\n",
              "      <th>1</th>\n",
              "      <td>1.371</td>\n",
              "      <td>2.508445</td>\n",
              "    </tr>\n",
              "    <tr>\n",
              "      <th>2</th>\n",
              "      <td>1.233</td>\n",
              "      <td>2.938078</td>\n",
              "    </tr>\n",
              "    <tr>\n",
              "      <th>3</th>\n",
              "      <td>0.938</td>\n",
              "      <td>1.560721</td>\n",
              "    </tr>\n",
              "    <tr>\n",
              "      <th>4</th>\n",
              "      <td>3.260</td>\n",
              "      <td>3.459108</td>\n",
              "    </tr>\n",
              "  </tbody>\n",
              "</table>\n",
              "</div>\n",
              "      <button class=\"colab-df-convert\" onclick=\"convertToInteractive('df-f415baa3-1b80-4991-bae8-e590a07fa066')\"\n",
              "              title=\"Convert this dataframe to an interactive table.\"\n",
              "              style=\"display:none;\">\n",
              "        \n",
              "  <svg xmlns=\"http://www.w3.org/2000/svg\" height=\"24px\"viewBox=\"0 0 24 24\"\n",
              "       width=\"24px\">\n",
              "    <path d=\"M0 0h24v24H0V0z\" fill=\"none\"/>\n",
              "    <path d=\"M18.56 5.44l.94 2.06.94-2.06 2.06-.94-2.06-.94-.94-2.06-.94 2.06-2.06.94zm-11 1L8.5 8.5l.94-2.06 2.06-.94-2.06-.94L8.5 2.5l-.94 2.06-2.06.94zm10 10l.94 2.06.94-2.06 2.06-.94-2.06-.94-.94-2.06-.94 2.06-2.06.94z\"/><path d=\"M17.41 7.96l-1.37-1.37c-.4-.4-.92-.59-1.43-.59-.52 0-1.04.2-1.43.59L10.3 9.45l-7.72 7.72c-.78.78-.78 2.05 0 2.83L4 21.41c.39.39.9.59 1.41.59.51 0 1.02-.2 1.41-.59l7.78-7.78 2.81-2.81c.8-.78.8-2.07 0-2.86zM5.41 20L4 18.59l7.72-7.72 1.47 1.35L5.41 20z\"/>\n",
              "  </svg>\n",
              "      </button>\n",
              "      \n",
              "  <style>\n",
              "    .colab-df-container {\n",
              "      display:flex;\n",
              "      flex-wrap:wrap;\n",
              "      gap: 12px;\n",
              "    }\n",
              "\n",
              "    .colab-df-convert {\n",
              "      background-color: #E8F0FE;\n",
              "      border: none;\n",
              "      border-radius: 50%;\n",
              "      cursor: pointer;\n",
              "      display: none;\n",
              "      fill: #1967D2;\n",
              "      height: 32px;\n",
              "      padding: 0 0 0 0;\n",
              "      width: 32px;\n",
              "    }\n",
              "\n",
              "    .colab-df-convert:hover {\n",
              "      background-color: #E2EBFA;\n",
              "      box-shadow: 0px 1px 2px rgba(60, 64, 67, 0.3), 0px 1px 3px 1px rgba(60, 64, 67, 0.15);\n",
              "      fill: #174EA6;\n",
              "    }\n",
              "\n",
              "    [theme=dark] .colab-df-convert {\n",
              "      background-color: #3B4455;\n",
              "      fill: #D2E3FC;\n",
              "    }\n",
              "\n",
              "    [theme=dark] .colab-df-convert:hover {\n",
              "      background-color: #434B5C;\n",
              "      box-shadow: 0px 1px 3px 1px rgba(0, 0, 0, 0.15);\n",
              "      filter: drop-shadow(0px 1px 2px rgba(0, 0, 0, 0.3));\n",
              "      fill: #FFFFFF;\n",
              "    }\n",
              "  </style>\n",
              "\n",
              "      <script>\n",
              "        const buttonEl =\n",
              "          document.querySelector('#df-f415baa3-1b80-4991-bae8-e590a07fa066 button.colab-df-convert');\n",
              "        buttonEl.style.display =\n",
              "          google.colab.kernel.accessAllowed ? 'block' : 'none';\n",
              "\n",
              "        async function convertToInteractive(key) {\n",
              "          const element = document.querySelector('#df-f415baa3-1b80-4991-bae8-e590a07fa066');\n",
              "          const dataTable =\n",
              "            await google.colab.kernel.invokeFunction('convertToInteractive',\n",
              "                                                     [key], {});\n",
              "          if (!dataTable) return;\n",
              "\n",
              "          const docLinkHtml = 'Like what you see? Visit the ' +\n",
              "            '<a target=\"_blank\" href=https://colab.research.google.com/notebooks/data_table.ipynb>data table notebook</a>'\n",
              "            + ' to learn more about interactive tables.';\n",
              "          element.innerHTML = '';\n",
              "          dataTable['output_type'] = 'display_data';\n",
              "          await google.colab.output.renderOutput(dataTable, element);\n",
              "          const docLink = document.createElement('div');\n",
              "          docLink.innerHTML = docLinkHtml;\n",
              "          element.appendChild(docLink);\n",
              "        }\n",
              "      </script>\n",
              "    </div>\n",
              "  </div>\n",
              "  "
            ]
          },
          "metadata": {},
          "execution_count": 17
        }
      ]
    },
    {
      "cell_type": "code",
      "source": [
        "from sklearn.metrics import mean_squared_error, r2_score\n",
        "mean_squared_error(y_test,pred), r2_score(y_test, pred)"
      ],
      "metadata": {
        "colab": {
          "base_uri": "https://localhost:8080/"
        },
        "id": "UGUX4Gh_gSD8",
        "outputId": "0c3c8a63-e39a-4ea7-f968-826ac54cdae8"
      },
      "execution_count": 18,
      "outputs": [
        {
          "output_type": "execute_result",
          "data": {
            "text/plain": [
              "(1.3822859372691165, -0.0770326167856219)"
            ]
          },
          "metadata": {},
          "execution_count": 18
        }
      ]
    },
    {
      "cell_type": "code",
      "source": [
        ""
      ],
      "metadata": {
        "id": "ceDmJdTKgplU"
      },
      "execution_count": null,
      "outputs": []
    }
  ]
}