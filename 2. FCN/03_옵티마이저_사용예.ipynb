{
  "nbformat": 4,
  "nbformat_minor": 0,
  "metadata": {
    "colab": {
      "name": "03_옵티마이저 사용예.ipynb",
      "provenance": [],
      "collapsed_sections": []
    },
    "kernelspec": {
      "name": "python3",
      "display_name": "Python 3"
    },
    "language_info": {
      "name": "python"
    }
  },
  "cells": [
    {
      "cell_type": "markdown",
      "source": [
        "# 신경망 모델에서 옵티마이저 사용법\n",
        "### - 이진분류: 유방암 예측 사례"
      ],
      "metadata": {
        "id": "Fotcf-WVW3yG"
      }
    },
    {
      "cell_type": "code",
      "source": [
        "import numpy as np\n",
        "import matplotlib.pyplot as plt\n",
        "from sklearn.datasets import load_breast_cancer\n",
        "from sklearn.preprocessing import StandardScaler\n",
        "from sklearn.model_selection import train_test_split"
      ],
      "metadata": {
        "id": "FcQJzFcXW_bg"
      },
      "execution_count": 1,
      "outputs": []
    },
    {
      "cell_type": "code",
      "source": [
        "cancer = load_breast_cancer()\n",
        "cancer_std = StandardScaler().fit_transform(cancer.data)\n",
        "X_train,X_test,y_train,y_test = train_test_split(\n",
        "    cancer_std,cancer.target,stratify=cancer.target,\n",
        "    test_size=0.2,random_state=2022\n",
        ")"
      ],
      "metadata": {
        "id": "mqTJPXLtXTnZ"
      },
      "execution_count": 2,
      "outputs": []
    },
    {
      "cell_type": "markdown",
      "source": [
        "### 1. Adam optimizer"
      ],
      "metadata": {
        "id": "z7cEjIQyXwgQ"
      }
    },
    {
      "cell_type": "code",
      "source": [
        "from tensorflow.keras.models import Sequential\n",
        "from tensorflow.keras.layers import Dense\n"
      ],
      "metadata": {
        "id": "mOcFepvcX70u"
      },
      "execution_count": 3,
      "outputs": []
    },
    {
      "cell_type": "code",
      "source": [
        "model = Sequential([\n",
        "                    Dense(100,input_dim=30, activation='relu'),\n",
        "                    Dense(24,activation='relu'),\n",
        "                    Dense(1,activation='sigmoid')\n",
        "])"
      ],
      "metadata": {
        "id": "wJUsHmK6YJJb"
      },
      "execution_count": 4,
      "outputs": []
    },
    {
      "cell_type": "markdown",
      "source": [
        "#### Adam 하이퍼 파라메터\n",
        "- learning_rate: 0보다 크거나 같은 float 값. 학습률.\n",
        "- beta_1: 0보다 크고 1보다 작은 float 값. 일반적으로 1에 가깝게 설정됩니다.\n",
        "- beta_2: 0보다 크고 1보다 작은 float 값. 일반적으로 1에 가깝게 설정됩니다.\n",
        "- epsilon: 0보다 크거나 같은 float형 fuzz factor. None인 경우 K.epsilon()이 사용됩니다.\n",
        "- decay: 0보다 크거나 같은 float 값. 업데이트마다 적용되는 학습률의 감소율입니다.\n",
        "- amsgrad: 불리언. Adam의 변형인 AMSGrad의 적용 여부를 설정합니다\n"
      ],
      "metadata": {
        "id": "3GyJnytBYcaB"
      }
    },
    {
      "cell_type": "code",
      "source": [
        "from tensorflow.keras.optimizers import Adam\n",
        "adam = Adam(learning_rate = 0.001, beta_1=0.9,beta_2=0.999,\n",
        "            epsilon = None, decay=0.0,amsgrad=False)"
      ],
      "metadata": {
        "id": "c3prcwihYtQQ"
      },
      "execution_count": 7,
      "outputs": []
    },
    {
      "cell_type": "code",
      "source": [
        "model.compile(optimizer = adam, loss='binary_crossentropy',metrics=['accuracy'])"
      ],
      "metadata": {
        "id": "N3JKdKidZikw"
      },
      "execution_count": 8,
      "outputs": []
    },
    {
      "cell_type": "code",
      "source": [
        "hist = model.fit(X_train,y_train, validation_split=0.02,\n",
        "                 epochs=100,batch_size=100,verbose=0)"
      ],
      "metadata": {
        "id": "mrUYySwqahyX"
      },
      "execution_count": 10,
      "outputs": []
    },
    {
      "cell_type": "code",
      "source": [
        "model.evaluate(X_test,y_test)"
      ],
      "metadata": {
        "colab": {
          "base_uri": "https://localhost:8080/"
        },
        "id": "C7BgbbBiarXY",
        "outputId": "19b9716c-2cbf-41b0-d0a9-e65f1018f80e"
      },
      "execution_count": 11,
      "outputs": [
        {
          "output_type": "stream",
          "name": "stdout",
          "text": [
            "4/4 [==============================] - 0s 3ms/step - loss: 0.1180 - accuracy: 0.9825\n"
          ]
        },
        {
          "output_type": "execute_result",
          "data": {
            "text/plain": [
              "[0.11796271800994873, 0.9824561476707458]"
            ]
          },
          "metadata": {},
          "execution_count": 11
        }
      ]
    },
    {
      "cell_type": "code",
      "source": [
        "y_acc = hist.history['accuracy']\n",
        "y_vloss = hist.history['val_loss']\n",
        "xs = np.arange(1,len(y_acc)+1)"
      ],
      "metadata": {
        "id": "IaaY_Md-a7zC"
      },
      "execution_count": 13,
      "outputs": []
    },
    {
      "cell_type": "code",
      "source": [
        "plt.figure(figsize = (12,8))\n",
        "plt.plot(xs, y_acc, label='train accuracy')\n",
        "plt.plot(xs,y_vloss, label='validation loss')\n",
        "plt.legend(), plt.grid()\n",
        "plt.ylim([0,1.2])\n",
        "plt.xlabel('Epoch')\n",
        "plt.title('After feature transform')\n",
        "plt.show()"
      ],
      "metadata": {
        "colab": {
          "base_uri": "https://localhost:8080/",
          "height": 513
        },
        "id": "D8CepnGQbhYo",
        "outputId": "b7e273f6-835f-45f3-f69d-1b0d11eebd39"
      },
      "execution_count": 15,
      "outputs": [
        {
          "output_type": "display_data",
          "data": {
            "text/plain": [
              "<Figure size 864x576 with 1 Axes>"
            ],
            "image/png": "[encoded data removed]"
          },
          "metadata": {
            "needs_background": "light"
          }
        }
      ]
    },
    {
      "cell_type": "markdown",
      "source": [
        "### 2. RMSprop Optimizer"
      ],
      "metadata": {
        "id": "13c6IWv0byFy"
      }
    },
    {
      "cell_type": "code",
      "source": [
        "model2 = Sequential([\n",
        "                    Dense(100,input_dim=30, activation='relu'),\n",
        "                    Dense(24,activation='relu'),\n",
        "                    Dense(1,activation='sigmoid')\n",
        "])"
      ],
      "metadata": {
        "id": "nW3iD4pYb1LH"
      },
      "execution_count": 16,
      "outputs": []
    },
    {
      "cell_type": "markdown",
      "source": [
        "#### RMSprop 하이퍼 파라메터\n",
        "- lr: 0보다 크거나 같은 float 값. 학습률.\n",
        "- rho: 0보다 크거나 같은 float 값.\n",
        "- epsilon: 0보다 크거나 같은 float형 fuzz factor. None인 경우 K.epsilon()이 사용됩니다.\n",
        "- decay: 0보다 크거나 같은 float 값. 업데이트마다 적용되는 학습률의 감소율입니다.\n"
      ],
      "metadata": {
        "id": "_D1THSR3b7jy"
      }
    },
    {
      "cell_type": "code",
      "source": [
        "from tensorflow.keras.optimizers import RMSprop\n",
        "rmsp = RMSprop(learning_rate = 0.001, rho = 0.9, epsilon = None, decay = 0.0)"
      ],
      "metadata": {
        "id": "qk4pcXv2cLPg"
      },
      "execution_count": 18,
      "outputs": []
    },
    {
      "cell_type": "code",
      "source": [
        "model2.compile(rmsp,'binary_crossentropy',['accuracy'])"
      ],
      "metadata": {
        "id": "jG1ycgVNfFh6"
      },
      "execution_count": 19,
      "outputs": []
    },
    {
      "cell_type": "code",
      "source": [
        "hist2 = model2.fit(X_train, y_train, validation_split = 0.2,\n",
        "                   epochs=100, batch_size=100, verbose = 2)"
      ],
      "metadata": {
        "colab": {
          "base_uri": "https://localhost:8080/"
        },
        "id": "qo4WsENrfnKh",
        "outputId": "4dba6abb-af9b-4fe7-e751-a7d8514fc381"
      },
      "execution_count": 20,
      "outputs": [
        {
          "output_type": "stream",
          "name": "stdout",
          "text": [
            "Epoch 1/100\n",
            "4/4 - 1s - loss: 0.4874 - accuracy: 0.8297 - val_loss: 0.3578 - val_accuracy: 0.8571 - 1s/epoch - 251ms/step\n",
            "Epoch 2/100\n",
            "4/4 - 0s - loss: 0.3046 - accuracy: 0.9368 - val_loss: 0.2740 - val_accuracy: 0.9231 - 46ms/epoch - 11ms/step\n",
            "Epoch 3/100\n",
            "4/4 - 0s - loss: 0.2350 - accuracy: 0.9451 - val_loss: 0.2296 - val_accuracy: 0.9231 - 44ms/epoch - 11ms/step\n",
            "Epoch 4/100\n",
            "4/4 - 0s - loss: 0.1931 - accuracy: 0.9588 - val_loss: 0.1990 - val_accuracy: 0.9341 - 43ms/epoch - 11ms/step\n",
            "Epoch 5/100\n",
            "4/4 - 0s - loss: 0.1630 - accuracy: 0.9615 - val_loss: 0.1783 - val_accuracy: 0.9560 - 40ms/epoch - 10ms/step\n",
            "Epoch 6/100\n",
            "4/4 - 0s - loss: 0.1424 - accuracy: 0.9588 - val_loss: 0.1622 - val_accuracy: 0.9560 - 40ms/epoch - 10ms/step\n",
            "Epoch 7/100\n",
            "4/4 - 0s - loss: 0.1246 - accuracy: 0.9753 - val_loss: 0.1506 - val_accuracy: 0.9560 - 42ms/epoch - 10ms/step\n",
            "Epoch 8/100\n",
            "4/4 - 0s - loss: 0.1118 - accuracy: 0.9753 - val_loss: 0.1401 - val_accuracy: 0.9560 - 40ms/epoch - 10ms/step\n",
            "Epoch 9/100\n",
            "4/4 - 0s - loss: 0.1006 - accuracy: 0.9753 - val_loss: 0.1346 - val_accuracy: 0.9560 - 41ms/epoch - 10ms/step\n",
            "Epoch 10/100\n",
            "4/4 - 0s - loss: 0.0914 - accuracy: 0.9753 - val_loss: 0.1274 - val_accuracy: 0.9560 - 39ms/epoch - 10ms/step\n",
            "Epoch 11/100\n",
            "4/4 - 0s - loss: 0.0839 - accuracy: 0.9808 - val_loss: 0.1214 - val_accuracy: 0.9670 - 36ms/epoch - 9ms/step\n",
            "Epoch 12/100\n",
            "4/4 - 0s - loss: 0.0774 - accuracy: 0.9808 - val_loss: 0.1196 - val_accuracy: 0.9670 - 42ms/epoch - 10ms/step\n",
            "Epoch 13/100\n",
            "4/4 - 0s - loss: 0.0718 - accuracy: 0.9808 - val_loss: 0.1169 - val_accuracy: 0.9670 - 43ms/epoch - 11ms/step\n",
            "Epoch 14/100\n",
            "4/4 - 0s - loss: 0.0676 - accuracy: 0.9808 - val_loss: 0.1131 - val_accuracy: 0.9670 - 43ms/epoch - 11ms/step\n",
            "Epoch 15/100\n",
            "4/4 - 0s - loss: 0.0626 - accuracy: 0.9808 - val_loss: 0.1096 - val_accuracy: 0.9670 - 37ms/epoch - 9ms/step\n",
            "Epoch 16/100\n",
            "4/4 - 0s - loss: 0.0582 - accuracy: 0.9835 - val_loss: 0.1078 - val_accuracy: 0.9670 - 35ms/epoch - 9ms/step\n",
            "Epoch 17/100\n",
            "4/4 - 0s - loss: 0.0549 - accuracy: 0.9808 - val_loss: 0.1073 - val_accuracy: 0.9670 - 48ms/epoch - 12ms/step\n",
            "Epoch 18/100\n",
            "4/4 - 0s - loss: 0.0520 - accuracy: 0.9835 - val_loss: 0.1046 - val_accuracy: 0.9670 - 34ms/epoch - 8ms/step\n",
            "Epoch 19/100\n",
            "4/4 - 0s - loss: 0.0479 - accuracy: 0.9918 - val_loss: 0.1078 - val_accuracy: 0.9560 - 38ms/epoch - 10ms/step\n",
            "Epoch 20/100\n",
            "4/4 - 0s - loss: 0.0453 - accuracy: 0.9835 - val_loss: 0.1052 - val_accuracy: 0.9560 - 38ms/epoch - 9ms/step\n",
            "Epoch 21/100\n",
            "4/4 - 0s - loss: 0.0423 - accuracy: 0.9835 - val_loss: 0.1044 - val_accuracy: 0.9560 - 37ms/epoch - 9ms/step\n",
            "Epoch 22/100\n",
            "4/4 - 0s - loss: 0.0404 - accuracy: 0.9918 - val_loss: 0.1029 - val_accuracy: 0.9670 - 37ms/epoch - 9ms/step\n",
            "Epoch 23/100\n",
            "4/4 - 0s - loss: 0.0374 - accuracy: 0.9918 - val_loss: 0.1024 - val_accuracy: 0.9670 - 36ms/epoch - 9ms/step\n",
            "Epoch 24/100\n",
            "4/4 - 0s - loss: 0.0346 - accuracy: 0.9863 - val_loss: 0.1002 - val_accuracy: 0.9560 - 34ms/epoch - 9ms/step\n",
            "Epoch 25/100\n",
            "4/4 - 0s - loss: 0.0328 - accuracy: 0.9918 - val_loss: 0.1060 - val_accuracy: 0.9451 - 43ms/epoch - 11ms/step\n",
            "Epoch 26/100\n",
            "4/4 - 0s - loss: 0.0303 - accuracy: 0.9918 - val_loss: 0.1029 - val_accuracy: 0.9560 - 37ms/epoch - 9ms/step\n",
            "Epoch 27/100\n",
            "4/4 - 0s - loss: 0.0283 - accuracy: 0.9918 - val_loss: 0.1043 - val_accuracy: 0.9560 - 39ms/epoch - 10ms/step\n",
            "Epoch 28/100\n",
            "4/4 - 0s - loss: 0.0267 - accuracy: 0.9945 - val_loss: 0.1048 - val_accuracy: 0.9451 - 45ms/epoch - 11ms/step\n",
            "Epoch 29/100\n",
            "4/4 - 0s - loss: 0.0243 - accuracy: 0.9918 - val_loss: 0.1051 - val_accuracy: 0.9560 - 36ms/epoch - 9ms/step\n",
            "Epoch 30/100\n",
            "4/4 - 0s - loss: 0.0225 - accuracy: 0.9945 - val_loss: 0.0989 - val_accuracy: 0.9560 - 38ms/epoch - 10ms/step\n",
            "Epoch 31/100\n",
            "4/4 - 0s - loss: 0.0216 - accuracy: 0.9945 - val_loss: 0.1066 - val_accuracy: 0.9560 - 43ms/epoch - 11ms/step\n",
            "Epoch 32/100\n",
            "4/4 - 0s - loss: 0.0202 - accuracy: 0.9945 - val_loss: 0.1010 - val_accuracy: 0.9560 - 43ms/epoch - 11ms/step\n",
            "Epoch 33/100\n",
            "4/4 - 0s - loss: 0.0182 - accuracy: 0.9945 - val_loss: 0.1026 - val_accuracy: 0.9670 - 41ms/epoch - 10ms/step\n",
            "Epoch 34/100\n",
            "4/4 - 0s - loss: 0.0174 - accuracy: 0.9945 - val_loss: 0.1053 - val_accuracy: 0.9670 - 38ms/epoch - 10ms/step\n",
            "Epoch 35/100\n",
            "4/4 - 0s - loss: 0.0159 - accuracy: 1.0000 - val_loss: 0.1003 - val_accuracy: 0.9670 - 37ms/epoch - 9ms/step\n",
            "Epoch 36/100\n",
            "4/4 - 0s - loss: 0.0151 - accuracy: 0.9973 - val_loss: 0.1089 - val_accuracy: 0.9560 - 37ms/epoch - 9ms/step\n",
            "Epoch 37/100\n",
            "4/4 - 0s - loss: 0.0137 - accuracy: 1.0000 - val_loss: 0.1071 - val_accuracy: 0.9560 - 37ms/epoch - 9ms/step\n",
            "Epoch 38/100\n",
            "4/4 - 0s - loss: 0.0126 - accuracy: 1.0000 - val_loss: 0.1017 - val_accuracy: 0.9560 - 34ms/epoch - 8ms/step\n",
            "Epoch 39/100\n",
            "4/4 - 0s - loss: 0.0116 - accuracy: 1.0000 - val_loss: 0.1063 - val_accuracy: 0.9560 - 43ms/epoch - 11ms/step\n",
            "Epoch 40/100\n",
            "4/4 - 0s - loss: 0.0105 - accuracy: 1.0000 - val_loss: 0.1102 - val_accuracy: 0.9560 - 38ms/epoch - 9ms/step\n",
            "Epoch 41/100\n",
            "4/4 - 0s - loss: 0.0098 - accuracy: 1.0000 - val_loss: 0.1041 - val_accuracy: 0.9560 - 41ms/epoch - 10ms/step\n",
            "Epoch 42/100\n",
            "4/4 - 0s - loss: 0.0094 - accuracy: 0.9973 - val_loss: 0.1114 - val_accuracy: 0.9560 - 45ms/epoch - 11ms/step\n",
            "Epoch 43/100\n",
            "4/4 - 0s - loss: 0.0082 - accuracy: 1.0000 - val_loss: 0.1030 - val_accuracy: 0.9670 - 38ms/epoch - 9ms/step\n",
            "Epoch 44/100\n",
            "4/4 - 0s - loss: 0.0078 - accuracy: 1.0000 - val_loss: 0.1065 - val_accuracy: 0.9560 - 38ms/epoch - 9ms/step\n",
            "Epoch 45/100\n",
            "4/4 - 0s - loss: 0.0071 - accuracy: 1.0000 - val_loss: 0.1038 - val_accuracy: 0.9560 - 40ms/epoch - 10ms/step\n",
            "Epoch 46/100\n",
            "4/4 - 0s - loss: 0.0067 - accuracy: 1.0000 - val_loss: 0.1097 - val_accuracy: 0.9560 - 37ms/epoch - 9ms/step\n",
            "Epoch 47/100\n",
            "4/4 - 0s - loss: 0.0063 - accuracy: 1.0000 - val_loss: 0.1118 - val_accuracy: 0.9560 - 38ms/epoch - 10ms/step\n",
            "Epoch 48/100\n",
            "4/4 - 0s - loss: 0.0053 - accuracy: 1.0000 - val_loss: 0.1131 - val_accuracy: 0.9560 - 40ms/epoch - 10ms/step\n",
            "Epoch 49/100\n",
            "4/4 - 0s - loss: 0.0047 - accuracy: 1.0000 - val_loss: 0.1080 - val_accuracy: 0.9670 - 42ms/epoch - 10ms/step\n",
            "Epoch 50/100\n",
            "4/4 - 0s - loss: 0.0048 - accuracy: 1.0000 - val_loss: 0.1085 - val_accuracy: 0.9670 - 38ms/epoch - 10ms/step\n",
            "Epoch 51/100\n",
            "4/4 - 0s - loss: 0.0045 - accuracy: 1.0000 - val_loss: 0.1043 - val_accuracy: 0.9560 - 37ms/epoch - 9ms/step\n",
            "Epoch 52/100\n",
            "4/4 - 0s - loss: 0.0037 - accuracy: 1.0000 - val_loss: 0.1069 - val_accuracy: 0.9560 - 34ms/epoch - 9ms/step\n",
            "Epoch 53/100\n",
            "4/4 - 0s - loss: 0.0034 - accuracy: 1.0000 - val_loss: 0.1030 - val_accuracy: 0.9560 - 37ms/epoch - 9ms/step\n",
            "Epoch 54/100\n",
            "4/4 - 0s - loss: 0.0030 - accuracy: 1.0000 - val_loss: 0.1080 - val_accuracy: 0.9670 - 42ms/epoch - 10ms/step\n",
            "Epoch 55/100\n",
            "4/4 - 0s - loss: 0.0029 - accuracy: 1.0000 - val_loss: 0.1104 - val_accuracy: 0.9560 - 51ms/epoch - 13ms/step\n",
            "Epoch 56/100\n",
            "4/4 - 0s - loss: 0.0026 - accuracy: 1.0000 - val_loss: 0.1071 - val_accuracy: 0.9670 - 45ms/epoch - 11ms/step\n",
            "Epoch 57/100\n",
            "4/4 - 0s - loss: 0.0025 - accuracy: 1.0000 - val_loss: 0.1112 - val_accuracy: 0.9560 - 42ms/epoch - 10ms/step\n",
            "Epoch 58/100\n",
            "4/4 - 0s - loss: 0.0022 - accuracy: 1.0000 - val_loss: 0.1054 - val_accuracy: 0.9670 - 35ms/epoch - 9ms/step\n",
            "Epoch 59/100\n",
            "4/4 - 0s - loss: 0.0018 - accuracy: 1.0000 - val_loss: 0.1073 - val_accuracy: 0.9780 - 37ms/epoch - 9ms/step\n",
            "Epoch 60/100\n",
            "4/4 - 0s - loss: 0.0017 - accuracy: 1.0000 - val_loss: 0.1056 - val_accuracy: 0.9780 - 35ms/epoch - 9ms/step\n",
            "Epoch 61/100\n",
            "4/4 - 0s - loss: 0.0015 - accuracy: 1.0000 - val_loss: 0.1120 - val_accuracy: 0.9780 - 35ms/epoch - 9ms/step\n",
            "Epoch 62/100\n",
            "4/4 - 0s - loss: 0.0014 - accuracy: 1.0000 - val_loss: 0.1079 - val_accuracy: 0.9670 - 43ms/epoch - 11ms/step\n",
            "Epoch 63/100\n",
            "4/4 - 0s - loss: 0.0012 - accuracy: 1.0000 - val_loss: 0.1096 - val_accuracy: 0.9780 - 42ms/epoch - 11ms/step\n",
            "Epoch 64/100\n",
            "4/4 - 0s - loss: 0.0012 - accuracy: 1.0000 - val_loss: 0.1146 - val_accuracy: 0.9670 - 40ms/epoch - 10ms/step\n",
            "Epoch 65/100\n",
            "4/4 - 0s - loss: 0.0010 - accuracy: 1.0000 - val_loss: 0.1147 - val_accuracy: 0.9780 - 36ms/epoch - 9ms/step\n",
            "Epoch 66/100\n",
            "4/4 - 0s - loss: 9.6689e-04 - accuracy: 1.0000 - val_loss: 0.1142 - val_accuracy: 0.9670 - 56ms/epoch - 14ms/step\n",
            "Epoch 67/100\n",
            "4/4 - 0s - loss: 8.3863e-04 - accuracy: 1.0000 - val_loss: 0.1144 - val_accuracy: 0.9780 - 37ms/epoch - 9ms/step\n",
            "Epoch 68/100\n",
            "4/4 - 0s - loss: 7.1833e-04 - accuracy: 1.0000 - val_loss: 0.1162 - val_accuracy: 0.9780 - 41ms/epoch - 10ms/step\n",
            "Epoch 69/100\n",
            "4/4 - 0s - loss: 6.7265e-04 - accuracy: 1.0000 - val_loss: 0.1250 - val_accuracy: 0.9670 - 44ms/epoch - 11ms/step\n",
            "Epoch 70/100\n",
            "4/4 - 0s - loss: 6.2666e-04 - accuracy: 1.0000 - val_loss: 0.1236 - val_accuracy: 0.9780 - 40ms/epoch - 10ms/step\n",
            "Epoch 71/100\n",
            "4/4 - 0s - loss: 4.9708e-04 - accuracy: 1.0000 - val_loss: 0.1260 - val_accuracy: 0.9780 - 40ms/epoch - 10ms/step\n",
            "Epoch 72/100\n",
            "4/4 - 0s - loss: 4.2780e-04 - accuracy: 1.0000 - val_loss: 0.1246 - val_accuracy: 0.9780 - 41ms/epoch - 10ms/step\n",
            "Epoch 73/100\n",
            "4/4 - 0s - loss: 4.0306e-04 - accuracy: 1.0000 - val_loss: 0.1259 - val_accuracy: 0.9780 - 38ms/epoch - 9ms/step\n",
            "Epoch 74/100\n",
            "4/4 - 0s - loss: 3.7130e-04 - accuracy: 1.0000 - val_loss: 0.1264 - val_accuracy: 0.9780 - 39ms/epoch - 10ms/step\n",
            "Epoch 75/100\n",
            "4/4 - 0s - loss: 3.1788e-04 - accuracy: 1.0000 - val_loss: 0.1355 - val_accuracy: 0.9670 - 39ms/epoch - 10ms/step\n",
            "Epoch 76/100\n",
            "4/4 - 0s - loss: 3.0712e-04 - accuracy: 1.0000 - val_loss: 0.1319 - val_accuracy: 0.9780 - 67ms/epoch - 17ms/step\n",
            "Epoch 77/100\n",
            "4/4 - 0s - loss: 2.5353e-04 - accuracy: 1.0000 - val_loss: 0.1362 - val_accuracy: 0.9780 - 37ms/epoch - 9ms/step\n",
            "Epoch 78/100\n",
            "4/4 - 0s - loss: 2.3459e-04 - accuracy: 1.0000 - val_loss: 0.1285 - val_accuracy: 0.9670 - 51ms/epoch - 13ms/step\n",
            "Epoch 79/100\n",
            "4/4 - 0s - loss: 2.4941e-04 - accuracy: 1.0000 - val_loss: 0.1331 - val_accuracy: 0.9780 - 43ms/epoch - 11ms/step\n",
            "Epoch 80/100\n",
            "4/4 - 0s - loss: 1.6099e-04 - accuracy: 1.0000 - val_loss: 0.1407 - val_accuracy: 0.9780 - 33ms/epoch - 8ms/step\n",
            "Epoch 81/100\n",
            "4/4 - 0s - loss: 1.6078e-04 - accuracy: 1.0000 - val_loss: 0.1339 - val_accuracy: 0.9670 - 36ms/epoch - 9ms/step\n",
            "Epoch 82/100\n",
            "4/4 - 0s - loss: 1.6081e-04 - accuracy: 1.0000 - val_loss: 0.1347 - val_accuracy: 0.9780 - 38ms/epoch - 10ms/step\n",
            "Epoch 83/100\n",
            "4/4 - 0s - loss: 1.1533e-04 - accuracy: 1.0000 - val_loss: 0.1404 - val_accuracy: 0.9780 - 37ms/epoch - 9ms/step\n",
            "Epoch 84/100\n",
            "4/4 - 0s - loss: 1.0875e-04 - accuracy: 1.0000 - val_loss: 0.1373 - val_accuracy: 0.9780 - 42ms/epoch - 11ms/step\n",
            "Epoch 85/100\n",
            "4/4 - 0s - loss: 9.1084e-05 - accuracy: 1.0000 - val_loss: 0.1504 - val_accuracy: 0.9780 - 37ms/epoch - 9ms/step\n",
            "Epoch 86/100\n",
            "4/4 - 0s - loss: 9.1311e-05 - accuracy: 1.0000 - val_loss: 0.1503 - val_accuracy: 0.9780 - 33ms/epoch - 8ms/step\n",
            "Epoch 87/100\n",
            "4/4 - 0s - loss: 7.0634e-05 - accuracy: 1.0000 - val_loss: 0.1478 - val_accuracy: 0.9780 - 34ms/epoch - 9ms/step\n",
            "Epoch 88/100\n",
            "4/4 - 0s - loss: 6.6962e-05 - accuracy: 1.0000 - val_loss: 0.1492 - val_accuracy: 0.9780 - 37ms/epoch - 9ms/step\n",
            "Epoch 89/100\n",
            "4/4 - 0s - loss: 5.8960e-05 - accuracy: 1.0000 - val_loss: 0.1560 - val_accuracy: 0.9780 - 36ms/epoch - 9ms/step\n",
            "Epoch 90/100\n",
            "4/4 - 0s - loss: 4.8909e-05 - accuracy: 1.0000 - val_loss: 0.1522 - val_accuracy: 0.9780 - 33ms/epoch - 8ms/step\n",
            "Epoch 91/100\n",
            "4/4 - 0s - loss: 4.6500e-05 - accuracy: 1.0000 - val_loss: 0.1543 - val_accuracy: 0.9780 - 36ms/epoch - 9ms/step\n",
            "Epoch 92/100\n",
            "4/4 - 0s - loss: 4.1843e-05 - accuracy: 1.0000 - val_loss: 0.1615 - val_accuracy: 0.9780 - 38ms/epoch - 9ms/step\n",
            "Epoch 93/100\n",
            "4/4 - 0s - loss: 3.6768e-05 - accuracy: 1.0000 - val_loss: 0.1627 - val_accuracy: 0.9780 - 39ms/epoch - 10ms/step\n",
            "Epoch 94/100\n",
            "4/4 - 0s - loss: 3.2439e-05 - accuracy: 1.0000 - val_loss: 0.1623 - val_accuracy: 0.9780 - 36ms/epoch - 9ms/step\n",
            "Epoch 95/100\n",
            "4/4 - 0s - loss: 2.6614e-05 - accuracy: 1.0000 - val_loss: 0.1681 - val_accuracy: 0.9780 - 43ms/epoch - 11ms/step\n",
            "Epoch 96/100\n",
            "4/4 - 0s - loss: 2.1817e-05 - accuracy: 1.0000 - val_loss: 0.1634 - val_accuracy: 0.9780 - 35ms/epoch - 9ms/step\n",
            "Epoch 97/100\n",
            "4/4 - 0s - loss: 2.2289e-05 - accuracy: 1.0000 - val_loss: 0.1661 - val_accuracy: 0.9780 - 36ms/epoch - 9ms/step\n",
            "Epoch 98/100\n",
            "4/4 - 0s - loss: 1.5862e-05 - accuracy: 1.0000 - val_loss: 0.1696 - val_accuracy: 0.9780 - 41ms/epoch - 10ms/step\n",
            "Epoch 99/100\n",
            "4/4 - 0s - loss: 1.5066e-05 - accuracy: 1.0000 - val_loss: 0.1711 - val_accuracy: 0.9780 - 39ms/epoch - 10ms/step\n",
            "Epoch 100/100\n",
            "4/4 - 0s - loss: 1.2937e-05 - accuracy: 1.0000 - val_loss: 0.1814 - val_accuracy: 0.9780 - 40ms/epoch - 10ms/step\n"
          ]
        }
      ]
    },
    {
      "cell_type": "code",
      "source": [
        "model2.evaluate(X_test, y_test)"
      ],
      "metadata": {
        "colab": {
          "base_uri": "https://localhost:8080/"
        },
        "id": "vwJTgRX3f4q5",
        "outputId": "aa60b756-9788-4da4-d74a-d91e077196fa"
      },
      "execution_count": 21,
      "outputs": [
        {
          "output_type": "stream",
          "name": "stdout",
          "text": [
            "4/4 [==============================] - 0s 3ms/step - loss: 0.1254 - accuracy: 0.9737\n"
          ]
        },
        {
          "output_type": "execute_result",
          "data": {
            "text/plain": [
              "[0.125397726893425, 0.9736841917037964]"
            ]
          },
          "metadata": {},
          "execution_count": 21
        }
      ]
    },
    {
      "cell_type": "code",
      "source": [
        "y_acc2 = hist2.history['accuracy']\n",
        "y_vloss2 = hist2.history['val_loss']\n",
        "xs = np.arange(1,len(y_acc2)+1)"
      ],
      "metadata": {
        "id": "dPNhkEkigHAS"
      },
      "execution_count": 22,
      "outputs": []
    },
    {
      "cell_type": "code",
      "source": [
        "plt.figure(figsize=(20,8))\n",
        "plt.subplot(121)\n",
        "plt.plot(xs, y_acc, label='train accuracy')\n",
        "plt.plot(xs, y_vloss, label='validation loss')\n",
        "plt.legend()\n",
        "plt.grid()\n",
        "plt.ylim([0,1.1])\n",
        "plt.xlabel('Epoch')\n",
        "plt.title('Adam optimizer')\n",
        "\n",
        "plt.subplot(122)\n",
        "plt.plot(xs, y_acc2, label='train accuracy')\n",
        "plt.plot(xs, y_vloss2, label='validation loss')\n",
        "plt.legend()\n",
        "plt.grid()\n",
        "plt.ylim([0,1.1])\n",
        "plt.xlabel('Epoch')\n",
        "plt.title('RMSprop optimizer')\n",
        "plt.show()"
      ],
      "metadata": {
        "colab": {
          "base_uri": "https://localhost:8080/",
          "height": 436
        },
        "id": "HzqWGEtpgeoZ",
        "outputId": "ba57c05a-1d71-4921-f922-3e4b88aa5a25"
      },
      "execution_count": 24,
      "outputs": [
        {
          "output_type": "display_data",
          "data": {
            "text/plain": [
              "<Figure size 1440x576 with 2 Axes>"
            ],
            "image/png": "[encoded data removed]"
          },
          "metadata": {
            "needs_background": "light"
          }
        }
      ]
    },
    {
      "cell_type": "code",
      "source": [
        ""
      ],
      "metadata": {
        "id": "w6AfcuR2gyxA"
      },
      "execution_count": null,
      "outputs": []
    }
  ]
}