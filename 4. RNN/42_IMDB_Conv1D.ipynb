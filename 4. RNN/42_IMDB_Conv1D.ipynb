{
  "nbformat": 4,
  "nbformat_minor": 0,
  "metadata": {
    "colab": {
      "name": "42_IMDB_Conv1D.ipynb",
      "provenance": [],
      "collapsed_sections": []
    },
    "kernelspec": {
      "name": "python3",
      "display_name": "Python 3"
    },
    "language_info": {
      "name": "python"
    },
    "accelerator": "GPU"
  },
  "cells": [
    {
      "cell_type": "markdown",
      "source": [
        "# IMDB 영화리뷰 감성분석 - Conv1D\n",
        "- Conv1D + Conv1D + Dense\n",
        "- Conv1D + LSTM + Dense\n",
        "- Conv1D + Dense + Dense"
      ],
      "metadata": {
        "id": "AM1QYvMeL0Mg"
      }
    },
    {
      "cell_type": "code",
      "source": [
        "import numpy as np\n",
        "import tensorflow as tf\n",
        "seed = 2022\n",
        "np.random.seed(seed)\n",
        "tf.random.set_seed(seed)"
      ],
      "metadata": {
        "id": "bncZBhHsL33d"
      },
      "execution_count": 4,
      "outputs": []
    },
    {
      "cell_type": "code",
      "source": [
        "from tensorflow.keras.datasets import imdb\n",
        "from tensorflow.keras.models import Sequential, load_model\n",
        "from tensorflow.keras.layers import Embedding, LSTM, Dense, Dropout\n",
        "from tensorflow.keras.layers import Conv1D, MaxPooling1D, GlobalMaxPooling1D\n",
        "from tensorflow.keras.callbacks import ModelCheckpoint, EarlyStopping\n",
        "from tensorflow.keras.preprocessing.sequence import pad_sequences\n",
        "from sklearn.model_selection import train_test_split"
      ],
      "metadata": {
        "id": "i-WZReRvL373"
      },
      "execution_count": 5,
      "outputs": []
    },
    {
      "cell_type": "code",
      "source": [
        "num_words = 10000\n",
        "(X_train, y_train), (_, _) = imdb.load_data(num_words=num_words)"
      ],
      "metadata": {
        "id": "0Yl2gB8HL3_y"
      },
      "execution_count": 6,
      "outputs": []
    },
    {
      "cell_type": "code",
      "source": [
        "X_train, X_test, y_train, y_test = train_test_split(\n",
        "    X_train, y_train, stratify=y_train, test_size=0.2, random_state=seed\n",
        ")\n",
        "X_train.shape, X_test.shape, y_train.shape, y_test.shape"
      ],
      "metadata": {
        "colab": {
          "base_uri": "https://localhost:8080/"
        },
        "id": "w1QDC9BBL4DP",
        "outputId": "5b6dd352-520a-4413-c0b4-75b749435573"
      },
      "execution_count": 7,
      "outputs": [
        {
          "output_type": "execute_result",
          "data": {
            "text/plain": [
              "((20000,), (5000,), (20000,), (5000,))"
            ]
          },
          "metadata": {},
          "execution_count": 7
        }
      ]
    },
    {
      "cell_type": "code",
      "source": [
        "max_len = 500\n",
        "X_train = pad_sequences(X_train, maxlen=max_len)\n",
        "X_test = pad_sequences(X_test, maxlen=max_len)\n",
        "X_train.shape, X_test.shape"
      ],
      "metadata": {
        "colab": {
          "base_uri": "https://localhost:8080/"
        },
        "id": "R_98CckRL4Gz",
        "outputId": "dbfa66aa-400d-4197-923a-63d2966f4dd5"
      },
      "execution_count": 8,
      "outputs": [
        {
          "output_type": "execute_result",
          "data": {
            "text/plain": [
              "((20000, 500), (5000, 500))"
            ]
          },
          "metadata": {},
          "execution_count": 8
        }
      ]
    },
    {
      "cell_type": "markdown",
      "source": [
        "- Case 1) Conv1D x 2"
      ],
      "metadata": {
        "id": "PGND7IskL4Ka"
      }
    },
    {
      "cell_type": "code",
      "source": [
        "model1 = Sequential([ \n",
        "    Embedding(num_words, 100, input_length=max_len),\n",
        "    Dropout(0.5),\n",
        "    Conv1D(64, 7, activation='relu'),\n",
        "    MaxPooling1D(7),\n",
        "    Conv1D(64, 5, activation='relu'),\n",
        "    MaxPooling1D(5),\n",
        "    GlobalMaxPooling1D(),\n",
        "    Dense(1, activation='sigmoid')\n",
        "])\n",
        "model1.summary()"
      ],
      "metadata": {
        "colab": {
          "base_uri": "https://localhost:8080/"
        },
        "id": "UXGPgaP4L4Ny",
        "outputId": "1c433003-983b-4b9b-dd94-a4b20486f817"
      },
      "execution_count": 9,
      "outputs": [
        {
          "output_type": "stream",
          "name": "stdout",
          "text": [
            "Model: \"sequential\"\n",
            "_________________________________________________________________\n",
            " Layer (type)                Output Shape              Param #   \n",
            "=================================================================\n",
            " embedding (Embedding)       (None, 500, 100)          1000000   \n",
            "                                                                 \n",
            " dropout (Dropout)           (None, 500, 100)          0         \n",
            "                                                                 \n",
            " conv1d (Conv1D)             (None, 494, 64)           44864     \n",
            "                                                                 \n",
            " max_pooling1d (MaxPooling1D  (None, 70, 64)           0         \n",
            " )                                                               \n",
            "                                                                 \n",
            " conv1d_1 (Conv1D)           (None, 66, 64)            20544     \n",
            "                                                                 \n",
            " max_pooling1d_1 (MaxPooling  (None, 13, 64)           0         \n",
            " 1D)                                                             \n",
            "                                                                 \n",
            " global_max_pooling1d (Globa  (None, 64)               0         \n",
            " lMaxPooling1D)                                                  \n",
            "                                                                 \n",
            " dense (Dense)               (None, 1)                 65        \n",
            "                                                                 \n",
            "=================================================================\n",
            "Total params: 1,065,473\n",
            "Trainable params: 1,065,473\n",
            "Non-trainable params: 0\n",
            "_________________________________________________________________\n"
          ]
        }
      ]
    },
    {
      "cell_type": "code",
      "source": [
        "model1.compile('adam', 'binary_crossentropy', ['accuracy'])\n",
        "model1_path = 'best-imdb-conv1d-conv1d.h5'\n",
        "mc1 = ModelCheckpoint(model1_path, verbose=1, save_best_only=True)\n",
        "es1 = EarlyStopping(patience=5)"
      ],
      "metadata": {
        "id": "H0UEhXMzL4Rj"
      },
      "execution_count": 10,
      "outputs": []
    },
    {
      "cell_type": "code",
      "source": [
        "hist1 = model1.fit(\n",
        "    X_train, y_train, validation_split=0.2,\n",
        "    epochs=30, batch_size=64, callbacks=[mc1,es1]\n",
        ")"
      ],
      "metadata": {
        "colab": {
          "base_uri": "https://localhost:8080/"
        },
        "id": "1Bb6vj70L4Vy",
        "outputId": "9a830592-edf1-428f-d1ba-c72714ee331b"
      },
      "execution_count": 11,
      "outputs": [
        {
          "output_type": "stream",
          "name": "stdout",
          "text": [
            "Epoch 1/30\n",
            "249/250 [============================>.] - ETA: 0s - loss: 0.5576 - accuracy: 0.6770\n",
            "Epoch 1: val_loss improved from inf to 0.36056, saving model to best-imdb-conv1d-conv1d.h5\n",
            "250/250 [==============================] - 17s 10ms/step - loss: 0.5569 - accuracy: 0.6777 - val_loss: 0.3606 - val_accuracy: 0.8465\n",
            "Epoch 2/30\n",
            "245/250 [============================>.] - ETA: 0s - loss: 0.2885 - accuracy: 0.8822\n",
            "Epoch 2: val_loss improved from 0.36056 to 0.32152, saving model to best-imdb-conv1d-conv1d.h5\n",
            "250/250 [==============================] - 2s 9ms/step - loss: 0.2891 - accuracy: 0.8819 - val_loss: 0.3215 - val_accuracy: 0.8630\n",
            "Epoch 3/30\n",
            "245/250 [============================>.] - ETA: 0s - loss: 0.1945 - accuracy: 0.9259\n",
            "Epoch 3: val_loss did not improve from 0.32152\n",
            "250/250 [==============================] - 3s 10ms/step - loss: 0.1947 - accuracy: 0.9258 - val_loss: 0.3492 - val_accuracy: 0.8570\n",
            "Epoch 4/30\n",
            "248/250 [============================>.] - ETA: 0s - loss: 0.1320 - accuracy: 0.9522\n",
            "Epoch 4: val_loss did not improve from 0.32152\n",
            "250/250 [==============================] - 2s 9ms/step - loss: 0.1319 - accuracy: 0.9522 - val_loss: 0.3721 - val_accuracy: 0.8602\n",
            "Epoch 5/30\n",
            "248/250 [============================>.] - ETA: 0s - loss: 0.0862 - accuracy: 0.9686\n",
            "Epoch 5: val_loss did not improve from 0.32152\n",
            "250/250 [==============================] - 2s 9ms/step - loss: 0.0870 - accuracy: 0.9684 - val_loss: 0.4530 - val_accuracy: 0.8595\n",
            "Epoch 6/30\n",
            "244/250 [============================>.] - ETA: 0s - loss: 0.0582 - accuracy: 0.9788\n",
            "Epoch 6: val_loss did not improve from 0.32152\n",
            "250/250 [==============================] - 2s 9ms/step - loss: 0.0583 - accuracy: 0.9787 - val_loss: 0.5226 - val_accuracy: 0.8568\n",
            "Epoch 7/30\n",
            "249/250 [============================>.] - ETA: 0s - loss: 0.0390 - accuracy: 0.9861\n",
            "Epoch 7: val_loss did not improve from 0.32152\n",
            "250/250 [==============================] - 2s 9ms/step - loss: 0.0392 - accuracy: 0.9860 - val_loss: 0.6066 - val_accuracy: 0.8528\n"
          ]
        }
      ]
    },
    {
      "cell_type": "code",
      "source": [
        "best_model1 = load_model(model1_path)\n",
        "best_model1.evaluate(X_test, y_test)"
      ],
      "metadata": {
        "colab": {
          "base_uri": "https://localhost:8080/"
        },
        "id": "fdk-0TYIMe1r",
        "outputId": "6a9c9a47-c85a-478c-c25f-8b42b3dc86ca"
      },
      "execution_count": 12,
      "outputs": [
        {
          "output_type": "stream",
          "name": "stdout",
          "text": [
            "157/157 [==============================] - 1s 4ms/step - loss: 0.3084 - accuracy: 0.8682\n"
          ]
        },
        {
          "output_type": "execute_result",
          "data": {
            "text/plain": [
              "[0.30842888355255127, 0.8682000041007996]"
            ]
          },
          "metadata": {},
          "execution_count": 12
        }
      ]
    },
    {
      "cell_type": "markdown",
      "source": [
        "- Case 2) Conv1D + LSTM"
      ],
      "metadata": {
        "id": "PJ5tAOFPMe5Q"
      }
    },
    {
      "cell_type": "code",
      "source": [
        "model2 = Sequential([ \n",
        "    Embedding(num_words, 100, input_length=max_len),\n",
        "    Dropout(0.5),\n",
        "    Conv1D(64, 5, activation='relu'),\n",
        "    MaxPooling1D(5),\n",
        "    LSTM(100),\n",
        "    Dense(1, activation='sigmoid')\n",
        "])\n",
        "model2.summary()"
      ],
      "metadata": {
        "colab": {
          "base_uri": "https://localhost:8080/"
        },
        "id": "BCiSNfjVMe8y",
        "outputId": "07dd8255-0f54-43a5-82a8-acc51078985e"
      },
      "execution_count": 13,
      "outputs": [
        {
          "output_type": "stream",
          "name": "stdout",
          "text": [
            "Model: \"sequential_1\"\n",
            "_________________________________________________________________\n",
            " Layer (type)                Output Shape              Param #   \n",
            "=================================================================\n",
            " embedding_1 (Embedding)     (None, 500, 100)          1000000   \n",
            "                                                                 \n",
            " dropout_1 (Dropout)         (None, 500, 100)          0         \n",
            "                                                                 \n",
            " conv1d_2 (Conv1D)           (None, 496, 64)           32064     \n",
            "                                                                 \n",
            " max_pooling1d_2 (MaxPooling  (None, 99, 64)           0         \n",
            " 1D)                                                             \n",
            "                                                                 \n",
            " lstm (LSTM)                 (None, 100)               66000     \n",
            "                                                                 \n",
            " dense_1 (Dense)             (None, 1)                 101       \n",
            "                                                                 \n",
            "=================================================================\n",
            "Total params: 1,098,165\n",
            "Trainable params: 1,098,165\n",
            "Non-trainable params: 0\n",
            "_________________________________________________________________\n"
          ]
        }
      ]
    },
    {
      "cell_type": "code",
      "source": [
        "model2.compile('adam', 'binary_crossentropy', ['accuracy'])\n",
        "model2_path = 'best-imdb-conv1d-lstm.h5'\n",
        "mc2 = ModelCheckpoint(model2_path, verbose=1, save_best_only=True)\n",
        "es2 = EarlyStopping(patience=5)"
      ],
      "metadata": {
        "id": "avLDpLvJMfA0"
      },
      "execution_count": 14,
      "outputs": []
    },
    {
      "cell_type": "code",
      "source": [
        "hist2 = model2.fit(\n",
        "    X_train, y_train, validation_split=0.2,\n",
        "    epochs=30, batch_size=64, callbacks=[mc2,es2]\n",
        ")"
      ],
      "metadata": {
        "colab": {
          "base_uri": "https://localhost:8080/"
        },
        "id": "g_y_KE2tMfEf",
        "outputId": "77e3a20e-9950-456c-b9de-ab0453d7565b"
      },
      "execution_count": 15,
      "outputs": [
        {
          "output_type": "stream",
          "name": "stdout",
          "text": [
            "Epoch 1/30\n",
            "247/250 [============================>.] - ETA: 0s - loss: 0.4429 - accuracy: 0.7661\n",
            "Epoch 1: val_loss improved from inf to 0.29108, saving model to best-imdb-conv1d-lstm.h5\n",
            "250/250 [==============================] - 6s 16ms/step - loss: 0.4409 - accuracy: 0.7677 - val_loss: 0.2911 - val_accuracy: 0.8848\n",
            "Epoch 2/30\n",
            "250/250 [==============================] - ETA: 0s - loss: 0.2170 - accuracy: 0.9147\n",
            "Epoch 2: val_loss improved from 0.29108 to 0.26511, saving model to best-imdb-conv1d-lstm.h5\n",
            "250/250 [==============================] - 3s 13ms/step - loss: 0.2170 - accuracy: 0.9147 - val_loss: 0.2651 - val_accuracy: 0.8905\n",
            "Epoch 3/30\n",
            "250/250 [==============================] - ETA: 0s - loss: 0.1442 - accuracy: 0.9481\n",
            "Epoch 3: val_loss did not improve from 0.26511\n",
            "250/250 [==============================] - 3s 14ms/step - loss: 0.1442 - accuracy: 0.9481 - val_loss: 0.2915 - val_accuracy: 0.8857\n",
            "Epoch 4/30\n",
            "250/250 [==============================] - ETA: 0s - loss: 0.0996 - accuracy: 0.9654\n",
            "Epoch 4: val_loss did not improve from 0.26511\n",
            "250/250 [==============================] - 4s 15ms/step - loss: 0.0996 - accuracy: 0.9654 - val_loss: 0.3296 - val_accuracy: 0.8825\n",
            "Epoch 5/30\n",
            "249/250 [============================>.] - ETA: 0s - loss: 0.0708 - accuracy: 0.9765\n",
            "Epoch 5: val_loss did not improve from 0.26511\n",
            "250/250 [==============================] - 4s 15ms/step - loss: 0.0708 - accuracy: 0.9764 - val_loss: 0.3883 - val_accuracy: 0.8840\n",
            "Epoch 6/30\n",
            "250/250 [==============================] - ETA: 0s - loss: 0.0562 - accuracy: 0.9818\n",
            "Epoch 6: val_loss did not improve from 0.26511\n",
            "250/250 [==============================] - 4s 15ms/step - loss: 0.0562 - accuracy: 0.9818 - val_loss: 0.4384 - val_accuracy: 0.8832\n",
            "Epoch 7/30\n",
            "248/250 [============================>.] - ETA: 0s - loss: 0.0417 - accuracy: 0.9859\n",
            "Epoch 7: val_loss did not improve from 0.26511\n",
            "250/250 [==============================] - 4s 15ms/step - loss: 0.0419 - accuracy: 0.9859 - val_loss: 0.4658 - val_accuracy: 0.8802\n"
          ]
        }
      ]
    },
    {
      "cell_type": "code",
      "source": [
        "best_model2 = load_model(model2_path)\n",
        "best_model2.evaluate(X_test, y_test)"
      ],
      "metadata": {
        "colab": {
          "base_uri": "https://localhost:8080/"
        },
        "id": "7FEuNQOtMfIF",
        "outputId": "98c8f11e-cc17-445d-b841-8a8f7a9e3fc5"
      },
      "execution_count": 16,
      "outputs": [
        {
          "output_type": "stream",
          "name": "stdout",
          "text": [
            "157/157 [==============================] - 1s 4ms/step - loss: 0.2721 - accuracy: 0.8884\n"
          ]
        },
        {
          "output_type": "execute_result",
          "data": {
            "text/plain": [
              "[0.272092342376709, 0.8884000182151794]"
            ]
          },
          "metadata": {},
          "execution_count": 16
        }
      ]
    },
    {
      "cell_type": "markdown",
      "source": [
        "- Case 3) Conv1D + Dense"
      ],
      "metadata": {
        "id": "xXAfry9uMfMz"
      }
    },
    {
      "cell_type": "code",
      "source": [
        "model3 = Sequential([ \n",
        "    Embedding(num_words, 100, input_length=max_len),\n",
        "    Dropout(0.5),\n",
        "    Conv1D(64, 5, activation='relu'),\n",
        "    MaxPooling1D(5),\n",
        "    GlobalMaxPooling1D(),\n",
        "    Dense(100, activation='relu'),\n",
        "    Dense(1, activation='sigmoid')\n",
        "])\n",
        "model3.summary()"
      ],
      "metadata": {
        "colab": {
          "base_uri": "https://localhost:8080/"
        },
        "id": "SRX6bul6MfSS",
        "outputId": "f51a9c2b-3f98-41f9-a3c8-6f78ef260019"
      },
      "execution_count": 17,
      "outputs": [
        {
          "output_type": "stream",
          "name": "stdout",
          "text": [
            "Model: \"sequential_2\"\n",
            "_________________________________________________________________\n",
            " Layer (type)                Output Shape              Param #   \n",
            "=================================================================\n",
            " embedding_2 (Embedding)     (None, 500, 100)          1000000   \n",
            "                                                                 \n",
            " dropout_2 (Dropout)         (None, 500, 100)          0         \n",
            "                                                                 \n",
            " conv1d_3 (Conv1D)           (None, 496, 64)           32064     \n",
            "                                                                 \n",
            " max_pooling1d_3 (MaxPooling  (None, 99, 64)           0         \n",
            " 1D)                                                             \n",
            "                                                                 \n",
            " global_max_pooling1d_1 (Glo  (None, 64)               0         \n",
            " balMaxPooling1D)                                                \n",
            "                                                                 \n",
            " dense_2 (Dense)             (None, 100)               6500      \n",
            "                                                                 \n",
            " dense_3 (Dense)             (None, 1)                 101       \n",
            "                                                                 \n",
            "=================================================================\n",
            "Total params: 1,038,665\n",
            "Trainable params: 1,038,665\n",
            "Non-trainable params: 0\n",
            "_________________________________________________________________\n"
          ]
        }
      ]
    },
    {
      "cell_type": "code",
      "source": [
        "model3 = Sequential([ \n",
        "    Embedding(num_words, 100, input_length=max_len),\n",
        "    Dropout(0.5),\n",
        "    Conv1D(64, 5, activation='relu'),\n",
        "    MaxPooling1D(5),\n",
        "    GlobalMaxPooling1D(),\n",
        "    Dense(100, activation='relu'),\n",
        "    Dense(1, activation='sigmoid')\n",
        "])\n",
        "model3.summary()"
      ],
      "metadata": {
        "colab": {
          "base_uri": "https://localhost:8080/"
        },
        "id": "oO0jeDVcMwjP",
        "outputId": "4d9861e2-6de4-4ef4-b0aa-ded763ea41e9"
      },
      "execution_count": 18,
      "outputs": [
        {
          "output_type": "stream",
          "name": "stdout",
          "text": [
            "Model: \"sequential_3\"\n",
            "_________________________________________________________________\n",
            " Layer (type)                Output Shape              Param #   \n",
            "=================================================================\n",
            " embedding_3 (Embedding)     (None, 500, 100)          1000000   \n",
            "                                                                 \n",
            " dropout_3 (Dropout)         (None, 500, 100)          0         \n",
            "                                                                 \n",
            " conv1d_4 (Conv1D)           (None, 496, 64)           32064     \n",
            "                                                                 \n",
            " max_pooling1d_4 (MaxPooling  (None, 99, 64)           0         \n",
            " 1D)                                                             \n",
            "                                                                 \n",
            " global_max_pooling1d_2 (Glo  (None, 64)               0         \n",
            " balMaxPooling1D)                                                \n",
            "                                                                 \n",
            " dense_4 (Dense)             (None, 100)               6500      \n",
            "                                                                 \n",
            " dense_5 (Dense)             (None, 1)                 101       \n",
            "                                                                 \n",
            "=================================================================\n",
            "Total params: 1,038,665\n",
            "Trainable params: 1,038,665\n",
            "Non-trainable params: 0\n",
            "_________________________________________________________________\n"
          ]
        }
      ]
    },
    {
      "cell_type": "code",
      "source": [
        "model3.compile('adam', 'binary_crossentropy', ['accuracy'])\n",
        "model3_path = 'best-imdb-conv1d-dense.h5'\n",
        "mc3 = ModelCheckpoint(model3_path, verbose=1, save_best_only=True)\n",
        "es3 = EarlyStopping(patience=5)"
      ],
      "metadata": {
        "id": "_Z9rx162MxyX"
      },
      "execution_count": 19,
      "outputs": []
    },
    {
      "cell_type": "code",
      "source": [
        "hist3 = model3.fit(\n",
        "    X_train, y_train, validation_split=0.2,\n",
        "    epochs=30, batch_size=64, callbacks=[mc3,es3]\n",
        ")"
      ],
      "metadata": {
        "colab": {
          "base_uri": "https://localhost:8080/"
        },
        "id": "gWB0rFWFMzOi",
        "outputId": "2e51d377-760e-4b00-a7b3-fa86c724b611"
      },
      "execution_count": 20,
      "outputs": [
        {
          "output_type": "stream",
          "name": "stdout",
          "text": [
            "Epoch 1/30\n",
            "244/250 [============================>.] - ETA: 0s - loss: 0.5707 - accuracy: 0.6772\n",
            "Epoch 1: val_loss improved from inf to 0.39085, saving model to best-imdb-conv1d-dense.h5\n",
            "250/250 [==============================] - 3s 10ms/step - loss: 0.5664 - accuracy: 0.6808 - val_loss: 0.3909 - val_accuracy: 0.8240\n",
            "Epoch 2/30\n",
            "245/250 [============================>.] - ETA: 0s - loss: 0.3116 - accuracy: 0.8678\n",
            "Epoch 2: val_loss improved from 0.39085 to 0.30105, saving model to best-imdb-conv1d-dense.h5\n",
            "250/250 [==============================] - 2s 9ms/step - loss: 0.3119 - accuracy: 0.8679 - val_loss: 0.3010 - val_accuracy: 0.8767\n",
            "Epoch 3/30\n",
            "246/250 [============================>.] - ETA: 0s - loss: 0.2062 - accuracy: 0.9186\n",
            "Epoch 3: val_loss improved from 0.30105 to 0.28300, saving model to best-imdb-conv1d-dense.h5\n",
            "250/250 [==============================] - 2s 9ms/step - loss: 0.2063 - accuracy: 0.9186 - val_loss: 0.2830 - val_accuracy: 0.8835\n",
            "Epoch 4/30\n",
            "245/250 [============================>.] - ETA: 0s - loss: 0.1352 - accuracy: 0.9497\n",
            "Epoch 4: val_loss did not improve from 0.28300\n",
            "250/250 [==============================] - 2s 8ms/step - loss: 0.1351 - accuracy: 0.9494 - val_loss: 0.2986 - val_accuracy: 0.8890\n",
            "Epoch 5/30\n",
            "248/250 [============================>.] - ETA: 0s - loss: 0.0914 - accuracy: 0.9664\n",
            "Epoch 5: val_loss did not improve from 0.28300\n",
            "250/250 [==============================] - 2s 8ms/step - loss: 0.0915 - accuracy: 0.9664 - val_loss: 0.3262 - val_accuracy: 0.8867\n",
            "Epoch 6/30\n",
            "248/250 [============================>.] - ETA: 0s - loss: 0.0578 - accuracy: 0.9817\n",
            "Epoch 6: val_loss did not improve from 0.28300\n",
            "250/250 [==============================] - 2s 8ms/step - loss: 0.0578 - accuracy: 0.9816 - val_loss: 0.3635 - val_accuracy: 0.8830\n",
            "Epoch 7/30\n",
            "248/250 [============================>.] - ETA: 0s - loss: 0.0388 - accuracy: 0.9875\n",
            "Epoch 7: val_loss did not improve from 0.28300\n",
            "250/250 [==============================] - 3s 11ms/step - loss: 0.0389 - accuracy: 0.9874 - val_loss: 0.4003 - val_accuracy: 0.8802\n",
            "Epoch 8/30\n",
            "245/250 [============================>.] - ETA: 0s - loss: 0.0290 - accuracy: 0.9904\n",
            "Epoch 8: val_loss did not improve from 0.28300\n",
            "250/250 [==============================] - 2s 8ms/step - loss: 0.0289 - accuracy: 0.9904 - val_loss: 0.4204 - val_accuracy: 0.8792\n"
          ]
        }
      ]
    },
    {
      "cell_type": "code",
      "source": [
        "best_model3 = load_model(model3_path)\n",
        "best_model3.evaluate(X_test, y_test)"
      ],
      "metadata": {
        "colab": {
          "base_uri": "https://localhost:8080/"
        },
        "id": "CiFomO4jM0tm",
        "outputId": "00a931ee-388c-4a20-8bec-be8f881ccba9"
      },
      "execution_count": 21,
      "outputs": [
        {
          "output_type": "stream",
          "name": "stdout",
          "text": [
            "157/157 [==============================] - 1s 3ms/step - loss: 0.2849 - accuracy: 0.8836\n"
          ]
        },
        {
          "output_type": "execute_result",
          "data": {
            "text/plain": [
              "[0.28485625982284546, 0.8835999965667725]"
            ]
          },
          "metadata": {},
          "execution_count": 21
        }
      ]
    },
    {
      "cell_type": "code",
      "source": [
        ""
      ],
      "metadata": {
        "id": "X56XXuusM2c3"
      },
      "execution_count": null,
      "outputs": []
    }
  ]
}