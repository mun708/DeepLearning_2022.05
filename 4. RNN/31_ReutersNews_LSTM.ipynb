{
  "nbformat": 4,
  "nbformat_minor": 0,
  "metadata": {
    "colab": {
      "name": "31_ReutersNews_LSTM.ipynb",
      "provenance": [],
      "collapsed_sections": []
    },
    "kernelspec": {
      "name": "python3",
      "display_name": "Python 3"
    },
    "language_info": {
      "name": "python"
    },
    "accelerator": "GPU"
  },
  "cells": [
    {
      "cell_type": "markdown",
      "source": [
        "# 로이터 뉴스 분류하기 - LSTM"
      ],
      "metadata": {
        "id": "V-FAEEX8LqTM"
      }
    },
    {
      "cell_type": "markdown",
      "source": [
        "### 데이터 탐색"
      ],
      "metadata": {
        "id": "BjtdE5qsLw7R"
      }
    },
    {
      "cell_type": "code",
      "source": [
        "import numpy as np\n",
        "import seaborn as sns\n",
        "import matplotlib.pyplot as plt\n",
        "from tensorflow.keras.datasets import reuters"
      ],
      "metadata": {
        "id": "K1QD7v9XLyU8"
      },
      "execution_count": 1,
      "outputs": []
    },
    {
      "cell_type": "code",
      "source": [
        "(X_train, y_train), (X_test,y_test) = reuters.load_data()\n",
        "len(X_train), len(X_test)"
      ],
      "metadata": {
        "colab": {
          "base_uri": "https://localhost:8080/"
        },
        "id": "fAjHFSWqL4fS",
        "outputId": "92fefcad-f6f2-40ed-88f9-e67423044d97"
      },
      "execution_count": 2,
      "outputs": [
        {
          "output_type": "stream",
          "name": "stdout",
          "text": [
            "Downloading data from https://storage.googleapis.com/tensorflow/tf-keras-datasets/reuters.npz\n",
            "2113536/2110848 [==============================] - 0s 0us/step\n",
            "2121728/2110848 [==============================] - 0s 0us/step\n"
          ]
        },
        {
          "output_type": "execute_result",
          "data": {
            "text/plain": [
              "(8982, 2246)"
            ]
          },
          "metadata": {},
          "execution_count": 2
        }
      ]
    },
    {
      "cell_type": "code",
      "source": [
        "# 카테고리 갯수\n",
        "max(y_train +1)"
      ],
      "metadata": {
        "colab": {
          "base_uri": "https://localhost:8080/"
        },
        "id": "ApFAkDdyMAhA",
        "outputId": "823b9c35-3b46-437f-8cb9-0c9c7cc8561e"
      },
      "execution_count": 3,
      "outputs": [
        {
          "output_type": "execute_result",
          "data": {
            "text/plain": [
              "46"
            ]
          },
          "metadata": {},
          "execution_count": 3
        }
      ]
    },
    {
      "cell_type": "code",
      "source": [
        "# 첫 번째 뉴스\n",
        "print(X_train[0])"
      ],
      "metadata": {
        "colab": {
          "base_uri": "https://localhost:8080/"
        },
        "id": "5eyLHWVOMDkv",
        "outputId": "9b6b75e0-485a-4f7e-a12a-0b66a9167957"
      },
      "execution_count": 4,
      "outputs": [
        {
          "output_type": "stream",
          "name": "stdout",
          "text": [
            "[1, 27595, 28842, 8, 43, 10, 447, 5, 25, 207, 270, 5, 3095, 111, 16, 369, 186, 90, 67, 7, 89, 5, 19, 102, 6, 19, 124, 15, 90, 67, 84, 22, 482, 26, 7, 48, 4, 49, 8, 864, 39, 209, 154, 6, 151, 6, 83, 11, 15, 22, 155, 11, 15, 7, 48, 9, 4579, 1005, 504, 6, 258, 6, 272, 11, 15, 22, 134, 44, 11, 15, 16, 8, 197, 1245, 90, 67, 52, 29, 209, 30, 32, 132, 6, 109, 15, 17, 12]\n"
          ]
        }
      ]
    },
    {
      "cell_type": "code",
      "source": [
        "type(reuters.get_word_index())"
      ],
      "metadata": {
        "colab": {
          "base_uri": "https://localhost:8080/"
        },
        "id": "Ef1RTNpyMGmw",
        "outputId": "0ab8a40f-9d16-4caf-ccba-b1b68ec5bb31"
      },
      "execution_count": 5,
      "outputs": [
        {
          "output_type": "stream",
          "name": "stdout",
          "text": [
            "Downloading data from https://storage.googleapis.com/tensorflow/tf-keras-datasets/reuters_word_index.json\n",
            "557056/550378 [==============================] - 0s 0us/step\n",
            "565248/550378 [==============================] - 0s 0us/step\n"
          ]
        },
        {
          "output_type": "execute_result",
          "data": {
            "text/plain": [
              "dict"
            ]
          },
          "metadata": {},
          "execution_count": 5
        }
      ]
    },
    {
      "cell_type": "code",
      "source": [
        "reuters.get_word_index()['the']"
      ],
      "metadata": {
        "colab": {
          "base_uri": "https://localhost:8080/"
        },
        "id": "UzBe6QE7MjG6",
        "outputId": "833bd0ea-3efc-413b-b693-3834d4006214"
      },
      "execution_count": 6,
      "outputs": [
        {
          "output_type": "execute_result",
          "data": {
            "text/plain": [
              "1"
            ]
          },
          "metadata": {},
          "execution_count": 6
        }
      ]
    },
    {
      "cell_type": "code",
      "source": [
        "index_word = {}\n",
        "for key, value in reuters.get_word_index().items():\n",
        "  index_word[value] = key\n",
        "len(index_word)"
      ],
      "metadata": {
        "colab": {
          "base_uri": "https://localhost:8080/"
        },
        "id": "dMBBORnjMk3p",
        "outputId": "5518567a-d777-42de-de46-82a4c25b3fee"
      },
      "execution_count": 7,
      "outputs": [
        {
          "output_type": "execute_result",
          "data": {
            "text/plain": [
              "30979"
            ]
          },
          "metadata": {},
          "execution_count": 7
        }
      ]
    },
    {
      "cell_type": "code",
      "source": [
        "# 첫 번째 기사 복원\n",
        "' '.join(index_word[index] for index in X_train[0])"
      ],
      "metadata": {
        "colab": {
          "base_uri": "https://localhost:8080/",
          "height": 87
        },
        "id": "B-2MhM6WM2sX",
        "outputId": "23994209-cd96-4561-d700-14db08ecab36"
      },
      "execution_count": 8,
      "outputs": [
        {
          "output_type": "execute_result",
          "data": {
            "text/plain": [
              "'the wattie nondiscriminatory mln loss for plc said at only ended said commonwealth could 1 traders now april 0 a after said from 1985 and from foreign 000 april 0 prices its account year a but in this mln home an states earlier and rise and revs vs 000 its 16 vs 000 a but 3 psbr oils several and shareholders and dividend vs 000 its all 4 vs 000 1 mln agreed largely april 0 are 2 states will billion total and against 000 pct dlrs'"
            ],
            "application/vnd.google.colaboratory.intrinsic+json": {
              "type": "string"
            }
          },
          "metadata": {},
          "execution_count": 8
        }
      ]
    },
    {
      "cell_type": "code",
      "source": [
        "# 뉴스 기사의 최대/ 평균 길이\n",
        "max(len(s) for s in X_train), sum(map(len, X_train)) / len(X_train)"
      ],
      "metadata": {
        "colab": {
          "base_uri": "https://localhost:8080/"
        },
        "id": "CcMiqr_bNF2h",
        "outputId": "adc418ac-3b9c-44ba-fc76-7cfcc4e9f1a9"
      },
      "execution_count": 9,
      "outputs": [
        {
          "output_type": "execute_result",
          "data": {
            "text/plain": [
              "(2376, 145.5398574927633)"
            ]
          },
          "metadata": {},
          "execution_count": 9
        }
      ]
    },
    {
      "cell_type": "code",
      "source": [
        "# 뉴스 기사 단어수의 분포\n",
        "plt.hist([len(s) for s in X_train], bins=50)\n",
        "plt.xlabel('length of samples')\n",
        "plt.ylabel('number of samples')\n",
        "plt.show()"
      ],
      "metadata": {
        "colab": {
          "base_uri": "https://localhost:8080/",
          "height": 279
        },
        "id": "gZJJ1PnsNj2h",
        "outputId": "833841d3-b61d-4482-e3ab-825edcb59abf"
      },
      "execution_count": 10,
      "outputs": [
        {
          "output_type": "display_data",
          "data": {
            "text/plain": [
              "<Figure size 432x288 with 1 Axes>"
            ],
            "image/png": "[encoded data removed]"
          },
          "metadata": {
            "needs_background": "light"
          }
        }
      ]
    },
    {
      "cell_type": "code",
      "source": [
        "# 뉴스 그룹의 분포\n",
        "import warnings\n",
        "warnings.filterwarnings('ignore')\n",
        "plt.figure(figsize=(12,5))\n",
        "sns.countplot(y_train);"
      ],
      "metadata": {
        "colab": {
          "base_uri": "https://localhost:8080/",
          "height": 320
        },
        "id": "VKTIqU-9ZXnO",
        "outputId": "f9ae4726-2d97-48da-c814-b144d1900c20"
      },
      "execution_count": 11,
      "outputs": [
        {
          "output_type": "display_data",
          "data": {
            "text/plain": [
              "<Figure size 864x360 with 1 Axes>"
            ],
            "image/png": "[encoded data removed]"
          },
          "metadata": {
            "needs_background": "light"
          }
        }
      ]
    },
    {
      "cell_type": "markdown",
      "source": [
        "### LSTM으로 로이터 뉴스 분류\n",
        "- 문장길이: 100 단어 까지 (최대: 2,376)\n",
        "- 단어: 빈도수 기준 1,000 단어 (총단어수: 30,979)"
      ],
      "metadata": {
        "id": "H2cGRsAhZXq9"
      }
    },
    {
      "cell_type": "code",
      "source": [
        "max_words = 1000\n",
        "max_len = 100"
      ],
      "metadata": {
        "id": "Y2Ko97EAZXuX"
      },
      "execution_count": 12,
      "outputs": []
    },
    {
      "cell_type": "code",
      "source": [
        "(X_train, y_train), (X_test, y_test) = reuters.load_data(\n",
        "    num_words=max_words, test_split=0.2\n",
        ")"
      ],
      "metadata": {
        "id": "XCqTAzCmZdyJ"
      },
      "execution_count": 13,
      "outputs": []
    },
    {
      "cell_type": "code",
      "source": [
        "import tensorflow as tf\n",
        "seed = 2022\n",
        "np.random.seed(seed)\n",
        "tf.random.set_seed(seed)"
      ],
      "metadata": {
        "id": "B9Tdgc2zZXxT"
      },
      "execution_count": 14,
      "outputs": []
    },
    {
      "cell_type": "code",
      "source": [
        "from tensorflow.keras.models import Sequential, load_model\n",
        "from tensorflow.keras.layers import Embedding, LSTM, Dense\n",
        "from tensorflow.keras.callbacks import ModelCheckpoint, EarlyStopping\n",
        "from tensorflow.keras.preprocessing.sequence import pad_sequences\n",
        "from tensorflow.keras.utils import to_categorical"
      ],
      "metadata": {
        "id": "x4NGT6U7ZX0n"
      },
      "execution_count": 15,
      "outputs": []
    },
    {
      "cell_type": "code",
      "source": [
        "X_train = pad_sequences(X_train, maxlen=max_len)\n",
        "X_test = pad_sequences(X_test, maxlen=max_len)\n",
        "Y_train = to_categorical(y_train)\n",
        "Y_test = to_categorical(y_test)\n",
        "X_train.shape, X_test.shape, Y_train.shape, Y_test.shape"
      ],
      "metadata": {
        "colab": {
          "base_uri": "https://localhost:8080/"
        },
        "id": "26a9-MeHZX4D",
        "outputId": "05648a27-0db6-4daf-914e-aeff0d05bee9"
      },
      "execution_count": 16,
      "outputs": [
        {
          "output_type": "execute_result",
          "data": {
            "text/plain": [
              "((8982, 100), (2246, 100), (8982, 46), (2246, 46))"
            ]
          },
          "metadata": {},
          "execution_count": 16
        }
      ]
    },
    {
      "cell_type": "markdown",
      "source": [
        "- 모델 정의/설정/학습"
      ],
      "metadata": {
        "id": "rSc8-pSUZX8F"
      }
    },
    {
      "cell_type": "code",
      "source": [
        "model = Sequential([ \n",
        "    Embedding(max_words, 64, input_length=max_len),\n",
        "    LSTM(100),\n",
        "    Dense(46, activation='softmax')\n",
        "])\n",
        "model.summary()"
      ],
      "metadata": {
        "colab": {
          "base_uri": "https://localhost:8080/"
        },
        "id": "yM-Aj6h1ZYAL",
        "outputId": "5fc1eb27-3f66-4e4c-9313-2017e4eb3209"
      },
      "execution_count": 17,
      "outputs": [
        {
          "output_type": "stream",
          "name": "stdout",
          "text": [
            "Model: \"sequential\"\n",
            "_________________________________________________________________\n",
            " Layer (type)                Output Shape              Param #   \n",
            "=================================================================\n",
            " embedding (Embedding)       (None, 100, 64)           64000     \n",
            "                                                                 \n",
            " lstm (LSTM)                 (None, 100)               66000     \n",
            "                                                                 \n",
            " dense (Dense)               (None, 46)                4646      \n",
            "                                                                 \n",
            "=================================================================\n",
            "Total params: 134,646\n",
            "Trainable params: 134,646\n",
            "Non-trainable params: 0\n",
            "_________________________________________________________________\n"
          ]
        }
      ]
    },
    {
      "cell_type": "code",
      "source": [
        "model.compile('adam', 'categorical_crossentropy', ['accuracy'])\n"
      ],
      "metadata": {
        "id": "HBlA_cklZklM"
      },
      "execution_count": 18,
      "outputs": []
    },
    {
      "cell_type": "code",
      "source": [
        "model_path = 'best-reuters-lstm.h5'\n",
        "mc = ModelCheckpoint(model_path, verbose=1, save_best_only=True)\n",
        "es = EarlyStopping(patience=10)"
      ],
      "metadata": {
        "id": "91lBTEdSZkoV"
      },
      "execution_count": 19,
      "outputs": []
    },
    {
      "cell_type": "code",
      "source": [
        "hist = model.fit(\n",
        "    X_train, Y_train, validation_split=0.2, epochs=100, batch_size=128, callbacks=[mc,es]\n",
        ")"
      ],
      "metadata": {
        "colab": {
          "base_uri": "https://localhost:8080/"
        },
        "id": "gPREZTMIZkrc",
        "outputId": "654da511-b65a-4b69-890f-2f3515943209"
      },
      "execution_count": 20,
      "outputs": [
        {
          "output_type": "stream",
          "name": "stdout",
          "text": [
            "Epoch 1/100\n",
            "54/57 [===========================>..] - ETA: 0s - loss: 2.7293 - accuracy: 0.3299\n",
            "Epoch 1: val_loss improved from inf to 2.40400, saving model to best-reuters-lstm.h5\n",
            "57/57 [==============================] - 8s 22ms/step - loss: 2.7159 - accuracy: 0.3317 - val_loss: 2.4040 - val_accuracy: 0.3450\n",
            "Epoch 2/100\n",
            "53/57 [==========================>...] - ETA: 0s - loss: 2.4126 - accuracy: 0.3505\n",
            "Epoch 2: val_loss improved from 2.40400 to 2.38775, saving model to best-reuters-lstm.h5\n",
            "57/57 [==============================] - 1s 11ms/step - loss: 2.4047 - accuracy: 0.3534 - val_loss: 2.3877 - val_accuracy: 0.3450\n",
            "Epoch 3/100\n",
            "57/57 [==============================] - ETA: 0s - loss: 2.2058 - accuracy: 0.4351\n",
            "Epoch 3: val_loss improved from 2.38775 to 2.06016, saving model to best-reuters-lstm.h5\n",
            "57/57 [==============================] - 1s 13ms/step - loss: 2.2058 - accuracy: 0.4351 - val_loss: 2.0602 - val_accuracy: 0.4702\n",
            "Epoch 4/100\n",
            "53/57 [==========================>...] - ETA: 0s - loss: 1.9805 - accuracy: 0.4901\n",
            "Epoch 4: val_loss improved from 2.06016 to 1.91018, saving model to best-reuters-lstm.h5\n",
            "57/57 [==============================] - 1s 11ms/step - loss: 1.9763 - accuracy: 0.4919 - val_loss: 1.9102 - val_accuracy: 0.5058\n",
            "Epoch 5/100\n",
            "52/57 [==========================>...] - ETA: 0s - loss: 1.9198 - accuracy: 0.5068\n",
            "Epoch 5: val_loss did not improve from 1.91018\n",
            "57/57 [==============================] - 1s 11ms/step - loss: 1.9133 - accuracy: 0.5087 - val_loss: 1.9495 - val_accuracy: 0.5159\n",
            "Epoch 6/100\n",
            "53/57 [==========================>...] - ETA: 0s - loss: 1.7812 - accuracy: 0.5360\n",
            "Epoch 6: val_loss improved from 1.91018 to 1.86559, saving model to best-reuters-lstm.h5\n",
            "57/57 [==============================] - 1s 12ms/step - loss: 1.7857 - accuracy: 0.5347 - val_loss: 1.8656 - val_accuracy: 0.4975\n",
            "Epoch 7/100\n",
            "52/57 [==========================>...] - ETA: 0s - loss: 1.7642 - accuracy: 0.5433\n",
            "Epoch 7: val_loss improved from 1.86559 to 1.73452, saving model to best-reuters-lstm.h5\n",
            "57/57 [==============================] - 1s 11ms/step - loss: 1.7556 - accuracy: 0.5449 - val_loss: 1.7345 - val_accuracy: 0.5537\n",
            "Epoch 8/100\n",
            "54/57 [===========================>..] - ETA: 0s - loss: 1.6919 - accuracy: 0.5632\n",
            "Epoch 8: val_loss improved from 1.73452 to 1.72670, saving model to best-reuters-lstm.h5\n",
            "57/57 [==============================] - 1s 11ms/step - loss: 1.6906 - accuracy: 0.5637 - val_loss: 1.7267 - val_accuracy: 0.5448\n",
            "Epoch 9/100\n",
            "52/57 [==========================>...] - ETA: 0s - loss: 1.6835 - accuracy: 0.5733\n",
            "Epoch 9: val_loss improved from 1.72670 to 1.64007, saving model to best-reuters-lstm.h5\n",
            "57/57 [==============================] - 1s 12ms/step - loss: 1.6901 - accuracy: 0.5726 - val_loss: 1.6401 - val_accuracy: 0.5854\n",
            "Epoch 10/100\n",
            "55/57 [===========================>..] - ETA: 0s - loss: 1.6091 - accuracy: 0.5945\n",
            "Epoch 10: val_loss improved from 1.64007 to 1.58030, saving model to best-reuters-lstm.h5\n",
            "57/57 [==============================] - 1s 11ms/step - loss: 1.6020 - accuracy: 0.5971 - val_loss: 1.5803 - val_accuracy: 0.6010\n",
            "Epoch 11/100\n",
            "53/57 [==========================>...] - ETA: 0s - loss: 1.5028 - accuracy: 0.6198\n",
            "Epoch 11: val_loss improved from 1.58030 to 1.53210, saving model to best-reuters-lstm.h5\n",
            "57/57 [==============================] - 1s 11ms/step - loss: 1.5054 - accuracy: 0.6198 - val_loss: 1.5321 - val_accuracy: 0.6183\n",
            "Epoch 12/100\n",
            "56/57 [============================>.] - ETA: 0s - loss: 1.4535 - accuracy: 0.6311\n",
            "Epoch 12: val_loss improved from 1.53210 to 1.50532, saving model to best-reuters-lstm.h5\n",
            "57/57 [==============================] - 1s 14ms/step - loss: 1.4529 - accuracy: 0.6310 - val_loss: 1.5053 - val_accuracy: 0.6155\n",
            "Epoch 13/100\n",
            "54/57 [===========================>..] - ETA: 0s - loss: 1.3892 - accuracy: 0.6431\n",
            "Epoch 13: val_loss improved from 1.50532 to 1.43700, saving model to best-reuters-lstm.h5\n",
            "57/57 [==============================] - 1s 13ms/step - loss: 1.3883 - accuracy: 0.6434 - val_loss: 1.4370 - val_accuracy: 0.6372\n",
            "Epoch 14/100\n",
            "54/57 [===========================>..] - ETA: 0s - loss: 1.3271 - accuracy: 0.6610\n",
            "Epoch 14: val_loss improved from 1.43700 to 1.42043, saving model to best-reuters-lstm.h5\n",
            "57/57 [==============================] - 1s 11ms/step - loss: 1.3199 - accuracy: 0.6635 - val_loss: 1.4204 - val_accuracy: 0.6522\n",
            "Epoch 15/100\n",
            "52/57 [==========================>...] - ETA: 0s - loss: 1.2734 - accuracy: 0.6774\n",
            "Epoch 15: val_loss improved from 1.42043 to 1.41459, saving model to best-reuters-lstm.h5\n",
            "57/57 [==============================] - 1s 12ms/step - loss: 1.2777 - accuracy: 0.6745 - val_loss: 1.4146 - val_accuracy: 0.6516\n",
            "Epoch 16/100\n",
            "57/57 [==============================] - ETA: 0s - loss: 1.2400 - accuracy: 0.6856\n",
            "Epoch 16: val_loss improved from 1.41459 to 1.37506, saving model to best-reuters-lstm.h5\n",
            "57/57 [==============================] - 1s 12ms/step - loss: 1.2400 - accuracy: 0.6856 - val_loss: 1.3751 - val_accuracy: 0.6706\n",
            "Epoch 17/100\n",
            "54/57 [===========================>..] - ETA: 0s - loss: 1.1760 - accuracy: 0.7017\n",
            "Epoch 17: val_loss improved from 1.37506 to 1.34336, saving model to best-reuters-lstm.h5\n",
            "57/57 [==============================] - 1s 11ms/step - loss: 1.1758 - accuracy: 0.7022 - val_loss: 1.3434 - val_accuracy: 0.6728\n",
            "Epoch 18/100\n",
            "53/57 [==========================>...] - ETA: 0s - loss: 1.1762 - accuracy: 0.7075\n",
            "Epoch 18: val_loss did not improve from 1.34336\n",
            "57/57 [==============================] - 1s 11ms/step - loss: 1.1777 - accuracy: 0.7077 - val_loss: 1.3496 - val_accuracy: 0.6795\n",
            "Epoch 19/100\n",
            "53/57 [==========================>...] - ETA: 0s - loss: 1.1446 - accuracy: 0.7180\n",
            "Epoch 19: val_loss did not improve from 1.34336\n",
            "57/57 [==============================] - 1s 11ms/step - loss: 1.1408 - accuracy: 0.7177 - val_loss: 1.3792 - val_accuracy: 0.6717\n",
            "Epoch 20/100\n",
            "52/57 [==========================>...] - ETA: 0s - loss: 1.0925 - accuracy: 0.7252\n",
            "Epoch 20: val_loss improved from 1.34336 to 1.32849, saving model to best-reuters-lstm.h5\n",
            "57/57 [==============================] - 1s 12ms/step - loss: 1.0876 - accuracy: 0.7260 - val_loss: 1.3285 - val_accuracy: 0.6906\n",
            "Epoch 21/100\n",
            "52/57 [==========================>...] - ETA: 0s - loss: 1.0976 - accuracy: 0.7194\n",
            "Epoch 21: val_loss improved from 1.32849 to 1.29986, saving model to best-reuters-lstm.h5\n",
            "57/57 [==============================] - 1s 12ms/step - loss: 1.0837 - accuracy: 0.7240 - val_loss: 1.2999 - val_accuracy: 0.6934\n",
            "Epoch 22/100\n",
            "54/57 [===========================>..] - ETA: 0s - loss: 1.0175 - accuracy: 0.7403\n",
            "Epoch 22: val_loss improved from 1.29986 to 1.27654, saving model to best-reuters-lstm.h5\n",
            "57/57 [==============================] - 1s 11ms/step - loss: 1.0213 - accuracy: 0.7399 - val_loss: 1.2765 - val_accuracy: 0.7040\n",
            "Epoch 23/100\n",
            "54/57 [===========================>..] - ETA: 0s - loss: 0.9924 - accuracy: 0.7481\n",
            "Epoch 23: val_loss did not improve from 1.27654\n",
            "57/57 [==============================] - 1s 11ms/step - loss: 0.9947 - accuracy: 0.7485 - val_loss: 1.3087 - val_accuracy: 0.6995\n",
            "Epoch 24/100\n",
            "55/57 [===========================>..] - ETA: 0s - loss: 0.9570 - accuracy: 0.7577\n",
            "Epoch 24: val_loss improved from 1.27654 to 1.26163, saving model to best-reuters-lstm.h5\n",
            "57/57 [==============================] - 1s 12ms/step - loss: 0.9557 - accuracy: 0.7573 - val_loss: 1.2616 - val_accuracy: 0.7062\n",
            "Epoch 25/100\n",
            "56/57 [============================>.] - ETA: 0s - loss: 0.9292 - accuracy: 0.7651\n",
            "Epoch 25: val_loss did not improve from 1.26163\n",
            "57/57 [==============================] - 1s 13ms/step - loss: 0.9299 - accuracy: 0.7649 - val_loss: 1.2626 - val_accuracy: 0.7028\n",
            "Epoch 26/100\n",
            "55/57 [===========================>..] - ETA: 0s - loss: 0.9052 - accuracy: 0.7663\n",
            "Epoch 26: val_loss improved from 1.26163 to 1.25365, saving model to best-reuters-lstm.h5\n",
            "57/57 [==============================] - 1s 11ms/step - loss: 0.9070 - accuracy: 0.7659 - val_loss: 1.2536 - val_accuracy: 0.7117\n",
            "Epoch 27/100\n",
            "57/57 [==============================] - ETA: 0s - loss: 0.8726 - accuracy: 0.7786\n",
            "Epoch 27: val_loss did not improve from 1.25365\n",
            "57/57 [==============================] - 1s 11ms/step - loss: 0.8726 - accuracy: 0.7786 - val_loss: 1.2780 - val_accuracy: 0.6989\n",
            "Epoch 28/100\n",
            "53/57 [==========================>...] - ETA: 0s - loss: 0.8457 - accuracy: 0.7854\n",
            "Epoch 28: val_loss did not improve from 1.25365\n",
            "57/57 [==============================] - 1s 11ms/step - loss: 0.8392 - accuracy: 0.7868 - val_loss: 1.2737 - val_accuracy: 0.7129\n",
            "Epoch 29/100\n",
            "53/57 [==========================>...] - ETA: 0s - loss: 0.8286 - accuracy: 0.7914\n",
            "Epoch 29: val_loss did not improve from 1.25365\n",
            "57/57 [==============================] - 1s 11ms/step - loss: 0.8315 - accuracy: 0.7918 - val_loss: 1.2691 - val_accuracy: 0.7040\n",
            "Epoch 30/100\n",
            "56/57 [============================>.] - ETA: 0s - loss: 0.7936 - accuracy: 0.7983\n",
            "Epoch 30: val_loss did not improve from 1.25365\n",
            "57/57 [==============================] - 1s 12ms/step - loss: 0.7933 - accuracy: 0.7983 - val_loss: 1.2784 - val_accuracy: 0.7151\n",
            "Epoch 31/100\n",
            "56/57 [============================>.] - ETA: 0s - loss: 0.7946 - accuracy: 0.8002\n",
            "Epoch 31: val_loss did not improve from 1.25365\n",
            "57/57 [==============================] - 1s 12ms/step - loss: 0.7940 - accuracy: 0.8004 - val_loss: 1.2579 - val_accuracy: 0.7101\n",
            "Epoch 32/100\n",
            "57/57 [==============================] - ETA: 0s - loss: 0.7600 - accuracy: 0.8097\n",
            "Epoch 32: val_loss did not improve from 1.25365\n",
            "57/57 [==============================] - 1s 15ms/step - loss: 0.7600 - accuracy: 0.8097 - val_loss: 1.2675 - val_accuracy: 0.7151\n",
            "Epoch 33/100\n",
            "57/57 [==============================] - ETA: 0s - loss: 0.7249 - accuracy: 0.8156\n",
            "Epoch 33: val_loss did not improve from 1.25365\n",
            "57/57 [==============================] - 1s 15ms/step - loss: 0.7249 - accuracy: 0.8156 - val_loss: 1.2625 - val_accuracy: 0.7173\n",
            "Epoch 34/100\n",
            "52/57 [==========================>...] - ETA: 0s - loss: 0.6918 - accuracy: 0.8259\n",
            "Epoch 34: val_loss did not improve from 1.25365\n",
            "57/57 [==============================] - 1s 12ms/step - loss: 0.6948 - accuracy: 0.8231 - val_loss: 1.2925 - val_accuracy: 0.7212\n",
            "Epoch 35/100\n",
            "53/57 [==========================>...] - ETA: 0s - loss: 0.6794 - accuracy: 0.8264\n",
            "Epoch 35: val_loss did not improve from 1.25365\n",
            "57/57 [==============================] - 1s 11ms/step - loss: 0.6811 - accuracy: 0.8256 - val_loss: 1.3714 - val_accuracy: 0.6989\n",
            "Epoch 36/100\n",
            "53/57 [==========================>...] - ETA: 0s - loss: 0.6870 - accuracy: 0.8258\n",
            "Epoch 36: val_loss did not improve from 1.25365\n",
            "57/57 [==============================] - 1s 11ms/step - loss: 0.6860 - accuracy: 0.8263 - val_loss: 1.3060 - val_accuracy: 0.7067\n"
          ]
        }
      ]
    },
    {
      "cell_type": "code",
      "source": [
        "best_model = load_model(model_path)\n",
        "best_model.evaluate(X_test, Y_test)"
      ],
      "metadata": {
        "colab": {
          "base_uri": "https://localhost:8080/"
        },
        "id": "GG1AABBgZku8",
        "outputId": "7dbdea9d-c5f8-451d-fcd4-7c993d42aa53"
      },
      "execution_count": 21,
      "outputs": [
        {
          "output_type": "stream",
          "name": "stdout",
          "text": [
            "71/71 [==============================] - 1s 6ms/step - loss: 1.2737 - accuracy: 0.6923\n"
          ]
        },
        {
          "output_type": "execute_result",
          "data": {
            "text/plain": [
              "[1.2736968994140625, 0.6923419237136841]"
            ]
          },
          "metadata": {},
          "execution_count": 21
        }
      ]
    },
    {
      "cell_type": "markdown",
      "source": [
        "- 학습과정 시각화"
      ],
      "metadata": {
        "id": "guo7TEfDZkyT"
      }
    },
    {
      "cell_type": "code",
      "source": [
        "y_acc = hist.history['accuracy']\n",
        "y_vloss = hist.history['val_loss']\n",
        "xs = np.arange(1, len(y_acc)+1)"
      ],
      "metadata": {
        "id": "jEVPFklVZk2M"
      },
      "execution_count": 22,
      "outputs": []
    },
    {
      "cell_type": "code",
      "source": [
        "plt.figure(figsize=(12,8))\n",
        "plt.plot(xs, y_acc, label='train accuracy')\n",
        "plt.plot(xs, y_vloss, label='validation loss')\n",
        "plt.legend(), plt.grid()\n",
        "plt.xlabel('Epoch')\n",
        "plt.show()"
      ],
      "metadata": {
        "colab": {
          "base_uri": "https://localhost:8080/",
          "height": 499
        },
        "id": "VJ5gge4xZsr0",
        "outputId": "1632de04-9c21-413f-bb7b-459065d0c334"
      },
      "execution_count": 23,
      "outputs": [
        {
          "output_type": "display_data",
          "data": {
            "text/plain": [
              "<Figure size 864x576 with 1 Axes>"
            ],
            "image/png": "[encoded data removed]"
          },
          "metadata": {
            "needs_background": "light"
          }
        }
      ]
    },
    {
      "cell_type": "code",
      "source": [
        ""
      ],
      "metadata": {
        "id": "7laVy4EfZs4e"
      },
      "execution_count": 23,
      "outputs": []
    }
  ]
}