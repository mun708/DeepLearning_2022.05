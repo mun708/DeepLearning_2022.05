{
  "nbformat": 4,
  "nbformat_minor": 0,
  "metadata": {
    "colab": {
      "name": "41_IMDB_LSTM.ipynb",
      "provenance": [],
      "collapsed_sections": []
    },
    "kernelspec": {
      "name": "python3",
      "display_name": "Python 3"
    },
    "language_info": {
      "name": "python"
    },
    "accelerator": "GPU"
  },
  "cells": [
    {
      "cell_type": "markdown",
      "source": [
        "# IMDB 영화리뷰 감성분석 - LSTM"
      ],
      "metadata": {
        "id": "hkj17Rvb3Svb"
      }
    },
    {
      "cell_type": "code",
      "source": [
        "from tensorflow.keras.datasets import imdb\n",
        "(X_train, y_train), (X_test, y_test) = imdb.load_data()"
      ],
      "metadata": {
        "colab": {
          "base_uri": "https://localhost:8080/"
        },
        "id": "dcsG3rpmLNlL",
        "outputId": "31a9b117-5195-4c80-e0da-706b84cd6212"
      },
      "execution_count": 1,
      "outputs": [
        {
          "output_type": "stream",
          "name": "stdout",
          "text": [
            "Downloading data from https://storage.googleapis.com/tensorflow/tf-keras-datasets/imdb.npz\n",
            "17465344/17464789 [==============================] - 0s 0us/step\n",
            "17473536/17464789 [==============================] - 0s 0us/step\n"
          ]
        }
      ]
    },
    {
      "cell_type": "code",
      "source": [
        "X_train.shape, X_test.shape"
      ],
      "metadata": {
        "colab": {
          "base_uri": "https://localhost:8080/"
        },
        "id": "pj54YLIBLQa4",
        "outputId": "82106cb4-fb27-4df9-a328-f80a07f4d6c6"
      },
      "execution_count": 2,
      "outputs": [
        {
          "output_type": "execute_result",
          "data": {
            "text/plain": [
              "((25000,), (25000,))"
            ]
          },
          "metadata": {},
          "execution_count": 2
        }
      ]
    },
    {
      "cell_type": "code",
      "source": [
        "print(X_train[0])"
      ],
      "metadata": {
        "colab": {
          "base_uri": "https://localhost:8080/"
        },
        "id": "odACRbg6LRe2",
        "outputId": "ab4b892c-d251-4705-e0df-3a7bf4c9b839"
      },
      "execution_count": 3,
      "outputs": [
        {
          "output_type": "stream",
          "name": "stdout",
          "text": [
            "[1, 14, 22, 16, 43, 530, 973, 1622, 1385, 65, 458, 4468, 66, 3941, 4, 173, 36, 256, 5, 25, 100, 43, 838, 112, 50, 670, 22665, 9, 35, 480, 284, 5, 150, 4, 172, 112, 167, 21631, 336, 385, 39, 4, 172, 4536, 1111, 17, 546, 38, 13, 447, 4, 192, 50, 16, 6, 147, 2025, 19, 14, 22, 4, 1920, 4613, 469, 4, 22, 71, 87, 12, 16, 43, 530, 38, 76, 15, 13, 1247, 4, 22, 17, 515, 17, 12, 16, 626, 18, 19193, 5, 62, 386, 12, 8, 316, 8, 106, 5, 4, 2223, 5244, 16, 480, 66, 3785, 33, 4, 130, 12, 16, 38, 619, 5, 25, 124, 51, 36, 135, 48, 25, 1415, 33, 6, 22, 12, 215, 28, 77, 52, 5, 14, 407, 16, 82, 10311, 8, 4, 107, 117, 5952, 15, 256, 4, 31050, 7, 3766, 5, 723, 36, 71, 43, 530, 476, 26, 400, 317, 46, 7, 4, 12118, 1029, 13, 104, 88, 4, 381, 15, 297, 98, 32, 2071, 56, 26, 141, 6, 194, 7486, 18, 4, 226, 22, 21, 134, 476, 26, 480, 5, 144, 30, 5535, 18, 51, 36, 28, 224, 92, 25, 104, 4, 226, 65, 16, 38, 1334, 88, 12, 16, 283, 5, 16, 4472, 113, 103, 32, 15, 16, 5345, 19, 178, 32]\n"
          ]
        }
      ]
    },
    {
      "cell_type": "code",
      "source": [
        "# 등장한 단어수\n",
        "len(imdb.get_word_index())"
      ],
      "metadata": {
        "colab": {
          "base_uri": "https://localhost:8080/"
        },
        "id": "YxMFn7DBLSeA",
        "outputId": "1166adb9-1777-4c30-b4f2-990886368d25"
      },
      "execution_count": 4,
      "outputs": [
        {
          "output_type": "stream",
          "name": "stdout",
          "text": [
            "Downloading data from https://storage.googleapis.com/tensorflow/tf-keras-datasets/imdb_word_index.json\n",
            "1646592/1641221 [==============================] - 0s 0us/step\n",
            "1654784/1641221 [==============================] - 0s 0us/step\n"
          ]
        },
        {
          "output_type": "execute_result",
          "data": {
            "text/plain": [
              "88584"
            ]
          },
          "metadata": {},
          "execution_count": 4
        }
      ]
    },
    {
      "cell_type": "code",
      "source": [
        "# 리뷰 최대 길이, 평균 길이\n",
        "max(len(s) for s in X_train), sum(map(len, X_train)) / len(X_train)"
      ],
      "metadata": {
        "colab": {
          "base_uri": "https://localhost:8080/"
        },
        "id": "xiW3PKa6LTf-",
        "outputId": "faed1842-d71e-450c-842f-0ef3cf7327ac"
      },
      "execution_count": 5,
      "outputs": [
        {
          "output_type": "execute_result",
          "data": {
            "text/plain": [
              "(2494, 238.71364)"
            ]
          },
          "metadata": {},
          "execution_count": 5
        }
      ]
    },
    {
      "cell_type": "markdown",
      "source": [
        "### LSTM 으로 감성분석\n",
        "- 단어 빈도수: 10,000 (총 88,584)\n",
        "- 리뷰 단어수: 500 (최대 2,494)\n",
        "- 최대 데이터 갯수 ==> 여러분들의 몫\n",
        "   - train: 25000, valid: 10000, test: 15000\n",
        "- 수업 시간\n",
        "   - train: 20000, test: 5000 (valid: 20%)"
      ],
      "metadata": {
        "id": "tNGHNND2LUsX"
      }
    },
    {
      "cell_type": "code",
      "source": [
        "import numpy as np\n",
        "import tensorflow as tf\n",
        "seed = 2022\n",
        "np.random.seed(seed)\n",
        "tf.random.set_seed(seed)"
      ],
      "metadata": {
        "id": "3oqs3lCZLdow"
      },
      "execution_count": 6,
      "outputs": []
    },
    {
      "cell_type": "code",
      "source": [
        "from tensorflow.keras.models import Sequential, load_model\n",
        "from tensorflow.keras.layers import Embedding, LSTM, Dense\n",
        "from tensorflow.keras.callbacks import ModelCheckpoint, EarlyStopping\n",
        "from tensorflow.keras.preprocessing.sequence import pad_sequences\n",
        "from sklearn.model_selection import train_test_split"
      ],
      "metadata": {
        "id": "OKZVGUltLgrH"
      },
      "execution_count": 7,
      "outputs": []
    },
    {
      "cell_type": "code",
      "source": [
        "num_words = 10000\n",
        "(X_train, y_train), (_, _) = imdb.load_data(num_words=num_words)"
      ],
      "metadata": {
        "id": "GFuE39iuLh93"
      },
      "execution_count": 8,
      "outputs": []
    },
    {
      "cell_type": "code",
      "source": [
        "X_train, X_test, y_train, y_test = train_test_split(\n",
        "    X_train, y_train, stratify=y_train, test_size=0.2, random_state=seed\n",
        ")\n",
        "X_train.shape, X_test.shape, y_train.shape, y_test.shape"
      ],
      "metadata": {
        "colab": {
          "base_uri": "https://localhost:8080/"
        },
        "id": "JHAyK4V-LjdI",
        "outputId": "3d24f4dd-a2d9-4f82-a89a-6a1d64f75df9"
      },
      "execution_count": 9,
      "outputs": [
        {
          "output_type": "execute_result",
          "data": {
            "text/plain": [
              "((20000,), (5000,), (20000,), (5000,))"
            ]
          },
          "metadata": {},
          "execution_count": 9
        }
      ]
    },
    {
      "cell_type": "code",
      "source": [
        "max_len = 500\n",
        "X_train = pad_sequences(X_train, maxlen=max_len)\n",
        "X_test = pad_sequences(X_test, maxlen=max_len)\n",
        "X_train.shape, X_test.shape"
      ],
      "metadata": {
        "colab": {
          "base_uri": "https://localhost:8080/"
        },
        "id": "lbEXr5eELklm",
        "outputId": "2533e037-cd5a-4c1d-e14e-4928352d4113"
      },
      "execution_count": 10,
      "outputs": [
        {
          "output_type": "execute_result",
          "data": {
            "text/plain": [
              "((20000, 500), (5000, 500))"
            ]
          },
          "metadata": {},
          "execution_count": 10
        }
      ]
    },
    {
      "cell_type": "markdown",
      "source": [
        "- 모델"
      ],
      "metadata": {
        "id": "IMLgDxQyLl22"
      }
    },
    {
      "cell_type": "code",
      "source": [
        "model = Sequential([ \n",
        "    Embedding(num_words, 100, input_length=max_len),\n",
        "    LSTM(128),\n",
        "    Dense(1, activation='sigmoid')\n",
        "])\n",
        "model.summary()"
      ],
      "metadata": {
        "colab": {
          "base_uri": "https://localhost:8080/"
        },
        "id": "IbWxh5N0LnGT",
        "outputId": "ac20b9d0-985f-4f7b-9f80-b3b2d6e22eaf"
      },
      "execution_count": 11,
      "outputs": [
        {
          "output_type": "stream",
          "name": "stdout",
          "text": [
            "Model: \"sequential\"\n",
            "_________________________________________________________________\n",
            " Layer (type)                Output Shape              Param #   \n",
            "=================================================================\n",
            " embedding (Embedding)       (None, 500, 100)          1000000   \n",
            "                                                                 \n",
            " lstm (LSTM)                 (None, 128)               117248    \n",
            "                                                                 \n",
            " dense (Dense)               (None, 1)                 129       \n",
            "                                                                 \n",
            "=================================================================\n",
            "Total params: 1,117,377\n",
            "Trainable params: 1,117,377\n",
            "Non-trainable params: 0\n",
            "_________________________________________________________________\n"
          ]
        }
      ]
    },
    {
      "cell_type": "code",
      "source": [
        "model.compile('adam', 'binary_crossentropy', ['accuracy'])"
      ],
      "metadata": {
        "id": "GfaXQ8d5LoHu"
      },
      "execution_count": 12,
      "outputs": []
    },
    {
      "cell_type": "code",
      "source": [
        "model_path = 'best-imdb-lstm.h5'\n",
        "mc = ModelCheckpoint(model_path, verbose=1, save_best_only=True)\n",
        "es = EarlyStopping(patience=5)"
      ],
      "metadata": {
        "id": "osEY9H2kLpZq"
      },
      "execution_count": 13,
      "outputs": []
    },
    {
      "cell_type": "code",
      "source": [
        "hist = model.fit(\n",
        "    X_train, y_train, validation_split=0.2,\n",
        "    epochs=30, batch_size=64, callbacks=[mc,es]\n",
        ")"
      ],
      "metadata": {
        "colab": {
          "base_uri": "https://localhost:8080/"
        },
        "id": "0YLTnBDRLqm-",
        "outputId": "deb5a661-d976-4c86-a2dd-45a4746d0b33"
      },
      "execution_count": 14,
      "outputs": [
        {
          "output_type": "stream",
          "name": "stdout",
          "text": [
            "Epoch 1/30\n",
            "249/250 [============================>.] - ETA: 0s - loss: 0.5545 - accuracy: 0.7086\n",
            "Epoch 1: val_loss improved from inf to 0.52267, saving model to best-imdb-lstm.h5\n",
            "250/250 [==============================] - 17s 37ms/step - loss: 0.5544 - accuracy: 0.7089 - val_loss: 0.5227 - val_accuracy: 0.7410\n",
            "Epoch 2/30\n",
            "250/250 [==============================] - ETA: 0s - loss: 0.3330 - accuracy: 0.8589\n",
            "Epoch 2: val_loss improved from 0.52267 to 0.36810, saving model to best-imdb-lstm.h5\n",
            "250/250 [==============================] - 9s 36ms/step - loss: 0.3330 - accuracy: 0.8589 - val_loss: 0.3681 - val_accuracy: 0.8537\n",
            "Epoch 3/30\n",
            "249/250 [============================>.] - ETA: 0s - loss: 0.2151 - accuracy: 0.9177\n",
            "Epoch 3: val_loss improved from 0.36810 to 0.32258, saving model to best-imdb-lstm.h5\n",
            "250/250 [==============================] - 8s 33ms/step - loss: 0.2150 - accuracy: 0.9177 - val_loss: 0.3226 - val_accuracy: 0.8700\n",
            "Epoch 4/30\n",
            "249/250 [============================>.] - ETA: 0s - loss: 0.1434 - accuracy: 0.9489\n",
            "Epoch 4: val_loss did not improve from 0.32258\n",
            "250/250 [==============================] - 8s 33ms/step - loss: 0.1441 - accuracy: 0.9488 - val_loss: 0.3386 - val_accuracy: 0.8737\n",
            "Epoch 5/30\n",
            "249/250 [============================>.] - ETA: 0s - loss: 0.0981 - accuracy: 0.9664\n",
            "Epoch 5: val_loss did not improve from 0.32258\n",
            "250/250 [==============================] - 8s 34ms/step - loss: 0.0982 - accuracy: 0.9663 - val_loss: 0.4201 - val_accuracy: 0.8587\n",
            "Epoch 6/30\n",
            "249/250 [============================>.] - ETA: 0s - loss: 0.0971 - accuracy: 0.9636\n",
            "Epoch 6: val_loss did not improve from 0.32258\n",
            "250/250 [==============================] - 8s 34ms/step - loss: 0.0969 - accuracy: 0.9638 - val_loss: 0.5427 - val_accuracy: 0.8535\n",
            "Epoch 7/30\n",
            "249/250 [============================>.] - ETA: 0s - loss: 0.1661 - accuracy: 0.9335\n",
            "Epoch 7: val_loss did not improve from 0.32258\n",
            "250/250 [==============================] - 9s 35ms/step - loss: 0.1658 - accuracy: 0.9336 - val_loss: 0.4349 - val_accuracy: 0.8543\n",
            "Epoch 8/30\n",
            "249/250 [============================>.] - ETA: 0s - loss: 0.0741 - accuracy: 0.9733\n",
            "Epoch 8: val_loss did not improve from 0.32258\n",
            "250/250 [==============================] - 8s 33ms/step - loss: 0.0741 - accuracy: 0.9732 - val_loss: 0.4878 - val_accuracy: 0.8658\n"
          ]
        }
      ]
    },
    {
      "cell_type": "code",
      "source": [
        "best_model = load_model(model_path)\n",
        "best_model.evaluate(X_test, y_test)"
      ],
      "metadata": {
        "colab": {
          "base_uri": "https://localhost:8080/"
        },
        "id": "2-xDCkdYLrju",
        "outputId": "b80abdc6-3e7f-4678-f97a-436b99eb09b2"
      },
      "execution_count": 15,
      "outputs": [
        {
          "output_type": "stream",
          "name": "stdout",
          "text": [
            "157/157 [==============================] - 2s 12ms/step - loss: 0.3552 - accuracy: 0.8584\n"
          ]
        },
        {
          "output_type": "execute_result",
          "data": {
            "text/plain": [
              "[0.35522761940956116, 0.8583999872207642]"
            ]
          },
          "metadata": {},
          "execution_count": 15
        }
      ]
    },
    {
      "cell_type": "code",
      "source": [
        ""
      ],
      "metadata": {
        "id": "h8Zd2yTFLs-v"
      },
      "execution_count": null,
      "outputs": []
    }
  ]
}