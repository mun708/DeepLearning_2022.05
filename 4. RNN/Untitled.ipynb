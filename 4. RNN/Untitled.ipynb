{
 "cells": [
  {
   "cell_type": "markdown",
   "id": "a6ca2b56",
   "metadata": {},
   "source": [
    "# 공공 인공지능 open api활용"
   ]
  },
  {
   "cell_type": "code",
   "execution_count": 1,
   "id": "f6d08389",
   "metadata": {},
   "outputs": [],
   "source": [
    "with open('etriaikey.txt') as file:\n",
    "    ai_key = file.read()"
   ]
  },
  {
   "cell_type": "markdown",
   "id": "8a12a342",
   "metadata": {},
   "source": [
    "## 객체 검출\n",
    "- 하나의 이미지 검출"
   ]
  },
  {
   "cell_type": "code",
   "execution_count": 2,
   "id": "8166cede",
   "metadata": {},
   "outputs": [],
   "source": [
    "# JFIF 타입은 JPG로 변경\n",
    "img_file = '고양이jpg'\n",
    "img_type = img_file.split('.')[-1]\n",
    "img_type = 'jpg' if img_type =='jfif' else img_type\n"
   ]
  },
  {
   "cell_type": "code",
   "execution_count": null,
   "id": "ddf2102b",
   "metadata": {},
   "outputs": [],
   "source": []
  }
 ],
 "metadata": {
  "kernelspec": {
   "display_name": "Python 3 (ipykernel)",
   "language": "python",
   "name": "python3"
  },
  "language_info": {
   "codemirror_mode": {
    "name": "ipython",
    "version": 3
   },
   "file_extension": ".py",
   "mimetype": "text/x-python",
   "name": "python",
   "nbconvert_exporter": "python",
   "pygments_lexer": "ipython3",
   "version": "3.9.7"
  }
 },
 "nbformat": 4,
 "nbformat_minor": 5
}
